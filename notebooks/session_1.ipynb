{
   "cells": [
      {
         "cell_type": "markdown",
         "metadata": {},
         "source": [
            "# Session 1"
         ]
      },
      {
         "cell_type": "markdown",
         "metadata": {},
         "source": [
            "First, make sure that the server and the web interface are running. Then, we instantiate the controller:"
         ]
      },
      {
         "cell_type": "code",
         "execution_count": null,
         "metadata": {},
         "outputs": [],
         "source": [
            "from vivarium.controllers.notebook_controller import NotebookController\n",
            "import numpy as np\n",
            "controller = NotebookController()"
         ]
      },
      {
         "cell_type": "markdown",
         "metadata": {},
         "source": [
            "### Defining agent's behaviors\n",
            "\n",
            "We can define the behavior of an agent as a Python function taking as argument an `Agent` and returning the values of the left and right motors, in this order. Within the body of the function, one can access all the agents attribute. Usually, defining a behavior requires to access the value of the agent sensors. This done through the `agent.left_prox` and `agent.right_prox` attributes, that return the value of the left and right sensors, respectively."
         ]
      },
      {
         "cell_type": "markdown",
         "metadata": {},
         "source": [
            "Let's define four behaviors, here corresponding to the four canonical behaviors of [Braitenberg Vehicles](https://en.wikipedia.org/wiki/Braitenberg_vehicle):"
         ]
      },
      {
         "cell_type": "code",
         "execution_count": null,
         "metadata": {},
         "outputs": [],
         "source": [
            "def aggression(agent):\n",
            "    return agent.right_prox, agent.left_prox\n",
            "\n",
            "def fear(agent):\n",
            "    return agent.left_prox, agent.right_prox\n",
            "\n",
            "def love(agent):\n",
            "    return 1. - agent.left_prox, 1. - agent.right_prox\n",
            "\n",
            "def shy(agent):\n",
            "    return 1. - agent.right_prox, 1. - agent.left_prox"
         ]
      },
      {
         "cell_type": "markdown",
         "metadata": {},
         "source": [
            "The code above only declares the behaviors, now we need to attach them to the agents in the simulator. Let's attach the `shy` behavior to the first five agents and set their color to blue ; and the `aggression` behavior to the four last agents and set their color to red:"
         ]
      },
      {
         "cell_type": "code",
         "execution_count": null,
         "metadata": {},
         "outputs": [],
         "source": [
            "for ag in controller.agents[:5]:\n",
            "    ag.color = 'blue'\n",
            "    ag.detach_all_behaviors()\n",
            "    ag.attach_behavior(shy)\n",
            "for ag in controller.agents[5:]:\n",
            "    ag.color = 'red'\n",
            "    ag.detach_all_behaviors()\n",
            "    ag.attach_behavior(aggression)"
         ]
      },
      {
         "cell_type": "markdown",
         "metadata": {},
         "source": [
            "All agents are now equipped with a behavior. We can launch the simulation with the code below ; then stop it with the code on the next line."
         ]
      },
      {
         "cell_type": "code",
         "execution_count": null,
         "metadata": {},
         "outputs": [],
         "source": [
            "controller.run(threaded=True)"
         ]
      },
      {
         "cell_type": "code",
         "execution_count": null,
         "metadata": {},
         "outputs": [],
         "source": [
            "controller.stop()"
         ]
      }
   ],
   "metadata": {
      "kernelspec": {
         "display_name": "Python 3",
         "language": "python",
         "name": "python3"
      },
      "language_info": {
         "codemirror_mode": {
            "name": "ipython",
            "version": 3
         },
         "file_extension": ".py",
         "mimetype": "text/x-python",
         "name": "python",
         "nbconvert_exporter": "python",
         "pygments_lexer": "ipython3",
         "version": "3.11.7"
      }
   },
   "nbformat": 4,
   "nbformat_minor": 1
}
