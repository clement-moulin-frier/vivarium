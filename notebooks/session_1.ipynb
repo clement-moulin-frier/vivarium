{
   "cells": [
      {
         "cell_type": "markdown",
         "metadata": {},
         "source": [
            "# Session 1"
         ]
      },
      {
         "cell_type": "markdown",
         "metadata": {},
         "source": [
            "In the `quickstart_tutorial`, we saw how to control the simulator using a Jupyter Notebook. Now, we will see how to make the agents move and implement basic behaviors."
         ]
      },
      {
         "cell_type": "markdown",
         "metadata": {},
         "source": [
            "For this session, we only need one agent in the simulation. To do so, the server can be started in the command line with the options `--n_agents 1` and `n_objects 0`.\n",
            "<!-- TODO: change this with file system once done !-->\n",
            "<!-- TODO: set objects to 0 !-->"
         ]
      },
      {
         "cell_type": "markdown",
         "metadata": {},
         "source": [
            "First of all, we instantiate a `controller` (this will be done at the start of every notebook from now on)"
         ]
      },
      {
         "cell_type": "code",
         "execution_count": 1,
         "metadata": {},
         "outputs": [],
         "source": [
            "from vivarium.controllers.notebook_controller import NotebookController\n",
            "import numpy as np\n",
            "controller = NotebookController()"
         ]
      },
      {
         "cell_type": "markdown",
         "metadata": {},
         "source": [
            "This time, only one agent should be present. We can check this with this instruction:"
         ]
      },
      {
         "cell_type": "code",
         "execution_count": 2,
         "metadata": {},
         "outputs": [
            {
               "data": {
                  "text/plain": [
                     "[<vivarium.controllers.notebook_controller.Agent at 0x29605ca90>,\n",
                     " <vivarium.controllers.notebook_controller.Agent at 0x2963a3ad0>,\n",
                     " <vivarium.controllers.notebook_controller.Agent at 0x296046990>,\n",
                     " <vivarium.controllers.notebook_controller.Agent at 0x2963f5610>,\n",
                     " <vivarium.controllers.notebook_controller.Agent at 0x2963f5890>,\n",
                     " <vivarium.controllers.notebook_controller.Agent at 0x2963f54d0>,\n",
                     " <vivarium.controllers.notebook_controller.Agent at 0x2963f5dd0>,\n",
                     " <vivarium.controllers.notebook_controller.Agent at 0x2963f6050>,\n",
                     " <vivarium.controllers.notebook_controller.Agent at 0x2963f62d0>,\n",
                     " <vivarium.controllers.notebook_controller.Agent at 0x2963f5b10>]"
                  ]
               },
               "execution_count": 2,
               "metadata": {},
               "output_type": "execute_result"
            }
         ],
         "source": [
            "controller.agents"
         ]
      },
      {
         "cell_type": "markdown",
         "metadata": {},
         "source": [
            "Next, we start the simulation:"
         ]
      },
      {
         "cell_type": "code",
         "execution_count": null,
         "metadata": {},
         "outputs": [
            {
               "name": "stderr",
               "output_type": "stream",
               "text": [
                  "Exception in thread Thread-5 (_run):\n",
                  "Traceback (most recent call last):\n",
                  "  File \"/opt/homebrew/Cellar/python@3.11/3.11.8/Frameworks/Python.framework/Versions/3.11/lib/python3.11/threading.py\", line 1045, in _bootstrap_inner\n",
                  "    self.run()\n",
                  "  File \"/Users/martial/vivarium/.venv/lib/python3.11/site-packages/ipykernel/ipkernel.py\", line 761, in run_closure\n",
                  "    _threading_Thread_run(self)\n",
                  "  File \"/opt/homebrew/Cellar/python@3.11/3.11.8/Frameworks/Python.framework/Versions/3.11/lib/python3.11/threading.py\", line 982, in run\n",
                  "    self._target(*self._args, **self._kwargs)\n",
                  "  File \"/Users/martial/vivarium/vivarium/controllers/notebook_controller.py\", line 125, in _run\n",
                  "    self.state = self.client.step()\n",
                  "                 ^^^^^^^^^^^^^^^^^^\n",
                  "  File \"/Users/martial/vivarium/vivarium/simulator/grpc_server/simulator_client.py\", line 55, in step\n",
                  "    self.state = proto_to_state(self.stub.Step(Empty()))\n",
                  "                                ^^^^^^^^^^^^^^^^^^^^^^^\n",
                  "  File \"/Users/martial/vivarium/.venv/lib/python3.11/site-packages/grpc/_channel.py\", line 1160, in __call__\n",
                  "    return _end_unary_response_blocking(state, call, False, None)\n",
                  "           ^^^^^^^^^^^^^^^^^^^^^^^^^^^^^^^^^^^^^^^^^^^^^^^^^^^^^^\n",
                  "  File \"/Users/martial/vivarium/.venv/lib/python3.11/site-packages/grpc/_channel.py\", line 1003, in _end_unary_response_blocking\n",
                  "    raise _InactiveRpcError(state)  # pytype: disable=not-instantiable\n",
                  "    ^^^^^^^^^^^^^^^^^^^^^^^^^^^^^^\n",
                  "grpc._channel._InactiveRpcError: <_InactiveRpcError of RPC that terminated with:\n",
                  "\tstatus = StatusCode.UNKNOWN\n",
                  "\tdetails = \"Exception calling application: Simulator.run() got an unexpected keyword argument 'num_loops'\"\n",
                  "\tdebug_error_string = \"UNKNOWN:Error received from peer  {grpc_message:\"Exception calling application: Simulator.run() got an unexpected keyword argument \\'num_loops\\'\", grpc_status:2, created_time:\"2024-03-18T15:58:12.467974+01:00\"}\"\n",
                  ">\n"
               ]
            }
         ],
         "source": [
            "controller.run(threaded=True)"
         ]
      },
      {
         "cell_type": "markdown",
         "metadata": {},
         "source": [
            "### Making the agents move\n",
            "\n",
            "You should now know how to set the attributes of agents. For this time, as there is only one agent, we can create a shortcut for the next cells of code:"
         ]
      },
      {
         "cell_type": "code",
         "execution_count": null,
         "metadata": {},
         "outputs": [],
         "source": [
            "agent = controller.agents[0]"
         ]
      },
      {
         "cell_type": "markdown",
         "metadata": {},
         "source": [
            "Now, the variable `agent` refers to the first (and only) agent of the simulation. You can simply write `agent` instead of `controller.agents[0]` for the next instructions."
         ]
      },
      {
         "cell_type": "markdown",
         "metadata": {},
         "source": [
            "**Q1:** What is the condition for the agent to turn left? to turn right? to move straight forward? to stop?"
         ]
      },
      {
         "cell_type": "markdown",
         "metadata": {},
         "source": [
            "*This is a cell where you can write text instead of code.* Double click on this text and enter your answer here. Once it is done, press `Shift-Enter`."
         ]
      },
      {
         "cell_type": "markdown",
         "metadata": {},
         "source": [
            "**Q2:** How can you make the agent move forward without any rotation? Write the corresponding code in the cell below. "
         ]
      },
      {
         "cell_type": "code",
         "execution_count": null,
         "metadata": {},
         "outputs": [],
         "source": []
      },
      {
         "cell_type": "markdown",
         "metadata": {},
         "source": [
            "**Q3:** Now write the code making the agent stop:"
         ]
      },
      {
         "cell_type": "code",
         "execution_count": null,
         "metadata": {},
         "outputs": [],
         "source": []
      },
      {
         "cell_type": "markdown",
         "metadata": {},
         "source": [
            "**Q4:** And the code to make it move in a large circle:"
         ]
      },
      {
         "cell_type": "code",
         "execution_count": null,
         "metadata": {},
         "outputs": [],
         "source": []
      },
      {
         "cell_type": "markdown",
         "metadata": {},
         "source": [
            "Let's try more complex choregraphies. A useful function for this is the ability to wait for a given time by using `controller.wait(x)`, where `x` has to be replaced by the time to wait for, in seconds. Here is an example, where the agent goes forward during 3 seconds, then turns right during 0.5 second, then goes forward again during 2 seconds, and finally stops."
         ]
      },
      {
         "cell_type": "code",
         "execution_count": null,
         "metadata": {},
         "outputs": [],
         "source": [
            "# Move forward, by setting each wheel speed at the same positive value\n",
            "agent.left_spd = 1.\n",
            "agent.right_spd = 1.\n",
            "\n",
            "# Wait for 3 seconds, keeping moving forward at the same speed\n",
            "controller.wait(3)\n",
            "\n",
            "# Turn right by setting a positive speed to the left wheel and stoping the right one (null speed)\n",
            "agent.left_spd = 1.\n",
            "agent.right_spd = 0.\n",
            "\n",
            "# Keep turning for 0.5 second\n",
            "controller.wait(0.5)\n",
            "\n",
            "# Move forward again for 2 seconds\n",
            "agent.left_spd = 1.\n",
            "agent.right_spd = 1.\n",
            "controller.wait(2)\n",
            "\n",
            "# Stop the agent\n",
            "agent.left_spd = 0.\n",
            "agent.right_spd = 0."
         ]
      },
      {
         "cell_type": "markdown",
         "metadata": {},
         "source": [
            "A few important remarks regarding the code above:\n",
            "- each line beginning with a `#` symbol corresponds to a comment and will therefore not be executed (it is just to explain verbally what the code does),\n",
            "- when calling `controller.wait(.)`, the cell that is currently running will simply wait for the given time in seconds before executing the next line of code. this also means that you cannot execute anything else before the wait time is over.\n",
            "\n",
            "Now, let's repeat the previous choreography 4 times. In the code below, the first line, `for i in range(4):`, means *repeat 4 times the indented code below* (actually it is a bit more complicated than this, but this out of the scope of the current session).  The indented code is the exact same as just before (only the comments have been removed). You can change the number `4` in the first line by any number `x`, to repeat it `x` times instead of 4."
         ]
      },
      {
         "cell_type": "code",
         "execution_count": null,
         "metadata": {},
         "outputs": [],
         "source": [
            "for i in range(4):\n",
            "    agent.left_spd = 1.\n",
            "    agent.right_spd = 1.\n",
            "    controller.wait(3)\n",
            "    agent.left_spd = 1.\n",
            "    agent.right_spd = 0.\n",
            "    controller.wait(0.5)\n",
            "    agent.left_spd = 1.\n",
            "    agent.right_spd = 1.\n",
            "    controller.wait(2)\n",
            "    agent.left_spd = 0.\n",
            "    agent.right_spd = 0."
         ]
      },
      {
         "cell_type": "markdown",
         "metadata": {},
         "source": [
            "**Q5:** By executing the code just above, you will observe that the agent actually only stops at the very end of the choreography, but not between each run of the loop. Copy-paste the code of the last cell above in the cell below and add one line of code so that the agent will stop for 1 second at each run of the loop."
         ]
      },
      {
         "cell_type": "code",
         "execution_count": null,
         "metadata": {},
         "outputs": [],
         "source": []
      },
      {
         "cell_type": "markdown",
         "metadata": {},
         "source": [
            "**Q6:** Write the code allowing the agent to move roughly in a \"8\" shape. To do so you'll have to fine tune the waiting times by trial on error. Then make the agent repeat it 6 times."
         ]
      },
      {
         "cell_type": "code",
         "execution_count": null,
         "metadata": {},
         "outputs": [],
         "source": []
      },
      {
         "cell_type": "markdown",
         "metadata": {},
         "source": [
            "### Defining agent's behaviors\n",
            "\n",
            "We can define the behavior of an agent as a Python function taking as argument an `Agent` and returning the values of the left and right motors, in this order. Within the body of the function, one can access all the agents attribute. Usually, defining a behavior requires to access the value of the agent sensors. This done through the `agent.left_prox` and `agent.right_prox` attributes, that return the value of the left and right sensors, respectively."
         ]
      },
      {
         "cell_type": "markdown",
         "metadata": {},
         "source": [
            "Let's define four behaviors, here corresponding to the four canonical behaviors of [Braitenberg Vehicles](https://en.wikipedia.org/wiki/Braitenberg_vehicle):"
         ]
      },
      {
         "cell_type": "code",
         "execution_count": null,
         "metadata": {},
         "outputs": [],
         "source": [
            "def aggression(agent):\n",
            "    return agent.right_prox, agent.left_prox\n",
            "\n",
            "def fear(agent):\n",
            "    return agent.left_prox, agent.right_prox\n",
            "\n",
            "def love(agent):\n",
            "    return 1. - agent.left_prox, 1. - agent.right_prox\n",
            "\n",
            "def shy(agent):\n",
            "    return 1. - agent.right_prox, 1. - agent.left_prox"
         ]
      },
      {
         "cell_type": "markdown",
         "metadata": {},
         "source": [
            "The code above only declares the behaviors, now we need to attach them to the agents in the simulator. Let's attach the `shy` behavior to the first five agents and set their color to blue ; and the `aggression` behavior to the four last agents and set their color to red:"
         ]
      },
      {
         "cell_type": "code",
         "execution_count": null,
         "metadata": {},
         "outputs": [],
         "source": [
            "for ag in controller.agents[:5]:\n",
            "    ag.color = 'blue'\n",
            "    ag.detach_all_behaviors()\n",
            "    ag.attach_behavior(shy)\n",
            "for ag in controller.agents[5:]:\n",
            "    ag.color = 'red'\n",
            "    ag.detach_all_behaviors()\n",
            "    ag.attach_behavior(aggression)"
         ]
      },
      {
         "cell_type": "markdown",
         "metadata": {},
         "source": [
            "All agents are now equipped with a behavior. We can launch the simulation with the code below ; then stop it with the code on the next line."
         ]
      },
      {
         "cell_type": "code",
         "execution_count": null,
         "metadata": {},
         "outputs": [],
         "source": [
            "controller.run(threaded=True)"
         ]
      },
      {
         "cell_type": "code",
         "execution_count": null,
         "metadata": {},
         "outputs": [],
         "source": [
            "controller.stop()"
         ]
      }
   ],
   "metadata": {
      "kernelspec": {
         "display_name": "Python 3",
         "language": "python",
         "name": "python3"
      },
      "language_info": {
         "codemirror_mode": {
            "name": "ipython",
            "version": 3
         },
         "file_extension": ".py",
         "mimetype": "text/x-python",
         "name": "python",
         "nbconvert_exporter": "python",
         "pygments_lexer": "ipython3",
         "version": "3.11.8"
      }
   },
   "nbformat": 4,
   "nbformat_minor": 1
}
