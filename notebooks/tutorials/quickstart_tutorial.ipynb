{
 "cells": [
  {
   "cell_type": "markdown",
   "id": "5ebe810c-58f6-4c3e-8e03-7eb2736cb2ec",
   "metadata": {},
   "source": [
    "# Quickstart tutorial: Enter the _Vivarium_\n",
    "\n",
    "Welcome to this notebook! It will explain how to start the simulation server and the web interface, as well as how to interact with the simulation using simple Python code from a Jupyter notebook.\n",
    "\n",
    "Before starting using this notebook, please check the [web interface tutorial](web_interface_tutorial.md). It will enable you to get familiar with the entities of the environment (the agents and the objects), and explain you how to observe and control them from the interface.\n",
    "\n",
    "Make sure to first follow the installations instruction in the README of the repository. Note that you don't need to run the server and interface from the command line before running this notebook, as it will do it for you."
   ]
  },
  {
   "cell_type": "markdown",
   "id": "667932c1",
   "metadata": {},
   "source": [
    "## Controlling the simulator programmatically"
   ]
  },
  {
   "cell_type": "markdown",
   "id": "083f5a2d",
   "metadata": {},
   "source": [
    "We will use the Python language to control the simulator, a widely-used programming language which has the advantage to be easy to learn, with modern interactive programming tools. The document you are currently reading is a Jupyter Notebook, which is a web-based interface to the Python interpreter. \n",
    "\n",
    "This means that this document is interactive. For example if you are not familiar with such tools, try to execute the code below by clicking on it and pressing `Shift + Enter`:"
   ]
  },
  {
   "cell_type": "code",
   "execution_count": 1,
   "id": "cf456343",
   "metadata": {},
   "outputs": [
    {
     "data": {
      "text/plain": [
       "2"
      ]
     },
     "execution_count": 1,
     "metadata": {},
     "output_type": "execute_result"
    }
   ],
   "source": [
    "1 + 1"
   ]
  },
  {
   "cell_type": "markdown",
   "id": "bce5464b",
   "metadata": {},
   "source": [
    "This will print the result of the operation. Of course we can do much more complicated things with this language (you can look at this [short introduction](https://docs.python.org/3.6/tutorial/introduction.html) to learn the very basics). In our practical sessions we will use the Python language for controlling the simulator.\n",
    "\n",
    "Let's run a simulation on your machine, and connect to it with this Jupyter Notebook document. The command below imports the library written for this purpose. As for the previous cell, click on the code below and press `Shift + Enter` to execute it. In the following, we will not repeat this last sentence, just execute the code in each cell which contains some code (unless not to do it is explicitly specified)."
   ]
  },
  {
   "cell_type": "code",
   "execution_count": 2,
   "id": "8a5ed0fc",
   "metadata": {},
   "outputs": [
    {
     "name": "stderr",
     "output_type": "stream",
     "text": [
      "An NVIDIA GPU may be present on this machine, but a CUDA-enabled jaxlib is not installed. Falling back to cpu.\n"
     ]
    }
   ],
   "source": [
    "from vivarium.controllers.notebook_controller import NotebookController\n",
    "from vivarium.utils.handle_server_interface import start_server_and_interface, stop_server_and_interface"
   ]
  },
  {
   "cell_type": "markdown",
   "id": "50d7c16e",
   "metadata": {},
   "source": [
    "Nothing happens, it's normal. Don't worry if you don't understand the meaning of this code, just consider it as a necessary step before being able to launch the simulator and interact with it. Now we will launch the simulator and the interface with the following command. The \"quickstart\" argument stands for the [quickstart scene](../../conf/scene/quickstart.yaml) that defines the initial state of the simulator."
   ]
  },
  {
   "cell_type": "code",
   "execution_count": 3,
   "id": "42c41259",
   "metadata": {},
   "outputs": [
    {
     "name": "stdout",
     "output_type": "stream",
     "text": [
      "/home/cleger/Desktop/code/vivarium/vivarium/utils\n",
      "\n",
      "STARTING SERVER\n"
     ]
    },
    {
     "name": "stderr",
     "output_type": "stream",
     "text": [
      "An NVIDIA GPU may be present on this machine, but a CUDA-enabled jaxlib is not installed. Falling back to cpu.\n"
     ]
    },
    {
     "name": "stdout",
     "output_type": "stream",
     "text": [
      "[2024-12-10 12:01:25,425][__main__][INFO] - Scene running: quickstart\n",
      "[2024-12-10 12:01:27,889][vivarium.simulator.simulator][INFO] - Simulator initialized\n",
      "\n",
      "STARTING INTERFACE\n"
     ]
    },
    {
     "name": "stderr",
     "output_type": "stream",
     "text": [
      "2024-12-10 12:01:31,016 Starting Bokeh server version 3.3.4 (running on Tornado 6.4)\n",
      "2024-12-10 12:01:31,016 User authentication hooks NOT provided (default user enabled)\n",
      "2024-12-10 12:01:31,018 Bokeh app running at: http://localhost:5006/run_interface\n",
      "2024-12-10 12:01:31,018 Starting Bokeh server with process id: 14385\n",
      "2024-12-10 12:01:33,452 An NVIDIA GPU may be present on this machine, but a CUDA-enabled jaxlib is not installed. Falling back to cpu.\n",
      "2024-12-10 12:01:35,466 WebSocket connection opened\n",
      "2024-12-10 12:01:35,487 ServerConnection created\n"
     ]
    }
   ],
   "source": [
    "start_server_and_interface(scene_name=\"quickstart\")"
   ]
  },
  {
   "cell_type": "markdown",
   "id": "fe38ea75",
   "metadata": {},
   "source": [
    "This notebook cell is used to start the simulator and the interface. To open the interface in your browser, simply click on the hihglighted link in the code below (it should be http://localhost:5006/run_interface). After that, you should see the interface in your browser, that should look like this:\n",
    "\n",
    "![interface](../../images/quickstart_notebook.png \"quickstart notebook scene\")\n",
    "\n",
    "Note that compared to the classical web interface you previously used, this one doesn't have the \"Start\" button. This is because we will start the simulation from this notebook. To do so, we will use a custom python object called a `controller`. To create it, we can execute the next cell, which will will enable us to interact with the simulator."
   ]
  },
  {
   "cell_type": "code",
   "execution_count": 5,
   "id": "1208254c",
   "metadata": {},
   "outputs": [],
   "source": [
    "controller = NotebookController()"
   ]
  },
  {
   "cell_type": "markdown",
   "id": "99074eda-7734-44b6-835d-beb844600b33",
   "metadata": {},
   "source": [
    "The newly created `controller` object provides all the functionalities to easily interact with the simulator server. After defining, we can start the simulation with the following cell, and any modification to the controller will be reflected in real time in the simulation interface."
   ]
  },
  {
   "cell_type": "code",
   "execution_count": 9,
   "id": "44cc56f7",
   "metadata": {},
   "outputs": [
    {
     "name": "stdout",
     "output_type": "stream",
     "text": [
      "Simulator is already stopped\n"
     ]
    }
   ],
   "source": [
    "controller.run()"
   ]
  },
  {
   "cell_type": "markdown",
   "id": "d3207242",
   "metadata": {},
   "source": [
    "It is normal if nothing happens at the moment. We can also stop the simulation at any time by executing the following instruction:"
   ]
  },
  {
   "cell_type": "code",
   "execution_count": 20,
   "id": "8cfcccf3",
   "metadata": {},
   "outputs": [],
   "source": [
    "controller.stop()"
   ]
  },
  {
   "cell_type": "markdown",
   "id": "7c782e24",
   "metadata": {},
   "source": [
    "However, this will cause the changes made in this notebook to no longer reflect on the interface, so we should start it again:"
   ]
  },
  {
   "cell_type": "code",
   "execution_count": 24,
   "id": "968f152b",
   "metadata": {},
   "outputs": [
    {
     "name": "stdout",
     "output_type": "stream",
     "text": [
      "Simulator is already started\n"
     ]
    }
   ],
   "source": [
    "controller.run()"
   ]
  },
  {
   "cell_type": "markdown",
   "id": "037839d2",
   "metadata": {},
   "source": [
    "Great the simulation is running! But nothing is moving yet because we haven't given any order to the agents. We will now do that in the next part of the notebook. First, let's see how we can access the agents and objects in the simulation. The following cells will show you how to do that."
   ]
  },
  {
   "cell_type": "code",
   "execution_count": 25,
   "id": "15b13aa0-f6fa-4767-9f4e-8789e9e9827c",
   "metadata": {
    "tags": []
   },
   "outputs": [
    {
     "data": {
      "text/plain": [
       "[<vivarium.controllers.notebook_controller.Agent at 0x7db3ea9c7b20>,\n",
       " <vivarium.controllers.notebook_controller.Agent at 0x7db3ea9c7b80>,\n",
       " <vivarium.controllers.notebook_controller.Agent at 0x7db3ea9c7cd0>]"
      ]
     },
     "execution_count": 25,
     "metadata": {},
     "output_type": "execute_result"
    }
   ],
   "source": [
    "controller.agents"
   ]
  },
  {
   "cell_type": "markdown",
   "id": "59bffcb1-df5e-4aab-a11f-ad7d952e702f",
   "metadata": {},
   "source": [
    "This is a list of `Agent` objects, one per agent in the environment, and we indeed have three of them in the list. Let's access the configuration of the first agent in this list and look at its attribute using the `infos()` function (we access it with the index 0 in the list, and can access the other agents with the index 1 and 2):"
   ]
  },
  {
   "cell_type": "code",
   "execution_count": 26,
   "id": "5b79d2cb",
   "metadata": {},
   "outputs": [
    {
     "name": "stdout",
     "output_type": "stream",
     "text": [
      "Entity Overview:\n",
      "--------------------\n",
      "Type: AGENT\n",
      "Subtype: agents\n",
      "Idx: 0\n",
      "Exists: True\n",
      "Position: x=196.62, y=63.83\n",
      "Diameter: 10.00\n",
      "Color: #0000ff\n",
      "\n",
      "Sensors: Left=0.00, Right=0.68\n",
      "Motors: Left=0.00, Right=0.00\n",
      "\n"
     ]
    }
   ],
   "source": [
    "controller.agents[0].print_infos()"
   ]
  },
  {
   "cell_type": "markdown",
   "id": "3032273b",
   "metadata": {},
   "source": [
    "We can do the same with objects, which are stored in the `controller.objects` list. Let's access the first object in the list and look at its configuration:"
   ]
  },
  {
   "cell_type": "code",
   "execution_count": 27,
   "id": "e33b2040",
   "metadata": {},
   "outputs": [
    {
     "data": {
      "text/plain": [
       "[<vivarium.controllers.notebook_controller.Object at 0x7db3ea9c7e20>,\n",
       " <vivarium.controllers.notebook_controller.Object at 0x7db3ea9c7ee0>,\n",
       " <vivarium.controllers.notebook_controller.Object at 0x7db3ea9c7fa0>,\n",
       " <vivarium.controllers.notebook_controller.Object at 0x7db3ea9f80a0>,\n",
       " <vivarium.controllers.notebook_controller.Object at 0x7db3ea9f8160>,\n",
       " <vivarium.controllers.notebook_controller.Object at 0x7db3ea9f8220>,\n",
       " <vivarium.controllers.notebook_controller.Object at 0x7db3ea9f82e0>,\n",
       " <vivarium.controllers.notebook_controller.Object at 0x7db3ea9f83a0>,\n",
       " <vivarium.controllers.notebook_controller.Object at 0x7db3ea9f8460>,\n",
       " <vivarium.controllers.notebook_controller.Object at 0x7db3ea9f8520>,\n",
       " <vivarium.controllers.notebook_controller.Object at 0x7db3ea9f85e0>,\n",
       " <vivarium.controllers.notebook_controller.Object at 0x7db3ea9f86a0>]"
      ]
     },
     "execution_count": 27,
     "metadata": {},
     "output_type": "execute_result"
    }
   ],
   "source": [
    "controller.objects"
   ]
  },
  {
   "cell_type": "code",
   "execution_count": 28,
   "id": "5d06af92",
   "metadata": {},
   "outputs": [
    {
     "name": "stdout",
     "output_type": "stream",
     "text": [
      "Entity Overview:\n",
      "--------------------\n",
      "Type: OBJECT\n",
      "Subtype: big_objects\n",
      "Idx: 11\n",
      "Exists: True\n",
      "Position: x=157.50, y=96.07\n",
      "Diameter: 15.00\n",
      "Color: #ff0000\n",
      "\n"
     ]
    }
   ],
   "source": [
    "controller.objects[8].print_infos()"
   ]
  },
  {
   "cell_type": "markdown",
   "id": "2f207c69",
   "metadata": {},
   "source": [
    "### Modifying the entities attributes\n",
    "\n",
    "We will now see how to interact with agents and objects by modifying their attributes (e.g color, size). We saw in the dictionary the value of different attributes of the agent, for example its position, diameter or color. Let's make the first agent (index 0) larger by increasing its `diameter` attribute: "
   ]
  },
  {
   "cell_type": "code",
   "execution_count": 31,
   "id": "8f804102-4c3b-489d-9844-9b16cee638b7",
   "metadata": {
    "tags": []
   },
   "outputs": [],
   "source": [
    "controller.agents[0].diameter = 20"
   ]
  },
  {
   "cell_type": "markdown",
   "id": "2ff602fe-fcc2-455b-b3cd-7571a5ca7226",
   "metadata": {},
   "source": [
    "If you now look at the web interface, you should see that one of the agent is now twice larger than the others. All changes made in this notebook will be automatically visible in the web interface if the server is running, and vice versa. One can for example also change the color of an agent, let's do it on the third agent in the list now (i.e. the agent with index 2):"
   ]
  },
  {
   "cell_type": "code",
   "execution_count": 32,
   "id": "2b2dbb14-c8b0-41af-aea9-8a2b6036615e",
   "metadata": {
    "tags": []
   },
   "outputs": [],
   "source": [
    "controller.agents[2].color = 'green'"
   ]
  },
  {
   "cell_type": "markdown",
   "id": "330833ae-e938-4c68-9952-9ce4e4be2f7a",
   "metadata": {
    "tags": []
   },
   "source": [
    "The same principles apply to objects. Let's change the color of the 8th object in the list (index 7) and move its position. We can do this by modifying the `x_position` and `y_position` of the entity: "
   ]
  },
  {
   "cell_type": "code",
   "execution_count": 33,
   "id": "d5bd991f",
   "metadata": {},
   "outputs": [],
   "source": [
    "controller.objects[7].color = 'cyan'"
   ]
  },
  {
   "cell_type": "code",
   "execution_count": 35,
   "id": "02e2b190",
   "metadata": {},
   "outputs": [],
   "source": [
    "controller.objects[7].x_position = 100\n",
    "controller.objects[7].y_position = 100"
   ]
  },
  {
   "cell_type": "markdown",
   "id": "4254a8db",
   "metadata": {},
   "source": [
    "### Controlling the agent's movement\n",
    "\n",
    "We can modify the appearance of the agents, but we can also decide how they move. For now, let's set the speed of the left wheel of the first agent, to 1 radian per second:"
   ]
  },
  {
   "cell_type": "code",
   "execution_count": 36,
   "id": "871703e0",
   "metadata": {},
   "outputs": [],
   "source": [
    "controller.agents[0].left_motor = 1."
   ]
  },
  {
   "cell_type": "markdown",
   "id": "bf2cdd3d",
   "metadata": {},
   "source": [
    "You should now see the agent spinning. To make it move in a straight line, we need to set the other wheel to the same speed, with the following:"
   ]
  },
  {
   "cell_type": "code",
   "execution_count": 37,
   "id": "6fdc829e",
   "metadata": {},
   "outputs": [],
   "source": [
    "controller.agents[0].right_motor = 1."
   ]
  },
  {
   "cell_type": "markdown",
   "id": "0dd456df",
   "metadata": {},
   "source": [
    "We can reset the motors of the agents with this instruction:"
   ]
  },
  {
   "cell_type": "code",
   "execution_count": 38,
   "id": "b4581d51",
   "metadata": {},
   "outputs": [],
   "source": [
    "controller.agents[0].left_motor = controller.agents[0].right_motor = 0."
   ]
  },
  {
   "cell_type": "markdown",
   "id": "e4dbecc0",
   "metadata": {},
   "source": [
    "We can also get the current values of the motors by not putting an `=` in the instruction:"
   ]
  },
  {
   "cell_type": "code",
   "execution_count": 39,
   "id": "0a3b6f19",
   "metadata": {},
   "outputs": [
    {
     "data": {
      "text/plain": [
       "0.0"
      ]
     },
     "execution_count": 39,
     "metadata": {},
     "output_type": "execute_result"
    }
   ],
   "source": [
    "controller.agents[0].left_motor"
   ]
  },
  {
   "cell_type": "markdown",
   "id": "e5ad1b0b",
   "metadata": {},
   "source": [
    "### Retrieving the agents' sensors values\n",
    "\n",
    "The agents also come with a set `sensors`, that activate when the agent approaches another entity.\n",
    "\n",
    "We can retrieve the value of these sensors with these instructions (here we use the `print` function to make the text more readable):"
   ]
  },
  {
   "cell_type": "code",
   "execution_count": 40,
   "id": "eca163da",
   "metadata": {},
   "outputs": [
    {
     "name": "stdout",
     "output_type": "stream",
     "text": [
      "right proximeter: 0.38158053159713745\n",
      "left proximeter: 0.0\n"
     ]
    }
   ],
   "source": [
    "print(f\"right proximeter: {controller.agents[0].right_prox}\")\n",
    "print(f\"left proximeter: {controller.agents[0].left_prox}\")"
   ]
  },
  {
   "cell_type": "markdown",
   "id": "0fd17357",
   "metadata": {},
   "source": [
    "You can check in the interface if these values make sense. The sensors are represented by the small red points in front of the agents, and they activate when they detect another entity in their field of view (depicted by the red half-circle)."
   ]
  },
  {
   "cell_type": "markdown",
   "id": "d20defdd",
   "metadata": {},
   "source": [
    "Before closing the notebook, make sure to stop the controller, and close the simulator server and interface, by running the next cell. It will ask you to confirm that you want to stop the simulation with an `input` function. You can type `y` and press `Enter` to confirm. This will automatically close the interface in your browser and shut down the server. "
   ]
  },
  {
   "cell_type": "code",
   "execution_count": 41,
   "id": "e41a3e19",
   "metadata": {},
   "outputs": [
    {
     "name": "stderr",
     "output_type": "stream",
     "text": [
      " Found the process scripts/run_interface.py running with this PID: 14385\n",
      " Found the process scripts/run_server.py running with this PID: 14118\n"
     ]
    },
    {
     "name": "stdout",
     "output_type": "stream",
     "text": [
      "\n",
      "Stopping server and interface processes\n",
      "\n"
     ]
    },
    {
     "name": "stderr",
     "output_type": "stream",
     "text": [
      "Killed process with PID: 14385\n",
      "Killed process with PID: 14118\n",
      "\n",
      "Server and Interface processes have been stopped\n",
      "\n"
     ]
    },
    {
     "name": "stdout",
     "output_type": "stream",
     "text": [
      "Received signal 15, shutting down\n"
     ]
    },
    {
     "data": {
      "text/plain": [
       "False"
      ]
     },
     "execution_count": 41,
     "metadata": {},
     "output_type": "execute_result"
    }
   ],
   "source": [
    "controller.stop()\n",
    "stop_server_and_interface()"
   ]
  },
  {
   "cell_type": "markdown",
   "id": "cce5b8e2",
   "metadata": {},
   "source": [
    "Good job on finishing this tutorial ! You can now: \n",
    "\n",
    "- start doing the first educational Notebook session by clicking [here](../sessions/session_1.ipynb). \n",
    "- explore [the tutorials](../tutorials/) directory to discover more resources on how to use the project."
   ]
  }
 ],
 "metadata": {
  "kernelspec": {
   "display_name": "venv",
   "language": "python",
   "name": "python3"
  },
  "language_info": {
   "codemirror_mode": {
    "name": "ipython",
    "version": 3
   },
   "file_extension": ".py",
   "mimetype": "text/x-python",
   "name": "python",
   "nbconvert_exporter": "python",
   "pygments_lexer": "ipython3",
   "version": "3.10.12"
  }
 },
 "nbformat": 4,
 "nbformat_minor": 5
}
