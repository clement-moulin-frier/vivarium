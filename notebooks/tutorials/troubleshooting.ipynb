{
 "cells": [
  {
   "cell_type": "markdown",
   "metadata": {},
   "source": [
    "# Troubleshooting Notebook\n",
    "\n",
    "I case you have any problems with a notebook session, please refer to this notebook. It will guide you through the most common problems and how to solve them."
   ]
  },
  {
   "cell_type": "markdown",
   "metadata": {},
   "source": [
    "## 1 - Running the server and interface\n",
    "\n",
    "\n",
    "By default, you can simply import and run the `start_server_and_interface`function to directly start the server and interface from a Notebook cell. It is possible it doesn't work on some machine. \n",
    "\n",
    "If you don't have problems starting the serve, you can skip this section. Otherwise, don't worry, you can still run the server and interface manually. Let's see how to do this in the next section."
   ]
  },
  {
   "cell_type": "code",
   "execution_count": 1,
   "metadata": {},
   "outputs": [],
   "source": [
    "from vivarium.controllers.notebook_controller import NotebookController\n",
    "from vivarium.utils.handle_server_interface import start_server_and_interface, stop_server_and_interface"
   ]
  },
  {
   "cell_type": "markdown",
   "metadata": {},
   "source": [
    "Execute the following cell to start the simulator and the interface. Here we have an error, so we will launch them manually from command line."
   ]
  },
  {
   "cell_type": "code",
   "execution_count": 3,
   "metadata": {},
   "outputs": [
    {
     "ename": "FileNotFoundError",
     "evalue": "[WinError 2] The system cannot find the file specified",
     "output_type": "error",
     "traceback": [
      "\u001b[1;31m---------------------------------------------------------------------------\u001b[0m",
      "\u001b[1;31mFileNotFoundError\u001b[0m                         Traceback (most recent call last)",
      "Cell \u001b[1;32mIn[3], line 1\u001b[0m\n\u001b[1;32m----> 1\u001b[0m \u001b[43mstart_server_and_interface\u001b[49m\u001b[43m(\u001b[49m\u001b[43mscene_name\u001b[49m\u001b[38;5;241;43m=\u001b[39;49m\u001b[38;5;124;43m\"\u001b[39;49m\u001b[38;5;124;43mquickstart\u001b[39;49m\u001b[38;5;124;43m\"\u001b[39;49m\u001b[43m)\u001b[49m\n",
      "File \u001b[1;32mc:\\users\\coren\\desktop\\code\\vivarium\\vivarium\\utils\\handle_server_interface.py:42\u001b[0m, in \u001b[0;36mstart_server_and_interface\u001b[1;34m(scene_name, notebook_mode, wait_time)\u001b[0m\n\u001b[0;32m     36\u001b[0m \u001b[38;5;250m\u001b[39m\u001b[38;5;124;03m\"\"\"Start the server and interface for the given scene\u001b[39;00m\n\u001b[0;32m     37\u001b[0m \n\u001b[0;32m     38\u001b[0m \u001b[38;5;124;03m:param scene_name: scene name\u001b[39;00m\n\u001b[0;32m     39\u001b[0m \u001b[38;5;124;03m:param notebook_mode: notebook_mode to adapt the interface, defaults to True\u001b[39;00m\n\u001b[0;32m     40\u001b[0m \u001b[38;5;124;03m\"\"\"\u001b[39;00m\n\u001b[0;32m     41\u001b[0m \u001b[38;5;66;03m# first ensure no interface or server is running\u001b[39;00m\n\u001b[1;32m---> 42\u001b[0m \u001b[43mstop_server_and_interface\u001b[49m\u001b[43m(\u001b[49m\u001b[43m)\u001b[49m\n\u001b[0;32m     43\u001b[0m \u001b[38;5;66;03m# find the path to the server and interface scripts\u001b[39;00m\n\u001b[0;32m     44\u001b[0m \u001b[38;5;28mprint\u001b[39m(\u001b[38;5;124mf\u001b[39m\u001b[38;5;124m\"\u001b[39m\u001b[38;5;132;01m{\u001b[39;00mos\u001b[38;5;241m.\u001b[39mpath\u001b[38;5;241m.\u001b[39mdirname(\u001b[38;5;18m__file__\u001b[39m)\u001b[38;5;132;01m}\u001b[39;00m\u001b[38;5;124m\"\u001b[39m)\n",
      "File \u001b[1;32mc:\\users\\coren\\desktop\\code\\vivarium\\vivarium\\utils\\handle_server_interface.py:84\u001b[0m, in \u001b[0;36mstop_server_and_interface\u001b[1;34m()\u001b[0m\n\u001b[0;32m     82\u001b[0m stopped \u001b[38;5;241m=\u001b[39m \u001b[38;5;28;01mFalse\u001b[39;00m\n\u001b[0;32m     83\u001b[0m \u001b[38;5;66;03m# interface_process_name = \"vivarium/scripts/run_interface.py\"\u001b[39;00m\n\u001b[1;32m---> 84\u001b[0m interface_pid \u001b[38;5;241m=\u001b[39m \u001b[43mget_process_pid\u001b[49m\u001b[43m(\u001b[49m\u001b[43mINTERFACE_PROCESS_NAME\u001b[49m\u001b[43m)\u001b[49m\n\u001b[0;32m     85\u001b[0m \u001b[38;5;28;01mif\u001b[39;00m interface_pid \u001b[38;5;129;01mis\u001b[39;00m \u001b[38;5;129;01mnot\u001b[39;00m \u001b[38;5;28;01mNone\u001b[39;00m:\n\u001b[0;32m     86\u001b[0m     kill_process(interface_pid)\n",
      "File \u001b[1;32mc:\\users\\coren\\desktop\\code\\vivarium\\vivarium\\utils\\handle_server_interface.py:19\u001b[0m, in \u001b[0;36mget_process_pid\u001b[1;34m(process_name)\u001b[0m\n\u001b[0;32m     13\u001b[0m \u001b[38;5;28;01mdef\u001b[39;00m \u001b[38;5;21mget_process_pid\u001b[39m(process_name: \u001b[38;5;28mstr\u001b[39m):\n\u001b[0;32m     14\u001b[0m \u001b[38;5;250m    \u001b[39m\u001b[38;5;124;03m\"\"\"Get the process ID of a running process by name\u001b[39;00m\n\u001b[0;32m     15\u001b[0m \n\u001b[0;32m     16\u001b[0m \u001b[38;5;124;03m    :param process_name: process name\u001b[39;00m\n\u001b[0;32m     17\u001b[0m \u001b[38;5;124;03m    :return: process ID\u001b[39;00m\n\u001b[0;32m     18\u001b[0m \u001b[38;5;124;03m    \"\"\"\u001b[39;00m\n\u001b[1;32m---> 19\u001b[0m     process \u001b[38;5;241m=\u001b[39m \u001b[43msubprocess\u001b[49m\u001b[38;5;241;43m.\u001b[39;49m\u001b[43mPopen\u001b[49m\u001b[43m(\u001b[49m\u001b[43m[\u001b[49m\u001b[38;5;124;43m'\u001b[39;49m\u001b[38;5;124;43mps\u001b[39;49m\u001b[38;5;124;43m'\u001b[39;49m\u001b[43m,\u001b[49m\u001b[43m \u001b[49m\u001b[38;5;124;43m'\u001b[39;49m\u001b[38;5;124;43maux\u001b[39;49m\u001b[38;5;124;43m'\u001b[39;49m\u001b[43m]\u001b[49m\u001b[43m,\u001b[49m\u001b[43m \u001b[49m\u001b[43mstdout\u001b[49m\u001b[38;5;241;43m=\u001b[39;49m\u001b[43msubprocess\u001b[49m\u001b[38;5;241;43m.\u001b[39;49m\u001b[43mPIPE\u001b[49m\u001b[43m)\u001b[49m\n\u001b[0;32m     20\u001b[0m     out, err \u001b[38;5;241m=\u001b[39m process\u001b[38;5;241m.\u001b[39mcommunicate()\n\u001b[0;32m     21\u001b[0m     \u001b[38;5;28;01mfor\u001b[39;00m line \u001b[38;5;129;01min\u001b[39;00m out\u001b[38;5;241m.\u001b[39msplitlines():\n",
      "File \u001b[1;32mC:\\Program Files\\WindowsApps\\PythonSoftwareFoundation.Python.3.10_3.10.3056.0_x64__qbz5n2kfra8p0\\lib\\subprocess.py:971\u001b[0m, in \u001b[0;36mPopen.__init__\u001b[1;34m(self, args, bufsize, executable, stdin, stdout, stderr, preexec_fn, close_fds, shell, cwd, env, universal_newlines, startupinfo, creationflags, restore_signals, start_new_session, pass_fds, user, group, extra_groups, encoding, errors, text, umask, pipesize)\u001b[0m\n\u001b[0;32m    967\u001b[0m         \u001b[38;5;28;01mif\u001b[39;00m \u001b[38;5;28mself\u001b[39m\u001b[38;5;241m.\u001b[39mtext_mode:\n\u001b[0;32m    968\u001b[0m             \u001b[38;5;28mself\u001b[39m\u001b[38;5;241m.\u001b[39mstderr \u001b[38;5;241m=\u001b[39m io\u001b[38;5;241m.\u001b[39mTextIOWrapper(\u001b[38;5;28mself\u001b[39m\u001b[38;5;241m.\u001b[39mstderr,\n\u001b[0;32m    969\u001b[0m                     encoding\u001b[38;5;241m=\u001b[39mencoding, errors\u001b[38;5;241m=\u001b[39merrors)\n\u001b[1;32m--> 971\u001b[0m     \u001b[38;5;28;43mself\u001b[39;49m\u001b[38;5;241;43m.\u001b[39;49m\u001b[43m_execute_child\u001b[49m\u001b[43m(\u001b[49m\u001b[43margs\u001b[49m\u001b[43m,\u001b[49m\u001b[43m \u001b[49m\u001b[43mexecutable\u001b[49m\u001b[43m,\u001b[49m\u001b[43m \u001b[49m\u001b[43mpreexec_fn\u001b[49m\u001b[43m,\u001b[49m\u001b[43m \u001b[49m\u001b[43mclose_fds\u001b[49m\u001b[43m,\u001b[49m\n\u001b[0;32m    972\u001b[0m \u001b[43m                        \u001b[49m\u001b[43mpass_fds\u001b[49m\u001b[43m,\u001b[49m\u001b[43m \u001b[49m\u001b[43mcwd\u001b[49m\u001b[43m,\u001b[49m\u001b[43m \u001b[49m\u001b[43menv\u001b[49m\u001b[43m,\u001b[49m\n\u001b[0;32m    973\u001b[0m \u001b[43m                        \u001b[49m\u001b[43mstartupinfo\u001b[49m\u001b[43m,\u001b[49m\u001b[43m \u001b[49m\u001b[43mcreationflags\u001b[49m\u001b[43m,\u001b[49m\u001b[43m \u001b[49m\u001b[43mshell\u001b[49m\u001b[43m,\u001b[49m\n\u001b[0;32m    974\u001b[0m \u001b[43m                        \u001b[49m\u001b[43mp2cread\u001b[49m\u001b[43m,\u001b[49m\u001b[43m \u001b[49m\u001b[43mp2cwrite\u001b[49m\u001b[43m,\u001b[49m\n\u001b[0;32m    975\u001b[0m \u001b[43m                        \u001b[49m\u001b[43mc2pread\u001b[49m\u001b[43m,\u001b[49m\u001b[43m \u001b[49m\u001b[43mc2pwrite\u001b[49m\u001b[43m,\u001b[49m\n\u001b[0;32m    976\u001b[0m \u001b[43m                        \u001b[49m\u001b[43merrread\u001b[49m\u001b[43m,\u001b[49m\u001b[43m \u001b[49m\u001b[43merrwrite\u001b[49m\u001b[43m,\u001b[49m\n\u001b[0;32m    977\u001b[0m \u001b[43m                        \u001b[49m\u001b[43mrestore_signals\u001b[49m\u001b[43m,\u001b[49m\n\u001b[0;32m    978\u001b[0m \u001b[43m                        \u001b[49m\u001b[43mgid\u001b[49m\u001b[43m,\u001b[49m\u001b[43m \u001b[49m\u001b[43mgids\u001b[49m\u001b[43m,\u001b[49m\u001b[43m \u001b[49m\u001b[43muid\u001b[49m\u001b[43m,\u001b[49m\u001b[43m \u001b[49m\u001b[43mumask\u001b[49m\u001b[43m,\u001b[49m\n\u001b[0;32m    979\u001b[0m \u001b[43m                        \u001b[49m\u001b[43mstart_new_session\u001b[49m\u001b[43m)\u001b[49m\n\u001b[0;32m    980\u001b[0m \u001b[38;5;28;01mexcept\u001b[39;00m:\n\u001b[0;32m    981\u001b[0m     \u001b[38;5;66;03m# Cleanup if the child failed starting.\u001b[39;00m\n\u001b[0;32m    982\u001b[0m     \u001b[38;5;28;01mfor\u001b[39;00m f \u001b[38;5;129;01min\u001b[39;00m \u001b[38;5;28mfilter\u001b[39m(\u001b[38;5;28;01mNone\u001b[39;00m, (\u001b[38;5;28mself\u001b[39m\u001b[38;5;241m.\u001b[39mstdin, \u001b[38;5;28mself\u001b[39m\u001b[38;5;241m.\u001b[39mstdout, \u001b[38;5;28mself\u001b[39m\u001b[38;5;241m.\u001b[39mstderr)):\n",
      "File \u001b[1;32mC:\\Program Files\\WindowsApps\\PythonSoftwareFoundation.Python.3.10_3.10.3056.0_x64__qbz5n2kfra8p0\\lib\\subprocess.py:1456\u001b[0m, in \u001b[0;36mPopen._execute_child\u001b[1;34m(self, args, executable, preexec_fn, close_fds, pass_fds, cwd, env, startupinfo, creationflags, shell, p2cread, p2cwrite, c2pread, c2pwrite, errread, errwrite, unused_restore_signals, unused_gid, unused_gids, unused_uid, unused_umask, unused_start_new_session)\u001b[0m\n\u001b[0;32m   1454\u001b[0m \u001b[38;5;66;03m# Start the process\u001b[39;00m\n\u001b[0;32m   1455\u001b[0m \u001b[38;5;28;01mtry\u001b[39;00m:\n\u001b[1;32m-> 1456\u001b[0m     hp, ht, pid, tid \u001b[38;5;241m=\u001b[39m \u001b[43m_winapi\u001b[49m\u001b[38;5;241;43m.\u001b[39;49m\u001b[43mCreateProcess\u001b[49m\u001b[43m(\u001b[49m\u001b[43mexecutable\u001b[49m\u001b[43m,\u001b[49m\u001b[43m \u001b[49m\u001b[43margs\u001b[49m\u001b[43m,\u001b[49m\n\u001b[0;32m   1457\u001b[0m \u001b[43m                             \u001b[49m\u001b[38;5;66;43;03m# no special security\u001b[39;49;00m\n\u001b[0;32m   1458\u001b[0m \u001b[43m                             \u001b[49m\u001b[38;5;28;43;01mNone\u001b[39;49;00m\u001b[43m,\u001b[49m\u001b[43m \u001b[49m\u001b[38;5;28;43;01mNone\u001b[39;49;00m\u001b[43m,\u001b[49m\n\u001b[0;32m   1459\u001b[0m \u001b[43m                             \u001b[49m\u001b[38;5;28;43mint\u001b[39;49m\u001b[43m(\u001b[49m\u001b[38;5;129;43;01mnot\u001b[39;49;00m\u001b[43m \u001b[49m\u001b[43mclose_fds\u001b[49m\u001b[43m)\u001b[49m\u001b[43m,\u001b[49m\n\u001b[0;32m   1460\u001b[0m \u001b[43m                             \u001b[49m\u001b[43mcreationflags\u001b[49m\u001b[43m,\u001b[49m\n\u001b[0;32m   1461\u001b[0m \u001b[43m                             \u001b[49m\u001b[43menv\u001b[49m\u001b[43m,\u001b[49m\n\u001b[0;32m   1462\u001b[0m \u001b[43m                             \u001b[49m\u001b[43mcwd\u001b[49m\u001b[43m,\u001b[49m\n\u001b[0;32m   1463\u001b[0m \u001b[43m                             \u001b[49m\u001b[43mstartupinfo\u001b[49m\u001b[43m)\u001b[49m\n\u001b[0;32m   1464\u001b[0m \u001b[38;5;28;01mfinally\u001b[39;00m:\n\u001b[0;32m   1465\u001b[0m     \u001b[38;5;66;03m# Child is launched. Close the parent's copy of those pipe\u001b[39;00m\n\u001b[0;32m   1466\u001b[0m     \u001b[38;5;66;03m# handles that only the child should have open.  You need\u001b[39;00m\n\u001b[1;32m   (...)\u001b[0m\n\u001b[0;32m   1469\u001b[0m     \u001b[38;5;66;03m# pipe will not close when the child process exits and the\u001b[39;00m\n\u001b[0;32m   1470\u001b[0m     \u001b[38;5;66;03m# ReadFile will hang.\u001b[39;00m\n\u001b[0;32m   1471\u001b[0m     \u001b[38;5;28mself\u001b[39m\u001b[38;5;241m.\u001b[39m_close_pipe_fds(p2cread, p2cwrite,\n\u001b[0;32m   1472\u001b[0m                          c2pread, c2pwrite,\n\u001b[0;32m   1473\u001b[0m                          errread, errwrite)\n",
      "\u001b[1;31mFileNotFoundError\u001b[0m: [WinError 2] The system cannot find the file specified"
     ]
    }
   ],
   "source": [
    "start_server_and_interface(scene_name=\"quickstart\")"
   ]
  },
  {
   "cell_type": "markdown",
   "metadata": {},
   "source": [
    "Open two terminal sessions and activate the virtual environment on both of them. "
   ]
  },
  {
   "cell_type": "markdown",
   "metadata": {},
   "source": [
    "**For Windows:**\n",
    "```bash\n",
    "cd \\Path\\to\\the\\project\\vivarium\n",
    ".\\myvenv\\Scripts\\activate\n",
    "```\n",
    "\n",
    "**For Linux/Mac:**\n",
    "```bash\n",
    "cd /Path/to/the/project/vivarium\n",
    "source myvenv/bin/activate\n",
    "```"
   ]
  },
  {
   "attachments": {
    "image.png": {
     "image/png": "[encoded data removed]"
    }
   },
   "cell_type": "markdown",
   "metadata": {},
   "source": [
    "then, in the first terminal, run the following command to start the server with a specific `scene_name:` (make sure to replace it by the actual name of the scene you want to run, `quickstart` in this case):\n",
    "\n",
    "```bash\n",
    "python3 scripts/run_server.py scene=scene_name\n",
    "```\n",
    "\n",
    "If you use Windows, replace `python3` by `python`. When it is launched, you shoulmd see something like that in your terminal : \n",
    "\n",
    "![image.png](attachment:image.png)\n",
    "\n"
   ]
  },
  {
   "attachments": {
    "image.png": {
     "image/png": "[encoded data removed]"
    }
   },
   "cell_type": "markdown",
   "metadata": {},
   "source": [
    "In the second terminal, run the following command to start the interface:\n",
    "\n",
    "```bash\n",
    "panel serve scripts/run_interface.py --args --notebook_mode True\n",
    "```\n",
    "\n",
    "It will give you a clickable link to open the interface in your browser. If you don't see the link, you can manually open it by going to `http://localhost:5006/run_interface`. You should see something like that in your terminal :\n",
    "\n",
    "![image.png](attachment:image.png)"
   ]
  },
  {
   "cell_type": "markdown",
   "metadata": {},
   "source": [
    "## 2 - Checking the Notebook controller works"
   ]
  },
  {
   "cell_type": "markdown",
   "metadata": {},
   "source": [
    "Great, now youi have a server and interface running, you can then instantiate a `controller` object. "
   ]
  },
  {
   "cell_type": "code",
   "execution_count": 2,
   "metadata": {},
   "outputs": [],
   "source": [
    "controller = NotebookController()"
   ]
  },
  {
   "cell_type": "markdown",
   "metadata": {},
   "source": [
    "Now, check it he controller is working by first printing its list of agents."
   ]
  },
  {
   "cell_type": "code",
   "execution_count": 5,
   "metadata": {},
   "outputs": [
    {
     "data": {
      "text/plain": [
       "[<vivarium.controllers.notebook_controller.Agent at 0x1c09500e9e0>,\n",
       " <vivarium.controllers.notebook_controller.Agent at 0x1c09521df30>,\n",
       " <vivarium.controllers.notebook_controller.Agent at 0x1c09521dfc0>]"
      ]
     },
     "execution_count": 5,
     "metadata": {},
     "output_type": "execute_result"
    }
   ],
   "source": [
    "controller.agents"
   ]
  },
  {
   "cell_type": "markdown",
   "metadata": {},
   "source": [
    "Next, we start the simulation:"
   ]
  },
  {
   "cell_type": "code",
   "execution_count": null,
   "metadata": {},
   "outputs": [],
   "source": [
    "controller.run()"
   ]
  },
  {
   "cell_type": "markdown",
   "metadata": {},
   "source": [
    "Check the controller is running well."
   ]
  },
  {
   "cell_type": "code",
   "execution_count": 4,
   "metadata": {},
   "outputs": [
    {
     "name": "stdout",
     "output_type": "stream",
     "text": [
      "True\n"
     ]
    }
   ],
   "source": [
    "print(controller._is_running)"
   ]
  },
  {
   "cell_type": "markdown",
   "metadata": {},
   "source": [
    "To visually test if everything works well, you can just set one of the agents motor value to 0.5 to see if it rotates. You should now see it turning at a constant speed after running the cell."
   ]
  },
  {
   "cell_type": "code",
   "execution_count": 5,
   "metadata": {},
   "outputs": [],
   "source": [
    "controller.agents[0].left_motor = 0.5"
   ]
  },
  {
   "cell_type": "code",
   "execution_count": 8,
   "metadata": {},
   "outputs": [],
   "source": [
    "controller.stop()"
   ]
  },
  {
   "cell_type": "markdown",
   "metadata": {},
   "source": [
    "## 3 - Debugging the Notebook controller\n",
    "\n",
    "Good you have a server, and interface and a controller running. You can now play with the simulation, but it is possible that you encounter some problems. Here are some common issues and how to solve them.\n",
    "\n",
    "If you encounter an error with the controller, and the server and interface are already running, you can just import the NoteBookController class and create a controller object like that :"
   ]
  },
  {
   "cell_type": "code",
   "execution_count": 10,
   "metadata": {},
   "outputs": [],
   "source": [
    "from vivarium.controllers.notebook_controller import NotebookController\n",
    "\n",
    "controller = NotebookController()"
   ]
  },
  {
   "cell_type": "code",
   "execution_count": null,
   "metadata": {},
   "outputs": [],
   "source": [
    "controller.run()"
   ]
  },
  {
   "cell_type": "code",
   "execution_count": 4,
   "metadata": {},
   "outputs": [],
   "source": [
    "controller.agents[0].left_motor = 0.5"
   ]
  },
  {
   "cell_type": "markdown",
   "metadata": {},
   "source": [
    "3.1 - **Assigning invalid value types to entities**: If you assign a value that is not valid to an entity, you will get an error. For example, if you try to assign a string to a motor value, you will get an error. Make sure you are assigning the correct type of value to each entity."
   ]
  },
  {
   "cell_type": "code",
   "execution_count": 6,
   "metadata": {},
   "outputs": [
    {
     "name": "stderr",
     "output_type": "stream",
     "text": [
      "Exception in thread Thread-5 (_run):\n",
      "Traceback (most recent call last):\n",
      "  File \"C:\\Program Files\\WindowsApps\\PythonSoftwareFoundation.Python.3.10_3.10.3056.0_x64__qbz5n2kfra8p0\\lib\\threading.py\", line 1016, in _bootstrap_inner\n",
      "    self.run()\n",
      "  File \"c:\\Users\\coren\\Desktop\\Code\\vivarium\\myvenv\\lib\\site-packages\\ipykernel\\ipkernel.py\", line 766, in run_closure\n",
      "    _threading_Thread_run(self)\n",
      "  File \"C:\\Program Files\\WindowsApps\\PythonSoftwareFoundation.Python.3.10_3.10.3056.0_x64__qbz5n2kfra8p0\\lib\\threading.py\", line 953, in run\n",
      "    self._target(*self._args, **self._kwargs)\n",
      "  File \"c:\\users\\coren\\desktop\\code\\vivarium\\vivarium\\controllers\\notebook_controller.py\", line 538, in _run\n",
      "    entity.set_events()\n",
      "  File \"c:\\users\\coren\\desktop\\code\\vivarium\\vivarium\\controllers\\notebook_controller.py\", line 58, in set_events\n",
      "    setattr(self.config, k, v)\n",
      "  File \"c:\\Users\\coren\\Desktop\\Code\\vivarium\\myvenv\\lib\\site-packages\\param\\parameterized.py\", line 525, in _f\n",
      "    instance_param.__set__(obj, val)\n",
      "  File \"c:\\Users\\coren\\Desktop\\Code\\vivarium\\myvenv\\lib\\site-packages\\param\\parameterized.py\", line 527, in _f\n",
      "    return f(self, obj, val)\n",
      "  File \"c:\\Users\\coren\\Desktop\\Code\\vivarium\\myvenv\\lib\\site-packages\\param\\parameters.py\", line 542, in __set__\n",
      "    super().__set__(obj,val)\n",
      "  File \"c:\\Users\\coren\\Desktop\\Code\\vivarium\\myvenv\\lib\\site-packages\\param\\parameterized.py\", line 527, in _f\n",
      "    return f(self, obj, val)\n",
      "  File \"c:\\Users\\coren\\Desktop\\Code\\vivarium\\myvenv\\lib\\site-packages\\param\\parameterized.py\", line 1490, in __set__\n",
      "    self._validate(val)\n",
      "  File \"c:\\Users\\coren\\Desktop\\Code\\vivarium\\myvenv\\lib\\site-packages\\param\\parameters.py\", line 827, in _validate\n",
      "    self._validate_value(val, self.allow_None)\n",
      "  File \"c:\\Users\\coren\\Desktop\\Code\\vivarium\\myvenv\\lib\\site-packages\\param\\parameters.py\", line 810, in _validate_value\n",
      "    raise ValueError(\n",
      "ValueError: Number parameter 'AgentConfig.right_motor' only takes numeric values, not <class 'str'>.\n"
     ]
    }
   ],
   "source": [
    "controller.agents[0].right_motor = \"example_string\""
   ]
  },
  {
   "cell_type": "markdown",
   "metadata": {},
   "source": [
    "If an error like that occurs, you can just re-run the cell where you create the controller object."
   ]
  },
  {
   "cell_type": "markdown",
   "metadata": {},
   "source": [
    "3.2 - **Assigning invalid value ranges to entities**: If you assign a value that is outisde of defined bounds for an entity, you will get an error. For example, if you try to assign a value > 1 or < 0 to a motor value, you will get an error. Make sure you are assigning the correct range of values to each entity."
   ]
  },
  {
   "cell_type": "code",
   "execution_count": 14,
   "metadata": {},
   "outputs": [],
   "source": [
    "from vivarium.controllers.notebook_controller import NotebookController\n",
    "\n",
    "controller = NotebookController()\n",
    "controller.run()\n",
    "\n",
    "controller.agents[0].right_motor = 0.5"
   ]
  },
  {
   "cell_type": "code",
   "execution_count": null,
   "metadata": {},
   "outputs": [
    {
     "name": "stderr",
     "output_type": "stream",
     "text": [
      "Exception in thread Thread-27 (_run):\n",
      "Traceback (most recent call last):\n",
      "  File \"C:\\Program Files\\WindowsApps\\PythonSoftwareFoundation.Python.3.10_3.10.3056.0_x64__qbz5n2kfra8p0\\lib\\threading.py\", line 1016, in _bootstrap_inner\n",
      "    self.run()\n",
      "  File \"c:\\Users\\coren\\Desktop\\Code\\vivarium\\myvenv\\lib\\site-packages\\ipykernel\\ipkernel.py\", line 766, in run_closure\n",
      "    _threading_Thread_run(self)\n",
      "  File \"C:\\Program Files\\WindowsApps\\PythonSoftwareFoundation.Python.3.10_3.10.3056.0_x64__qbz5n2kfra8p0\\lib\\threading.py\", line 953, in run\n",
      "    self._target(*self._args, **self._kwargs)\n",
      "  File \"c:\\users\\coren\\desktop\\code\\vivarium\\vivarium\\controllers\\notebook_controller.py\", line 538, in _run\n",
      "    entity.set_events()\n",
      "  File \"c:\\users\\coren\\desktop\\code\\vivarium\\vivarium\\controllers\\notebook_controller.py\", line 58, in set_events\n",
      "    setattr(self.config, k, v)\n",
      "  File \"c:\\Users\\coren\\Desktop\\Code\\vivarium\\myvenv\\lib\\site-packages\\param\\parameterized.py\", line 525, in _f\n",
      "    instance_param.__set__(obj, val)\n",
      "  File \"c:\\Users\\coren\\Desktop\\Code\\vivarium\\myvenv\\lib\\site-packages\\param\\parameterized.py\", line 527, in _f\n",
      "    return f(self, obj, val)\n",
      "  File \"c:\\Users\\coren\\Desktop\\Code\\vivarium\\myvenv\\lib\\site-packages\\param\\parameters.py\", line 542, in __set__\n",
      "    super().__set__(obj,val)\n",
      "  File \"c:\\Users\\coren\\Desktop\\Code\\vivarium\\myvenv\\lib\\site-packages\\param\\parameterized.py\", line 527, in _f\n",
      "    return f(self, obj, val)\n",
      "  File \"c:\\Users\\coren\\Desktop\\Code\\vivarium\\myvenv\\lib\\site-packages\\param\\parameterized.py\", line 1490, in __set__\n",
      "    self._validate(val)\n",
      "  File \"c:\\Users\\coren\\Desktop\\Code\\vivarium\\myvenv\\lib\\site-packages\\param\\parameters.py\", line 829, in _validate\n",
      "    self._validate_bounds(val, self.bounds, self.inclusive_bounds)\n",
      "  File \"c:\\Users\\coren\\Desktop\\Code\\vivarium\\myvenv\\lib\\site-packages\\param\\parameters.py\", line 780, in _validate_bounds\n",
      "    raise ValueError(\n",
      "ValueError: Number parameter 'AgentConfig.right_motor' must be at most 1.0, not 15.3.\n"
     ]
    }
   ],
   "source": [
    "controller.agents[0].right_motor = 15.3"
   ]
  },
  {
   "cell_type": "markdown",
   "metadata": {},
   "source": [
    "3.3 - **Debugging errors in routines or behaviors**: If you assign a value that is outisde of defined bounds for an entity, you will get an error. For example, if you try to assign a value > 1 or < 0 to a motor value, you will get an error. Make sure you are assigning the correct range of values to each entity."
   ]
  },
  {
   "cell_type": "code",
   "execution_count": 1,
   "metadata": {},
   "outputs": [
    {
     "name": "stderr",
     "output_type": "stream",
     "text": [
      "Exception in thread Thread-4 (_run):\n",
      "Traceback (most recent call last):\n",
      "  File \"C:\\Program Files\\WindowsApps\\PythonSoftwareFoundation.Python.3.10_3.10.3056.0_x64__qbz5n2kfra8p0\\lib\\threading.py\", line 1016, in _bootstrap_inner\n",
      "    self.run()\n",
      "  File \"c:\\Users\\coren\\Desktop\\Code\\vivarium\\myvenv\\lib\\site-packages\\ipykernel\\ipkernel.py\", line 766, in run_closure\n",
      "    _threading_Thread_run(self)\n",
      "  File \"C:\\Program Files\\WindowsApps\\PythonSoftwareFoundation.Python.3.10_3.10.3056.0_x64__qbz5n2kfra8p0\\lib\\threading.py\", line 953, in run\n",
      "    self._target(*self._args, **self._kwargs)\n",
      "  File \"c:\\users\\coren\\desktop\\code\\vivarium\\vivarium\\controllers\\notebook_controller.py\", line 548, in _run\n",
      "    entity.behave(self.time)\n",
      "  File \"c:\\users\\coren\\desktop\\code\\vivarium\\vivarium\\controllers\\notebook_controller.py\", line 288, in behave\n",
      "    self.left_motor, self.right_motor = motor_values\n",
      "TypeError: cannot unpack non-iterable numpy.float64 object\n"
     ]
    }
   ],
   "source": [
    "from vivarium.controllers.notebook_controller import NotebookController\n",
    "\n",
    "controller = NotebookController()\n",
    "controller.run()"
   ]
  },
  {
   "cell_type": "code",
   "execution_count": 2,
   "metadata": {},
   "outputs": [],
   "source": [
    "controller.agents[0].right_motor = 0.5"
   ]
  },
  {
   "cell_type": "code",
   "execution_count": 3,
   "metadata": {},
   "outputs": [],
   "source": [
    "# correct behavior\n",
    "def correct_love_shy(robot):\n",
    "    left, right = robot.sensors()\n",
    "    left_wheel = 1 - right\n",
    "    right_wheel = 1 - left   \n",
    "    return left_wheel, right_wheel\n",
    "\n",
    "# correct behavior\n",
    "def incorrect_love_shy(robot):\n",
    "    left, right = robot.sensors()\n",
    "    # error : value of wheel that is beyond bounds (0 - 1)\n",
    "    left_wheel = 1000 - right\n",
    "    # error : return only 1 value of motor\n",
    "    return left_wheel"
   ]
  },
  {
   "cell_type": "markdown",
   "metadata": {},
   "source": [
    "First attach a correct behavior:"
   ]
  },
  {
   "cell_type": "code",
   "execution_count": 4,
   "metadata": {},
   "outputs": [],
   "source": [
    "controller.agents[1].attach_behavior(correct_love_shy)\n",
    "controller.agents[1].start_all_behaviors()"
   ]
  },
  {
   "cell_type": "markdown",
   "metadata": {},
   "source": [
    "Then an incorrect one:"
   ]
  },
  {
   "cell_type": "code",
   "execution_count": 5,
   "metadata": {},
   "outputs": [],
   "source": [
    "controller.agents[2].attach_behavior(incorrect_love_shy)\n",
    "controller.agents[2].start_all_behaviors()"
   ]
  },
  {
   "cell_type": "markdown",
   "metadata": {},
   "source": [
    "Nothing happens ! "
   ]
  },
  {
   "cell_type": "markdown",
   "metadata": {},
   "source": [
    "## 4 - Stopping everything"
   ]
  }
 ],
 "metadata": {
  "kernelspec": {
   "display_name": "myvenv",
   "language": "python",
   "name": "python3"
  },
  "language_info": {
   "codemirror_mode": {
    "name": "ipython",
    "version": 3
   },
   "file_extension": ".py",
   "mimetype": "text/x-python",
   "name": "python",
   "nbconvert_exporter": "python",
   "pygments_lexer": "ipython3",
   "version": "3.10.11"
  }
 },
 "nbformat": 4,
 "nbformat_minor": 2
}
