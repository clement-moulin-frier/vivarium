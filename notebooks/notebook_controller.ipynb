{
 "cells": [
  {
   "cell_type": "code",
   "execution_count": 1,
   "id": "5ea5cd8d-ff93-4bd4-9756-03c930a861ea",
   "metadata": {
    "tags": []
   },
   "outputs": [
    {
     "name": "stdout",
     "output_type": "stream",
     "text": [
      "{'FEAR': 0, 'AGGRESSION': 1, 'LOVE': 2, 'SHY': 3, 'manual': 4, 'noop': 5}\n",
      "push_state 1\n",
      "push_state 1\n",
      "push_state 1\n",
      "push_state 1\n",
      "push_state 1\n",
      "push_state 1\n",
      "push_state 1\n",
      "push_state 1\n",
      "push_state 1\n",
      "push_state 1\n",
      "push_state 1\n"
     ]
    }
   ],
   "source": [
    "from vivarium.controllers.notebook_controller import NotebookController\n",
    "import numpy as np\n",
    "controller = NotebookController()"
   ]
  },
  {
   "cell_type": "code",
   "execution_count": 3,
   "id": "da19ae02-02dc-4d46-b819-bc6c1d29f622",
   "metadata": {
    "tags": []
   },
   "outputs": [
    {
     "data": {
      "text/plain": [
       "SimulatorConfig(box_size=100.0, dt=0.10000000149011612, freq=-1, idx=0, n_agents=10, n_objects=2, name='SimulatorConfig00016', neighbor_radius=100.0, num_steps_lax=4, to_jit=True, use_fori_loop=False)"
      ]
     },
     "execution_count": 3,
     "metadata": {},
     "output_type": "execute_result"
    }
   ],
   "source": [
    "from vivarium.simulator.sim_computation import StateType\n",
    "controller.configs[StateType.SIMULATOR][0]"
   ]
  },
  {
   "cell_type": "code",
   "execution_count": 4,
   "id": "d8b9d8d1-ab0d-4e15-b1a1-f812c1895c34",
   "metadata": {
    "tags": []
   },
   "outputs": [],
   "source": [
    "def aggression(agent):\n",
    "    return agent.right_prox, agent.left_prox\n",
    "\n",
    "def fear(agent):\n",
    "    return agent.left_prox, agent.right_prox\n",
    "\n",
    "def love(agent):\n",
    "    return 1. - agent.left_prox, 1. - agent.right_prox\n",
    "\n",
    "def shy(agent):\n",
    "    return 1. - agent.right_prox, 1. - agent.left_prox"
   ]
  },
  {
   "cell_type": "code",
   "execution_count": 5,
   "id": "3d2a8fe1-4dac-49f0-82b9-54d9f161347b",
   "metadata": {
    "tags": []
   },
   "outputs": [
    {
     "name": "stdout",
     "output_type": "stream",
     "text": [
      "push_state 1\n",
      "push_state 1\n",
      "push_state 1\n",
      "push_state 1\n",
      "push_state 1\n",
      "push_state 1\n",
      "push_state 1\n",
      "push_state 1\n",
      "push_state 1\n",
      "push_state 1\n"
     ]
    }
   ],
   "source": [
    "for ag in controller.agents[:5]:\n",
    "    ag.color = 'blue'\n",
    "    ag.detach_all_behaviors()\n",
    "    ag.attach_behavior(shy)\n",
    "for ag in controller.agents[5:]:\n",
    "    ag.color = 'red'\n",
    "    ag.detach_all_behaviors()\n",
    "    ag.attach_behavior(aggression)"
   ]
  },
  {
   "cell_type": "code",
   "execution_count": 8,
   "id": "0254859c-f703-4be5-94dd-2d9b03ad7662",
   "metadata": {
    "tags": []
   },
   "outputs": [
    {
     "name": "stdout",
     "output_type": "stream",
     "text": [
      "push_state 20\n",
      "push_state 20\n",
      "push_state 19\n",
      "push_state 20\n",
      "push_state 20\n",
      "push_state 19\n",
      "push_state 20\n",
      "push_state 20\n",
      "push_state 19\n",
      "push_state 19\n",
      "push_state 20\n",
      "push_state 20\n",
      "push_state 19\n",
      "push_state 19\n",
      "push_state 19\n",
      "push_state 19\n",
      "push_state 19\n",
      "push_state 19\n",
      "push_state 19\n",
      "push_state 19\n",
      "push_state 19\n",
      "push_state 19\n",
      "push_state 20\n",
      "push_state 20\n",
      "push_state 20\n",
      "push_state 20\n",
      "push_state 20\n",
      "push_state 20\n",
      "push_state 20\n",
      "push_state 20\n",
      "push_state 20\n",
      "push_state 20\n",
      "push_state 20\n",
      "push_state 20\n",
      "push_state 20\n",
      "push_state 20\n",
      "push_state 20\n",
      "push_state 20\n",
      "push_state 20\n",
      "push_state 20\n",
      "push_state 20\n",
      "push_state 20\n",
      "push_state 20\n",
      "push_state 20\n",
      "push_state 20\n",
      "push_state 20\n",
      "push_state 20\n",
      "push_state 20\n",
      "push_state 20\n",
      "push_state 20\n",
      "push_state 20\n",
      "push_state 20\n",
      "push_state 20\n",
      "push_state 20\n",
      "push_state 20\n",
      "push_state 20\n",
      "push_state 20\n",
      "push_state 19\n",
      "push_state 19\n",
      "push_state 19\n",
      "push_state 19\n",
      "push_state 19\n",
      "push_state 19\n",
      "push_state 19\n",
      "push_state 19\n",
      "push_state 19\n",
      "push_state 19\n",
      "push_state 20\n",
      "push_state 20\n",
      "push_state 20\n",
      "push_state 20\n",
      "push_state 20\n",
      "push_state 20\n",
      "push_state 20\n",
      "push_state 20\n",
      "push_state 20\n",
      "push_state 20\n",
      "push_state 20\n",
      "push_state 20\n",
      "push_state 20\n",
      "push_state 20\n",
      "push_state 20\n",
      "push_state 20\n",
      "push_state 20\n",
      "push_state 20\n",
      "push_state 20\n",
      "push_state 20\n",
      "push_state 20\n",
      "push_state 20\n",
      "push_state 20\n",
      "push_state 20\n",
      "push_state 20\n",
      "push_state 20\n",
      "push_state 20\n",
      "push_state 20\n",
      "push_state 20\n",
      "push_state 20\n",
      "push_state 20\n",
      "push_state 20\n",
      "push_state 20\n",
      "push_state 20\n",
      "push_state 20\n",
      "push_state 20\n",
      "push_state 20\n"
     ]
    }
   ],
   "source": [
    "controller.run(threaded=True)"
   ]
  },
  {
   "cell_type": "code",
   "execution_count": 9,
   "id": "2c5b93c4-2bc8-4705-a805-7f07c9959020",
   "metadata": {
    "tags": []
   },
   "outputs": [],
   "source": [
    "controller.stop()"
   ]
  },
  {
   "cell_type": "code",
   "execution_count": 11,
   "id": "881a3f5c-2a86-4d3a-bcfb-83837e17f8d4",
   "metadata": {
    "tags": []
   },
   "outputs": [],
   "source": [
    "state = controller.state"
   ]
  },
  {
   "cell_type": "code",
   "execution_count": null,
   "id": "a73e9487-cd02-48c3-b97a-e40347efa7f3",
   "metadata": {},
   "outputs": [],
   "source": []
  }
 ],
 "metadata": {
  "kernelspec": {
   "display_name": "Python 3 (ipykernel)",
   "language": "python",
   "name": "python3"
  },
  "language_info": {
   "codemirror_mode": {
    "name": "ipython",
    "version": 3
   },
   "file_extension": ".py",
   "mimetype": "text/x-python",
   "name": "python",
   "nbconvert_exporter": "python",
   "pygments_lexer": "ipython3",
   "version": "3.9.18"
  }
 },
 "nbformat": 4,
 "nbformat_minor": 5
}
