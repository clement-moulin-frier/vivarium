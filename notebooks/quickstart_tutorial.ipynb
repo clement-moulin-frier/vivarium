{
 "cells": [
  {
   "cell_type": "markdown",
   "id": "5ebe810c-58f6-4c3e-8e03-7eb2736cb2ec",
   "metadata": {},
   "source": [
    "# Quickstart tutorial: Enter the _Vivarium_\n",
    "\n",
    "First follow the installations instruction in the README of the repository. If everything works correctly, you should have launched the web interface."
   ]
  },
  {
   "cell_type": "markdown",
   "id": "bc1012ea-93de-434a-a728-47ecb99c07ad",
   "metadata": {},
   "source": [
    "## Introduction to the web interface\n",
    "\n",
    "The web interface has two main components:\n",
    "- The simulator plot on the left (in blue)\n",
    "- The configurations on the right (in red)\n",
    "\n",
    "![e](img/web_interface.png \"Interface\")"
   ]
  },
  {
   "cell_type": "markdown",
   "id": "01df238b",
   "metadata": {},
   "source": [
    "### Simulator plot\n",
    "\n",
    "The plot displays the current state of the simulator, including its agents and objects.\n",
    "\n",
    "From top to bottom can be found:\n",
    "\n",
    "- **The start/stop button for the server**, which manages the simulation on the server side\n",
    "- **The start/stop button for the plot update**, which sets if the plot should periodically refresh or not; the timestep for the refresh can be set with the slider next to it\n",
    "- **The simulator plot**, with the agents and objects; on the right are some tools that can be used to select these entities"
   ]
  },
  {
   "cell_type": "markdown",
   "id": "e5fd28c4",
   "metadata": {},
   "source": [
    "### Entity configurations\n",
    "\n",
    "The configs can be used to modify the agents, objects, or simulator properties.\n",
    "To show one config tab, click on the appropriate **`Show Configs`** toggle.\n",
    "\n",
    "#### Agents / Objects configs\n",
    "These two tabs are quite similar in structure.\n",
    "From top to bottom can be found:\n",
    "- **The selected list**, which indicates which entities are currently selected, either by selecting them on the plot or directly in this list; <u>the selected entities are the ones that will be affected by the next points</u>\n",
    "- **The panel configs**, which are used to select what is visible on the plot; checking or unchecking these boxes will make the appropriate element appear / dissapear from the plot\n",
    "- **The configs**, which manages all the properties of the agents / objects; for more details on what each config does, please refer to the documentation\n",
    "\n",
    "#### Simulator configs\n",
    "As there is only one simulator that is always visible, this config tab only shows the simulator properties. Please refer to the documentation for further details on what each config does."
   ]
  },
  {
   "cell_type": "markdown",
   "id": "bc8fee1e-69b6-4377-839e-bbeedc32db4a",
   "metadata": {},
   "source": [
    "## Controlling the simulator programmatically\n",
    "\n",
    "Instead of controlling the simulator from the web interface, you can also control it programmatically, e.g. directly from this Jupyter notebook. First make sure that the simulator is stopped in the web interface. Then execute:"
   ]
  },
  {
   "cell_type": "code",
   "execution_count": null,
   "id": "5ea5cd8d-ff93-4bd4-9756-03c930a861ea",
   "metadata": {
    "tags": []
   },
   "outputs": [],
   "source": [
    "from vivarium.controllers.notebook_controller import NotebookController\n",
    "import numpy as np\n",
    "controller = NotebookController()"
   ]
  },
  {
   "cell_type": "markdown",
   "id": "99074eda-7734-44b6-835d-beb844600b33",
   "metadata": {},
   "source": [
    "The newly created `controller` object provides all the functionalities to easily interact with the simulator server. Let's look for example at the agents present in the environment:"
   ]
  },
  {
   "cell_type": "code",
   "execution_count": null,
   "id": "15b13aa0-f6fa-4767-9f4e-8789e9e9827c",
   "metadata": {
    "tags": []
   },
   "outputs": [],
   "source": [
    "controller.agents"
   ]
  },
  {
   "cell_type": "markdown",
   "id": "59bffcb1-df5e-4aab-a11f-ad7d952e702f",
   "metadata": {},
   "source": [
    "This is a list of `Agent` objects, one per agent in the environment. Let's for example access the configuration of the first agent in this list and look at its attribute using the Python `.__dict__` syntax:"
   ]
  },
  {
   "cell_type": "code",
   "execution_count": null,
   "id": "2d7886eb-c7dd-4e54-924b-48c85c5fe3bd",
   "metadata": {
    "tags": []
   },
   "outputs": [],
   "source": [
    "controller.agents[0].__dict__"
   ]
  },
  {
   "cell_type": "markdown",
   "id": "cf117751-c71e-4a45-9c25-0c4b013464b9",
   "metadata": {},
   "source": [
    "We see the value of different attributes of the agent, for example its position, diameter or color. Let's make the first agent larger by increasing its `diameter` attribute:"
   ]
  },
  {
   "cell_type": "code",
   "execution_count": null,
   "id": "8f804102-4c3b-489d-9844-9b16cee638b7",
   "metadata": {
    "tags": []
   },
   "outputs": [],
   "source": [
    "controller.agents[0].diameter = 10."
   ]
  },
  {
   "cell_type": "markdown",
   "id": "2ff602fe-fcc2-455b-b3cd-7571a5ca7226",
   "metadata": {},
   "source": [
    "If you now look at the web interface, you should see that one of the agent is now twice larger than the others. All changes made in this notebook will be automatically visible in the web interface, and vice versa. One can for example also change the color of an agent, let's do it on the third agent in the list now (i.e. the agent with index 2):"
   ]
  },
  {
   "cell_type": "code",
   "execution_count": null,
   "id": "2b2dbb14-c8b0-41af-aea9-8a2b6036615e",
   "metadata": {
    "tags": []
   },
   "outputs": [],
   "source": [
    "controller.agents[2].color = 'green'"
   ]
  },
  {
   "cell_type": "markdown",
   "id": "330833ae-e938-4c68-9952-9ce4e4be2f7a",
   "metadata": {
    "tags": []
   },
   "source": [
    "The same principles apply to objects, which are accessible through `controller.objects`."
   ]
  },
  {
   "cell_type": "markdown",
   "id": "49a4dcb8-0d43-4f58-ba2d-0672fec18a14",
   "metadata": {},
   "source": [
    "### Defining agent's behaviors\n",
    "\n",
    "We can define the behavior of an agent as a Python function taking as argument an `Agent` and returning the values of the left and right motors, in this order. Within the body of the function, one can access all the agents attribute. Usually, defining a behavior requires to access the value of the agent sensors. This done through the `agent.left_prox` and `agent.right_prox` attributes, that return the value of the left and right sensors, respectively."
   ]
  },
  {
   "cell_type": "markdown",
   "id": "05bcfdcd-8a36-48b2-920d-892484c94137",
   "metadata": {},
   "source": [
    "Let's define four behaviors, here corresponding to the four canonical behaviors of [Braitenberg Vehicles](https://en.wikipedia.org/wiki/Braitenberg_vehicle):"
   ]
  },
  {
   "cell_type": "code",
   "execution_count": null,
   "id": "d8b9d8d1-ab0d-4e15-b1a1-f812c1895c34",
   "metadata": {
    "tags": []
   },
   "outputs": [],
   "source": [
    "def aggression(agent):\n",
    "    return agent.right_prox, agent.left_prox\n",
    "\n",
    "def fear(agent):\n",
    "    return agent.left_prox, agent.right_prox\n",
    "\n",
    "def love(agent):\n",
    "    return 1. - agent.left_prox, 1. - agent.right_prox\n",
    "\n",
    "def shy(agent):\n",
    "    return 1. - agent.right_prox, 1. - agent.left_prox"
   ]
  },
  {
   "cell_type": "markdown",
   "id": "485ed1e7-10ea-4405-951c-07fcda5a3d3e",
   "metadata": {},
   "source": [
    "The code above only declares the behaviors, now we need to attach them to the agents in the simulator. Let's attach the `shy` behavior to the first five agents and set their color to blue ; and the `aggression` behavior to the four last agents and set their color to red:"
   ]
  },
  {
   "cell_type": "code",
   "execution_count": null,
   "id": "3d2a8fe1-4dac-49f0-82b9-54d9f161347b",
   "metadata": {
    "tags": []
   },
   "outputs": [],
   "source": [
    "for ag in controller.agents[:5]:\n",
    "    ag.color = 'blue'\n",
    "    ag.detach_all_behaviors()\n",
    "    ag.attach_behavior(shy)\n",
    "for ag in controller.agents[5:]:\n",
    "    ag.color = 'red'\n",
    "    ag.detach_all_behaviors()\n",
    "    ag.attach_behavior(aggression)"
   ]
  },
  {
   "cell_type": "markdown",
   "id": "745e670e-e9a5-49a8-b54d-7a3dba326e04",
   "metadata": {},
   "source": [
    "All agents are now equipped with a behavior. We can launch the simulation with the code below ; then stop it with the code on the next line."
   ]
  },
  {
   "cell_type": "code",
   "execution_count": null,
   "id": "0254859c-f703-4be5-94dd-2d9b03ad7662",
   "metadata": {
    "tags": []
   },
   "outputs": [],
   "source": [
    "controller.run(threaded=True)"
   ]
  },
  {
   "cell_type": "code",
   "execution_count": null,
   "id": "2c5b93c4-2bc8-4705-a805-7f07c9959020",
   "metadata": {
    "tags": []
   },
   "outputs": [],
   "source": [
    "controller.stop()"
   ]
  },
  {
   "cell_type": "code",
   "execution_count": null,
   "id": "f956c05e-97c0-4e80-bd14-0e6d06789eb7",
   "metadata": {},
   "outputs": [],
   "source": []
  }
 ],
 "metadata": {
  "kernelspec": {
   "display_name": "Python 3 (ipykernel)",
   "language": "python",
   "name": "python3"
  },
  "language_info": {
   "codemirror_mode": {
    "name": "ipython",
    "version": 3
   },
   "file_extension": ".py",
   "mimetype": "text/x-python",
   "name": "python",
   "nbconvert_exporter": "python",
   "pygments_lexer": "ipython3",
   "version": "3.11.7"
  }
 },
 "nbformat": 4,
 "nbformat_minor": 5
}
