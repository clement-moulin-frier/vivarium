{
 "cells": [
  {
   "cell_type": "markdown",
   "id": "5ebe810c-58f6-4c3e-8e03-7eb2736cb2ec",
   "metadata": {},
   "source": [
    "# Quickstart tutorial: Enter the _Vivarium_\n",
    "\n",
    "First follow the installations instruction in the README of the repository. If everything works correctly, you should have launched the web interface."
   ]
  },
  {
   "cell_type": "markdown",
   "id": "bc1012ea-93de-434a-a728-47ecb99c07ad",
   "metadata": {},
   "source": [
    "## Introduction to the web interface\n",
    "\n",
    "For the web interface tutorial, please refer to [this file.](web_interface_tutorial.md)"
   ]
  },
  {
   "cell_type": "markdown",
   "id": "bc8fee1e-69b6-4377-839e-bbeedc32db4a",
   "metadata": {},
   "source": [
    "## Controlling the simulator programmatically\n",
    "\n",
    "Instead of controlling the simulator from the web interface, you can also control it programmatically, e.g. directly from this Jupyter notebook. First make sure that the simulator is stopped in the web interface. Then execute:"
   ]
  },
  {
   "cell_type": "code",
   "execution_count": 1,
   "id": "5ea5cd8d-ff93-4bd4-9756-03c930a861ea",
   "metadata": {
    "tags": []
   },
   "outputs": [],
   "source": [
    "from vivarium.controllers.notebook_controller import NotebookController\n",
    "import numpy as np\n",
    "controller = NotebookController()"
   ]
  },
  {
   "cell_type": "markdown",
   "id": "99074eda-7734-44b6-835d-beb844600b33",
   "metadata": {},
   "source": [
    "The newly created `controller` object provides all the functionalities to easily interact with the simulator server. Let's look for example at the agents present in the environment:"
   ]
  },
  {
   "cell_type": "code",
   "execution_count": 2,
   "id": "15b13aa0-f6fa-4767-9f4e-8789e9e9827c",
   "metadata": {
    "tags": []
   },
   "outputs": [
    {
     "data": {
      "text/plain": [
       "[<vivarium.controllers.notebook_controller.Agent at 0x165bf3250>,\n",
       " <vivarium.controllers.notebook_controller.Agent at 0x28957a690>,\n",
       " <vivarium.controllers.notebook_controller.Agent at 0x2897b23d0>,\n",
       " <vivarium.controllers.notebook_controller.Agent at 0x2895a87d0>,\n",
       " <vivarium.controllers.notebook_controller.Agent at 0x28a954c90>,\n",
       " <vivarium.controllers.notebook_controller.Agent at 0x28a954a10>,\n",
       " <vivarium.controllers.notebook_controller.Agent at 0x28a9551d0>,\n",
       " <vivarium.controllers.notebook_controller.Agent at 0x28a955450>,\n",
       " <vivarium.controllers.notebook_controller.Agent at 0x28a9556d0>,\n",
       " <vivarium.controllers.notebook_controller.Agent at 0x28a954f10>]"
      ]
     },
     "execution_count": 2,
     "metadata": {},
     "output_type": "execute_result"
    }
   ],
   "source": [
    "controller.agents"
   ]
  },
  {
   "cell_type": "markdown",
   "id": "59bffcb1-df5e-4aab-a11f-ad7d952e702f",
   "metadata": {},
   "source": [
    "This is a list of `Agent` objects, one per agent in the environment. Let's for example access the configuration of the first agent in this list and look at its attribute using the Python `.__dict__` syntax:"
   ]
  },
  {
   "cell_type": "code",
   "execution_count": 3,
   "id": "2d7886eb-c7dd-4e54-924b-48c85c5fe3bd",
   "metadata": {
    "tags": []
   },
   "outputs": [
    {
     "data": {
      "text/plain": [
       "{'config': AgentConfig(behavior='manual', color='#ffff00', diameter=3.0, exists=True, friction=0.10000000149011612, idx=0, left_motor=0, left_prox=0.6139006614685059, mass_center=1.0, mass_orientation=0.125, name='AgentConfig00004', orientation=-194.20037841796875, proxs_cos_min=0.0, proxs_dist_max=100.0, right_motor=0, right_prox=0.7286465764045715, speed_mul=1.0, theta_mul=1.0, wheel_diameter=2.0, x_position=93.14191436767578, y_position=72.39128112792969),\n",
       " '_routines': {},\n",
       " 'user_events': {},\n",
       " 'etype': <EntityType.AGENT: 0>,\n",
       " 'behaviors': {}}"
      ]
     },
     "execution_count": 3,
     "metadata": {},
     "output_type": "execute_result"
    }
   ],
   "source": [
    "controller.agents[0].__dict__"
   ]
  },
  {
   "cell_type": "markdown",
   "id": "2f207c69",
   "metadata": {},
   "source": [
    "### Modifying agents\n",
    "\n",
    "We will now see how to interact with agents by modifying their attributes. First, we need to start the simulation in this notebook with the following instruction:"
   ]
  },
  {
   "cell_type": "code",
   "execution_count": 4,
   "id": "44cc56f7",
   "metadata": {},
   "outputs": [],
   "source": [
    "# The `threaded=True` argument ensure that this cell does not block the notebook\n",
    "controller.run(threaded=True)"
   ]
  },
  {
   "cell_type": "markdown",
   "id": "35e13921",
   "metadata": {},
   "source": [
    "We can stop the simulation at any time by executing the following instruction:"
   ]
  },
  {
   "cell_type": "code",
   "execution_count": 5,
   "id": "9044bd8b",
   "metadata": {},
   "outputs": [],
   "source": [
    "controller.stop()"
   ]
  },
  {
   "cell_type": "markdown",
   "id": "bebb29da",
   "metadata": {},
   "source": [
    "However, this will cause the changes made in this notebook to no longer reflect on the interface, so we should start it again:"
   ]
  },
  {
   "cell_type": "code",
   "execution_count": 6,
   "id": "dfb295e6",
   "metadata": {},
   "outputs": [],
   "source": [
    "controller.run(threaded=True)"
   ]
  },
  {
   "cell_type": "markdown",
   "id": "cf117751-c71e-4a45-9c25-0c4b013464b9",
   "metadata": {},
   "source": [
    "We saw in the dictionary the value of different attributes of the agent, for example its position, diameter or color. Let's make the first agent (index 0) larger by increasing its `diameter` attribute:"
   ]
  },
  {
   "cell_type": "code",
   "execution_count": 7,
   "id": "8f804102-4c3b-489d-9844-9b16cee638b7",
   "metadata": {
    "tags": []
   },
   "outputs": [],
   "source": [
    "controller.agents[0].diameter = 10"
   ]
  },
  {
   "cell_type": "markdown",
   "id": "2ff602fe-fcc2-455b-b3cd-7571a5ca7226",
   "metadata": {},
   "source": [
    "If you now look at the web interface, you should see that one of the agent is now twice larger than the others. All changes made in this notebook will be automatically visible in the web interface if the server is running, and vice versa. One can for example also change the color of an agent, let's do it on the third agent in the list now (i.e. the agent with index 2):"
   ]
  },
  {
   "cell_type": "code",
   "execution_count": 8,
   "id": "2b2dbb14-c8b0-41af-aea9-8a2b6036615e",
   "metadata": {
    "tags": []
   },
   "outputs": [],
   "source": [
    "controller.agents[0].color = 'yellow'"
   ]
  },
  {
   "cell_type": "markdown",
   "id": "330833ae-e938-4c68-9952-9ce4e4be2f7a",
   "metadata": {
    "tags": []
   },
   "source": [
    "The same principles apply to objects, which are accessible through `controller.objects`."
   ]
  },
  {
   "cell_type": "markdown",
   "id": "4254a8db",
   "metadata": {},
   "source": [
    "### Controlling the agent's movement\n",
    "\n",
    "We can modify the appearance of the agents, but we can also decide how they move. For now, let's set the speed of the left wheel of the first agent, to 1 radian per second:"
   ]
  },
  {
   "cell_type": "code",
   "execution_count": 9,
   "id": "871703e0",
   "metadata": {},
   "outputs": [],
   "source": [
    "controller.agents[0].left_motor = 1."
   ]
  },
  {
   "cell_type": "markdown",
   "id": "bf2cdd3d",
   "metadata": {},
   "source": [
    "You should now see the agent spinning. To make it move in a straight line, we need to set the other wheel to the same speed, with the following:"
   ]
  },
  {
   "cell_type": "code",
   "execution_count": 10,
   "id": "6fdc829e",
   "metadata": {},
   "outputs": [],
   "source": [
    "controller.agents[0].right_motor= 1."
   ]
  },
  {
   "cell_type": "markdown",
   "id": "0dd456df",
   "metadata": {},
   "source": [
    "We can reset the motors of the agents with this instruction:"
   ]
  },
  {
   "cell_type": "code",
   "execution_count": 12,
   "id": "b4581d51",
   "metadata": {},
   "outputs": [],
   "source": [
    "controller.agents[0].left_motor = controller.agents[0].right_motor = 0."
   ]
  },
  {
   "cell_type": "markdown",
   "id": "e5ad1b0b",
   "metadata": {},
   "source": [
    "### Retrieving the proximeters values\n",
    "\n",
    "The agents also come with a set of sensors called `proximeters`, that activate when the agent approaches another entity.\n",
    "\n",
    "We can retrieve the value of these sensors with this instruction:"
   ]
  },
  {
   "cell_type": "code",
   "execution_count": 13,
   "id": "eca163da",
   "metadata": {},
   "outputs": [
    {
     "name": "stdout",
     "output_type": "stream",
     "text": [
      "right prox: 0.6962598562240601\n",
      "left prox: 0.9220200181007385\n"
     ]
    }
   ],
   "source": [
    "print(f\"right prox: {controller.agents[0].right_prox}\")\n",
    "print(f\"left prox: {controller.agents[0].left_prox}\")"
   ]
  }
 ],
 "metadata": {
  "kernelspec": {
   "display_name": "Python 3 (ipykernel)",
   "language": "python",
   "name": "python3"
  },
  "language_info": {
   "codemirror_mode": {
    "name": "ipython",
    "version": 3
   },
   "file_extension": ".py",
   "mimetype": "text/x-python",
   "name": "python",
   "nbconvert_exporter": "python",
   "pygments_lexer": "ipython3",
   "version": "3.11.8"
  }
 },
 "nbformat": 4,
 "nbformat_minor": 5
}
