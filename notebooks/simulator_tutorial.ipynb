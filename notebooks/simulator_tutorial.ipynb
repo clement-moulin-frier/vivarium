{
 "cells": [
  {
   "cell_type": "markdown",
   "metadata": {},
   "source": [
    "### Questions : \n",
    "\n",
    "- Should I have more detailed explanations on every field in the initialization of states ?\n",
    "- Do you wanna talk about neighbor maps in jax_md ?\n",
    "- Do we talk about the physics engine (only way to control the simulation atm) ?\n",
    "- Do we talk about braintenberg behaviors ? \n",
    "- Do we talk about a future refactoring ? \n",
    "- What kind of custom scene do we create ? "
   ]
  },
  {
   "cell_type": "code",
   "execution_count": 18,
   "metadata": {},
   "outputs": [],
   "source": [
    "# Imports \n",
    "import jax.numpy as jnp\n",
    "import matplotlib.pyplot as plt \n",
    "\n",
    "from jax import vmap\n",
    "from jax import random"
   ]
  },
  {
   "cell_type": "markdown",
   "metadata": {},
   "source": [
    "### Simulation state\n",
    "\n",
    "The ***state*** of a simulation is composed of 4 elements:\n",
    "\n",
    "\n",
    "- ***Simulator State***: This element contains general information about the simulator, such as the size of the environment, the maximum number of agents and objects, and other global settings that define the overall behavior of the simulation and ... parameters for the connection with clients if run in server mode.\n",
    "\n",
    "- ***Agent State***: This element focuses on the agents in the simulation, which are primarily based on Braitenberg vehicles. It includes information about their behavior, wheel diameter, speed multipliers, maximum speed, and other agent-specific parameters that determine how they react to their environment and objects within it.\n",
    "\n",
    "- ***Object State***: This element provides information about the objects present in the simulation. Currently, it mainly consists of the objects' color, but it can be expanded to include additional object-specific parameters as needed.\n",
    "\n",
    "- ***Entity State***: This element combines information about both agents and objects, encompassing their physical parameters used in the physics simulation. It includes position, speed, mass, friction, and other relevant parameters. By grouping these parameters together, we can more easily compute and update the physical aspects of the simulation... (i.e update neighbors ... talk abt it) However, this structure might change in the future.\n",
    "\n",
    "\n",
    "In the next cells, we'll explain step by step how to initialize a state."
   ]
  },
  {
   "cell_type": "markdown",
   "metadata": {},
   "source": [
    "<!-- All parameters used in a simulation\n",
    "\n",
    "<div style=\"font-size: 80%;\">\n",
    "\n",
    "```yaml\n",
    "agents:\n",
    "  behavior: 1\n",
    "  color: blue\n",
    "  max_speed: 10.0\n",
    "  prox_cos_min: 0.0\n",
    "  prox_dist_max: 40.0\n",
    "  speed_mul: 1.0\n",
    "  theta_mul: 1.0\n",
    "  wheel_diameter: 2.0\n",
    "\n",
    "entities:\n",
    "  agents_positions: null\n",
    "  diameter: 5.0\n",
    "  existing_agents: null\n",
    "  existing_objects: null\n",
    "  friction: 0.1\n",
    "  mass_center: 1.0\n",
    "  mass_orientation: 0.125\n",
    "  objects_positions: null\n",
    "  seed: 0\n",
    "\n",
    "objects:\n",
    "  color: red\n",
    "\n",
    "simulator:\n",
    "  box_size: 100.0\n",
    "  collision_alpha: 0.5\n",
    "  collision_eps: 0.1\n",
    "  dt: 0.1\n",
    "  freq: 40.0\n",
    "  max_agents: 10\n",
    "  max_objects: 2\n",
    "  neighbor_radius: 100.0\n",
    "  num_steps_lax: 4\n",
    "  to_jit: true\n",
    "  use_fori_loop: false\n",
    "\n",
    "\n",
    "```\n",
    "\n",
    "</div> -->"
   ]
  },
  {
   "cell_type": "markdown",
   "metadata": {},
   "source": [
    "### Create simulator state\n",
    "\n",
    "contains general info abt the simulator, n objects and agents ... but also parameters abt simulation running (use jit or not, use fori_loop, num steps per update loop ...) parameters abt sim speed and update freq for interface (dt, freq), parameters abt physics of the environment (collision_alpha, collision_eps)"
   ]
  },
  {
   "cell_type": "code",
   "execution_count": 19,
   "metadata": {},
   "outputs": [],
   "source": [
    "from vivarium.simulator.states import SimulatorState\n",
    "\n",
    "box_size = 100.\n",
    "max_agents = 10\n",
    "max_objects = 2\n",
    "num_steps_lax = 4 # Rename this \n",
    "dt = 0.01\n",
    "freq = -1\n",
    "neighbor_radius = 100.\n",
    "to_jit = True\n",
    "use_fori_loop = False\n",
    "collision_alpha = 0.5\n",
    "collision_eps = 0.1\n",
    "\n",
    "simulator_state = SimulatorState(\n",
    "    idx=jnp.array([0]),\n",
    "    box_size=jnp.array([box_size]),              \n",
    "    max_agents=jnp.array([max_agents]),\n",
    "    max_objects=jnp.array([max_objects]),\n",
    "    num_steps_lax=jnp.array([num_steps_lax], dtype=int),\n",
    "    dt=jnp.array([dt], dtype=float),\n",
    "    freq=jnp.array([freq], dtype=float),\n",
    "    neighbor_radius=jnp.array([neighbor_radius], dtype=float),\n",
    "    to_jit= jnp.array([1*to_jit]),\n",
    "    use_fori_loop=jnp.array([1*use_fori_loop]),\n",
    "    collision_alpha=jnp.array([collision_alpha]),\n",
    "    collision_eps=jnp.array([collision_eps]))"
   ]
  },
  {
   "cell_type": "markdown",
   "metadata": {},
   "source": [
    "### Create agents state\n",
    "\n",
    "All information about the agents that are not shared by other entities (not exactly with color). How would you phrase it @clement (because it is not exaclty the parameters used in the physics functions, bc we use the motors ...) ? \n",
    " \n",
    "Should maybe put entities state first ? "
   ]
  },
  {
   "cell_type": "code",
   "execution_count": 20,
   "metadata": {},
   "outputs": [],
   "source": [
    "from vivarium.simulator.states import AgentState\n",
    "\n",
    "max_agents = 10\n",
    "behavior = 1\n",
    "wheel_diameter = 2.\n",
    "speed_mul = 1.\n",
    "max_speed = 10.\n",
    "theta_mul = 1.\n",
    "prox_dist_max = 40.\n",
    "prox_cos_min = 0.\n",
    "agents_color = jnp.array([0., 0., 1.])\n",
    "\n",
    "agents_state = AgentState(\n",
    "    nve_idx=jnp.arange(max_agents, dtype=int),\n",
    "    prox=jnp.zeros((max_agents, 2)),\n",
    "    motor=jnp.zeros((max_agents, 2)),\n",
    "    behavior=jnp.full((max_agents), behavior),\n",
    "    wheel_diameter=jnp.full((max_agents), wheel_diameter),\n",
    "    speed_mul=jnp.full((max_agents), speed_mul),\n",
    "    max_speed=jnp.full((max_agents), max_speed),\n",
    "    theta_mul=jnp.full((max_agents), theta_mul),\n",
    "    proxs_dist_max=jnp.full((max_agents), prox_dist_max),\n",
    "    proxs_cos_min=jnp.full((max_agents), prox_cos_min),\n",
    "    color=jnp.tile(agents_color, (max_agents, 1))\n",
    "    )"
   ]
  },
  {
   "cell_type": "markdown",
   "metadata": {},
   "source": [
    "### Create objects state\n",
    "\n",
    "Do the same for objects, here we only specify their color and their corresponding index in the entities dataclass."
   ]
  },
  {
   "cell_type": "code",
   "execution_count": 21,
   "metadata": {},
   "outputs": [],
   "source": [
    "from vivarium.simulator.states import ObjectState\n",
    "\n",
    "max_objects = 2\n",
    "objects_color = jnp.array([1., 0., 0.])\n",
    "\n",
    "start_idx, stop_idx = max_agents, max_agents + max_objects\n",
    "objects_nve_idx = jnp.arange(start_idx, stop_idx, dtype=int)\n",
    "\n",
    "objects_state = ObjectState(\n",
    "    nve_idx=objects_nve_idx,\n",
    "    color=jnp.tile(objects_color, (max_objects, 1))\n",
    ")"
   ]
  },
  {
   "cell_type": "markdown",
   "metadata": {},
   "source": [
    "### Create entities state\n",
    "\n",
    "contains all physical parameters (position, mass, momentum, friction ...) about all entities of the system (agents, objects)."
   ]
  },
  {
   "cell_type": "code",
   "execution_count": 22,
   "metadata": {},
   "outputs": [],
   "source": [
    "from vivarium.simulator.states import EntityState, EntityType\n",
    "from jax_md.rigid_body import RigidBody\n",
    "\n",
    "n_dims = 2 # 2D world\n",
    "diameter = 5.\n",
    "friction = 0.1\n",
    "mass_center = 1.\n",
    "mass_orientation = 0.125\n",
    "existing_agents = 10\n",
    "existing_objects = 2\n",
    "seed = 0\n",
    "\n",
    "n_entities = max_agents + max_objects\n",
    "\n",
    "key = random.PRNGKey(seed)\n",
    "key, key_agents_pos, key_objects_pos, key_orientations = random.split(key, 4)\n",
    "\n",
    "# Assign random positions to each entities\n",
    "agents_positions = positions = random.uniform(key_agents_pos, (max_agents, n_dims)) * box_size\n",
    "objects_positions = positions = random.uniform(key_objects_pos, (max_objects, n_dims)) * box_size\n",
    "positions = jnp.concatenate((agents_positions, objects_positions))\n",
    "\n",
    "# Assign random orientations between 0 and 2*pi\n",
    "orientations = random.uniform(key_orientations, (n_entities,)) * 2 * jnp.pi\n",
    "\n",
    "# Assign types to the entities\n",
    "agents_entities = jnp.full(max_agents, EntityType.AGENT.value)\n",
    "object_entities = jnp.full(max_objects, EntityType.OBJECT.value)\n",
    "entity_types = jnp.concatenate((agents_entities, object_entities), dtype=int)\n",
    "\n",
    "# Define arrays with existing entities\n",
    "exists_agents = jnp.concatenate((jnp.ones((existing_agents)), jnp.zeros((max_agents - existing_agents))))\n",
    "exists_objects = jnp.concatenate((jnp.ones((existing_objects)), jnp.zeros((max_objects - existing_objects))))\n",
    "exists = jnp.concatenate((exists_agents, exists_objects), dtype=int)\n",
    "\n",
    "entity_state = EntityState(\n",
    "    position=RigidBody(center=positions, orientation=orientations),\n",
    "    momentum=None,\n",
    "    force=RigidBody(center=jnp.zeros((n_entities, 2)), orientation=jnp.zeros(n_entities)),\n",
    "    mass=RigidBody(center=jnp.full((n_entities, 1), mass_center), orientation=jnp.full((n_entities), mass_orientation)),\n",
    "    entity_type=entity_types,\n",
    "    entity_idx = jnp.array(list(range(max_agents)) + list(range(max_objects))),\n",
    "    diameter=jnp.full((n_entities), diameter),\n",
    "    friction=jnp.full((n_entities), friction),\n",
    "    exists=exists\n",
    "    )"
   ]
  },
  {
   "cell_type": "code",
   "execution_count": 23,
   "metadata": {},
   "outputs": [],
   "source": [
    "from vivarium.simulator.states import State\n",
    "\n",
    "state = State(\n",
    "        simulator_state=simulator_state,\n",
    "        agent_state=agents_state,\n",
    "        object_state=objects_state,\n",
    "        entity_state=entity_state\n",
    "    )"
   ]
  },
  {
   "cell_type": "markdown",
   "metadata": {},
   "source": [
    "### Render a state\n",
    "\n",
    "Now that we have a state, it would be nice to render it. To do so, we use the following function. We also provide a way to render and interact with the state in real time (link the good notebooks) "
   ]
  },
  {
   "cell_type": "code",
   "execution_count": 24,
   "metadata": {},
   "outputs": [],
   "source": [
    "@vmap \n",
    "def normal(theta):\n",
    "    return jnp.array([jnp.cos(theta), jnp.sin(theta)])\n",
    "\n",
    "def render(entity_state):\n",
    "    plt.figure(figsize=(6, 6))\n",
    "    plt.xlim(0, box_size)\n",
    "    plt.xlim(0, box_size)\n",
    "\n",
    "    # Could replace this system to have agents and objects idx \n",
    "    agents_pos = entity_state.position.center[:max_agents]\n",
    "    agents_theta = entity_state.position.orientation[:max_agents]\n",
    "    agents_diameter = entity_state.diameter[:max_agents]\n",
    "    objects_pos = entity_state.position.center[max_agents:]\n",
    "    object_diameter = entity_state.diameter[max_agents:]\n",
    "\n",
    "    x_agents, y_agents = agents_pos[:, 0], agents_pos[:, 1]\n",
    "    x_objects, y_objects = objects_pos[:, 0], objects_pos[:, 1]\n",
    "    n = normal(agents_theta)\n",
    "\n",
    "    arrow_length = 3  # Length of the arrow\n",
    "    size_scale = 30  # I do this bc I don't rly understand how s works with matplotlib scatter\n",
    "    dx = arrow_length * n[:, 0]\n",
    "    dy = arrow_length *  n[:, 1]\n",
    "    plt.quiver(x_agents, y_agents, dx, dy, color='blue', scale=1, scale_units='xy', headwidth=0.8, angles='xy', width=0.01)\n",
    "    plt.scatter(x_agents, y_agents, color='blue', s=agents_diameter*size_scale, label='agents')\n",
    "    plt.scatter(x_objects, y_objects, color='red', s=object_diameter*size_scale, label='objects')\n",
    "\n",
    "    plt.title('State')\n",
    "    plt.xlabel('X Position')\n",
    "    plt.ylabel('Y Position')\n",
    "    plt.legend()\n",
    "\n",
    "    plt.show()"
   ]
  },
  {
   "cell_type": "code",
   "execution_count": 25,
   "metadata": {},
   "outputs": [
    {
     "data": {
      "image/png": "[encoded data removed]",
      "text/plain": [
       "<Figure size 600x600 with 1 Axes>"
      ]
     },
     "metadata": {},
     "output_type": "display_data"
    }
   ],
   "source": [
    "render(state.entity_state)"
   ]
  },
  {
   "cell_type": "markdown",
   "metadata": {},
   "source": [
    "### Wrap the state inside a simulator"
   ]
  },
  {
   "cell_type": "code",
   "execution_count": 26,
   "metadata": {},
   "outputs": [],
   "source": [
    "from vivarium.simulator import behaviors\n",
    "from vivarium.simulator.simulator import Simulator\n",
    "from vivarium.simulator.physics_engine import dynamics_rigid\n",
    "\n",
    "simulator = Simulator(state, behaviors.behavior_bank, dynamics_rigid)"
   ]
  },
  {
   "cell_type": "markdown",
   "metadata": {},
   "source": [
    "You can also init a state with a yaml config file like this : \n",
    "\n",
    "<div style=\"font-size: 85%;\">\n",
    "\n",
    "```python\n",
    "from vivarium.simulator.states import init_state\n",
    "\n",
    "@hydra.main(version_base=None, config_path=\"../conf\", config_name=\"config\")\n",
    "def main(cfg: DictConfig = None) -> None:\n",
    "\n",
    "    args = OmegaConf.merge(cfg.default, cfg.scene)\n",
    "    state = init_state(args)\n",
    "    simulator = Simulator(state, behaviors.behavior_bank, dynamics_rigid)\n",
    "```\n",
    "</div>"
   ]
  },
  {
   "cell_type": "markdown",
   "metadata": {},
   "source": [
    "### Run a simulation and save it"
   ]
  },
  {
   "cell_type": "code",
   "execution_count": 27,
   "metadata": {},
   "outputs": [],
   "source": [
    "num_steps = 1000"
   ]
  },
  {
   "cell_type": "code",
   "execution_count": 28,
   "metadata": {},
   "outputs": [],
   "source": [
    "state_history = []\n",
    "\n",
    "# Run the simulation for num_steps and save the entities state\n",
    "for _ in range(num_steps):\n",
    "    simulator.step()\n",
    "    state_history.append(simulator.state.entity_state)"
   ]
  },
  {
   "cell_type": "markdown",
   "metadata": {},
   "source": [
    "The code above is equivalent to the following lines of code (but it also saves the state history in a pickle file):"
   ]
  },
  {
   "cell_type": "code",
   "execution_count": 29,
   "metadata": {},
   "outputs": [
    {
     "name": "stderr",
     "output_type": "stream",
     "text": [
      "Already recording\n",
      "Recording not started yet.\n"
     ]
    }
   ],
   "source": [
    "saving_name=\"notebook_tutorial\"\n",
    "simulator.start_recording(saving_name)\n",
    "\n",
    "simulator.run(num_steps=num_steps, save=True, saving_name=saving_name)\n",
    "\n",
    "simulator.stop_recording()"
   ]
  },
  {
   "cell_type": "code",
   "execution_count": 30,
   "metadata": {},
   "outputs": [],
   "source": [
    "loaded_state_history = simulator.load(saving_name)"
   ]
  },
  {
   "cell_type": "markdown",
   "metadata": {},
   "source": [
    "### Render the evolution of the state"
   ]
  },
  {
   "cell_type": "code",
   "execution_count": 31,
   "metadata": {},
   "outputs": [],
   "source": [
    "from IPython.display import display, clear_output\n",
    "import time\n",
    "\n",
    "def render_evolution(state_history, pause=0.001, skip_frames=1):\n",
    "    fig, ax = plt.subplots(figsize=(6, 6))\n",
    "    ax.set_xlim(0, box_size)\n",
    "    ax.set_ylim(0, box_size)\n",
    "\n",
    "    for t in range(0, len(state_history), skip_frames):\n",
    "        entity_state = state_history[t]\n",
    "        agents_pos = entity_state.position.center[:max_agents]\n",
    "        agents_theta = entity_state.position.orientation[:max_agents]\n",
    "        agents_diameter = entity_state.diameter[:max_agents]\n",
    "        objects_pos = entity_state.position.center[max_agents:]\n",
    "        object_diameter = entity_state.diameter[max_agents:]\n",
    "\n",
    "        x_agents, y_agents = agents_pos[:, 0], agents_pos[:, 1]\n",
    "        x_objects, y_objects = objects_pos[:, 0], objects_pos[:, 1]\n",
    "        n = normal(agents_theta)\n",
    "\n",
    "        arrow_length = 3  \n",
    "        size_scale = 30 \n",
    "        dx = arrow_length * n[:, 0]\n",
    "        dy = arrow_length *  n[:, 1]\n",
    "\n",
    "        ax.clear()\n",
    "        ax.set_xlim(0, box_size)\n",
    "        ax.set_ylim(0, box_size)\n",
    "        \n",
    "        ax.quiver(x_agents, y_agents, dx, dy, color='blue', scale=1, scale_units='xy', headwidth=0.8, angles='xy', width=0.01)\n",
    "        ax.scatter(x_agents, y_agents, color='blue', s=agents_diameter*size_scale, label='agents')\n",
    "        ax.scatter(x_objects, y_objects, color='red', s=object_diameter*size_scale, label='objects')\n",
    "\n",
    "        ax.set_title(f'Timestep: {t+1}')\n",
    "        ax.set_xlabel('X Position')\n",
    "        ax.set_ylabel('Y Position')\n",
    "        ax.legend()\n",
    "        \n",
    "        display(fig)\n",
    "        clear_output(wait=True)\n",
    "        time.sleep(pause)\n",
    "\n",
    "    plt.close(fig)"
   ]
  },
  {
   "cell_type": "code",
   "execution_count": 32,
   "metadata": {},
   "outputs": [
    {
     "data": {
      "image/png": "[encoded data removed]",
      "text/plain": [
       "<Figure size 600x600 with 1 Axes>"
      ]
     },
     "metadata": {},
     "output_type": "display_data"
    }
   ],
   "source": [
    "\n",
    "# Here we concatenate the first part (saved with a list), then the second part (saved in the pickle file)\n",
    "whole_history = state_history + loaded_state_history\n",
    "skip_frames = 20 # Only plot the state every 20 steps\n",
    "\n",
    "render_evolution(whole_history, skip_frames=skip_frames)"
   ]
  },
  {
   "cell_type": "markdown",
   "metadata": {},
   "source": [
    "We can see that agents rush on every entity they have in their field of view ... \n",
    "\n",
    "--> This is because ... atm programmed with an aggressive behavior \n",
    "\n",
    "Lets see how to define custom behaviors ... \n",
    "\n",
    "--> Do you wanna define them directly based on the neighbor map ? Do we introduce neighbor map ... before ?\n",
    "\n"
   ]
  },
  {
   "cell_type": "code",
   "execution_count": 33,
   "metadata": {},
   "outputs": [],
   "source": [
    "# Code for custom behaviors ... "
   ]
  },
  {
   "cell_type": "markdown",
   "metadata": {},
   "source": [
    "### Refactor ideas\n",
    "\n",
    "--> Should also remove all the information about proximeters from physics engine (i.e physics engine only an util function to provide help for collisions ...). Think the best thing for an user would surely be to have a kind of file to define an environment (e.g EvoJax, JaxMARL) and import physics fn from physics engine (prox ... would be computed here, or user could define a different type of observation for tis agents). Can be wrapped within a simulator (doesn't wrap a state but an env that can step ...) Then in the simulator use run fns ... that call this step, save the simulation ...\n",
    "The idea behind this is that wanna do RL / neurevolution only needs a step method, not the whole simulator class (but it is way more convenient to use the interface).\n",
    "\n",
    "--> Also something more general about agents observation, in braitenberg case they are sensors (could be vision ... right ?) Then we could have agents that have an obs field and \n",
    "--> I think what would be interesting is having a field obs (like RL observation for agents, i.e the neighbor map the agents have). I think it is easier to rename it observation so it becomes pretty clear what is is about. "
   ]
  },
  {
   "cell_type": "markdown",
   "metadata": {},
   "source": []
  }
 ],
 "metadata": {
  "kernelspec": {
   "display_name": "venv",
   "language": "python",
   "name": "python3"
  },
  "language_info": {
   "codemirror_mode": {
    "name": "ipython",
    "version": 3
   },
   "file_extension": ".py",
   "mimetype": "text/x-python",
   "name": "python",
   "nbconvert_exporter": "python",
   "pygments_lexer": "ipython3",
   "version": "3.10.12"
  }
 },
 "nbformat": 4,
 "nbformat_minor": 2
}
