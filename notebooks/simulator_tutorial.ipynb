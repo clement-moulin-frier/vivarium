{
 "cells": [
  {
   "cell_type": "markdown",
   "metadata": {},
   "source": [
    "# TODO\n",
    "\n",
    "## Rly high level\n",
    "- Explain what is the simulator \n",
    "- What state inside\n",
    "- Details on each subpart of the state (sim, agents, entities)\n",
    "- How to instantiate a state ...\n",
    "- How to instantiate a simulator\n",
    "- How to run it ... \n",
    "\n",
    "## More low level ..\n",
    "- Focus more on details\n",
    "- Physics engine\n",
    "- How to create a simulation ... \n",
    "\n",
    "# Little example \n",
    "- Entities w different behaviors ... "
   ]
  },
  {
   "cell_type": "markdown",
   "metadata": {},
   "source": [
    "here we have a simulation w a state that evolves \n",
    "\n",
    "state composed of 4  elements :\n",
    "- simulator_state: (general informations on the simulator ...)\n",
    "- agent_state: some information about agents (mostly linked to braitenberg vehicles atm)\n",
    "- object_state: some information about objects (only color atm)\n",
    "- entity_state: information about agents and objects (pos, speeds, mass, ...) basically all physical parameters used in a physics simulation \n",
    "\n",
    "Atm we regroup all these physical parameters to make it easier to compute things in the physics simulation \n",
    "\n",
    "--> Should also remove all the information about proximeters from physics engine (i.e physics engine only an util function to provide help for collisions ...). Think the best thing for an user would be to have a kind of file to define an environment (e.g EvoJax, JaxMARL) and import physics fn from physics engine (prox ... would be computed here). Can be wrapped with simulator (doesn't wrap a state but an env that can step ...) Then in the simulator use run fns ... that call this step.\n",
    "\n",
    "--> Also something more general like obs for agents, in braitenberg case they are sensors (could be vision ... right ?)"
   ]
  },
  {
   "cell_type": "markdown",
   "metadata": {},
   "source": [
    "All parameters used in a simulation\n",
    "\n",
    "<div style=\"font-size: 80%;\">\n",
    "\n",
    "```yaml\n",
    "agents:\n",
    "  behavior: 1\n",
    "  color: blue\n",
    "  max_speed: 10.0\n",
    "  prox_cos_min: 0.0\n",
    "  prox_dist_max: 40.0\n",
    "  speed_mul: 1.0\n",
    "  theta_mul: 1.0\n",
    "  wheel_diameter: 2.0\n",
    "\n",
    "entities:\n",
    "  agents_positions: null\n",
    "  diameter: 5.0\n",
    "  existing_agents: null\n",
    "  existing_objects: null\n",
    "  friction: 0.1\n",
    "  mass_center: 1.0\n",
    "  mass_orientation: 0.125\n",
    "  objects_positions: null\n",
    "  seed: 0\n",
    "\n",
    "objects:\n",
    "  color: red\n",
    "\n",
    "simulator:\n",
    "  box_size: 100.0\n",
    "  collision_alpha: 0.5\n",
    "  collision_eps: 0.1\n",
    "  dt: 0.1\n",
    "  freq: 40.0\n",
    "  max_agents: 10\n",
    "  max_objects: 2\n",
    "  neighbor_radius: 100.0\n",
    "  num_steps_lax: 4\n",
    "  to_jit: true\n",
    "  use_fori_loop: false\n",
    "\n",
    "\n",
    "```\n",
    "\n",
    "</div>"
   ]
  },
  {
   "cell_type": "code",
   "execution_count": 1,
   "metadata": {},
   "outputs": [],
   "source": [
    "import jax.numpy as jnp\n",
    "from jax import random"
   ]
  },
  {
   "cell_type": "markdown",
   "metadata": {},
   "source": [
    "### Create simulator state\n",
    "\n",
    "contains general info abt the simulator, n objects and agents ... but also parameters abt simulation running (use jit or not, use fori_loop, num steps per update loop ...) parameters abt sim speed and update freq for interface (dt, freq), parameters abt physics of the environment (collision_alpha, collision_eps)"
   ]
  },
  {
   "cell_type": "code",
   "execution_count": 2,
   "metadata": {},
   "outputs": [
    {
     "name": "stderr",
     "output_type": "stream",
     "text": [
      "An NVIDIA GPU may be present on this machine, but a CUDA-enabled jaxlib is not installed. Falling back to cpu.\n"
     ]
    }
   ],
   "source": [
    "from vivarium.simulator.states import SimulatorState\n",
    "\n",
    "box_size = 100.\n",
    "max_agents = 10\n",
    "max_objects = 2\n",
    "num_steps_lax = 4\n",
    "dt = -1.\n",
    "freq = 40.\n",
    "neighbor_radius = 100.\n",
    "to_jit = True\n",
    "use_fori_loop = False\n",
    "collision_alpha = 0.5\n",
    "collision_eps = 0.1\n",
    "\n",
    "simulator_state = SimulatorState(\n",
    "    idx=jnp.array([0]),\n",
    "    box_size=jnp.array([box_size]),              \n",
    "    max_agents=jnp.array([max_agents]),\n",
    "    max_objects=jnp.array([max_objects]),\n",
    "    num_steps_lax=jnp.array([num_steps_lax], dtype=int),\n",
    "    dt=jnp.array([dt], dtype=float),\n",
    "    freq=jnp.array([freq], dtype=float),\n",
    "    neighbor_radius=jnp.array([neighbor_radius], dtype=float),\n",
    "    # Use 1*bool to transform True to 1 and False to 0\n",
    "    to_jit= jnp.array([1*to_jit]),\n",
    "    use_fori_loop=jnp.array([1*use_fori_loop]),\n",
    "    collision_alpha=jnp.array([collision_alpha]),\n",
    "    collision_eps=jnp.array([collision_eps]))"
   ]
  },
  {
   "cell_type": "markdown",
   "metadata": {},
   "source": [
    "### Create agents state\n",
    "\n",
    "All information about the agents that are not shared by other entities  (not exactly with color)\n",
    " \n",
    "Should maybe put entities state first ? "
   ]
  },
  {
   "cell_type": "code",
   "execution_count": 3,
   "metadata": {},
   "outputs": [],
   "source": [
    "from vivarium.simulator.states import AgentState\n",
    "\n",
    "max_agents = 10\n",
    "behavior = 1\n",
    "wheel_diameter = 2.\n",
    "speed_mul = 1.\n",
    "max_speed = 10.\n",
    "theta_mul = 1.\n",
    "prox_dist_max = 40.\n",
    "prox_cos_min = 0.\n",
    "agents_color = jnp.array([0., 0., 1.])\n",
    "\n",
    "agents_state = AgentState(\n",
    "    nve_idx=jnp.arange(max_agents, dtype=int),\n",
    "    prox=jnp.zeros((max_agents, 2)),\n",
    "    motor=jnp.zeros((max_agents, 2)),\n",
    "    behavior=jnp.full((max_agents), behavior),\n",
    "    wheel_diameter=jnp.full((max_agents), wheel_diameter),\n",
    "    speed_mul=jnp.full((max_agents), speed_mul),\n",
    "    max_speed=jnp.full((max_agents), max_speed),\n",
    "    theta_mul=jnp.full((max_agents), theta_mul),\n",
    "    proxs_dist_max=jnp.full((max_agents), prox_dist_max),\n",
    "    proxs_cos_min=jnp.full((max_agents), prox_cos_min),\n",
    "    color=jnp.tile(agents_color, (max_agents, 1))\n",
    "    )"
   ]
  },
  {
   "cell_type": "markdown",
   "metadata": {},
   "source": [
    "### Create objects state\n",
    "\n",
    "same for objects"
   ]
  },
  {
   "cell_type": "code",
   "execution_count": 4,
   "metadata": {},
   "outputs": [],
   "source": [
    "from vivarium.simulator.states import ObjectState\n",
    "\n",
    "max_objects = 2\n",
    "objects_color = jnp.array([1., 0., 0.])\n",
    "\n",
    "start_idx, stop_idx = max_agents, max_agents + max_objects\n",
    "objects_nve_idx = jnp.arange(start_idx, stop_idx, dtype=int)\n",
    "\n",
    "objects_state = ObjectState(\n",
    "    nve_idx=objects_nve_idx,\n",
    "    color=jnp.tile(objects_color, (max_objects, 1))\n",
    ")"
   ]
  },
  {
   "cell_type": "markdown",
   "metadata": {},
   "source": [
    "### Create entities state\n",
    "\n",
    "contains all physical parameters (position, mass, momentum, friction ... about )"
   ]
  },
  {
   "cell_type": "code",
   "execution_count": 5,
   "metadata": {},
   "outputs": [],
   "source": [
    "from vivarium.simulator.states import EntityState, EntityType\n",
    "from jax_md.rigid_body import RigidBody\n",
    "\n",
    "n_dims = 2 # 2D world\n",
    "diameter = 5.\n",
    "friction = 0.1\n",
    "mass_center = 1.\n",
    "mass_orientation = 0.125\n",
    "existing_agents = 5\n",
    "existing_objects = 1\n",
    "seed = 0\n",
    "\n",
    "n_entities = max_agents + max_objects\n",
    "\n",
    "key = random.PRNGKey(seed)\n",
    "key, key_agents_pos, key_objects_pos, key_orientations = random.split(key, 4)\n",
    "\n",
    "# Assign random positions to each entities\n",
    "agents_positions = positions = random.uniform(key_agents_pos, (max_agents, n_dims)) * box_size\n",
    "objects_positions = positions = random.uniform(key_objects_pos, (max_objects, n_dims)) * box_size\n",
    "positions = jnp.concatenate((agents_positions, objects_positions))\n",
    "\n",
    "# Assign random orientations between 0 and 2*pi\n",
    "orientations = random.uniform(key_orientations, (n_entities,)) * 2 * jnp.pi\n",
    "\n",
    "# Assign types to the entities\n",
    "agents_entities = jnp.full(max_agents, EntityType.AGENT.value)\n",
    "object_entities = jnp.full(max_objects, EntityType.OBJECT.value)\n",
    "entity_types = jnp.concatenate((agents_entities, object_entities), dtype=int)\n",
    "\n",
    "# Define arrays with existing entities\n",
    "exists_agents = jnp.concatenate((jnp.ones((existing_agents)), jnp.zeros((max_agents - existing_agents))))\n",
    "exists_objects = jnp.concatenate((jnp.ones((existing_objects)), jnp.zeros((max_objects - existing_objects))))\n",
    "exists = jnp.concatenate((exists_agents, exists_objects), dtype=int)\n",
    "\n",
    "entity_state = EntityState(\n",
    "    position=RigidBody(center=positions, orientation=orientations),\n",
    "    momentum=None,\n",
    "    force=RigidBody(center=jnp.zeros((n_entities, 2)), orientation=jnp.zeros(n_entities)),\n",
    "    mass=RigidBody(center=jnp.full((n_entities, 1), mass_center), orientation=jnp.full((n_entities), mass_orientation)),\n",
    "    entity_type=entity_types,\n",
    "    entity_idx = jnp.array(list(range(max_agents)) + list(range(max_objects))),\n",
    "    diameter=jnp.full((n_entities), diameter),\n",
    "    friction=jnp.full((n_entities), friction),\n",
    "    exists=exists\n",
    "    )\n"
   ]
  },
  {
   "cell_type": "code",
   "execution_count": 6,
   "metadata": {},
   "outputs": [],
   "source": [
    "\n",
    "from vivarium.simulator.states import State\n",
    "\n",
    "state = State(\n",
    "        simulator_state=simulator_state,\n",
    "        agent_state=agents_state,\n",
    "        object_state=objects_state,\n",
    "        entity_state=entity_state\n",
    "    )"
   ]
  },
  {
   "cell_type": "code",
   "execution_count": 7,
   "metadata": {},
   "outputs": [
    {
     "data": {
      "image/png": "[encoded data removed]",
      "text/plain": [
       "<Figure size 600x600 with 1 Axes>"
      ]
     },
     "metadata": {},
     "output_type": "display_data"
    }
   ],
   "source": [
    "from jax import vmap\n",
    "import matplotlib.pyplot as plt \n",
    "\n",
    "@vmap \n",
    "def normal(theta):\n",
    "    return jnp.array([jnp.cos(theta), jnp.sin(theta)])\n",
    "\n",
    "def render(entity_state):\n",
    "    plt.figure(figsize=(6, 6))\n",
    "    plt.xlim(0, box_size)\n",
    "    plt.xlim(0, box_size)\n",
    "\n",
    "    # Could replace this system to have agents and objects idx \n",
    "    agents_pos = entity_state.position.center[:max_agents]\n",
    "    agents_theta = entity_state.position.orientation[:max_agents]\n",
    "    agents_diameter = entity_state.diameter[:max_agents]\n",
    "    objects_pos = entity_state.position.center[max_agents:]\n",
    "    object_diameter = entity_state.diameter[max_agents:]\n",
    "\n",
    "    x_agents, y_agents = agents_pos[:, 0], agents_pos[:, 1]\n",
    "    x_objects, y_objects = objects_pos[:, 0], objects_pos[:, 1]\n",
    "    n = normal(agents_theta)\n",
    "\n",
    "    arrow_length = 3  # Length of the arrow\n",
    "    size_scale = 30  # I do this bc I don't rly understand how s works with matplotlib scatter\n",
    "    dx = arrow_length * n[:, 0]\n",
    "    dy = arrow_length *  n[:, 1]\n",
    "    plt.quiver(x_agents, y_agents, dx, dy, color='blue', scale=1, scale_units='xy', headwidth=0.8, angles='xy', width=0.01)\n",
    "    plt.scatter(x_agents, y_agents, color='blue', s=agents_diameter*size_scale, label='agents')\n",
    "    plt.scatter(x_objects, y_objects, color='red', s=object_diameter*size_scale, label='objects')\n",
    "\n",
    "    plt.title('State')\n",
    "    plt.xlabel('X Position')\n",
    "    plt.ylabel('Y Position')\n",
    "    plt.legend()\n",
    "\n",
    "    plt.show()\n",
    "\n",
    "render(state.entity_state)"
   ]
  },
  {
   "cell_type": "markdown",
   "metadata": {},
   "source": [
    "### Wrap the state inside a simulator"
   ]
  },
  {
   "cell_type": "code",
   "execution_count": 8,
   "metadata": {},
   "outputs": [],
   "source": [
    "from vivarium.simulator import behaviors\n",
    "from vivarium.simulator.simulator import Simulator\n",
    "from vivarium.simulator.physics_engine import dynamics_rigid\n",
    "\n",
    "simulator = Simulator(state, behaviors.behavior_bank, dynamics_rigid)"
   ]
  },
  {
   "cell_type": "markdown",
   "metadata": {},
   "source": [
    "You can also init a state with a yaml config file like this : \n",
    "\n",
    "<div style=\"font-size: 85%;\">\n",
    "\n",
    "```python\n",
    "from vivarium.simulator.states import init_state\n",
    "\n",
    "@hydra.main(version_base=None, config_path=\"../conf\", config_name=\"config\")\n",
    "def main(cfg: DictConfig = None) -> None:\n",
    "\n",
    "    args = OmegaConf.merge(cfg.default, cfg.scene)\n",
    "    state = init_state(args)\n",
    "    simulator = Simulator(state, behaviors.behavior_bank, dynamics_rigid)\n",
    "```\n",
    "</div>"
   ]
  },
  {
   "cell_type": "code",
   "execution_count": 10,
   "metadata": {},
   "outputs": [],
   "source": [
    "num_steps = 100\n",
    "simulator.run(num_steps=num_steps, save=True)\n",
    "state = simulator.state\n",
    "# render(state)"
   ]
  },
  {
   "cell_type": "code",
   "execution_count": null,
   "metadata": {},
   "outputs": [
    {
     "name": "stdout",
     "output_type": "stream",
     "text": [
      "SimulatorState(idx=Array([0], dtype=int32), box_size=Array([100.], dtype=float32), max_agents=Array([10], dtype=int32), max_objects=Array([2], dtype=int32), num_steps_lax=Array([4], dtype=int32), dt=Array([-1.], dtype=float32), freq=Array([40.], dtype=float32), neighbor_radius=Array([100.], dtype=float32), to_jit=Array([1], dtype=int32), use_fori_loop=Array([0], dtype=int32), collision_alpha=Array([0.5], dtype=float32), collision_eps=Array([0.1], dtype=float32))\n"
     ]
    }
   ],
   "source": [
    "print(state.simulator_state)"
   ]
  },
  {
   "cell_type": "code",
   "execution_count": null,
   "metadata": {},
   "outputs": [
    {
     "data": {
      "image/png": "[encoded data removed]",
      "text/plain": [
       "<Figure size 600x600 with 1 Axes>"
      ]
     },
     "metadata": {},
     "output_type": "display_data"
    }
   ],
   "source": [
    "num_steps = 1000\n",
    "simulator.run(num_steps=num_steps)\n",
    "state = simulator.state\n",
    "render(state)"
   ]
  },
  {
   "cell_type": "code",
   "execution_count": null,
   "metadata": {},
   "outputs": [],
   "source": []
  }
 ],
 "metadata": {
  "kernelspec": {
   "display_name": "venv",
   "language": "python",
   "name": "python3"
  },
  "language_info": {
   "codemirror_mode": {
    "name": "ipython",
    "version": 3
   },
   "file_extension": ".py",
   "mimetype": "text/x-python",
   "name": "python",
   "nbconvert_exporter": "python",
   "pygments_lexer": "ipython3",
   "version": "3.10.12"
  }
 },
 "nbformat": 4,
 "nbformat_minor": 2
}
