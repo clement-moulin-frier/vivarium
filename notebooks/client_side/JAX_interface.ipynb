{
 "cells": [
  {
   "cell_type": "code",
   "execution_count": 1,
   "id": "fd5985e3-bf75-4596-8c1d-7e2c979e7758",
   "metadata": {},
   "outputs": [
    {
     "name": "stdout",
     "output_type": "stream",
     "text": [
      "{'FEAR': 0, 'AGGRESSION': 1, 'LOVE': 2, 'SHY': 3, 'manual': 4, 'noop': 5}\n"
     ]
    }
   ],
   "source": [
    "import jax\n",
    "from jax import jit, lax\n",
    "\n",
    "from jax_md import space, partition\n",
    "\n",
    "from vivarium.simulator.sim_computation import dynamics_rigid\n",
    "from vivarium.simulator.behaviors import behavior_bank\n",
    "\n",
    "\n",
    "box_size = 100.\n",
    "neighbor_radius = 100.\n",
    "\n",
    "dynamics_fn = dynamics_rigid\n",
    "displacement, shift = space.periodic(side=box_size)\n",
    "init_fn, step_fn = dynamics_fn(displacement, shift, map_dim=2, dt=0.1, behavior_bank=behavior_bank)\n",
    "\n",
    "neighbor_fn = partition.neighbor_list(displacement, box_size,\n",
    "                                      r_cutoff=neighbor_radius,\n",
    "                                      dr_threshold=10.,\n",
    "                                      capacity_multiplier=1.5,\n",
    "                                      format=partition.Sparse)\n",
    "\n",
    "@jit\n",
    "def update_fn(_, state_and_neighbors):\n",
    "    state, neighs = state_and_neighbors\n",
    "    neighs = neighs.update(state.position.center)\n",
    "    return (step_fn(state=state, neighbor=neighs),\n",
    "            neighs)\n",
    "\n"
   ]
  },
  {
   "cell_type": "code",
   "execution_count": 2,
   "id": "630e86b9-db57-4e91-8796-4ebf7c4ffec0",
   "metadata": {},
   "outputs": [],
   "source": [
    "import jax.numpy as jnp\n",
    "from jax_md.rigid_body import RigidBody\n",
    "\n",
    "# initial state, considering 2 agents\n",
    "init_state_kwargs = {'idx': jnp.array([0, 1]),  # indexes of the agent\n",
    "                     'position': RigidBody(center=jnp.array([[75.83518, 94.59901], [71.06458, 86.82656]]),  # initial positions\n",
    "                                           orientation=jnp.array([4.8367124, 4.5396805])),  # initial orientations\n",
    "                     'mass': RigidBody(center=jnp.array([1., 1.]),  # mass\n",
    "                                       orientation=jnp.array([0.125, 0.125])),  # moment of inertia\n",
    "                     'prox': jnp.array([[0., 0.], [0., 0.]]),  # initial proximeter values\n",
    "                     'motor': jnp.array([[0., 0.], [0., 0.]]),  # initial motor values\n",
    "                     'behavior': jnp.array([1, 1]),  # initial behavior. For the available behaviors (and where to implement your owns): from vivarium.simulator.behaviors import behavior_name_map\n",
    "                     'wheel_diameter': jnp.array([2., 2.]),  # agent wheel diameter\n",
    "                     'base_length': jnp.array([5., 5.]),  # agent base diameter\n",
    "                     'speed_mul': jnp.array([0.1, 0.1]),  # unused for now\n",
    "                     'theta_mul': jnp.array([0.1, 0.1]),  # unused for now\n",
    "                     'proxs_dist_max': jnp.array([100., 100.]), # max sensing distance of proximeters\n",
    "                     'proxs_cos_min': jnp.array([0., 0.]),  # max angle cosinus od proximeter (0.0 means it can only sense object between + or - pi/2)\n",
    "                     'color': jnp.array([[0., 0., 1.], [0., 0., 1.]]),  #  RGB color (only used for rendering for now)\n",
    "                     'entity_type': jnp.array([0, 0])   # to distinguish different categories of entities, unused for now (they are all agents)\n",
    "                    }\n",
    "\n",
    "key = jax.random.PRNGKey(0)\n",
    "state = init_fn(key, **init_state_kwargs)\n",
    "\n",
    "neighbors = neighbor_fn.allocate(state.position.center)"
   ]
  },
  {
   "cell_type": "code",
   "execution_count": 3,
   "id": "a3c41c5d-5bde-4774-86a8-91a6476ca4e1",
   "metadata": {},
   "outputs": [
    {
     "name": "stdout",
     "output_type": "stream",
     "text": [
      "NVEState(position=RigidBody(center=Array([[75.83518, 94.59901],\n",
      "       [71.06458, 86.82656]], dtype=float32), orientation=Array([4.8367124, 4.5396805], dtype=float32)), momentum=RigidBody(center=Array([[0., 0.],\n",
      "       [0., 0.]], dtype=float32), orientation=Array([ 0., -0.], dtype=float32)), force=RigidBody(center=Array([[0., 0.],\n",
      "       [0., 0.]], dtype=float32), orientation=Array([0., 0.], dtype=float32)), mass=RigidBody(center=Array([[1.],\n",
      "       [1.]], dtype=float32), orientation=Array([0.125, 0.125], dtype=float32)), idx=Array([0, 1], dtype=int32), prox=Array([[0., 0.],\n",
      "       [0., 0.]], dtype=float32), motor=Array([[0., 0.],\n",
      "       [0., 0.]], dtype=float32), behavior=Array([1, 1], dtype=int32), wheel_diameter=Array([2., 2.], dtype=float32), base_length=Array([5., 5.], dtype=float32), speed_mul=Array([0.1, 0.1], dtype=float32), theta_mul=Array([0.1, 0.1], dtype=float32), proxs_dist_max=Array([100., 100.], dtype=float32), proxs_cos_min=Array([0., 0.], dtype=float32), color=Array([[0., 0., 1.],\n",
      "       [0., 0., 1.]], dtype=float32), entity_type=Array([0, 0], dtype=int32))\n"
     ]
    }
   ],
   "source": [
    "print(state)"
   ]
  },
  {
   "cell_type": "code",
   "execution_count": 4,
   "id": "19a79dad-fdee-48ed-963a-a926a280b472",
   "metadata": {},
   "outputs": [],
   "source": [
    "step_per_lax = 100\n",
    "\n",
    "for _ in range(1000):\n",
    "    new_state = state\n",
    "    new_state, neighbors = lax.fori_loop(0, step_per_lax, update_fn, (new_state, neighbors))\n",
    "\n",
    "    # If the neighbor list can't fit in the allocation, rebuild it but bigger.\n",
    "    if neighbors.did_buffer_overflow:\n",
    "        print('REBUILDING')\n",
    "        neighbors = neighbor_fn.allocate(new_state.position.center)\n",
    "        new_state, neighbors = lax.fori_loop(0, step_per_lax, update_fn, (state, neighbors))\n",
    "\n",
    "        assert not neighbors.did_buffer_overflow\n",
    "        \n",
    "    state = new_state\n",
    "    neighbors = neighbors"
   ]
  },
  {
   "cell_type": "code",
   "execution_count": 5,
   "id": "f069f54a-16a5-4c59-9fe5-cb852efe463a",
   "metadata": {},
   "outputs": [
    {
     "name": "stdout",
     "output_type": "stream",
     "text": [
      "NVEState(position=RigidBody(center=Array([[47.09005 , 84.10769 ],\n",
      "       [49.025436, 81.99092 ]], dtype=float32), orientation=Array([5.4292183, 8.622202 ], dtype=float32)), momentum=RigidBody(center=Array([[-0.00117491, -0.00106411],\n",
      "       [-0.00038874, -0.00035334]], dtype=float32), orientation=Array([ 0.00193335, -0.00053703], dtype=float32)), force=RigidBody(center=Array([[-0.00080221, -0.00072303],\n",
      "       [-0.00096553, -0.00089671]], dtype=float32), orientation=Array([ 0.00180245, -0.00191506], dtype=float32)), mass=RigidBody(center=Array([[1.],\n",
      "       [1.]], dtype=float32), orientation=Array([0.125, 0.125], dtype=float32)), idx=Array([0, 1], dtype=int32), prox=Array([[0.9713183, 0.       ],\n",
      "       [0.       , 0.9713183]], dtype=float32), motor=Array([[0.       , 0.9713183],\n",
      "       [0.9713183, 0.       ]], dtype=float32), behavior=Array([1, 1], dtype=int32), wheel_diameter=Array([2., 2.], dtype=float32), base_length=Array([5., 5.], dtype=float32), speed_mul=Array([0.1, 0.1], dtype=float32), theta_mul=Array([0.1, 0.1], dtype=float32), proxs_dist_max=Array([100., 100.], dtype=float32), proxs_cos_min=Array([0., 0.], dtype=float32), color=Array([[0., 0., 1.],\n",
      "       [0., 0., 1.]], dtype=float32), entity_type=Array([0, 0], dtype=int32))\n"
     ]
    }
   ],
   "source": [
    "print(state)"
   ]
  },
  {
   "cell_type": "code",
   "execution_count": 77,
   "id": "79e77f9f-a4c6-40c6-9a9c-fcb4d6ddd96e",
   "metadata": {},
   "outputs": [
    {
     "data": {
      "text/plain": [
       "{'FEAR': 0, 'AGGRESSION': 1, 'LOVE': 2, 'SHY': 3, 'manual': 4, 'noop': 5}"
      ]
     },
     "execution_count": 77,
     "metadata": {},
     "output_type": "execute_result"
    }
   ],
   "source": [
    "from vivarium.simulator.behaviors import behavior_name_map\n",
    "behavior_name_map"
   ]
  },
  {
   "cell_type": "code",
   "execution_count": null,
   "id": "03180462-00a3-4d05-bd0a-1b1b609e708f",
   "metadata": {},
   "outputs": [],
   "source": []
  }
 ],
 "metadata": {
  "kernelspec": {
   "display_name": "Python 3 (ipykernel)",
   "language": "python",
   "name": "python3"
  },
  "language_info": {
   "codemirror_mode": {
    "name": "ipython",
    "version": 3
   },
   "file_extension": ".py",
   "mimetype": "text/x-python",
   "name": "python",
   "nbconvert_exporter": "python",
   "pygments_lexer": "ipython3",
   "version": "3.9.16"
  }
 },
 "nbformat": 4,
 "nbformat_minor": 5
}
