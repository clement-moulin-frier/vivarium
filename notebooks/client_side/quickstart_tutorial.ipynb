{
 "cells": [
  {
   "cell_type": "markdown",
   "id": "5ebe810c-58f6-4c3e-8e03-7eb2736cb2ec",
   "metadata": {},
   "source": [
    "# Quickstart tutorial: Enter the _Vivarium_\n",
    "\n",
    "First follow the installations instruction in the README of the repository. If everything works correctly, you should have launched the web interface."
   ]
  },
  {
   "cell_type": "markdown",
   "id": "bc1012ea-93de-434a-a728-47ecb99c07ad",
   "metadata": {},
   "source": [
    "## Introduction to the web interface\n",
    "\n",
    "For the web interface tutorial, please refer to [this file.](web_interface_tutorial.md)"
   ]
  },
  {
   "cell_type": "markdown",
   "id": "bc8fee1e-69b6-4377-839e-bbeedc32db4a",
   "metadata": {},
   "source": [
    "## Controlling the simulator programmatically\n",
    "\n",
    "Instead of controlling the simulator from the web interface, you can also control it programmatically, e.g. directly from this Jupyter notebook. First make sure that the simulator is stopped in the web interface. Then execute:"
   ]
  },
  {
   "cell_type": "code",
   "execution_count": 1,
   "id": "5ea5cd8d-ff93-4bd4-9756-03c930a861ea",
   "metadata": {
    "tags": []
   },
   "outputs": [
    {
     "name": "stderr",
     "output_type": "stream",
     "text": [
      "An NVIDIA GPU may be present on this machine, but a CUDA-enabled jaxlib is not installed. Falling back to cpu.\n"
     ]
    }
   ],
   "source": [
    "from vivarium.controllers.notebook_controller import NotebookController\n",
    "controller = NotebookController()"
   ]
  },
  {
   "cell_type": "markdown",
   "id": "99074eda-7734-44b6-835d-beb844600b33",
   "metadata": {},
   "source": [
    "The newly created `controller` object provides all the functionalities to easily interact with the simulator server. Let's look for example at the agents present in the environment:"
   ]
  },
  {
   "cell_type": "code",
   "execution_count": 2,
   "id": "15b13aa0-f6fa-4767-9f4e-8789e9e9827c",
   "metadata": {
    "tags": []
   },
   "outputs": [
    {
     "data": {
      "text/plain": [
       "[<vivarium.controllers.notebook_controller.Agent at 0x75e408d08190>,\n",
       " <vivarium.controllers.notebook_controller.Agent at 0x75e408d37fd0>,\n",
       " <vivarium.controllers.notebook_controller.Agent at 0x75e408d6e530>,\n",
       " <vivarium.controllers.notebook_controller.Agent at 0x75e408d6f700>,\n",
       " <vivarium.controllers.notebook_controller.Agent at 0x75e408d6e560>,\n",
       " <vivarium.controllers.notebook_controller.Agent at 0x75e408d6f760>,\n",
       " <vivarium.controllers.notebook_controller.Agent at 0x75e408d6f7c0>,\n",
       " <vivarium.controllers.notebook_controller.Agent at 0x75e408d6f820>,\n",
       " <vivarium.controllers.notebook_controller.Agent at 0x75e408d6f880>,\n",
       " <vivarium.controllers.notebook_controller.Agent at 0x75e408d6f8e0>]"
      ]
     },
     "execution_count": 2,
     "metadata": {},
     "output_type": "execute_result"
    }
   ],
   "source": [
    "controller.agents"
   ]
  },
  {
   "cell_type": "markdown",
   "id": "59bffcb1-df5e-4aab-a11f-ad7d952e702f",
   "metadata": {},
   "source": [
    "This is a list of `Agent` objects, one per agent in the environment. Let's for example access the configuration of the first agent in this list and look at its attribute using the Python `.__dict__` syntax:"
   ]
  },
  {
   "cell_type": "code",
   "execution_count": 3,
   "id": "2d7886eb-c7dd-4e54-924b-48c85c5fe3bd",
   "metadata": {
    "tags": []
   },
   "outputs": [
    {
     "data": {
      "text/plain": [
       "{'config': AgentConfig(behavior=array([5, 5]), color='#0000ff', diameter=5.0, ent_sensedtype=0, exists=True, friction=0.10000000149011612, idx=0, left_motor=0.5, left_prox=0.0, mass_center=1.0, mass_orientation=0.125, max_speed=10.0, name='AgentConfig00004', orientation=0.7409666180610657, params=array([[[-1.,  0.,  1.],\n",
       "         [ 0., -1.,  1.]],\n",
       " \n",
       "        [[ 1.,  0.,  0.],\n",
       "         [ 0.,  1.,  0.]]]), proximity_map_dist=array([ 0.        , 22.60018158, 38.96023941, 46.96992111, 53.13747406,\n",
       "        57.41152191, 66.15736389, 13.83346939, 46.45539093, 56.80420685,\n",
       "        46.81237793, 42.1365509 , 59.24790192, 25.2713623 , 48.95448303,\n",
       "        58.85480499, 19.56998062, 56.59965515, 45.70919418, 34.97370148]), proximity_map_theta=array([ 0.        , -2.26088333, -2.57543445, -2.61952662, -1.2133019 ,\n",
       "        -1.75308871,  1.57839966, -3.24084425,  1.0266974 , -3.25050664,\n",
       "        -0.48111835, -2.70793176, -1.38904524, -1.38791978, -2.30412626,\n",
       "         1.43002391, -2.99895096, -1.6963346 , -2.87438679, -1.71828485]), proxs_cos_min=0.0, proxs_dist_max=40.0, right_motor=0.3158920407295227, right_prox=0.3682159185409546, sensed=array([[1., 0., 1., 0.],\n",
       "        [0., 1., 0., 1.]]), speed_mul=1.0, theta_mul=1.0, wheel_diameter=2.0, x_position=3.7775940895080566, y_position=9.2919921875),\n",
       " '_routines': {},\n",
       " 'etype': <EntityType.AGENT: 0>,\n",
       " 'behaviors': {}}"
      ]
     },
     "execution_count": 3,
     "metadata": {},
     "output_type": "execute_result"
    }
   ],
   "source": [
    "controller.agents[0].__dict__"
   ]
  },
  {
   "cell_type": "markdown",
   "id": "cf117751-c71e-4a45-9c25-0c4b013464b9",
   "metadata": {},
   "source": [
    "We see the value of different attributes of the agent, for example its position, diameter or color. Let's make the first agent larger by increasing its `diameter` attribute:"
   ]
  },
  {
   "cell_type": "code",
   "execution_count": 4,
   "id": "8f804102-4c3b-489d-9844-9b16cee638b7",
   "metadata": {
    "tags": []
   },
   "outputs": [],
   "source": [
    "controller.agents[0].diameter = 10."
   ]
  },
  {
   "cell_type": "markdown",
   "id": "2ff602fe-fcc2-455b-b3cd-7571a5ca7226",
   "metadata": {},
   "source": [
    "If you now look at the web interface, you should see that one of the agent is now twice larger than the others. All changes made in this notebook will be automatically visible in the web interface, and vice versa. One can for example also change the color of an agent, let's do it on the third agent in the list now (i.e. the agent with index 2):"
   ]
  },
  {
   "cell_type": "code",
   "execution_count": 5,
   "id": "2b2dbb14-c8b0-41af-aea9-8a2b6036615e",
   "metadata": {
    "tags": []
   },
   "outputs": [],
   "source": [
    "controller.agents[2].color = 'yellow'"
   ]
  },
  {
   "cell_type": "markdown",
   "id": "330833ae-e938-4c68-9952-9ce4e4be2f7a",
   "metadata": {
    "tags": []
   },
   "source": [
    "The same principles apply to objects, which are accessible through `controller.objects`."
   ]
  },
  {
   "cell_type": "markdown",
   "id": "49a4dcb8-0d43-4f58-ba2d-0672fec18a14",
   "metadata": {},
   "source": [
    "### Defining agent's behaviors\n",
    "\n",
    "We can define the behavior of an agent as a Python function taking as argument an `Agent` and returning the values of the left and right motors, in this order. Within the body of the function, one can access all the agents attribute. Usually, defining a behavior requires to access the value of the agent sensors. This done through the `agent.left_prox` and `agent.right_prox` attributes, that return the value of the left and right sensors, respectively."
   ]
  },
  {
   "cell_type": "markdown",
   "id": "05bcfdcd-8a36-48b2-920d-892484c94137",
   "metadata": {},
   "source": [
    "Let's define four behaviors, here corresponding to the four canonical behaviors of [Braitenberg Vehicles](https://en.wikipedia.org/wiki/Braitenberg_vehicle):"
   ]
  },
  {
   "cell_type": "code",
   "execution_count": 6,
   "id": "d8b9d8d1-ab0d-4e15-b1a1-f812c1895c34",
   "metadata": {
    "tags": []
   },
   "outputs": [],
   "source": [
    "def aggression(agent):\n",
    "    return agent.right_prox, agent.left_prox\n",
    "\n",
    "def fear(agent):\n",
    "    return agent.left_prox, agent.right_prox\n",
    "\n",
    "def love(agent):\n",
    "    return 1. - agent.left_prox, 1. - agent.right_prox\n",
    "\n",
    "def shy(agent):\n",
    "    return 1. - agent.right_prox, 1. - agent.left_prox"
   ]
  },
  {
   "cell_type": "markdown",
   "id": "485ed1e7-10ea-4405-951c-07fcda5a3d3e",
   "metadata": {},
   "source": [
    "The code above only declares the behaviors, now we need to attach them to the agents in the simulator. Let's attach the `shy` behavior to the first five agents and set their color to blue ; and the `aggression` behavior to the four last agents and set their color to red:"
   ]
  },
  {
   "cell_type": "code",
   "execution_count": 7,
   "id": "3d2a8fe1-4dac-49f0-82b9-54d9f161347b",
   "metadata": {
    "tags": []
   },
   "outputs": [],
   "source": [
    "for ag in controller.agents[:5]:\n",
    "    ag.color = 'blue'\n",
    "    ag.detach_all_behaviors()\n",
    "    ag.attach_behavior(shy)\n",
    "for ag in controller.agents[5:]:\n",
    "    ag.color = 'red'\n",
    "    ag.detach_all_behaviors()\n",
    "    ag.attach_behavior(aggression)"
   ]
  },
  {
   "cell_type": "markdown",
   "id": "745e670e-e9a5-49a8-b54d-7a3dba326e04",
   "metadata": {},
   "source": [
    "All agents are now equipped with a behavior. We can launch the simulation with the code below ; then stop it with the code on the next line."
   ]
  },
  {
   "cell_type": "code",
   "execution_count": 8,
   "id": "0254859c-f703-4be5-94dd-2d9b03ad7662",
   "metadata": {
    "tags": []
   },
   "outputs": [],
   "source": [
    "controller.run(threaded=True)"
   ]
  },
  {
   "cell_type": "code",
   "execution_count": 9,
   "id": "2c5b93c4-2bc8-4705-a805-7f07c9959020",
   "metadata": {
    "tags": []
   },
   "outputs": [],
   "source": [
    "controller.stop()"
   ]
  }
 ],
 "metadata": {
  "kernelspec": {
   "display_name": "Python 3 (ipykernel)",
   "language": "python",
   "name": "python3"
  },
  "language_info": {
   "codemirror_mode": {
    "name": "ipython",
    "version": 3
   },
   "file_extension": ".py",
   "mimetype": "text/x-python",
   "name": "python",
   "nbconvert_exporter": "python",
   "pygments_lexer": "ipython3",
   "version": "3.10.12"
  }
 },
 "nbformat": 4,
 "nbformat_minor": 5
}
