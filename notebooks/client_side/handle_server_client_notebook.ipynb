{
 "cells": [
  {
   "cell_type": "markdown",
   "id": "5ebe810c-58f6-4c3e-8e03-7eb2736cb2ec",
   "metadata": {},
   "source": [
    "# Quickstart tutorial: Enter the _Vivarium_\n",
    "\n",
    "First follow the installations instruction in the README of the repository. If everything works correctly, you should have launched the web interface."
   ]
  },
  {
   "cell_type": "markdown",
   "id": "bc1012ea-93de-434a-a728-47ecb99c07ad",
   "metadata": {},
   "source": [
    "## Introduction to the web interface\n",
    "\n",
    "For the web interface tutorial, please refer to [this file.](web_interface_tutorial.md)"
   ]
  },
  {
   "cell_type": "markdown",
   "id": "667932c1",
   "metadata": {},
   "source": [
    "## Controlling the simulator programmatically\n",
    "\n",
    "Instead of controlling the simulator from the web interface, you can also control it programmatically, e.g. directly from this Jupyter notebook. First, make sure the simulator is not running using the web interface (use the **Start/Stop server** button)."
   ]
  },
  {
   "cell_type": "markdown",
   "id": "083f5a2d",
   "metadata": {},
   "source": [
    "We will use the Python language to control the simulator, a widely-used programming language which has the advantage to be easy to learn, with modern interactive programming tools. The document you are currently reading is a Jupyter Notebook, which is a web-based interface to the Python interpreter. This means that this document is interactive. Try for example to execute the code below by clicking on it and pressing `Shift + Enter`:"
   ]
  },
  {
   "cell_type": "code",
   "execution_count": 1,
   "id": "cf456343",
   "metadata": {},
   "outputs": [
    {
     "data": {
      "text/plain": [
       "2"
      ]
     },
     "execution_count": 1,
     "metadata": {},
     "output_type": "execute_result"
    }
   ],
   "source": [
    "1 + 1"
   ]
  },
  {
   "cell_type": "markdown",
   "id": "bce5464b",
   "metadata": {},
   "source": [
    "This will print the result of the operation. Of course we can do much more complicated things with this language (you can look at this [short introduction](https://docs.python.org/3.6/tutorial/introduction.html) to learn the very basics). In our practical sessions we will use the Python language for controlling the simulator.\n",
    "\n",
    "Let's connect this Jupyter Notebook document to the simulator which is running on your machine. The command below imports the library written for this purpose and creates a `controller` object. As for the previous cell, click on the code below and press `Shift + Enter` to execute it. In the following, we will not repeat this last sentence, just execute the code in each cell which contains some code (unless not to do it is explicitly specified)."
   ]
  },
  {
   "cell_type": "code",
   "execution_count": 2,
   "id": "8a5ed0fc",
   "metadata": {},
   "outputs": [
    {
     "name": "stderr",
     "output_type": "stream",
     "text": [
      "An NVIDIA GPU may be present on this machine, but a CUDA-enabled jaxlib is not installed. Falling back to cpu.\n"
     ]
    }
   ],
   "source": [
    "from vivarium.controllers.notebook_controller import NotebookController\n",
    "from vivarium.utils.handle_server_interface import start_server_and_interface, stop_server_and_interface\n"
   ]
  },
  {
   "cell_type": "code",
   "execution_count": 3,
   "id": "42c41259",
   "metadata": {},
   "outputs": [
    {
     "name": "stdout",
     "output_type": "stream",
     "text": [
      "Interface process not found\n",
      "Server process not found\n",
      "Server and Interface Stopped\n",
      "STARTING SERVER\n"
     ]
    },
    {
     "name": "stderr",
     "output_type": "stream",
     "text": [
      "An NVIDIA GPU may be present on this machine, but a CUDA-enabled jaxlib is not installed. Falling back to cpu.\n"
     ]
    },
    {
     "name": "stdout",
     "output_type": "stream",
     "text": [
      "[2024-10-08 14:45:35,927][__main__][INFO] - Scene running: session_1\n",
      "[2024-10-08 14:45:38,083][vivarium.simulator.simulator][INFO] - Simulator initialized\n",
      "[2024-10-08 14:45:38,083][__main__][INFO] - Simulator server started\n",
      "\n",
      "STARTING INTERFACE\n"
     ]
    },
    {
     "name": "stderr",
     "output_type": "stream",
     "text": [
      "2024-10-08 14:45:39,284 Starting Bokeh server version 3.3.4 (running on Tornado 6.4)\n",
      "2024-10-08 14:45:39,284 User authentication hooks NOT provided (default user enabled)\n",
      "2024-10-08 14:45:39,285 Bokeh app running at: http://localhost:5006/run_interface\n",
      "2024-10-08 14:45:39,286 Starting Bokeh server with process id: 24169\n",
      "2024-10-08 14:45:41,499 An NVIDIA GPU may be present on this machine, but a CUDA-enabled jaxlib is not installed. Falling back to cpu.\n",
      "2024-10-08 14:45:43,176 WebSocket connection opened\n",
      "2024-10-08 14:45:43,189 ServerConnection created\n"
     ]
    }
   ],
   "source": [
    "start_server_and_interface(scene_name=\"session_1\")"
   ]
  },
  {
   "cell_type": "code",
   "execution_count": 4,
   "id": "1208254c",
   "metadata": {},
   "outputs": [
    {
     "name": "stderr",
     "output_type": "stream",
     "text": [
      "/home/cleger/Desktop/code/vivarium/venv/lib/python3.10/site-packages/jax/_src/ops/scatter.py:96: FutureWarning: scatter inputs have incompatible types: cannot safely cast value from dtype=float32 to dtype=int32 with jax_numpy_dtype_promotion='standard'. In future JAX releases this will result in an error.\n",
      "  warnings.warn(\n"
     ]
    }
   ],
   "source": [
    "controller = NotebookController()"
   ]
  },
  {
   "cell_type": "markdown",
   "id": "7d4acf76",
   "metadata": {},
   "source": [
    "Nothing happens, it's normal. Don't worry if you don't understand the meaning of this code, just consider it as a necessary step before being able to communicate with the simulator."
   ]
  },
  {
   "cell_type": "markdown",
   "id": "99074eda-7734-44b6-835d-beb844600b33",
   "metadata": {},
   "source": [
    "The newly created `controller` object provides all the functionalities to easily interact with the simulator server. Let's look for example at the agents present in the environment:"
   ]
  },
  {
   "cell_type": "code",
   "execution_count": 5,
   "id": "15b13aa0-f6fa-4767-9f4e-8789e9e9827c",
   "metadata": {
    "tags": []
   },
   "outputs": [
    {
     "data": {
      "text/plain": [
       "[<vivarium.controllers.notebook_controller.Agent at 0x7f1a977381c0>]"
      ]
     },
     "execution_count": 5,
     "metadata": {},
     "output_type": "execute_result"
    }
   ],
   "source": [
    "controller.agents"
   ]
  },
  {
   "cell_type": "markdown",
   "id": "59bffcb1-df5e-4aab-a11f-ad7d952e702f",
   "metadata": {},
   "source": [
    "This is a list of `Agent` objects, one per agent in the environment. Let's for example access the configuration of the first agent in this list and look at its attribute using the Python `.__dict__` syntax:"
   ]
  },
  {
   "cell_type": "markdown",
   "id": "1909d240",
   "metadata": {},
   "source": [
    "This is a list of `Agent` objects, one per agent in the environment. Let's for example access the configuration of the first agent in this list and look at its attribute using the `infos` function:"
   ]
  },
  {
   "cell_type": "code",
   "execution_count": 6,
   "id": "5b79d2cb",
   "metadata": {},
   "outputs": [
    {
     "name": "stdout",
     "output_type": "stream",
     "text": [
      "Entity Overview:\n",
      "--------------------\n",
      "Entity Type: AGENT\n",
      "Entity Idx: 0\n",
      "Position: x=11.15, y=34.80\n",
      "\n",
      "Sensors: Left=0.00, Right=-0.00\n",
      "Motors: Left=0.00, Right=0.00\n",
      "Behaviors: None\n",
      "\n",
      "Can eat: False\n",
      "Diet: []\n",
      "Eating range: 10\n",
      "\n"
     ]
    }
   ],
   "source": [
    "# set full_infos to True if you want to see all agent's information\n",
    "controller.agents[0].infos(full_infos=False)"
   ]
  },
  {
   "cell_type": "markdown",
   "id": "2f207c69",
   "metadata": {},
   "source": [
    "### Modifying agents\n",
    "\n",
    "We will now see how to interact with agents by modifying their attributes. First, we need to start the simulation in this notebook with the following instruction:"
   ]
  },
  {
   "cell_type": "code",
   "execution_count": 7,
   "id": "44cc56f7",
   "metadata": {},
   "outputs": [],
   "source": [
    "controller.run()"
   ]
  },
  {
   "cell_type": "markdown",
   "id": "35e13921",
   "metadata": {},
   "source": [
    "It is normal if nothing is happening yet in the simulation. We can stop the simulation at any time by executing the following instruction:"
   ]
  },
  {
   "cell_type": "code",
   "execution_count": 8,
   "id": "9044bd8b",
   "metadata": {},
   "outputs": [],
   "source": [
    "controller.stop()"
   ]
  },
  {
   "cell_type": "markdown",
   "id": "bebb29da",
   "metadata": {},
   "source": [
    "However, this will cause the changes made in this notebook to no longer reflect on the interface, so we should start it again:"
   ]
  },
  {
   "cell_type": "code",
   "execution_count": 9,
   "id": "dfb295e6",
   "metadata": {},
   "outputs": [],
   "source": [
    "controller.run()"
   ]
  },
  {
   "cell_type": "markdown",
   "id": "cf117751-c71e-4a45-9c25-0c4b013464b9",
   "metadata": {},
   "source": [
    "We saw in the dictionary the value of different attributes of the agent, for example its position, diameter or color. Let's make the first agent (index 0) larger by increasing its `diameter` attribute:"
   ]
  },
  {
   "cell_type": "code",
   "execution_count": 10,
   "id": "8f804102-4c3b-489d-9844-9b16cee638b7",
   "metadata": {
    "tags": []
   },
   "outputs": [],
   "source": [
    "controller.agents[0].diameter = 10"
   ]
  },
  {
   "cell_type": "markdown",
   "id": "2ff602fe-fcc2-455b-b3cd-7571a5ca7226",
   "metadata": {},
   "source": [
    "If you now look at the web interface, you should see that one of the agent is now twice larger than the others. All changes made in this notebook will be automatically visible in the web interface if the server is running, and vice versa. One can for example also change the color of an agent, let's do it on the third agent in the list now (i.e. the agent with index 2):"
   ]
  },
  {
   "cell_type": "code",
   "execution_count": 11,
   "id": "2b2dbb14-c8b0-41af-aea9-8a2b6036615e",
   "metadata": {
    "tags": []
   },
   "outputs": [],
   "source": [
    "controller.agents[0].color = 'green'"
   ]
  },
  {
   "cell_type": "markdown",
   "id": "330833ae-e938-4c68-9952-9ce4e4be2f7a",
   "metadata": {
    "tags": []
   },
   "source": [
    "The same principles apply to objects, which are accessible through `controller.objects`."
   ]
  },
  {
   "cell_type": "markdown",
   "id": "4254a8db",
   "metadata": {},
   "source": [
    "### Controlling the agent's movement\n",
    "\n",
    "We can modify the appearance of the agents, but we can also decide how they move. For now, let's set the speed of the left wheel of the first agent, to 1 radian per second:"
   ]
  },
  {
   "cell_type": "code",
   "execution_count": 12,
   "id": "871703e0",
   "metadata": {},
   "outputs": [],
   "source": [
    "controller.agents[0].left_motor = 1."
   ]
  },
  {
   "cell_type": "markdown",
   "id": "bf2cdd3d",
   "metadata": {},
   "source": [
    "You should now see the agent spinning. To make it move in a straight line, we need to set the other wheel to the same speed, with the following:"
   ]
  },
  {
   "cell_type": "code",
   "execution_count": 13,
   "id": "6fdc829e",
   "metadata": {},
   "outputs": [],
   "source": [
    "controller.agents[0].right_motor = 1."
   ]
  },
  {
   "cell_type": "markdown",
   "id": "0dd456df",
   "metadata": {},
   "source": [
    "We can reset the motors of the agents with this instruction:"
   ]
  },
  {
   "cell_type": "code",
   "execution_count": 14,
   "id": "b4581d51",
   "metadata": {},
   "outputs": [],
   "source": [
    "controller.agents[0].left_motor = controller.agents[0].right_motor = 0."
   ]
  },
  {
   "cell_type": "markdown",
   "id": "e4dbecc0",
   "metadata": {},
   "source": [
    "We can also get the current values of the motors by not putting an `=` in the instruction:"
   ]
  },
  {
   "cell_type": "code",
   "execution_count": 15,
   "id": "0a3b6f19",
   "metadata": {},
   "outputs": [
    {
     "data": {
      "text/plain": [
       "0.0"
      ]
     },
     "execution_count": 15,
     "metadata": {},
     "output_type": "execute_result"
    }
   ],
   "source": [
    "controller.agents[0].left_motor"
   ]
  },
  {
   "cell_type": "markdown",
   "id": "e5ad1b0b",
   "metadata": {},
   "source": [
    "### Retrieving the proximeters values\n",
    "\n",
    "The agents also come with a set of sensors called `proximeters`, that activate when the agent approaches another entity.\n",
    "\n",
    "We can retrieve the value of these sensors with these instructions (here we use the `print` function to make the text more readable):"
   ]
  },
  {
   "cell_type": "code",
   "execution_count": 16,
   "id": "eca163da",
   "metadata": {},
   "outputs": [
    {
     "name": "stdout",
     "output_type": "stream",
     "text": [
      "right proximeter: 0.24469363689422607\n",
      "left proximeter: 0.10140365362167358\n"
     ]
    }
   ],
   "source": [
    "print(f\"right proximeter: {controller.agents[0].right_prox}\")\n",
    "print(f\"left proximeter: {controller.agents[0].left_prox}\")"
   ]
  },
  {
   "cell_type": "code",
   "execution_count": 17,
   "id": "e41a3e19",
   "metadata": {},
   "outputs": [
    {
     "name": "stdout",
     "output_type": "stream",
     "text": [
      "vivarium/scripts/run_interface.py PID: 24169\n",
      "Received signal 15, shutting down\n",
      "vivarium/scripts/run_server.py PID: 23928\n",
      "Server and Interface Stopped\n"
     ]
    }
   ],
   "source": [
    "controller.stop()\n",
    "stop_server_and_interface()"
   ]
  },
  {
   "cell_type": "markdown",
   "id": "cce5b8e2",
   "metadata": {},
   "source": [
    "See [`README.md`](https://github.com/clement-moulin-frier/vivarium/blob/main/README.md) for more tutorials."
   ]
  }
 ],
 "metadata": {
  "kernelspec": {
   "display_name": "Python 3 (ipykernel)",
   "language": "python",
   "name": "python3"
  },
  "language_info": {
   "codemirror_mode": {
    "name": "ipython",
    "version": 3
   },
   "file_extension": ".py",
   "mimetype": "text/x-python",
   "name": "python",
   "nbconvert_exporter": "python",
   "pygments_lexer": "ipython3",
   "version": "3.10.12"
  }
 },
 "nbformat": 4,
 "nbformat_minor": 5
}
