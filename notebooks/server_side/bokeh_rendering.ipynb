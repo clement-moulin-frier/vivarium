{
 "cells": [
  {
   "cell_type": "markdown",
   "metadata": {},
   "source": [
    "# Rendering simulations with Bokeh\n",
    "\n",
    "On the server side, we can also use Bokeh in addition to Matplotlib to render simulations. It enables us to get the exact same visualizations as in the web interface. At the moment, the video rendering is quite slow, but it can be improved in the future."
   ]
  },
  {
   "cell_type": "markdown",
   "metadata": {},
   "source": [
    "# Imports and Installs"
   ]
  },
  {
   "cell_type": "code",
   "execution_count": null,
   "metadata": {},
   "outputs": [],
   "source": [
    "%pip install selenium\n",
    "%pip install imageio[ffmpeg]"
   ]
  },
  {
   "cell_type": "code",
   "execution_count": 57,
   "metadata": {},
   "outputs": [],
   "source": [
    "import time\n",
    "import os\n",
    "\n",
    "import imageio\n",
    "import numpy as np\n",
    "import jax.numpy as jnp\n",
    "import matplotlib.colors as colors\n",
    "\n",
    "from bokeh.plotting import figure, show\n",
    "from bokeh.models import ColumnDataSource\n",
    "from bokeh.io import output_notebook\n",
    "from bokeh.io.export import export_png\n",
    "from IPython.display import Video\n",
    "\n",
    "from vivarium.environments.braitenberg.selective_sensing.selective_sensing_env import SelectiveSensorsEnv, init_state\n",
    "from vivarium.environments.braitenberg.render import render, render_history"
   ]
  },
  {
   "cell_type": "markdown",
   "metadata": {},
   "source": [
    "## Init and launch a simulation\n",
    "\n",
    "We define an environment with 4 types of entities, preys and predators as agents, and resources and poison as objects. The data of each entity type are defined in a dictionary specifying their type, their number and their color, as well as their behaviors if they are agents. Then all this data is aggregated in an entities data dictionary passed to a function to init the state of the simulation."
   ]
  },
  {
   "cell_type": "code",
   "execution_count": 45,
   "metadata": {},
   "outputs": [],
   "source": [
    "entities_subtypes = ['PREYS', 'PREDS', 'RESOURCES', 'POISON']\n",
    "\n",
    "preys_data = {\n",
    "    'type': 'AGENT',\n",
    "    'num': 5,\n",
    "    'color': 'blue',\n",
    "    'selective_behaviors': {\n",
    "        'love': {'beh': 'LOVE', 'sensed': ['PREYS', 'RESOURCES']},\n",
    "        'fear': {'beh': 'FEAR', 'sensed': ['PREDS', 'POISON']}\n",
    "    }}\n",
    "\n",
    "preds_data = {\n",
    "    'type': 'AGENT',\n",
    "    'num': 5,\n",
    "    'color': 'red',\n",
    "    'selective_behaviors': {\n",
    "        'aggr': {'beh': 'AGGRESSION','sensed': ['PREYS']},\n",
    "        'fear': {'beh': 'FEAR','sensed': ['POISON']\n",
    "        }\n",
    "    }}\n",
    "\n",
    "resources_data = {\n",
    "    'type': 'OBJECT',\n",
    "    'num': 5,\n",
    "    'color': 'green'}\n",
    "\n",
    "poison_data = {\n",
    "    'type': 'OBJECT',\n",
    "    'num': 5,\n",
    "    'color': 'purple'}\n",
    "\n",
    "entities_data = {\n",
    "    'EntitySubTypes': entities_subtypes,\n",
    "    'Entities': {\n",
    "        'PREYS': preys_data,\n",
    "        'PREDS': preds_data,\n",
    "        'RESOURCES': resources_data,\n",
    "        'POISON': poison_data\n",
    "    }}"
   ]
  },
  {
   "cell_type": "code",
   "execution_count": 46,
   "metadata": {},
   "outputs": [],
   "source": [
    "state = init_state(entities_data)\n",
    "env = SelectiveSensorsEnv(state, occlusion=True)"
   ]
  },
  {
   "cell_type": "code",
   "execution_count": 47,
   "metadata": {},
   "outputs": [],
   "source": [
    "max_agents = state.max_agents\n",
    "\n",
    "def normal(array):\n",
    "    normals = np.zeros((array.shape[0], 2))\n",
    "    normals[:, 0] = np.cos(array)\n",
    "    normals[:, 1] = np.sin(array)\n",
    "    return normals"
   ]
  },
  {
   "cell_type": "code",
   "execution_count": 48,
   "metadata": {},
   "outputs": [],
   "source": [
    "def initialize_agents_objects_data(\n",
    "    agents_pos, agents_theta, agents_diameter, agents_colors, motors, proxs, max_prox, angle_min, wheel_diameter,\n",
    "    objects_pos, objects_theta, objects_diameter, objects_colors\n",
    "):\n",
    "    x, y = agents_pos[:, 0], agents_pos[:, 1]\n",
    "    radii = agents_diameter / 2.\n",
    "\n",
    "    # line direction\n",
    "    angles = np.array(agents_theta)\n",
    "    normals = normal(angles)\n",
    "\n",
    "    # wheels directions\n",
    "    normals_rw = normal(angles + np.pi / 2)\n",
    "    normals_lw = normal(angles - np.pi / 2)\n",
    "\n",
    "    # proxs directions\n",
    "    normals_rp = normal(angles + np.pi / 4)\n",
    "    normals_lp = normal(angles - np.pi / 4)\n",
    "\n",
    "    r_wheel_x, r_wheel_y, l_wheel_x, l_wheel_y = [], [], [], []\n",
    "    r_prox_x, r_prox_y, l_prox_x, l_prox_y = [], [], [], []\n",
    "    orientation_lines_x, orientation_lines_y = [], []\n",
    "\n",
    "    for xx, yy, n, nrw, nlw, nrp, nlp, r in zip(x, y, normals, normals_rw, normals_lw, normals_rp, normals_lp, radii):\n",
    "        r_wheel_x.append(xx + r * nrw[0])\n",
    "        r_wheel_y.append(yy + r * nrw[1])\n",
    "        l_wheel_x.append(xx + r * nlw[0])\n",
    "        l_wheel_y.append(yy + r * nlw[1])\n",
    "\n",
    "        r_prox_x.append(xx + r * nrp[0])\n",
    "        r_prox_y.append(yy + r * nrp[1])\n",
    "        l_prox_x.append(xx + r * nlp[0])\n",
    "        l_prox_y.append(yy + r * nlp[1])\n",
    "\n",
    "        orientation_lines_x.append([xx, xx + r * n[0]])\n",
    "        orientation_lines_y.append([yy, yy + r * n[1]])\n",
    "\n",
    "    max_angle_r = agents_theta - angle_min\n",
    "    max_angle_l = agents_theta + angle_min\n",
    "\n",
    "    agents_data = dict(\n",
    "        x=x, y=y, ox=orientation_lines_x, oy=orientation_lines_y, r=radii, fc=agents_colors,\n",
    "        angle=agents_theta, pr=0.2 * radii, rwx=r_wheel_x, rwy=r_wheel_y, lwx=l_wheel_x,\n",
    "        lwy=l_wheel_y, rwi=motors[:, 0], lwi=motors[:, 1], rpx=r_prox_x,\n",
    "        rpy=r_prox_y, lpx=l_prox_x, lpy=l_prox_y, rpi=proxs[:, 0],\n",
    "        lpi=proxs[:, 1], mar=max_angle_r, mal=max_angle_l, mpr=max_prox,\n",
    "        wd=wheel_diameter\n",
    "    )\n",
    "\n",
    "    objects_data = dict(\n",
    "        x=objects_pos[:, 0], y=objects_pos[:, 1], width=objects_diameter, height=objects_diameter,\n",
    "        angle=objects_theta, fill_color=objects_colors\n",
    "    )\n",
    "\n",
    "    return agents_data, objects_data"
   ]
  },
  {
   "cell_type": "code",
   "execution_count": 49,
   "metadata": {},
   "outputs": [],
   "source": [
    "def state_to_bokeh_data(state):\n",
    "    # Extract data from state\n",
    "    exists_agents, exists_objects = state.entities.exists[:max_agents], state.entities.exists[max_agents:] \n",
    "    exists_agents = jnp.where(exists_agents != 0)\n",
    "    exists_objects = jnp.where(exists_objects != 0)\n",
    "\n",
    "    # Initialize agents and objects data\n",
    "    agents_data, objects_data = initialize_agents_objects_data(\n",
    "        agents_pos=state.entities.position.center[:max_agents][exists_agents],\n",
    "        agents_theta=state.entities.position.orientation[:max_agents][exists_agents],\n",
    "        agents_diameter=state.entities.diameter[:max_agents][exists_agents],\n",
    "        agents_colors=[colors.to_hex(np.array(c)) for c in state.agents.color[exists_agents]],\n",
    "        motors=state.agents.motor[exists_agents],\n",
    "        proxs=state.agents.prox[exists_agents],\n",
    "        max_prox=state.agents.proxs_dist_max[exists_agents],\n",
    "        angle_min=np.arccos(state.agents.proxs_cos_min[exists_agents]),\n",
    "        wheel_diameter=state.agents.wheel_diameter[exists_agents],\n",
    "        objects_pos=state.entities.position.center[max_agents:][exists_objects],\n",
    "        objects_theta=state.entities.position.orientation[max_agents:][exists_objects],\n",
    "        objects_diameter=state.entities.diameter[max_agents:][exists_objects],\n",
    "        objects_colors=[colors.to_hex(np.array(c)) for c in state.objects.color[exists_objects]]\n",
    "    )\n",
    "\n",
    "    return agents_data, objects_data"
   ]
  },
  {
   "cell_type": "code",
   "execution_count": 50,
   "metadata": {},
   "outputs": [
    {
     "data": {
      "text/html": [
       "    <style>\n",
       "        .bk-notebook-logo {\n",
       "            display: block;\n",
       "            width: 20px;\n",
       "            height: 20px;\n",
       "            background-image: url(data:image/png;base64,iVBORw0KGgoAAAANSUhEUgAAABQAAAAUCAYAAACNiR0NAAAABHNCSVQICAgIfAhkiAAAAAlwSFlzAAALEgAACxIB0t1+/AAAABx0RVh0U29mdHdhcmUAQWRvYmUgRmlyZXdvcmtzIENTNui8sowAAAOkSURBVDiNjZRtaJVlGMd/1/08zzln5zjP1LWcU9N0NkN8m2CYjpgQYQXqSs0I84OLIC0hkEKoPtiH3gmKoiJDU7QpLgoLjLIQCpEsNJ1vqUOdO7ppbuec5+V+rj4ctwzd8IIbbi6u+8f1539dt3A78eXC7QizUF7gyV1fD1Yqg4JWz84yffhm0qkFqBogB9rM8tZdtwVsPUhWhGcFJngGeWrPzHm5oaMmkfEg1usvLFyc8jLRqDOMru7AyC8saQr7GG7f5fvDeH7Ej8CM66nIF+8yngt6HWaKh7k49Soy9nXurCi1o3qUbS3zWfrYeQDTB/Qj6kX6Ybhw4B+bOYoLKCC9H3Nu/leUTZ1JdRWkkn2ldcCamzrcf47KKXdAJllSlxAOkRgyHsGC/zRday5Qld9DyoM4/q/rUoy/CXh3jzOu3bHUVZeU+DEn8FInkPBFlu3+nW3Nw0mk6vCDiWg8CeJaxEwuHS3+z5RgY+YBR6V1Z1nxSOfoaPa4LASWxxdNp+VWTk7+4vzaou8v8PN+xo+KY2xsw6une2frhw05CTYOmQvsEhjhWjn0bmXPjpE1+kplmmkP3suftwTubK9Vq22qKmrBhpY4jvd5afdRA3wGjFAgcnTK2s4hY0/GPNIb0nErGMCRxWOOX64Z8RAC4oCXdklmEvcL8o0BfkNK4lUg9HTl+oPlQxdNo3Mg4Nv175e/1LDGzZen30MEjRUtmXSfiTVu1kK8W4txyV6BMKlbgk3lMwYCiusNy9fVfvvwMxv8Ynl6vxoByANLTWplvuj/nF9m2+PDtt1eiHPBr1oIfhCChQMBw6Aw0UulqTKZdfVvfG7VcfIqLG9bcldL/+pdWTLxLUy8Qq38heUIjh4XlzZxzQm19lLFlr8vdQ97rjZVOLf8nclzckbcD4wxXMidpX30sFd37Fv/GtwwhzhxGVAprjbg0gCAEeIgwCZyTV2Z1REEW8O4py0wsjeloKoMr6iCY6dP92H6Vw/oTyICIthibxjm/DfN9lVz8IqtqKYLUXfoKVMVQVVJOElGjrnnUt9T9wbgp8AyYKaGlqingHZU/uG2NTZSVqwHQTWkx9hxjkpWDaCg6Ckj5qebgBVbT3V3NNXMSiWSDdGV3hrtzla7J+duwPOToIg42ChPQOQjspnSlp1V+Gjdged7+8UN5CRAV7a5EdFNwCjEaBR27b3W890TE7g24NAP/mMDXRWrGoFPQI9ls/MWO2dWFAar/xcOIImbbpA3zgAAAABJRU5ErkJggg==);\n",
       "        }\n",
       "    </style>\n",
       "    <div>\n",
       "        <a href=\"https://bokeh.org\" target=\"_blank\" class=\"bk-notebook-logo\"></a>\n",
       "        <span id=\"f7622b1b-2d14-4ce3-9d9c-622be9470329\">Loading BokehJS ...</span>\n",
       "    </div>\n"
      ]
     },
     "metadata": {},
     "output_type": "display_data"
    },
    {
     "data": {
      "application/javascript": "(function(root) {\n  function now() {\n    return new Date();\n  }\n\n  const force = true;\n\n  if (typeof root._bokeh_onload_callbacks === \"undefined\" || force === true) {\n    root._bokeh_onload_callbacks = [];\n    root._bokeh_is_loading = undefined;\n  }\n\nconst JS_MIME_TYPE = 'application/javascript';\n  const HTML_MIME_TYPE = 'text/html';\n  const EXEC_MIME_TYPE = 'application/vnd.bokehjs_exec.v0+json';\n  const CLASS_NAME = 'output_bokeh rendered_html';\n\n  /**\n   * Render data to the DOM node\n   */\n  function render(props, node) {\n    const script = document.createElement(\"script\");\n    node.appendChild(script);\n  }\n\n  /**\n   * Handle when an output is cleared or removed\n   */\n  function handleClearOutput(event, handle) {\n    function drop(id) {\n      const view = Bokeh.index.get_by_id(id)\n      if (view != null) {\n        view.model.document.clear()\n        Bokeh.index.delete(view)\n      }\n    }\n\n    const cell = handle.cell;\n\n    const id = cell.output_area._bokeh_element_id;\n    const server_id = cell.output_area._bokeh_server_id;\n\n    // Clean up Bokeh references\n    if (id != null) {\n      drop(id)\n    }\n\n    if (server_id !== undefined) {\n      // Clean up Bokeh references\n      const cmd_clean = \"from bokeh.io.state import curstate; print(curstate().uuid_to_server['\" + server_id + \"'].get_sessions()[0].document.roots[0]._id)\";\n      cell.notebook.kernel.execute(cmd_clean, {\n        iopub: {\n          output: function(msg) {\n            const id = msg.content.text.trim()\n            drop(id)\n          }\n        }\n      });\n      // Destroy server and session\n      const cmd_destroy = \"import bokeh.io.notebook as ion; ion.destroy_server('\" + server_id + \"')\";\n      cell.notebook.kernel.execute(cmd_destroy);\n    }\n  }\n\n  /**\n   * Handle when a new output is added\n   */\n  function handleAddOutput(event, handle) {\n    const output_area = handle.output_area;\n    const output = handle.output;\n\n    // limit handleAddOutput to display_data with EXEC_MIME_TYPE content only\n    if ((output.output_type != \"display_data\") || (!Object.prototype.hasOwnProperty.call(output.data, EXEC_MIME_TYPE))) {\n      return\n    }\n\n    const toinsert = output_area.element.find(\".\" + CLASS_NAME.split(' ')[0]);\n\n    if (output.metadata[EXEC_MIME_TYPE][\"id\"] !== undefined) {\n      toinsert[toinsert.length - 1].firstChild.textContent = output.data[JS_MIME_TYPE];\n      // store reference to embed id on output_area\n      output_area._bokeh_element_id = output.metadata[EXEC_MIME_TYPE][\"id\"];\n    }\n    if (output.metadata[EXEC_MIME_TYPE][\"server_id\"] !== undefined) {\n      const bk_div = document.createElement(\"div\");\n      bk_div.innerHTML = output.data[HTML_MIME_TYPE];\n      const script_attrs = bk_div.children[0].attributes;\n      for (let i = 0; i < script_attrs.length; i++) {\n        toinsert[toinsert.length - 1].firstChild.setAttribute(script_attrs[i].name, script_attrs[i].value);\n        toinsert[toinsert.length - 1].firstChild.textContent = bk_div.children[0].textContent\n      }\n      // store reference to server id on output_area\n      output_area._bokeh_server_id = output.metadata[EXEC_MIME_TYPE][\"server_id\"];\n    }\n  }\n\n  function register_renderer(events, OutputArea) {\n\n    function append_mime(data, metadata, element) {\n      // create a DOM node to render to\n      const toinsert = this.create_output_subarea(\n        metadata,\n        CLASS_NAME,\n        EXEC_MIME_TYPE\n      );\n      this.keyboard_manager.register_events(toinsert);\n      // Render to node\n      const props = {data: data, metadata: metadata[EXEC_MIME_TYPE]};\n      render(props, toinsert[toinsert.length - 1]);\n      element.append(toinsert);\n      return toinsert\n    }\n\n    /* Handle when an output is cleared or removed */\n    events.on('clear_output.CodeCell', handleClearOutput);\n    events.on('delete.Cell', handleClearOutput);\n\n    /* Handle when a new output is added */\n    events.on('output_added.OutputArea', handleAddOutput);\n\n    /**\n     * Register the mime type and append_mime function with output_area\n     */\n    OutputArea.prototype.register_mime_type(EXEC_MIME_TYPE, append_mime, {\n      /* Is output safe? */\n      safe: true,\n      /* Index of renderer in `output_area.display_order` */\n      index: 0\n    });\n  }\n\n  // register the mime type if in Jupyter Notebook environment and previously unregistered\n  if (root.Jupyter !== undefined) {\n    const events = require('base/js/events');\n    const OutputArea = require('notebook/js/outputarea').OutputArea;\n\n    if (OutputArea.prototype.mime_types().indexOf(EXEC_MIME_TYPE) == -1) {\n      register_renderer(events, OutputArea);\n    }\n  }\n  if (typeof (root._bokeh_timeout) === \"undefined\" || force === true) {\n    root._bokeh_timeout = Date.now() + 5000;\n    root._bokeh_failed_load = false;\n  }\n\n  const NB_LOAD_WARNING = {'data': {'text/html':\n     \"<div style='background-color: #fdd'>\\n\"+\n     \"<p>\\n\"+\n     \"BokehJS does not appear to have successfully loaded. If loading BokehJS from CDN, this \\n\"+\n     \"may be due to a slow or bad network connection. Possible fixes:\\n\"+\n     \"</p>\\n\"+\n     \"<ul>\\n\"+\n     \"<li>re-rerun `output_notebook()` to attempt to load from CDN again, or</li>\\n\"+\n     \"<li>use INLINE resources instead, as so:</li>\\n\"+\n     \"</ul>\\n\"+\n     \"<code>\\n\"+\n     \"from bokeh.resources import INLINE\\n\"+\n     \"output_notebook(resources=INLINE)\\n\"+\n     \"</code>\\n\"+\n     \"</div>\"}};\n\n  function display_loaded() {\n    const el = document.getElementById(\"f7622b1b-2d14-4ce3-9d9c-622be9470329\");\n    if (el != null) {\n      el.textContent = \"BokehJS is loading...\";\n    }\n    if (root.Bokeh !== undefined) {\n      if (el != null) {\n        el.textContent = \"BokehJS \" + root.Bokeh.version + \" successfully loaded.\";\n      }\n    } else if (Date.now() < root._bokeh_timeout) {\n      setTimeout(display_loaded, 100)\n    }\n  }\n\n  function run_callbacks() {\n    try {\n      root._bokeh_onload_callbacks.forEach(function(callback) {\n        if (callback != null)\n          callback();\n      });\n    } finally {\n      delete root._bokeh_onload_callbacks\n    }\n    console.debug(\"Bokeh: all callbacks have finished\");\n  }\n\n  function load_libs(css_urls, js_urls, callback) {\n    if (css_urls == null) css_urls = [];\n    if (js_urls == null) js_urls = [];\n\n    root._bokeh_onload_callbacks.push(callback);\n    if (root._bokeh_is_loading > 0) {\n      console.debug(\"Bokeh: BokehJS is being loaded, scheduling callback at\", now());\n      return null;\n    }\n    if (js_urls == null || js_urls.length === 0) {\n      run_callbacks();\n      return null;\n    }\n    console.debug(\"Bokeh: BokehJS not loaded, scheduling load and callback at\", now());\n    root._bokeh_is_loading = css_urls.length + js_urls.length;\n\n    function on_load() {\n      root._bokeh_is_loading--;\n      if (root._bokeh_is_loading === 0) {\n        console.debug(\"Bokeh: all BokehJS libraries/stylesheets loaded\");\n        run_callbacks()\n      }\n    }\n\n    function on_error(url) {\n      console.error(\"failed to load \" + url);\n    }\n\n    for (let i = 0; i < css_urls.length; i++) {\n      const url = css_urls[i];\n      const element = document.createElement(\"link\");\n      element.onload = on_load;\n      element.onerror = on_error.bind(null, url);\n      element.rel = \"stylesheet\";\n      element.type = \"text/css\";\n      element.href = url;\n      console.debug(\"Bokeh: injecting link tag for BokehJS stylesheet: \", url);\n      document.body.appendChild(element);\n    }\n\n    for (let i = 0; i < js_urls.length; i++) {\n      const url = js_urls[i];\n      const element = document.createElement('script');\n      element.onload = on_load;\n      element.onerror = on_error.bind(null, url);\n      element.async = false;\n      element.src = url;\n      console.debug(\"Bokeh: injecting script tag for BokehJS library: \", url);\n      document.head.appendChild(element);\n    }\n  };\n\n  function inject_raw_css(css) {\n    const element = document.createElement(\"style\");\n    element.appendChild(document.createTextNode(css));\n    document.body.appendChild(element);\n  }\n\n  const js_urls = [\"https://cdn.bokeh.org/bokeh/release/bokeh-3.3.4.min.js\", \"https://cdn.bokeh.org/bokeh/release/bokeh-gl-3.3.4.min.js\", \"https://cdn.bokeh.org/bokeh/release/bokeh-widgets-3.3.4.min.js\", \"https://cdn.bokeh.org/bokeh/release/bokeh-tables-3.3.4.min.js\", \"https://cdn.bokeh.org/bokeh/release/bokeh-mathjax-3.3.4.min.js\"];\n  const css_urls = [];\n\n  const inline_js = [    function(Bokeh) {\n      Bokeh.set_log_level(\"info\");\n    },\nfunction(Bokeh) {\n    }\n  ];\n\n  function run_inline_js() {\n    if (root.Bokeh !== undefined || force === true) {\n          for (let i = 0; i < inline_js.length; i++) {\n      inline_js[i].call(root, root.Bokeh);\n    }\nif (force === true) {\n        display_loaded();\n      }} else if (Date.now() < root._bokeh_timeout) {\n      setTimeout(run_inline_js, 100);\n    } else if (!root._bokeh_failed_load) {\n      console.log(\"Bokeh: BokehJS failed to load within specified timeout.\");\n      root._bokeh_failed_load = true;\n    } else if (force !== true) {\n      const cell = $(document.getElementById(\"f7622b1b-2d14-4ce3-9d9c-622be9470329\")).parents('.cell').data().cell;\n      cell.output_area.append_execute_result(NB_LOAD_WARNING)\n    }\n  }\n\n  if (root._bokeh_is_loading === 0) {\n    console.debug(\"Bokeh: BokehJS loaded, going straight to plotting\");\n    run_inline_js();\n  } else {\n    load_libs(css_urls, js_urls, function() {\n      console.debug(\"Bokeh: BokehJS plotting callback run at\", now());\n      run_inline_js();\n    });\n  }\n}(window));",
      "application/vnd.bokehjs_load.v0+json": ""
     },
     "metadata": {},
     "output_type": "display_data"
    }
   ],
   "source": [
    "output_notebook()\n",
    "\n",
    "def render_bokeh(box_size, agents_data, objects_data):\n",
    "    p = figure(width=600, height=600, x_range=(0, box_size), y_range=(0, box_size), title=\"Simulation State\")\n",
    "    p.xaxis.axis_label = \"X Position\"\n",
    "    p.yaxis.axis_label = \"Y Position\"\n",
    "\n",
    "    # Create ColumnDataSource for agents\n",
    "    agents_source = ColumnDataSource(data=agents_data)\n",
    "    objects_source = ColumnDataSource(data=objects_data)\n",
    "\n",
    "    # Plot agents\n",
    "    p.rect('rwx', 'rwy', width='wd', height=1, angle='angle', fill_color='black', fill_alpha='rwi', line_color=None, source=agents_source)\n",
    "    p.rect('lwx', 'lwy', width='wd', height=1, angle='angle', fill_color='black', fill_alpha='lwi', line_color=None, source=agents_source)\n",
    "    p.circle('rpx', 'rpy', radius='pr', fill_color='red', fill_alpha='rpi', line_color=None, source=agents_source)\n",
    "    p.circle('lpx', 'lpy', radius='pr', fill_color='red', fill_alpha='lpi', line_color=None, source=agents_source)\n",
    "    p.wedge('x', 'y', radius='mpr', start_angle='angle', end_angle='mar', color=\"firebrick\", alpha=0.1, direction=\"clock\", source=agents_source)\n",
    "    p.wedge('x', 'y', radius='mpr', start_angle='angle', end_angle='mal', color=\"firebrick\", alpha=0.1, direction=\"anticlock\", source=agents_source)\n",
    "    p.multi_line('ox', 'oy', color='black', source=agents_source)\n",
    "    p.circle('x', 'y', radius='r', fill_color='fc', fill_alpha=0.6, line_color=None, hover_fill_color=\"black\", hover_fill_alpha=0.7, hover_line_color=None, source=agents_source)\n",
    "\n",
    "    # Plot objects\n",
    "    p.rect(x='x', y='y', width='width', height='height', angle='angle', fill_color='fill_color', fill_alpha=0.6, line_color=None, hover_fill_color=\"black\", hover_fill_alpha=0.7, hover_line_color=None, source=objects_source)\n",
    "\n",
    "    return p"
   ]
  },
  {
   "cell_type": "code",
   "execution_count": 51,
   "metadata": {},
   "outputs": [],
   "source": [
    "box_size = state.box_size\n",
    "agents_data, objects_data = state_to_bokeh_data(state)"
   ]
  },
  {
   "cell_type": "code",
   "execution_count": 52,
   "metadata": {},
   "outputs": [
    {
     "data": {
      "text/html": [
       "\n",
       "  <div id=\"da0911cd-71ea-4c7a-977c-37f251579211\" data-root-id=\"p36039\" style=\"display: contents;\"></div>\n"
      ]
     },
     "metadata": {},
     "output_type": "display_data"
    },
    {
     "data": {
      "application/javascript": "(function(root) {\n  function embed_document(root) {\n  const docs_json = {\"93959e3f-ea80-4d01-ad57-782d1509e08f\":{\"version\":\"3.3.4\",\"title\":\"Bokeh Application\",\"roots\":[{\"type\":\"object\",\"name\":\"Figure\",\"id\":\"p36039\",\"attributes\":{\"x_range\":{\"type\":\"object\",\"name\":\"Range1d\",\"id\":\"p36049\",\"attributes\":{\"end\":100}},\"y_range\":{\"type\":\"object\",\"name\":\"Range1d\",\"id\":\"p36050\",\"attributes\":{\"end\":100}},\"x_scale\":{\"type\":\"object\",\"name\":\"LinearScale\",\"id\":\"p36051\"},\"y_scale\":{\"type\":\"object\",\"name\":\"LinearScale\",\"id\":\"p36052\"},\"title\":{\"type\":\"object\",\"name\":\"Title\",\"id\":\"p36042\",\"attributes\":{\"text\":\"Simulation State\"}},\"renderers\":[{\"type\":\"object\",\"name\":\"GlyphRenderer\",\"id\":\"p36086\",\"attributes\":{\"data_source\":{\"type\":\"object\",\"name\":\"ColumnDataSource\",\"id\":\"p36074\",\"attributes\":{\"selected\":{\"type\":\"object\",\"name\":\"Selection\",\"id\":\"p36075\",\"attributes\":{\"indices\":[],\"line_indices\":[]}},\"selection_policy\":{\"type\":\"object\",\"name\":\"UnionRenderers\",\"id\":\"p36076\"},\"data\":{\"type\":\"map\",\"entries\":[[\"x\",{\"type\":\"ndarray\",\"array\":{\"type\":\"bytes\",\"data\":\"/GluQIYNnkBEfLtChDizQs91TEKJDwlChptqQt9ZuUKmNb1C9P5nQg==\"},\"shape\":[10],\"dtype\":\"float32\",\"order\":\"little\"}],[\"y\",{\"type\":\"ndarray\",\"array\":{\"type\":\"bytes\",\"data\":\"DuITQVaRrUKBTY9CmfWAQsJFqkIUsHJCaK5mQiwPgz9eWFtCrkaXQg==\"},\"shape\":[10],\"dtype\":\"float32\",\"order\":\"little\"}],[\"ox\",[[{\"type\":\"ndarray\",\"array\":{\"type\":\"bytes\",\"data\":\"/GluQA==\"},\"shape\":[],\"dtype\":\"float32\",\"order\":\"little\"},{\"type\":\"ndarray\",\"array\":{\"type\":\"bytes\",\"data\":\"0E2xQA==\"},\"shape\":[],\"dtype\":\"float32\",\"order\":\"little\"}],[{\"type\":\"ndarray\",\"array\":{\"type\":\"bytes\",\"data\":\"hg2eQA==\"},\"shape\":[],\"dtype\":\"float32\",\"order\":\"little\"},{\"type\":\"ndarray\",\"array\":{\"type\":\"bytes\",\"data\":\"Frq1QA==\"},\"shape\":[],\"dtype\":\"float32\",\"order\":\"little\"}],[{\"type\":\"ndarray\",\"array\":{\"type\":\"bytes\",\"data\":\"RHy7Qg==\"},\"shape\":[],\"dtype\":\"float32\",\"order\":\"little\"},{\"type\":\"ndarray\",\"array\":{\"type\":\"bytes\",\"data\":\"RHy2Qg==\"},\"shape\":[],\"dtype\":\"float32\",\"order\":\"little\"}],[{\"type\":\"ndarray\",\"array\":{\"type\":\"bytes\",\"data\":\"hDizQg==\"},\"shape\":[],\"dtype\":\"float32\",\"order\":\"little\"},{\"type\":\"ndarray\",\"array\":{\"type\":\"bytes\",\"data\":\"NZ+2Qg==\"},\"shape\":[],\"dtype\":\"float32\",\"order\":\"little\"}],[{\"type\":\"ndarray\",\"array\":{\"type\":\"bytes\",\"data\":\"z3VMQg==\"},\"shape\":[],\"dtype\":\"float32\",\"order\":\"little\"},{\"type\":\"ndarray\",\"array\":{\"type\":\"bytes\",\"data\":\"mldPQg==\"},\"shape\":[],\"dtype\":\"float32\",\"order\":\"little\"}],[{\"type\":\"ndarray\",\"array\":{\"type\":\"bytes\",\"data\":\"iQ8JQg==\"},\"shape\":[],\"dtype\":\"float32\",\"order\":\"little\"},{\"type\":\"ndarray\",\"array\":{\"type\":\"bytes\",\"data\":\"WfUSQg==\"},\"shape\":[],\"dtype\":\"float32\",\"order\":\"little\"}],[{\"type\":\"ndarray\",\"array\":{\"type\":\"bytes\",\"data\":\"hptqQg==\"},\"shape\":[],\"dtype\":\"float32\",\"order\":\"little\"},{\"type\":\"ndarray\",\"array\":{\"type\":\"bytes\",\"data\":\"IttoQg==\"},\"shape\":[],\"dtype\":\"float32\",\"order\":\"little\"}],[{\"type\":\"ndarray\",\"array\":{\"type\":\"bytes\",\"data\":\"31m5Qg==\"},\"shape\":[],\"dtype\":\"float32\",\"order\":\"little\"},{\"type\":\"ndarray\",\"array\":{\"type\":\"bytes\",\"data\":\"FAm8Qg==\"},\"shape\":[],\"dtype\":\"float32\",\"order\":\"little\"}],[{\"type\":\"ndarray\",\"array\":{\"type\":\"bytes\",\"data\":\"pjW9Qg==\"},\"shape\":[],\"dtype\":\"float32\",\"order\":\"little\"},{\"type\":\"ndarray\",\"array\":{\"type\":\"bytes\",\"data\":\"bma6Qg==\"},\"shape\":[],\"dtype\":\"float32\",\"order\":\"little\"}],[{\"type\":\"ndarray\",\"array\":{\"type\":\"bytes\",\"data\":\"9P5nQg==\"},\"shape\":[],\"dtype\":\"float32\",\"order\":\"little\"},{\"type\":\"ndarray\",\"array\":{\"type\":\"bytes\",\"data\":\"f+9xQg==\"},\"shape\":[],\"dtype\":\"float32\",\"order\":\"little\"}]]],[\"oy\",[[{\"type\":\"ndarray\",\"array\":{\"type\":\"bytes\",\"data\":\"DuITQQ==\"},\"shape\":[],\"dtype\":\"float32\",\"order\":\"little\"},{\"type\":\"ndarray\",\"array\":{\"type\":\"bytes\",\"data\":\"wmEvQQ==\"},\"shape\":[],\"dtype\":\"float32\",\"order\":\"little\"}],[{\"type\":\"ndarray\",\"array\":{\"type\":\"bytes\",\"data\":\"VpGtQg==\"},\"shape\":[],\"dtype\":\"float32\",\"order\":\"little\"},{\"type\":\"ndarray\",\"array\":{\"type\":\"bytes\",\"data\":\"qsqoQg==\"},\"shape\":[],\"dtype\":\"float32\",\"order\":\"little\"}],[{\"type\":\"ndarray\",\"array\":{\"type\":\"bytes\",\"data\":\"gU2PQg==\"},\"shape\":[],\"dtype\":\"float32\",\"order\":\"little\"},{\"type\":\"ndarray\",\"array\":{\"type\":\"bytes\",\"data\":\"ZUuPQg==\"},\"shape\":[],\"dtype\":\"float32\",\"order\":\"little\"}],[{\"type\":\"ndarray\",\"array\":{\"type\":\"bytes\",\"data\":\"mfWAQg==\"},\"shape\":[],\"dtype\":\"float32\",\"order\":\"little\"},{\"type\":\"ndarray\",\"array\":{\"type\":\"bytes\",\"data\":\"15+EQg==\"},\"shape\":[],\"dtype\":\"float32\",\"order\":\"little\"}],[{\"type\":\"ndarray\",\"array\":{\"type\":\"bytes\",\"data\":\"wkWqQg==\"},\"shape\":[],\"dtype\":\"float32\",\"order\":\"little\"},{\"type\":\"ndarray\",\"array\":{\"type\":\"bytes\",\"data\":\"cw+vQg==\"},\"shape\":[],\"dtype\":\"float32\",\"order\":\"little\"}],[{\"type\":\"ndarray\",\"array\":{\"type\":\"bytes\",\"data\":\"FLByQg==\"},\"shape\":[],\"dtype\":\"float32\",\"order\":\"little\"},{\"type\":\"ndarray\",\"array\":{\"type\":\"bytes\",\"data\":\"2kJxQg==\"},\"shape\":[],\"dtype\":\"float32\",\"order\":\"little\"}],[{\"type\":\"ndarray\",\"array\":{\"type\":\"bytes\",\"data\":\"aK5mQg==\"},\"shape\":[],\"dtype\":\"float32\",\"order\":\"little\"},{\"type\":\"ndarray\",\"array\":{\"type\":\"bytes\",\"data\":\"1YZwQg==\"},\"shape\":[],\"dtype\":\"float32\",\"order\":\"little\"}],[{\"type\":\"ndarray\",\"array\":{\"type\":\"bytes\",\"data\":\"LA+DPw==\"},\"shape\":[],\"dtype\":\"float32\",\"order\":\"little\"},{\"type\":\"ndarray\",\"array\":{\"type\":\"bytes\",\"data\":\"WumKvw==\"},\"shape\":[],\"dtype\":\"float32\",\"order\":\"little\"}],[{\"type\":\"ndarray\",\"array\":{\"type\":\"bytes\",\"data\":\"XlhbQg==\"},\"shape\":[],\"dtype\":\"float32\",\"order\":\"little\"},{\"type\":\"ndarray\",\"array\":{\"type\":\"bytes\",\"data\":\"tBJTQg==\"},\"shape\":[],\"dtype\":\"float32\",\"order\":\"little\"}],[{\"type\":\"ndarray\",\"array\":{\"type\":\"bytes\",\"data\":\"rkaXQg==\"},\"shape\":[],\"dtype\":\"float32\",\"order\":\"little\"},{\"type\":\"ndarray\",\"array\":{\"type\":\"bytes\",\"data\":\"PLqWQg==\"},\"shape\":[],\"dtype\":\"float32\",\"order\":\"little\"}]]],[\"r\",{\"type\":\"ndarray\",\"array\":{\"type\":\"bytes\",\"data\":\"AAAgQAAAIEAAACBAAAAgQAAAIEAAACBAAAAgQAAAIEAAACBAAAAgQA==\"},\"shape\":[10],\"dtype\":\"float32\",\"order\":\"little\"}],[\"fc\",[\"#0000ff\",\"#0000ff\",\"#0000ff\",\"#0000ff\",\"#0000ff\",\"#ff0000\",\"#ff0000\",\"#ff0000\",\"#ff0000\",\"#ff0000\"]],[\"angle\",{\"type\":\"ndarray\",\"array\":{\"type\":\"bytes\",\"data\":\"VgxCP/hooEDeKklAB55SPzukoz8he8RABpnfP5TuqED6s4NAMIvFQA==\"},\"shape\":[10],\"dtype\":\"float32\",\"order\":\"little\"}],[\"pr\",{\"type\":\"ndarray\",\"array\":{\"type\":\"bytes\",\"data\":\"AAAAPwAAAD8AAAA/AAAAPwAAAD8AAAA/AAAAPwAAAD8AAAA/AAAAPw==\"},\"shape\":[10],\"dtype\":\"float32\",\"order\":\"little\"}],[\"rwx\",[{\"type\":\"ndarray\",\"array\":{\"type\":\"bytes\",\"data\":\"LGsAQA==\"},\"shape\":[],\"dtype\":\"float32\",\"order\":\"little\"},{\"type\":\"ndarray\",\"array\":{\"type\":\"bytes\",\"data\":\"PnjqQA==\"},\"shape\":[],\"dtype\":\"float32\",\"order\":\"little\"},{\"type\":\"ndarray\",\"array\":{\"type\":\"bytes\",\"data\":\"YH67Qg==\"},\"shape\":[],\"dtype\":\"float32\",\"order\":\"little\"},{\"type\":\"ndarray\",\"array\":{\"type\":\"bytes\",\"data\":\"Ro6vQg==\"},\"shape\":[],\"dtype\":\"float32\",\"order\":\"little\"},{\"type\":\"ndarray\",\"array\":{\"type\":\"bytes\",\"data\":\"buJCQg==\"},\"shape\":[],\"dtype\":\"float32\",\"order\":\"little\"},{\"type\":\"ndarray\",\"array\":{\"type\":\"bytes\",\"data\":\"w3wKQg==\"},\"shape\":[],\"dtype\":\"float32\",\"order\":\"little\"},{\"type\":\"ndarray\",\"array\":{\"type\":\"bytes\",\"data\":\"GcNgQg==\"},\"shape\":[],\"dtype\":\"float32\",\"order\":\"little\"},{\"type\":\"ndarray\",\"array\":{\"type\":\"bytes\",\"data\":\"wZG9Qg==\"},\"shape\":[],\"dtype\":\"float32\",\"order\":\"little\"},{\"type\":\"ndarray\",\"array\":{\"type\":\"bytes\",\"data\":\"e1jBQg==\"},\"shape\":[],\"dtype\":\"float32\",\"order\":\"little\"},{\"type\":\"ndarray\",\"array\":{\"type\":\"bytes\",\"data\":\"2BdpQg==\"},\"shape\":[],\"dtype\":\"float32\",\"order\":\"little\"}]],[\"rwy\",[{\"type\":\"ndarray\",\"array\":{\"type\":\"bytes\",\"data\":\"d+4wQQ==\"},\"shape\":[],\"dtype\":\"float32\",\"order\":\"little\"},{\"type\":\"ndarray\",\"array\":{\"type\":\"bytes\",\"data\":\"HwyvQg==\"},\"shape\":[],\"dtype\":\"float32\",\"order\":\"little\"},{\"type\":\"ndarray\",\"array\":{\"type\":\"bytes\",\"data\":\"gU2KQg==\"},\"shape\":[],\"dtype\":\"float32\",\"order\":\"little\"},{\"type\":\"ndarray\",\"array\":{\"type\":\"bytes\",\"data\":\"SlyEQg==\"},\"shape\":[],\"dtype\":\"float32\",\"order\":\"little\"},{\"type\":\"ndarray\",\"array\":{\"type\":\"bytes\",\"data\":\"p7arQg==\"},\"shape\":[],\"dtype\":\"float32\",\"order\":\"little\"},{\"type\":\"ndarray\",\"array\":{\"type\":\"bytes\",\"data\":\"5JV8Qg==\"},\"shape\":[],\"dtype\":\"float32\",\"order\":\"little\"},{\"type\":\"ndarray\",\"array\":{\"type\":\"bytes\",\"data\":\"BO5kQg==\"},\"shape\":[],\"dtype\":\"float32\",\"order\":\"little\"},{\"type\":\"ndarray\",\"array\":{\"type\":\"bytes\",\"data\":\"MG4XQA==\"},\"shape\":[],\"dtype\":\"float32\",\"order\":\"little\"},{\"type\":\"ndarray\",\"array\":{\"type\":\"bytes\",\"data\":\"7rlVQg==\"},\"shape\":[],\"dtype\":\"float32\",\"order\":\"little\"},{\"type\":\"ndarray\",\"array\":{\"type\":\"bytes\",\"data\":\"9D6cQg==\"},\"shape\":[],\"dtype\":\"float32\",\"order\":\"little\"}]],[\"lwx\",[{\"type\":\"ndarray\",\"array\":{\"type\":\"bytes\",\"data\":\"ZjSuQA==\"},\"shape\":[],\"dtype\":\"float32\",\"order\":\"little\"},{\"type\":\"ndarray\",\"array\":{\"type\":\"bytes\",\"data\":\"m0UjQA==\"},\"shape\":[],\"dtype\":\"float32\",\"order\":\"little\"},{\"type\":\"ndarray\",\"array\":{\"type\":\"bytes\",\"data\":\"KHq7Qg==\"},\"shape\":[],\"dtype\":\"float32\",\"order\":\"little\"},{\"type\":\"ndarray\",\"array\":{\"type\":\"bytes\",\"data\":\"wuK2Qg==\"},\"shape\":[],\"dtype\":\"float32\",\"order\":\"little\"},{\"type\":\"ndarray\",\"array\":{\"type\":\"bytes\",\"data\":\"MAlWQg==\"},\"shape\":[],\"dtype\":\"float32\",\"order\":\"little\"},{\"type\":\"ndarray\",\"array\":{\"type\":\"bytes\",\"data\":\"T6IHQg==\"},\"shape\":[],\"dtype\":\"float32\",\"order\":\"little\"},{\"type\":\"ndarray\",\"array\":{\"type\":\"bytes\",\"data\":\"83N0Qg==\"},\"shape\":[],\"dtype\":\"float32\",\"order\":\"little\"},{\"type\":\"ndarray\",\"array\":{\"type\":\"bytes\",\"data\":\"/SG1Qg==\"},\"shape\":[],\"dtype\":\"float32\",\"order\":\"little\"},{\"type\":\"ndarray\",\"array\":{\"type\":\"bytes\",\"data\":\"0RK5Qg==\"},\"shape\":[],\"dtype\":\"float32\",\"order\":\"little\"},{\"type\":\"ndarray\",\"array\":{\"type\":\"bytes\",\"data\":\"EOZmQg==\"},\"shape\":[],\"dtype\":\"float32\",\"order\":\"little\"}]],[\"lwy\",[{\"type\":\"ndarray\",\"array\":{\"type\":\"bytes\",\"data\":\"SqvtQA==\"},\"shape\":[],\"dtype\":\"float32\",\"order\":\"little\"},{\"type\":\"ndarray\",\"array\":{\"type\":\"bytes\",\"data\":\"jRasQg==\"},\"shape\":[],\"dtype\":\"float32\",\"order\":\"little\"},{\"type\":\"ndarray\",\"array\":{\"type\":\"bytes\",\"data\":\"gU2UQg==\"},\"shape\":[],\"dtype\":\"float32\",\"order\":\"little\"},{\"type\":\"ndarray\",\"array\":{\"type\":\"bytes\",\"data\":\"0B17Qg==\"},\"shape\":[],\"dtype\":\"float32\",\"order\":\"little\"},{\"type\":\"ndarray\",\"array\":{\"type\":\"bytes\",\"data\":\"3NSoQg==\"},\"shape\":[],\"dtype\":\"float32\",\"order\":\"little\"},{\"type\":\"ndarray\",\"array\":{\"type\":\"bytes\",\"data\":\"RMpoQg==\"},\"shape\":[],\"dtype\":\"float32\",\"order\":\"little\"},{\"type\":\"ndarray\",\"array\":{\"type\":\"bytes\",\"data\":\"zG5oQg==\"},\"shape\":[],\"dtype\":\"float32\",\"order\":\"little\"},{\"type\":\"ndarray\",\"array\":{\"type\":\"bytes\",\"data\":\"CPiivg==\"},\"shape\":[],\"dtype\":\"float32\",\"order\":\"little\"},{\"type\":\"ndarray\",\"array\":{\"type\":\"bytes\",\"data\":\"z/ZgQg==\"},\"shape\":[],\"dtype\":\"float32\",\"order\":\"little\"},{\"type\":\"ndarray\",\"array\":{\"type\":\"bytes\",\"data\":\"aE6SQg==\"},\"shape\":[],\"dtype\":\"float32\",\"order\":\"little\"}]],[\"rwi\",{\"type\":\"ndarray\",\"array\":{\"type\":\"bytes\",\"data\":\"AAAAAAAAAAAAAAAAAAAAAAAAAAAAAAAAAAAAAAAAAAAAAAAAAAAAAA==\"},\"shape\":[10],\"dtype\":\"float32\",\"order\":\"little\"}],[\"lwi\",{\"type\":\"ndarray\",\"array\":{\"type\":\"bytes\",\"data\":\"AAAAAAAAAAAAAAAAAAAAAAAAAAAAAAAAAAAAAAAAAAAAAAAAAAAAAA==\"},\"shape\":[10],\"dtype\":\"float32\",\"order\":\"little\"}],[\"rpx\",[{\"type\":\"ndarray\",\"array\":{\"type\":\"bytes\",\"data\":\"C8xyQA==\"},\"shape\":[],\"dtype\":\"float32\",\"order\":\"little\"},{\"type\":\"ndarray\",\"array\":{\"type\":\"bytes\",\"data\":\"69PkQA==\"},\"shape\":[],\"dtype\":\"float32\",\"order\":\"little\"},{\"type\":\"ndarray\",\"array\":{\"type\":\"bytes\",\"data\":\"qvS3Qg==\"},\"shape\":[],\"dtype\":\"float32\",\"order\":\"little\"},{\"type\":\"ndarray\",\"array\":{\"type\":\"bytes\",\"data\":\"wAizQg==\"},\"shape\":[],\"dtype\":\"float32\",\"order\":\"little\"},{\"type\":\"ndarray\",\"array\":{\"type\":\"bytes\",\"data\":\"H7pHQg==\"},\"shape\":[],\"dtype\":\"float32\",\"order\":\"little\"},{\"type\":\"ndarray\",\"array\":{\"type\":\"bytes\",\"data\":\"dxERQg==\"},\"shape\":[],\"dtype\":\"float32\",\"order\":\"little\"},{\"type\":\"ndarray\",\"array\":{\"type\":\"bytes\",\"data\":\"QWhiQg==\"},\"shape\":[],\"dtype\":\"float32\",\"order\":\"little\"},{\"type\":\"ndarray\",\"array\":{\"type\":\"bytes\",\"data\":\"ZDu+Qg==\"},\"shape\":[],\"dtype\":\"float32\",\"order\":\"little\"},{\"type\":\"ndarray\",\"array\":{\"type\":\"bytes\",\"data\":\"yiW+Qg==\"},\"shape\":[],\"dtype\":\"float32\",\"order\":\"little\"},{\"type\":\"ndarray\",\"array\":{\"type\":\"bytes\",\"data\":\"1sxvQg==\"},\"shape\":[],\"dtype\":\"float32\",\"order\":\"little\"}]],[\"rpy\",[{\"type\":\"ndarray\",\"array\":{\"type\":\"bytes\",\"data\":\"Nt47QQ==\"},\"shape\":[],\"dtype\":\"float32\",\"order\":\"little\"},{\"type\":\"ndarray\",\"array\":{\"type\":\"bytes\",\"data\":\"njyrQg==\"},\"shape\":[],\"dtype\":\"float32\",\"order\":\"little\"},{\"type\":\"ndarray\",\"array\":{\"type\":\"bytes\",\"data\":\"68KLQg==\"},\"shape\":[],\"dtype\":\"float32\",\"order\":\"little\"},{\"type\":\"ndarray\",\"array\":{\"type\":\"bytes\",\"data\":\"tfSFQg==\"},\"shape\":[],\"dtype\":\"float32\",\"order\":\"little\"},{\"type\":\"ndarray\",\"array\":{\"type\":\"bytes\",\"data\":\"Ta2uQg==\"},\"shape\":[],\"dtype\":\"float32\",\"order\":\"little\"},{\"type\":\"ndarray\",\"array\":{\"type\":\"bytes\",\"data\":\"gK14Qg==\"},\"shape\":[],\"dtype\":\"float32\",\"order\":\"little\"},{\"type\":\"ndarray\",\"array\":{\"type\":\"bytes\",\"data\":\"jmdsQg==\"},\"shape\":[],\"dtype\":\"float32\",\"order\":\"little\"},{\"type\":\"ndarray\",\"array\":{\"type\":\"bytes\",\"data\":\"gJL2Pg==\"},\"shape\":[],\"dtype\":\"float32\",\"order\":\"little\"},{\"type\":\"ndarray\",\"array\":{\"type\":\"bytes\",\"data\":\"04VRQg==\"},\"shape\":[],\"dtype\":\"float32\",\"order\":\"little\"},{\"type\":\"ndarray\",\"array\":{\"type\":\"bytes\",\"data\":\"AGeaQg==\"},\"shape\":[],\"dtype\":\"float32\",\"order\":\"little\"}]],[\"lpx\",[{\"type\":\"ndarray\",\"array\":{\"type\":\"bytes\",\"data\":\"Ti3HQA==\"},\"shape\":[],\"dtype\":\"float32\",\"order\":\"little\"},{\"type\":\"ndarray\",\"array\":{\"type\":\"bytes\",\"data\":\"HoRxQA==\"},\"shape\":[],\"dtype\":\"float32\",\"order\":\"little\"},{\"type\":\"ndarray\",\"array\":{\"type\":\"bytes\",\"data\":\"rvG3Qg==\"},\"shape\":[],\"dtype\":\"float32\",\"order\":\"little\"},{\"type\":\"ndarray\",\"array\":{\"type\":\"bytes\",\"data\":\"oDe4Qg==\"},\"shape\":[],\"dtype\":\"float32\",\"order\":\"little\"},{\"type\":\"ndarray\",\"array\":{\"type\":\"bytes\",\"data\":\"5URVQg==\"},\"shape\":[],\"dtype\":\"float32\",\"order\":\"little\"},{\"type\":\"ndarray\",\"array\":{\"type\":\"bytes\",\"data\":\"9QwPQg==\"},\"shape\":[],\"dtype\":\"float32\",\"order\":\"little\"},{\"type\":\"ndarray\",\"array\":{\"type\":\"bytes\",\"data\":\"rFRwQg==\"},\"shape\":[],\"dtype\":\"float32\",\"order\":\"little\"},{\"type\":\"ndarray\",\"array\":{\"type\":\"bytes\",\"data\":\"NUS4Qg==\"},\"shape\":[],\"dtype\":\"float32\",\"order\":\"little\"},{\"type\":\"ndarray\",\"array\":{\"type\":\"bytes\",\"data\":\"YEy4Qg==\"},\"shape\":[],\"dtype\":\"float32\",\"order\":\"little\"},{\"type\":\"ndarray\",\"array\":{\"type\":\"bytes\",\"data\":\"mT9uQg==\"},\"shape\":[],\"dtype\":\"float32\",\"order\":\"little\"}]],[\"lpy\",[{\"type\":\"ndarray\",\"array\":{\"type\":\"bytes\",\"data\":\"iskSQQ==\"},\"shape\":[],\"dtype\":\"float32\",\"order\":\"little\"},{\"type\":\"ndarray\",\"array\":{\"type\":\"bytes\",\"data\":\"8CSpQg==\"},\"shape\":[],\"dtype\":\"float32\",\"order\":\"little\"},{\"type\":\"ndarray\",\"array\":{\"type\":\"bytes\",\"data\":\"G9WSQg==\"},\"shape\":[],\"dtype\":\"float32\",\"order\":\"little\"},{\"type\":\"ndarray\",\"array\":{\"type\":\"bytes\",\"data\":\"XSWBQg==\"},\"shape\":[],\"dtype\":\"float32\",\"order\":\"little\"},{\"type\":\"ndarray\",\"array\":{\"type\":\"bytes\",\"data\":\"mqOsQg==\"},\"shape\":[],\"dtype\":\"float32\",\"order\":\"little\"},{\"type\":\"ndarray\",\"array\":{\"type\":\"bytes\",\"data\":\"Jq5qQg==\"},\"shape\":[],\"dtype\":\"float32\",\"order\":\"little\"},{\"type\":\"ndarray\",\"array\":{\"type\":\"bytes\",\"data\":\"reFuQg==\"},\"shape\":[],\"dtype\":\"float32\",\"order\":\"little\"},{\"type\":\"ndarray\",\"array\":{\"type\":\"bytes\",\"data\":\"KlK1vw==\"},\"shape\":[],\"dtype\":\"float32\",\"order\":\"little\"},{\"type\":\"ndarray\",\"array\":{\"type\":\"bytes\",\"data\":\"FnhZQg==\"},\"shape\":[],\"dtype\":\"float32\",\"order\":\"little\"},{\"type\":\"ndarray\",\"array\":{\"type\":\"bytes\",\"data\":\"vV+TQg==\"},\"shape\":[],\"dtype\":\"float32\",\"order\":\"little\"}]],[\"rpi\",{\"type\":\"ndarray\",\"array\":{\"type\":\"bytes\",\"data\":\"AAAAAAAAAAAAAAAAAAAAAAAAAAAAAAAAAAAAAAAAAAAAAAAAAAAAAA==\"},\"shape\":[10],\"dtype\":\"float32\",\"order\":\"little\"}],[\"lpi\",{\"type\":\"ndarray\",\"array\":{\"type\":\"bytes\",\"data\":\"AAAAAAAAAAAAAAAAAAAAAAAAAAAAAAAAAAAAAAAAAAAAAAAAAAAAAA==\"},\"shape\":[10],\"dtype\":\"float32\",\"order\":\"little\"}],[\"mar\",{\"type\":\"ndarray\",\"array\":{\"type\":\"bytes\",\"data\":\"YBNQvwJKXEDhRck/r4E/v4Culb4qN5JAWEk0PjpVbUAG4CJAOUeTQA==\"},\"shape\":[10],\"dtype\":\"float32\",\"order\":\"little\"}],[\"mal\",{\"type\":\"ndarray\",\"array\":{\"type\":\"bytes\",\"data\":\"AwsVQO+s0kBm2ZZAby8ZQAtaNkAYv/ZAcFRUQIsy20Dx97VAJ8/3QA==\"},\"shape\":[10],\"dtype\":\"float32\",\"order\":\"little\"}],[\"mpr\",{\"type\":\"ndarray\",\"array\":{\"type\":\"bytes\",\"data\":\"AAAgQgAAIEIAACBCAAAgQgAAIEIAACBCAAAgQgAAIEIAACBCAAAgQg==\"},\"shape\":[10],\"dtype\":\"float32\",\"order\":\"little\"}],[\"wd\",{\"type\":\"ndarray\",\"array\":{\"type\":\"bytes\",\"data\":\"AAAAQAAAAEAAAABAAAAAQAAAAEAAAABAAAAAQAAAAEAAAABAAAAAQA==\"},\"shape\":[10],\"dtype\":\"float32\",\"order\":\"little\"}]]}}},\"view\":{\"type\":\"object\",\"name\":\"CDSView\",\"id\":\"p36087\",\"attributes\":{\"filter\":{\"type\":\"object\",\"name\":\"AllIndices\",\"id\":\"p36088\"}}},\"glyph\":{\"type\":\"object\",\"name\":\"Rect\",\"id\":\"p36083\",\"attributes\":{\"x\":{\"type\":\"field\",\"field\":\"rwx\"},\"y\":{\"type\":\"field\",\"field\":\"rwy\"},\"width\":{\"type\":\"field\",\"field\":\"wd\"},\"height\":{\"type\":\"value\",\"value\":1},\"angle\":{\"type\":\"field\",\"field\":\"angle\"},\"line_color\":{\"type\":\"value\",\"value\":null},\"fill_color\":{\"type\":\"value\",\"value\":\"black\"},\"fill_alpha\":{\"type\":\"field\",\"field\":\"rwi\"}}},\"nonselection_glyph\":{\"type\":\"object\",\"name\":\"Rect\",\"id\":\"p36084\",\"attributes\":{\"x\":{\"type\":\"field\",\"field\":\"rwx\"},\"y\":{\"type\":\"field\",\"field\":\"rwy\"},\"width\":{\"type\":\"field\",\"field\":\"wd\"},\"height\":{\"type\":\"value\",\"value\":1},\"angle\":{\"type\":\"field\",\"field\":\"angle\"},\"line_color\":{\"type\":\"value\",\"value\":null},\"line_alpha\":{\"type\":\"value\",\"value\":0.1},\"fill_color\":{\"type\":\"value\",\"value\":\"black\"},\"fill_alpha\":{\"type\":\"value\",\"value\":0.1},\"hatch_alpha\":{\"type\":\"value\",\"value\":0.1}}},\"muted_glyph\":{\"type\":\"object\",\"name\":\"Rect\",\"id\":\"p36085\",\"attributes\":{\"x\":{\"type\":\"field\",\"field\":\"rwx\"},\"y\":{\"type\":\"field\",\"field\":\"rwy\"},\"width\":{\"type\":\"field\",\"field\":\"wd\"},\"height\":{\"type\":\"value\",\"value\":1},\"angle\":{\"type\":\"field\",\"field\":\"angle\"},\"line_color\":{\"type\":\"value\",\"value\":null},\"line_alpha\":{\"type\":\"value\",\"value\":0.2},\"fill_color\":{\"type\":\"value\",\"value\":\"black\"},\"fill_alpha\":{\"type\":\"value\",\"value\":0.2},\"hatch_alpha\":{\"type\":\"value\",\"value\":0.2}}}}},{\"type\":\"object\",\"name\":\"GlyphRenderer\",\"id\":\"p36095\",\"attributes\":{\"data_source\":{\"id\":\"p36074\"},\"view\":{\"type\":\"object\",\"name\":\"CDSView\",\"id\":\"p36096\",\"attributes\":{\"filter\":{\"type\":\"object\",\"name\":\"AllIndices\",\"id\":\"p36097\"}}},\"glyph\":{\"type\":\"object\",\"name\":\"Rect\",\"id\":\"p36092\",\"attributes\":{\"x\":{\"type\":\"field\",\"field\":\"lwx\"},\"y\":{\"type\":\"field\",\"field\":\"lwy\"},\"width\":{\"type\":\"field\",\"field\":\"wd\"},\"height\":{\"type\":\"value\",\"value\":1},\"angle\":{\"type\":\"field\",\"field\":\"angle\"},\"line_color\":{\"type\":\"value\",\"value\":null},\"fill_color\":{\"type\":\"value\",\"value\":\"black\"},\"fill_alpha\":{\"type\":\"field\",\"field\":\"lwi\"}}},\"nonselection_glyph\":{\"type\":\"object\",\"name\":\"Rect\",\"id\":\"p36093\",\"attributes\":{\"x\":{\"type\":\"field\",\"field\":\"lwx\"},\"y\":{\"type\":\"field\",\"field\":\"lwy\"},\"width\":{\"type\":\"field\",\"field\":\"wd\"},\"height\":{\"type\":\"value\",\"value\":1},\"angle\":{\"type\":\"field\",\"field\":\"angle\"},\"line_color\":{\"type\":\"value\",\"value\":null},\"line_alpha\":{\"type\":\"value\",\"value\":0.1},\"fill_color\":{\"type\":\"value\",\"value\":\"black\"},\"fill_alpha\":{\"type\":\"value\",\"value\":0.1},\"hatch_alpha\":{\"type\":\"value\",\"value\":0.1}}},\"muted_glyph\":{\"type\":\"object\",\"name\":\"Rect\",\"id\":\"p36094\",\"attributes\":{\"x\":{\"type\":\"field\",\"field\":\"lwx\"},\"y\":{\"type\":\"field\",\"field\":\"lwy\"},\"width\":{\"type\":\"field\",\"field\":\"wd\"},\"height\":{\"type\":\"value\",\"value\":1},\"angle\":{\"type\":\"field\",\"field\":\"angle\"},\"line_color\":{\"type\":\"value\",\"value\":null},\"line_alpha\":{\"type\":\"value\",\"value\":0.2},\"fill_color\":{\"type\":\"value\",\"value\":\"black\"},\"fill_alpha\":{\"type\":\"value\",\"value\":0.2},\"hatch_alpha\":{\"type\":\"value\",\"value\":0.2}}}}},{\"type\":\"object\",\"name\":\"GlyphRenderer\",\"id\":\"p36104\",\"attributes\":{\"data_source\":{\"id\":\"p36074\"},\"view\":{\"type\":\"object\",\"name\":\"CDSView\",\"id\":\"p36105\",\"attributes\":{\"filter\":{\"type\":\"object\",\"name\":\"AllIndices\",\"id\":\"p36106\"}}},\"glyph\":{\"type\":\"object\",\"name\":\"Circle\",\"id\":\"p36101\",\"attributes\":{\"x\":{\"type\":\"field\",\"field\":\"rpx\"},\"y\":{\"type\":\"field\",\"field\":\"rpy\"},\"line_color\":{\"type\":\"value\",\"value\":null},\"fill_color\":{\"type\":\"value\",\"value\":\"red\"},\"fill_alpha\":{\"type\":\"field\",\"field\":\"rpi\"},\"radius\":{\"type\":\"field\",\"field\":\"pr\"}}},\"nonselection_glyph\":{\"type\":\"object\",\"name\":\"Circle\",\"id\":\"p36102\",\"attributes\":{\"x\":{\"type\":\"field\",\"field\":\"rpx\"},\"y\":{\"type\":\"field\",\"field\":\"rpy\"},\"line_color\":{\"type\":\"value\",\"value\":null},\"line_alpha\":{\"type\":\"value\",\"value\":0.1},\"fill_color\":{\"type\":\"value\",\"value\":\"red\"},\"fill_alpha\":{\"type\":\"value\",\"value\":0.1},\"hatch_alpha\":{\"type\":\"value\",\"value\":0.1},\"radius\":{\"type\":\"field\",\"field\":\"pr\"}}},\"muted_glyph\":{\"type\":\"object\",\"name\":\"Circle\",\"id\":\"p36103\",\"attributes\":{\"x\":{\"type\":\"field\",\"field\":\"rpx\"},\"y\":{\"type\":\"field\",\"field\":\"rpy\"},\"line_color\":{\"type\":\"value\",\"value\":null},\"line_alpha\":{\"type\":\"value\",\"value\":0.2},\"fill_color\":{\"type\":\"value\",\"value\":\"red\"},\"fill_alpha\":{\"type\":\"value\",\"value\":0.2},\"hatch_alpha\":{\"type\":\"value\",\"value\":0.2},\"radius\":{\"type\":\"field\",\"field\":\"pr\"}}}}},{\"type\":\"object\",\"name\":\"GlyphRenderer\",\"id\":\"p36113\",\"attributes\":{\"data_source\":{\"id\":\"p36074\"},\"view\":{\"type\":\"object\",\"name\":\"CDSView\",\"id\":\"p36114\",\"attributes\":{\"filter\":{\"type\":\"object\",\"name\":\"AllIndices\",\"id\":\"p36115\"}}},\"glyph\":{\"type\":\"object\",\"name\":\"Circle\",\"id\":\"p36110\",\"attributes\":{\"x\":{\"type\":\"field\",\"field\":\"lpx\"},\"y\":{\"type\":\"field\",\"field\":\"lpy\"},\"line_color\":{\"type\":\"value\",\"value\":null},\"fill_color\":{\"type\":\"value\",\"value\":\"red\"},\"fill_alpha\":{\"type\":\"field\",\"field\":\"lpi\"},\"radius\":{\"type\":\"field\",\"field\":\"pr\"}}},\"nonselection_glyph\":{\"type\":\"object\",\"name\":\"Circle\",\"id\":\"p36111\",\"attributes\":{\"x\":{\"type\":\"field\",\"field\":\"lpx\"},\"y\":{\"type\":\"field\",\"field\":\"lpy\"},\"line_color\":{\"type\":\"value\",\"value\":null},\"line_alpha\":{\"type\":\"value\",\"value\":0.1},\"fill_color\":{\"type\":\"value\",\"value\":\"red\"},\"fill_alpha\":{\"type\":\"value\",\"value\":0.1},\"hatch_alpha\":{\"type\":\"value\",\"value\":0.1},\"radius\":{\"type\":\"field\",\"field\":\"pr\"}}},\"muted_glyph\":{\"type\":\"object\",\"name\":\"Circle\",\"id\":\"p36112\",\"attributes\":{\"x\":{\"type\":\"field\",\"field\":\"lpx\"},\"y\":{\"type\":\"field\",\"field\":\"lpy\"},\"line_color\":{\"type\":\"value\",\"value\":null},\"line_alpha\":{\"type\":\"value\",\"value\":0.2},\"fill_color\":{\"type\":\"value\",\"value\":\"red\"},\"fill_alpha\":{\"type\":\"value\",\"value\":0.2},\"hatch_alpha\":{\"type\":\"value\",\"value\":0.2},\"radius\":{\"type\":\"field\",\"field\":\"pr\"}}}}},{\"type\":\"object\",\"name\":\"GlyphRenderer\",\"id\":\"p36122\",\"attributes\":{\"data_source\":{\"id\":\"p36074\"},\"view\":{\"type\":\"object\",\"name\":\"CDSView\",\"id\":\"p36123\",\"attributes\":{\"filter\":{\"type\":\"object\",\"name\":\"AllIndices\",\"id\":\"p36124\"}}},\"glyph\":{\"type\":\"object\",\"name\":\"Wedge\",\"id\":\"p36119\",\"attributes\":{\"x\":{\"type\":\"field\",\"field\":\"x\"},\"y\":{\"type\":\"field\",\"field\":\"y\"},\"radius\":{\"type\":\"field\",\"field\":\"mpr\"},\"start_angle\":{\"type\":\"field\",\"field\":\"angle\"},\"end_angle\":{\"type\":\"field\",\"field\":\"mar\"},\"direction\":\"clock\",\"line_color\":{\"type\":\"value\",\"value\":\"firebrick\"},\"line_alpha\":{\"type\":\"value\",\"value\":0.1},\"fill_color\":{\"type\":\"value\",\"value\":\"firebrick\"},\"fill_alpha\":{\"type\":\"value\",\"value\":0.1},\"hatch_color\":{\"type\":\"value\",\"value\":\"firebrick\"},\"hatch_alpha\":{\"type\":\"value\",\"value\":0.1}}},\"nonselection_glyph\":{\"type\":\"object\",\"name\":\"Wedge\",\"id\":\"p36120\",\"attributes\":{\"x\":{\"type\":\"field\",\"field\":\"x\"},\"y\":{\"type\":\"field\",\"field\":\"y\"},\"radius\":{\"type\":\"field\",\"field\":\"mpr\"},\"start_angle\":{\"type\":\"field\",\"field\":\"angle\"},\"end_angle\":{\"type\":\"field\",\"field\":\"mar\"},\"direction\":\"clock\",\"line_color\":{\"type\":\"value\",\"value\":\"firebrick\"},\"line_alpha\":{\"type\":\"value\",\"value\":0.1},\"fill_color\":{\"type\":\"value\",\"value\":\"firebrick\"},\"fill_alpha\":{\"type\":\"value\",\"value\":0.1},\"hatch_color\":{\"type\":\"value\",\"value\":\"firebrick\"},\"hatch_alpha\":{\"type\":\"value\",\"value\":0.1}}},\"muted_glyph\":{\"type\":\"object\",\"name\":\"Wedge\",\"id\":\"p36121\",\"attributes\":{\"x\":{\"type\":\"field\",\"field\":\"x\"},\"y\":{\"type\":\"field\",\"field\":\"y\"},\"radius\":{\"type\":\"field\",\"field\":\"mpr\"},\"start_angle\":{\"type\":\"field\",\"field\":\"angle\"},\"end_angle\":{\"type\":\"field\",\"field\":\"mar\"},\"direction\":\"clock\",\"line_color\":{\"type\":\"value\",\"value\":\"firebrick\"},\"line_alpha\":{\"type\":\"value\",\"value\":0.2},\"fill_color\":{\"type\":\"value\",\"value\":\"firebrick\"},\"fill_alpha\":{\"type\":\"value\",\"value\":0.2},\"hatch_color\":{\"type\":\"value\",\"value\":\"firebrick\"},\"hatch_alpha\":{\"type\":\"value\",\"value\":0.2}}}}},{\"type\":\"object\",\"name\":\"GlyphRenderer\",\"id\":\"p36131\",\"attributes\":{\"data_source\":{\"id\":\"p36074\"},\"view\":{\"type\":\"object\",\"name\":\"CDSView\",\"id\":\"p36132\",\"attributes\":{\"filter\":{\"type\":\"object\",\"name\":\"AllIndices\",\"id\":\"p36133\"}}},\"glyph\":{\"type\":\"object\",\"name\":\"Wedge\",\"id\":\"p36128\",\"attributes\":{\"x\":{\"type\":\"field\",\"field\":\"x\"},\"y\":{\"type\":\"field\",\"field\":\"y\"},\"radius\":{\"type\":\"field\",\"field\":\"mpr\"},\"start_angle\":{\"type\":\"field\",\"field\":\"angle\"},\"end_angle\":{\"type\":\"field\",\"field\":\"mal\"},\"line_color\":{\"type\":\"value\",\"value\":\"firebrick\"},\"line_alpha\":{\"type\":\"value\",\"value\":0.1},\"fill_color\":{\"type\":\"value\",\"value\":\"firebrick\"},\"fill_alpha\":{\"type\":\"value\",\"value\":0.1},\"hatch_color\":{\"type\":\"value\",\"value\":\"firebrick\"},\"hatch_alpha\":{\"type\":\"value\",\"value\":0.1}}},\"nonselection_glyph\":{\"type\":\"object\",\"name\":\"Wedge\",\"id\":\"p36129\",\"attributes\":{\"x\":{\"type\":\"field\",\"field\":\"x\"},\"y\":{\"type\":\"field\",\"field\":\"y\"},\"radius\":{\"type\":\"field\",\"field\":\"mpr\"},\"start_angle\":{\"type\":\"field\",\"field\":\"angle\"},\"end_angle\":{\"type\":\"field\",\"field\":\"mal\"},\"line_color\":{\"type\":\"value\",\"value\":\"firebrick\"},\"line_alpha\":{\"type\":\"value\",\"value\":0.1},\"fill_color\":{\"type\":\"value\",\"value\":\"firebrick\"},\"fill_alpha\":{\"type\":\"value\",\"value\":0.1},\"hatch_color\":{\"type\":\"value\",\"value\":\"firebrick\"},\"hatch_alpha\":{\"type\":\"value\",\"value\":0.1}}},\"muted_glyph\":{\"type\":\"object\",\"name\":\"Wedge\",\"id\":\"p36130\",\"attributes\":{\"x\":{\"type\":\"field\",\"field\":\"x\"},\"y\":{\"type\":\"field\",\"field\":\"y\"},\"radius\":{\"type\":\"field\",\"field\":\"mpr\"},\"start_angle\":{\"type\":\"field\",\"field\":\"angle\"},\"end_angle\":{\"type\":\"field\",\"field\":\"mal\"},\"line_color\":{\"type\":\"value\",\"value\":\"firebrick\"},\"line_alpha\":{\"type\":\"value\",\"value\":0.2},\"fill_color\":{\"type\":\"value\",\"value\":\"firebrick\"},\"fill_alpha\":{\"type\":\"value\",\"value\":0.2},\"hatch_color\":{\"type\":\"value\",\"value\":\"firebrick\"},\"hatch_alpha\":{\"type\":\"value\",\"value\":0.2}}}}},{\"type\":\"object\",\"name\":\"GlyphRenderer\",\"id\":\"p36140\",\"attributes\":{\"data_source\":{\"id\":\"p36074\"},\"view\":{\"type\":\"object\",\"name\":\"CDSView\",\"id\":\"p36141\",\"attributes\":{\"filter\":{\"type\":\"object\",\"name\":\"AllIndices\",\"id\":\"p36142\"}}},\"glyph\":{\"type\":\"object\",\"name\":\"MultiLine\",\"id\":\"p36137\",\"attributes\":{\"xs\":{\"type\":\"field\",\"field\":\"ox\"},\"ys\":{\"type\":\"field\",\"field\":\"oy\"}}},\"nonselection_glyph\":{\"type\":\"object\",\"name\":\"MultiLine\",\"id\":\"p36138\",\"attributes\":{\"xs\":{\"type\":\"field\",\"field\":\"ox\"},\"ys\":{\"type\":\"field\",\"field\":\"oy\"},\"line_alpha\":{\"type\":\"value\",\"value\":0.1}}},\"muted_glyph\":{\"type\":\"object\",\"name\":\"MultiLine\",\"id\":\"p36139\",\"attributes\":{\"xs\":{\"type\":\"field\",\"field\":\"ox\"},\"ys\":{\"type\":\"field\",\"field\":\"oy\"},\"line_alpha\":{\"type\":\"value\",\"value\":0.2}}}}},{\"type\":\"object\",\"name\":\"GlyphRenderer\",\"id\":\"p36150\",\"attributes\":{\"data_source\":{\"id\":\"p36074\"},\"view\":{\"type\":\"object\",\"name\":\"CDSView\",\"id\":\"p36151\",\"attributes\":{\"filter\":{\"type\":\"object\",\"name\":\"AllIndices\",\"id\":\"p36152\"}}},\"glyph\":{\"type\":\"object\",\"name\":\"Circle\",\"id\":\"p36146\",\"attributes\":{\"x\":{\"type\":\"field\",\"field\":\"x\"},\"y\":{\"type\":\"field\",\"field\":\"y\"},\"line_color\":{\"type\":\"value\",\"value\":null},\"fill_color\":{\"type\":\"field\",\"field\":\"fc\"},\"fill_alpha\":{\"type\":\"value\",\"value\":0.6},\"radius\":{\"type\":\"field\",\"field\":\"r\"}}},\"nonselection_glyph\":{\"type\":\"object\",\"name\":\"Circle\",\"id\":\"p36147\",\"attributes\":{\"x\":{\"type\":\"field\",\"field\":\"x\"},\"y\":{\"type\":\"field\",\"field\":\"y\"},\"line_color\":{\"type\":\"value\",\"value\":null},\"line_alpha\":{\"type\":\"value\",\"value\":0.1},\"fill_color\":{\"type\":\"field\",\"field\":\"fc\"},\"fill_alpha\":{\"type\":\"value\",\"value\":0.1},\"hatch_alpha\":{\"type\":\"value\",\"value\":0.1},\"radius\":{\"type\":\"field\",\"field\":\"r\"}}},\"hover_glyph\":{\"type\":\"object\",\"name\":\"Circle\",\"id\":\"p36148\",\"attributes\":{\"x\":{\"type\":\"field\",\"field\":\"x\"},\"y\":{\"type\":\"field\",\"field\":\"y\"},\"line_color\":{\"type\":\"value\",\"value\":null},\"fill_color\":{\"type\":\"value\",\"value\":\"black\"},\"fill_alpha\":{\"type\":\"value\",\"value\":0.7},\"radius\":{\"type\":\"field\",\"field\":\"r\"}}},\"muted_glyph\":{\"type\":\"object\",\"name\":\"Circle\",\"id\":\"p36149\",\"attributes\":{\"x\":{\"type\":\"field\",\"field\":\"x\"},\"y\":{\"type\":\"field\",\"field\":\"y\"},\"line_color\":{\"type\":\"value\",\"value\":null},\"line_alpha\":{\"type\":\"value\",\"value\":0.2},\"fill_color\":{\"type\":\"field\",\"field\":\"fc\"},\"fill_alpha\":{\"type\":\"value\",\"value\":0.2},\"hatch_alpha\":{\"type\":\"value\",\"value\":0.2},\"radius\":{\"type\":\"field\",\"field\":\"r\"}}}}},{\"type\":\"object\",\"name\":\"GlyphRenderer\",\"id\":\"p36160\",\"attributes\":{\"data_source\":{\"type\":\"object\",\"name\":\"ColumnDataSource\",\"id\":\"p36077\",\"attributes\":{\"selected\":{\"type\":\"object\",\"name\":\"Selection\",\"id\":\"p36078\",\"attributes\":{\"indices\":[],\"line_indices\":[]}},\"selection_policy\":{\"type\":\"object\",\"name\":\"UnionRenderers\",\"id\":\"p36079\"},\"data\":{\"type\":\"map\",\"entries\":[[\"x\",{\"type\":\"ndarray\",\"array\":{\"type\":\"bytes\",\"data\":\"evJDQpUpr0IISExCRLG/QWZ7h0B634xCt8O2QoAWEkIW655Chg27QQ==\"},\"shape\":[10],\"dtype\":\"float32\",\"order\":\"little\"}],[\"y\",{\"type\":\"ndarray\",\"array\":{\"type\":\"bytes\",\"data\":\"UCqrQbDCjEKANpNCZC28QiZTcULCKGdCnkO8QmN7fEIiJo1CWKegQg==\"},\"shape\":[10],\"dtype\":\"float32\",\"order\":\"little\"}],[\"width\",{\"type\":\"ndarray\",\"array\":{\"type\":\"bytes\",\"data\":\"AACgQAAAoEAAAKBAAACgQAAAoEAAAKBAAACgQAAAoEAAAKBAAACgQA==\"},\"shape\":[10],\"dtype\":\"float32\",\"order\":\"little\"}],[\"height\",{\"type\":\"ndarray\",\"array\":{\"type\":\"bytes\",\"data\":\"AACgQAAAoEAAAKBAAACgQAAAoEAAAKBAAACgQAAAoEAAAKBAAACgQA==\"},\"shape\":[10],\"dtype\":\"float32\",\"order\":\"little\"}],[\"angle\",{\"type\":\"ndarray\",\"array\":{\"type\":\"bytes\",\"data\":\"utdqQMRRyEDtun5AMP1YQPsgskA+8oBA2iadQMrGB0DHf5NA4iaJQA==\"},\"shape\":[10],\"dtype\":\"float32\",\"order\":\"little\"}],[\"fill_color\",[\"#008000\",\"#008000\",\"#008000\",\"#008000\",\"#008000\",\"#800080\",\"#800080\",\"#800080\",\"#800080\",\"#800080\"]]]}}},\"view\":{\"type\":\"object\",\"name\":\"CDSView\",\"id\":\"p36161\",\"attributes\":{\"filter\":{\"type\":\"object\",\"name\":\"AllIndices\",\"id\":\"p36162\"}}},\"glyph\":{\"type\":\"object\",\"name\":\"Rect\",\"id\":\"p36156\",\"attributes\":{\"x\":{\"type\":\"field\",\"field\":\"x\"},\"y\":{\"type\":\"field\",\"field\":\"y\"},\"width\":{\"type\":\"field\",\"field\":\"width\"},\"height\":{\"type\":\"field\",\"field\":\"height\"},\"angle\":{\"type\":\"field\",\"field\":\"angle\"},\"line_color\":{\"type\":\"value\",\"value\":null},\"fill_color\":{\"type\":\"field\",\"field\":\"fill_color\"},\"fill_alpha\":{\"type\":\"value\",\"value\":0.6}}},\"nonselection_glyph\":{\"type\":\"object\",\"name\":\"Rect\",\"id\":\"p36157\",\"attributes\":{\"x\":{\"type\":\"field\",\"field\":\"x\"},\"y\":{\"type\":\"field\",\"field\":\"y\"},\"width\":{\"type\":\"field\",\"field\":\"width\"},\"height\":{\"type\":\"field\",\"field\":\"height\"},\"angle\":{\"type\":\"field\",\"field\":\"angle\"},\"line_color\":{\"type\":\"value\",\"value\":null},\"line_alpha\":{\"type\":\"value\",\"value\":0.1},\"fill_color\":{\"type\":\"field\",\"field\":\"fill_color\"},\"fill_alpha\":{\"type\":\"value\",\"value\":0.1},\"hatch_alpha\":{\"type\":\"value\",\"value\":0.1}}},\"hover_glyph\":{\"type\":\"object\",\"name\":\"Rect\",\"id\":\"p36158\",\"attributes\":{\"x\":{\"type\":\"field\",\"field\":\"x\"},\"y\":{\"type\":\"field\",\"field\":\"y\"},\"width\":{\"type\":\"field\",\"field\":\"width\"},\"height\":{\"type\":\"field\",\"field\":\"height\"},\"angle\":{\"type\":\"field\",\"field\":\"angle\"},\"line_color\":{\"type\":\"value\",\"value\":null},\"fill_color\":{\"type\":\"value\",\"value\":\"black\"},\"fill_alpha\":{\"type\":\"value\",\"value\":0.7}}},\"muted_glyph\":{\"type\":\"object\",\"name\":\"Rect\",\"id\":\"p36159\",\"attributes\":{\"x\":{\"type\":\"field\",\"field\":\"x\"},\"y\":{\"type\":\"field\",\"field\":\"y\"},\"width\":{\"type\":\"field\",\"field\":\"width\"},\"height\":{\"type\":\"field\",\"field\":\"height\"},\"angle\":{\"type\":\"field\",\"field\":\"angle\"},\"line_color\":{\"type\":\"value\",\"value\":null},\"line_alpha\":{\"type\":\"value\",\"value\":0.2},\"fill_color\":{\"type\":\"field\",\"field\":\"fill_color\"},\"fill_alpha\":{\"type\":\"value\",\"value\":0.2},\"hatch_alpha\":{\"type\":\"value\",\"value\":0.2}}}}}],\"toolbar\":{\"type\":\"object\",\"name\":\"Toolbar\",\"id\":\"p36048\",\"attributes\":{\"tools\":[{\"type\":\"object\",\"name\":\"PanTool\",\"id\":\"p36063\"},{\"type\":\"object\",\"name\":\"WheelZoomTool\",\"id\":\"p36064\",\"attributes\":{\"renderers\":\"auto\"}},{\"type\":\"object\",\"name\":\"BoxZoomTool\",\"id\":\"p36065\",\"attributes\":{\"overlay\":{\"type\":\"object\",\"name\":\"BoxAnnotation\",\"id\":\"p36066\",\"attributes\":{\"syncable\":false,\"level\":\"overlay\",\"visible\":false,\"left\":{\"type\":\"number\",\"value\":\"nan\"},\"right\":{\"type\":\"number\",\"value\":\"nan\"},\"top\":{\"type\":\"number\",\"value\":\"nan\"},\"bottom\":{\"type\":\"number\",\"value\":\"nan\"},\"left_units\":\"canvas\",\"right_units\":\"canvas\",\"top_units\":\"canvas\",\"bottom_units\":\"canvas\",\"line_color\":\"black\",\"line_alpha\":1.0,\"line_width\":2,\"line_dash\":[4,4],\"fill_color\":\"lightgrey\",\"fill_alpha\":0.5}}}},{\"type\":\"object\",\"name\":\"SaveTool\",\"id\":\"p36071\"},{\"type\":\"object\",\"name\":\"ResetTool\",\"id\":\"p36072\"},{\"type\":\"object\",\"name\":\"HelpTool\",\"id\":\"p36073\"}]}},\"left\":[{\"type\":\"object\",\"name\":\"LinearAxis\",\"id\":\"p36058\",\"attributes\":{\"ticker\":{\"type\":\"object\",\"name\":\"BasicTicker\",\"id\":\"p36059\",\"attributes\":{\"mantissas\":[1,2,5]}},\"formatter\":{\"type\":\"object\",\"name\":\"BasicTickFormatter\",\"id\":\"p36060\"},\"axis_label\":\"Y Position\",\"major_label_policy\":{\"type\":\"object\",\"name\":\"AllLabels\",\"id\":\"p36061\"}}}],\"below\":[{\"type\":\"object\",\"name\":\"LinearAxis\",\"id\":\"p36053\",\"attributes\":{\"ticker\":{\"type\":\"object\",\"name\":\"BasicTicker\",\"id\":\"p36054\",\"attributes\":{\"mantissas\":[1,2,5]}},\"formatter\":{\"type\":\"object\",\"name\":\"BasicTickFormatter\",\"id\":\"p36055\"},\"axis_label\":\"X Position\",\"major_label_policy\":{\"type\":\"object\",\"name\":\"AllLabels\",\"id\":\"p36056\"}}}],\"center\":[{\"type\":\"object\",\"name\":\"Grid\",\"id\":\"p36057\",\"attributes\":{\"axis\":{\"id\":\"p36053\"}}},{\"type\":\"object\",\"name\":\"Grid\",\"id\":\"p36062\",\"attributes\":{\"dimension\":1,\"axis\":{\"id\":\"p36058\"}}}]}}]}};\n  const render_items = [{\"docid\":\"93959e3f-ea80-4d01-ad57-782d1509e08f\",\"roots\":{\"p36039\":\"da0911cd-71ea-4c7a-977c-37f251579211\"},\"root_ids\":[\"p36039\"]}];\n  root.Bokeh.embed.embed_items_notebook(docs_json, render_items);\n  }\n  if (root.Bokeh !== undefined) {\n    embed_document(root);\n  } else {\n    let attempts = 0;\n    const timer = setInterval(function(root) {\n      if (root.Bokeh !== undefined) {\n        clearInterval(timer);\n        embed_document(root);\n      } else {\n        attempts++;\n        if (attempts > 100) {\n          clearInterval(timer);\n          console.log(\"Bokeh: ERROR: Unable to run BokehJS code because BokehJS library is missing\");\n        }\n      }\n    }, 10, root)\n  }\n})(window);",
      "application/vnd.bokehjs_exec.v0+json": ""
     },
     "metadata": {
      "application/vnd.bokehjs_exec.v0+json": {
       "id": "p36039"
      }
     },
     "output_type": "display_data"
    }
   ],
   "source": [
    "p = render_bokeh(box_size, agents_data, objects_data)\n",
    "show(p)"
   ]
  },
  {
   "cell_type": "markdown",
   "metadata": {},
   "source": [
    "# Rendering videos with Bokeh (very slow)"
   ]
  },
  {
   "cell_type": "code",
   "execution_count": 62,
   "metadata": {},
   "outputs": [],
   "source": [
    "n_steps = 5_000\n",
    "hist = []\n",
    "\n",
    "for i in range(n_steps):\n",
    "    state = env.step(state)\n",
    "    hist.append(state)"
   ]
  },
  {
   "cell_type": "markdown",
   "metadata": {},
   "source": [
    "To improve the mechanism, can instead only save certain frames, the bottleneck seems to be the export_png function (can be verified with cProfile). Use a system of skip frames as in the matplotlib rendering function to only save a plot frames every x steps."
   ]
  },
  {
   "cell_type": "code",
   "execution_count": 72,
   "metadata": {},
   "outputs": [],
   "source": [
    "def save_frames(states, box_size, output_dir, skip_frames):\n",
    "    if not os.path.exists(output_dir):\n",
    "        os.makedirs(output_dir)\n",
    "    \n",
    "    for i, state in enumerate(states):\n",
    "        if i % skip_frames != 0:\n",
    "            continue\n",
    "        agents_data, objects_data = state_to_bokeh_data(state)\n",
    "        p = render_bokeh(box_size, agents_data, objects_data)\n",
    "        export_png(p, filename=f\"{output_dir}/frame_{i:04d}.png\")\n",
    "\n",
    "    print(f\"Frames saved in {output_dir}\")\n",
    "\n",
    "def create_video_from_frames(output_dir, video_filename, fps):\n",
    "    images = []\n",
    "    for file_name in sorted(os.listdir(output_dir)):\n",
    "        if file_name.endswith('.png'):\n",
    "            file_path = os.path.join(output_dir, file_name)\n",
    "            images.append(imageio.imread(file_path))\n",
    "    imageio.mimsave(video_filename, images, fps=fps)\n",
    "    print(f\"Video saved as {video_filename}\")\n",
    "\n",
    "def render_bokeh_video(states, box_size, output_dir='frames', video_filename='simulation.mp4', fps=10, skip_frames=10):\n",
    "    save_frames(states, box_size, output_dir, skip_frames)\n",
    "    create_video_from_frames(output_dir, video_filename, fps)\n",
    "    Video(video_filename)"
   ]
  },
  {
   "cell_type": "markdown",
   "metadata": {},
   "source": [
    "This function saves the video in a directory."
   ]
  },
  {
   "cell_type": "code",
   "execution_count": 73,
   "metadata": {},
   "outputs": [
    {
     "name": "stdout",
     "output_type": "stream",
     "text": [
      "Frames saved in frames_20241125-110426\n"
     ]
    },
    {
     "name": "stderr",
     "output_type": "stream",
     "text": [
      "/tmp/ipykernel_7974/3538829564.py:19: DeprecationWarning: Starting with ImageIO v3 the behavior of this function will switch to that of iio.v3.imread. To keep the current behavior (and make this warning disappear) use `import imageio.v2 as imageio` or call `imageio.v2.imread` directly.\n",
      "  images.append(imageio.imread(file_path))\n",
      "WARNING:imageio_ffmpeg:IMAGEIO FFMPEG_WRITER WARNING: input image is not divisible by macro_block_size=16, resizing from (600, 600) to (608, 608) to ensure video compatibility with most codecs and players. To prevent resizing, make your input image divisible by the macro_block_size or set the macro_block_size to 1 (risking incompatibility).\n"
     ]
    },
    {
     "name": "stdout",
     "output_type": "stream",
     "text": [
      "Video saved as bokeh_video.mp4\n"
     ]
    }
   ],
   "source": [
    "num_frames = 2_000\n",
    "lst_hist = hist[:num_frames]\n",
    "\n",
    "video_filename = 'bokeh_video.mp4'\n",
    "current_time = time.strftime(\"%Y%m%d-%H%M%S\")\n",
    "output_dir = f\"frames_{current_time}\"\n",
    "fps = 10\n",
    "skip_frames = 10\n",
    "\n",
    "render_bokeh_video(lst_hist, box_size, output_dir=output_dir, video_filename=video_filename, fps=fps, skip_frames=skip_frames)  "
   ]
  },
  {
   "cell_type": "markdown",
   "metadata": {},
   "source": [
    "You can then render it in the notebook this way :"
   ]
  },
  {
   "cell_type": "code",
   "execution_count": 74,
   "metadata": {},
   "outputs": [
    {
     "data": {
      "text/html": [
       "<video src=\"bokeh_video.mp4\" controls  >\n",
       "      Your browser does not support the <code>video</code> element.\n",
       "    </video>"
      ],
      "text/plain": [
       "<IPython.core.display.Video object>"
      ]
     },
     "execution_count": 74,
     "metadata": {},
     "output_type": "execute_result"
    }
   ],
   "source": [
    "Video(video_filename)"
   ]
  },
  {
   "cell_type": "markdown",
   "metadata": {},
   "source": [
    "The creation of the video is approximately 4x slower than the actual video itself (1.20min vs 20sec in this case for 2_000 steps) "
   ]
  }
 ],
 "metadata": {
  "kernelspec": {
   "display_name": "venv",
   "language": "python",
   "name": "python3"
  },
  "language_info": {
   "codemirror_mode": {
    "name": "ipython",
    "version": 3
   },
   "file_extension": ".py",
   "mimetype": "text/x-python",
   "name": "python",
   "nbconvert_exporter": "python",
   "pygments_lexer": "ipython3",
   "version": "3.10.12"
  }
 },
 "nbformat": 4,
 "nbformat_minor": 2
}
