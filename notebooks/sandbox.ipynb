{
 "cells": [
  {
   "cell_type": "code",
   "execution_count": null,
   "id": "5ee962f2-0d62-4e38-8512-ed1fde2b145e",
   "metadata": {},
   "outputs": [],
   "source": [
    "from vivarium.simulator import config\n",
    "from vivarium.simulator.simulator import Simulator\n",
    "\n",
    "agent_config = config.AgentConfig()\n",
    "simulation_config = config.SimulatorConfig(agent_config=agent_config)\n",
    "population_config = config.PopulationConfig()\n",
    "behavior_config = config.BehaviorConfig(population_config=population_config)\n",
    "\n",
    "simulator = Simulator(simulation_config=simulation_config, agent_config=agent_config,\n",
    "                      behavior_config=behavior_config, population_config=population_config)"
   ]
  },
  {
   "cell_type": "code",
   "execution_count": null,
   "id": "7b702f4f-6199-4f84-8d59-1cb6d2b3d343",
   "metadata": {},
   "outputs": [],
   "source": [
    "simulator.set_behavior(0, 'manual')"
   ]
  },
  {
   "cell_type": "code",
   "execution_count": null,
   "id": "70b53c12-8456-4446-b21c-00c61c0f8422",
   "metadata": {},
   "outputs": [],
   "source": [
    "from vivarium.simulator.rest_api import FlaskAppWrapper"
   ]
  },
  {
   "cell_type": "code",
   "execution_count": null,
   "id": "b626fcb6-6fa4-44a3-b9b4-1fb30b04df17",
   "metadata": {
    "scrolled": true,
    "tags": []
   },
   "outputs": [],
   "source": [
    "a = FlaskAppWrapper('wrap', simulator)"
   ]
  },
  {
   "cell_type": "code",
   "execution_count": null,
   "id": "d6335439-fb72-49bd-b96d-e4ae2e05e60d",
   "metadata": {
    "scrolled": true,
    "tags": []
   },
   "outputs": [],
   "source": [
    "from vivarium.simulator.rest_api import SimulatorRestClient\n",
    "\n",
    "client = SimulatorRestClient()"
   ]
  },
  {
   "cell_type": "code",
   "execution_count": null,
   "id": "7f5da9a0-d912-476f-b057-8e52c80fdd34",
   "metadata": {},
   "outputs": [],
   "source": [
    "simulator.stop()"
   ]
  },
  {
   "cell_type": "code",
   "execution_count": null,
   "id": "afe6df4a-ae7a-40af-8621-6814907d2171",
   "metadata": {},
   "outputs": [],
   "source": [
    "1"
   ]
  },
  {
   "cell_type": "code",
   "execution_count": null,
   "id": "4bbb7c37-fff9-40a7-91a4-b8665abd399c",
   "metadata": {},
   "outputs": [],
   "source": [
    "simulator.set_behavior(0, 'SHY')"
   ]
  },
  {
   "cell_type": "code",
   "execution_count": null,
   "id": "2efa753b-d625-4a9b-a0c1-29837a401871",
   "metadata": {
    "scrolled": true,
    "tags": []
   },
   "outputs": [],
   "source": [
    "for i in range(5):\n",
    "    simulator.set_behavior(i, 'SHY')\n",
    "    \n",
    "for i in range(5, 10):\n",
    "    simulator.set_behavior(i, 'LOVE')\n",
    "    \n",
    "for i in range(10, 15):\n",
    "    simulator.set_behavior(i, 'AGGRESSION')\n",
    "    \n",
    "for i in range(0, 20):\n",
    "    simulator.set_behavior(i, 'LOVE')"
   ]
  },
  {
   "cell_type": "code",
   "execution_count": null,
   "id": "fbc75cba-46a7-4f9e-ad4a-9b22797588ff",
   "metadata": {},
   "outputs": [],
   "source": []
  },
  {
   "cell_type": "code",
   "execution_count": null,
   "id": "0e79c776-3180-4549-8fc0-63725336aa46",
   "metadata": {},
   "outputs": [],
   "source": [
    "simulator.behavior_config.entity_behaviors"
   ]
  },
  {
   "cell_type": "code",
   "execution_count": null,
   "id": "4f265311-eac3-4c47-8e18-d4a09a61ad45",
   "metadata": {
    "scrolled": true,
    "tags": []
   },
   "outputs": [],
   "source": [
    "#for i in range(20):\n",
    "#simulator.set_behavior(0, 'manual')\n",
    "simulator.set_motors(1, [1., 0.])"
   ]
  },
  {
   "cell_type": "code",
   "execution_count": null,
   "id": "e7bd789d-af2a-4b11-b8fe-e55a0c6425f1",
   "metadata": {
    "scrolled": true,
    "tags": []
   },
   "outputs": [],
   "source": [
    "simulator.set_motors(0, [1., -1.])"
   ]
  },
  {
   "cell_type": "code",
   "execution_count": null,
   "id": "161dba92-1fb6-42b1-be15-85e61c2ce915",
   "metadata": {
    "scrolled": true,
    "tags": []
   },
   "outputs": [],
   "source": [
    "ags = 1\n",
    "import time\n",
    "for i in range(1000):\n",
    "    proxs = simulator.state.proxs\n",
    "    motors = 1. - proxs\n",
    "    #for ag in range(20):\n",
    "    simulator.set_motors(slice(20), motors)\n",
    "    time.sleep(0.1)"
   ]
  },
  {
   "cell_type": "code",
   "execution_count": null,
   "id": "9d8de6fd-2db7-4049-8b10-1c94e75ed81b",
   "metadata": {
    "scrolled": true,
    "tags": []
   },
   "outputs": [],
   "source": [
    "client.is_started()slice"
   ]
  },
  {
   "cell_type": "code",
   "execution_count": null,
   "id": "2aa54611-2db3-4f7c-a883-4c0cc42ab02e",
   "metadata": {
    "scrolled": true,
    "tags": []
   },
   "outputs": [],
   "source": [
    "client.get_state()"
   ]
  },
  {
   "cell_type": "code",
   "execution_count": null,
   "id": "132fbe17-d6d7-45cc-9225-88ac1d0d3437",
   "metadata": {},
   "outputs": [],
   "source": [
    "import jax\n",
    "import jax.numpy as jnp\n",
    "branches = [lambda x: jnp.array([x, 0.]), lambda x: jnp.array([1., x])]\n",
    "\n",
    "jax.lax.switch(1, branches, 8.)\n",
    "\n",
    "multi_switch = jax.vmap(jax.lax.switch, (0, None, 0))"
   ]
  },
  {
   "cell_type": "code",
   "execution_count": null,
   "id": "950d845c-7cc1-42ae-a38a-a9bf479c6d4e",
   "metadata": {},
   "outputs": [],
   "source": []
  },
  {
   "cell_type": "code",
   "execution_count": null,
   "id": "67c82da3-a951-4f9f-95f5-3628dc594289",
   "metadata": {},
   "outputs": [],
   "source": [
    "multi_switch(jnp.array([0, 1, 1, 0]), branches, jnp.array([3., 4., 5, 6.]))"
   ]
  },
  {
   "cell_type": "code",
   "execution_count": null,
   "id": "88008375-ee75-4ecc-a616-e6789e02ce4d",
   "metadata": {},
   "outputs": [],
   "source": [
    "from vivarium.simulator.config import SimulatorConfig\n",
    "sc = SimulatorConfig()"
   ]
  },
  {
   "cell_type": "code",
   "execution_count": null,
   "id": "f25664ad-a30f-4237-95e6-72f65f79a45c",
   "metadata": {},
   "outputs": [],
   "source": [
    "sc.param.serialize_parameters()"
   ]
  },
  {
   "cell_type": "code",
   "execution_count": null,
   "id": "5c686a26-62dd-4bab-ab3f-90b2b4ebf540",
   "metadata": {},
   "outputs": [],
   "source": [
    "def action():\n",
    "    print('action')\n",
    "    # Execute anything\n",
    "a = FlaskAppWrapper('wrap')\n",
    "a.add_endpoint(endpoint='/ad', endpoint_name='ad', handler=action)\n",
    "a.run()"
   ]
  },
  {
   "cell_type": "code",
   "execution_count": null,
   "id": "1b14d0e7-26eb-45ed-a9ac-fa775a08bfb4",
   "metadata": {},
   "outputs": [],
   "source": [
    "from vivarium.simulator.api import RestApi\n",
    "rest_api = RestApi(simulator)"
   ]
  },
  {
   "cell_type": "code",
   "execution_count": null,
   "id": "e8e8ba83-275f-400d-85eb-450bee18bcb4",
   "metadata": {},
   "outputs": [],
   "source": [
    "rest_api.start_api()"
   ]
  },
  {
   "cell_type": "code",
   "execution_count": null,
   "id": "d0859a56-7bf8-464b-b14b-d379fdfd405c",
   "metadata": {},
   "outputs": [],
   "source": []
  },
  {
   "cell_type": "code",
   "execution_count": null,
   "id": "5774a483-6aa4-490a-be7e-7de5d4e82283",
   "metadata": {},
   "outputs": [],
   "source": [
    "simulator.run(threaded=True)"
   ]
  },
  {
   "cell_type": "code",
   "execution_count": null,
   "id": "829b7261-27b1-42b0-a96d-7c3ff9ffe2bd",
   "metadata": {},
   "outputs": [],
   "source": [
    "simulator.is_started = False"
   ]
  },
  {
   "cell_type": "code",
   "execution_count": null,
   "id": "193cf87f-f6a3-465b-af87-b1ea8e52f276",
   "metadata": {},
   "outputs": [],
   "source": [
    "simulator.state"
   ]
  },
  {
   "cell_type": "code",
   "execution_count": null,
   "id": "bae4b218-0530-4550-b532-b5f50fcea1ee",
   "metadata": {},
   "outputs": [],
   "source": [
    "from vivarium.simulator.api import SimulatorServer"
   ]
  },
  {
   "cell_type": "code",
   "execution_count": null,
   "id": "b76b03c5-f1a4-462d-9fbb-cf98bdb6723d",
   "metadata": {},
   "outputs": [],
   "source": [
    "simulator = SimulatorServer()"
   ]
  },
  {
   "cell_type": "code",
   "execution_count": null,
   "id": "1396a049-47a3-44ac-8e74-680198f8d17b",
   "metadata": {},
   "outputs": [],
   "source": [
    "from urllib.parse import urljoin\n",
    "urljoin?"
   ]
  },
  {
   "cell_type": "code",
   "execution_count": null,
   "id": "27f536a1-990a-4e19-a149-a9312aac645b",
   "metadata": {},
   "outputs": [],
   "source": [
    "simulator.is_started()"
   ]
  },
  {
   "cell_type": "code",
   "execution_count": null,
   "id": "a6f79419-1037-4986-8631-d883320acd30",
   "metadata": {},
   "outputs": [],
   "source": [
    "simulator.start_sim()"
   ]
  },
  {
   "cell_type": "code",
   "execution_count": null,
   "id": "c9b623cc-16ac-40af-b055-0f95b6db6f51",
   "metadata": {},
   "outputs": [],
   "source": [
    "simulator.stop_sim()"
   ]
  },
  {
   "cell_type": "code",
   "execution_count": null,
   "id": "83e57b2b-e48e-447b-a6fb-c2578887b917",
   "metadata": {},
   "outputs": [],
   "source": [
    "simulator.set_motors(3, [-0.1, 1.])"
   ]
  },
  {
   "cell_type": "code",
   "execution_count": null,
   "id": "5706410e-cfb5-42a3-a326-6af42cb17017",
   "metadata": {},
   "outputs": [],
   "source": [
    "simulator.get_sim_state()"
   ]
  },
  {
   "cell_type": "code",
   "execution_count": null,
   "id": "730f3370-9169-43d6-83b7-bb7fbf0b97bf",
   "metadata": {},
   "outputs": [],
   "source": [
    "x = simulator.get_motors()"
   ]
  },
  {
   "cell_type": "code",
   "execution_count": null,
   "id": "5bbacc1f-5b04-4827-b4ee-01ecf6255a2f",
   "metadata": {},
   "outputs": [],
   "source": [
    "print(x)"
   ]
  },
  {
   "cell_type": "code",
   "execution_count": null,
   "id": "a5477e41-74e1-440c-bda9-f5408fa0c4ba",
   "metadata": {},
   "outputs": [],
   "source": [
    "import numpy as np\n",
    "from vivarium.simulator.simulator import sen\n",
    "idx = 5\n",
    "while True:\n",
    "    state = simulator.get_sim_state()\n",
    "    proxs = np.array(state['PREY']['positions'])[idx, :]\n",
    "    motors = proxs\n",
    "    simulator.set_motors(idx, motors)"
   ]
  },
  {
   "cell_type": "code",
   "execution_count": null,
   "id": "0cd655fd-1178-468c-b0d5-894c970ce684",
   "metadata": {},
   "outputs": [],
   "source": [
    "type(state['PREY']['positions'])"
   ]
  },
  {
   "cell_type": "code",
   "execution_count": null,
   "id": "9fa444b6-8dd0-439d-a3dc-0c14e57eda9e",
   "metadata": {},
   "outputs": [],
   "source": [
    "import numpy as np\n",
    "def set_motors(agent_idx, motors):\n",
    "    res = np.zeros((10, 2))\n",
    "    print(res[agent_idx, :])\n",
    "    res[agent_idx, :] = np.array(motors)\n",
    "    #motor_input = jnp.array(res)\n",
    "    \n",
    "set_motors(0, [0,0])"
   ]
  },
  {
   "cell_type": "code",
   "execution_count": null,
   "id": "f5eb0f58-1440-4409-86c2-5475c7f08b93",
   "metadata": {},
   "outputs": [],
   "source": [
    "import numpy as np\n",
    "import jax.numpy as jnp\n",
    "from jax import vmap\n",
    "\n",
    "behaviors = jnp.array([[[1., 0., 0.], [0., 1., 0.]], [[0., 1., 0.], [1., 0., 0.]], [[0., -1., 1.], [-1., 0., 1.]]])\n",
    "weights = jnp.array([1., 0.5, 1.])\n",
    "#biases = jnp.array([0., 0., 1])\n",
    "\n",
    "print(behaviors)\n",
    "\n",
    "\n",
    "def weighted_behavior(w, b):\n",
    "    f = vmap(lambda w, b: w * b)\n",
    "    return f(w, b).sum(axis=0)\n",
    "\n",
    "print(behaviors.shape)\n",
    "\n",
    "#weighted_behavior = vmap(weighted_behavior, (0, 2))\n",
    "#print('f', f(weights, behaviors))\n",
    "print('wb', weighted_behavior(weights, behaviors).dot(jnp.array([1., 1., 1.])))"
   ]
  },
  {
   "cell_type": "code",
   "execution_count": null,
   "id": "ba8bb37b-0be1-4724-9db2-16710c41549d",
   "metadata": {},
   "outputs": [],
   "source": [
    "f1 = lambda biases, w, b: biases + w * b\n",
    "f1(1, 1, jnp.array([[-1., 0.], [0., -1.]]))"
   ]
  },
  {
   "cell_type": "code",
   "execution_count": null,
   "id": "bec4ac2e-56f0-495d-bcb8-22ad4fd4fe20",
   "metadata": {},
   "outputs": [],
   "source": [
    "def weighted_behavior(w, b):\n",
    "    f = vmap(lambda w, b: w * b)\n",
    "    return f(w, b).sum(axis=0)\n",
    "\n",
    "\n",
    "def behavior(weights, behavior_map, proxs):\n",
    "    return weighted_behavior(weights, behavior_map).dot(jnp.hstack((proxs, 1.)))"
   ]
  },
  {
   "cell_type": "code",
   "execution_count": null,
   "id": "f04f0b65-fd03-4a35-b2eb-8e8a3d402cfe",
   "metadata": {},
   "outputs": [],
   "source": [
    "behavior(weights, behaviors, jnp.array([0, 0.]))"
   ]
  },
  {
   "cell_type": "code",
   "execution_count": null,
   "id": "9239b1ab-4b1d-472f-8c9c-9e61b11ba08e",
   "metadata": {},
   "outputs": [],
   "source": [
    "jnp.hstack((jnp.array([0., 1.]), 2.))"
   ]
  },
  {
   "cell_type": "code",
   "execution_count": null,
   "id": "e61c63d2-0c8e-4ef2-b2b0-544be2045e73",
   "metadata": {},
   "outputs": [],
   "source": [
    "import asyncio"
   ]
  },
  {
   "cell_type": "code",
   "execution_count": null,
   "id": "5e9c00e9-460e-4fa3-9b41-c9c8fdc7495e",
   "metadata": {},
   "outputs": [],
   "source": [
    "async def main():\n",
    "    await asyncio.sleep(1)\n",
    "    print('hello')\n",
    "\n",
    "asyncio.run(main())"
   ]
  },
  {
   "cell_type": "code",
   "execution_count": null,
   "id": "3ba4cc0f-87f2-452c-856e-e371f60561ac",
   "metadata": {},
   "outputs": [],
   "source": [
    "import time\n",
    "\n",
    "async def main():\n",
    "    print(\"start\")\n",
    "    time.sleep(5)\n",
    "    print(\"stop\")\n",
    "    \n",
    "await main()"
   ]
  },
  {
   "cell_type": "code",
   "execution_count": null,
   "id": "5e07ecb1-85d6-432e-8128-a38094e199b2",
   "metadata": {},
   "outputs": [],
   "source": [
    "import asyncio\n",
    "\n",
    "async def hello():\n",
    "  print('Hello')\n",
    "  await asyncio.sleep(3)\n",
    "  print('world')\n",
    "\n",
    "await hello()"
   ]
  },
  {
   "cell_type": "code",
   "execution_count": null,
   "id": "7703cd0e-7b7b-46bb-9fb8-31b568a5b570",
   "metadata": {},
   "outputs": [],
   "source": []
  }
 ],
 "metadata": {
  "kernelspec": {
   "display_name": "Python 3 (ipykernel)",
   "language": "python",
   "name": "python3"
  },
  "language_info": {
   "codemirror_mode": {
    "name": "ipython",
    "version": 3
   },
   "file_extension": ".py",
   "mimetype": "text/x-python",
   "name": "python",
   "nbconvert_exporter": "python",
   "pygments_lexer": "ipython3",
   "version": "3.8.16"
  }
 },
 "nbformat": 4,
 "nbformat_minor": 5
}
