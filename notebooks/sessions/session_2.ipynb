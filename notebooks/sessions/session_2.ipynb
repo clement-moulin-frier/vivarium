{
 "cells": [
  {
   "cell_type": "markdown",
   "metadata": {},
   "source": [
    "# Practical session 2: Implementing reactive behaviors"
   ]
  },
  {
   "cell_type": "markdown",
   "metadata": {},
   "source": [
    "## Preliminary notes"
   ]
  },
  {
   "cell_type": "markdown",
   "metadata": {},
   "source": [
    "**Reminders :** \n",
    "- Save your work as indicated at the beginning of the `session_1.ipynb` notebook.\n",
    "- Each time you encounter a cell containing code in this notebook (as in the cell starting with `from vivarium.controllers...` below), you have to execute it by clicking on the cell and pressing `Shift+Enter` (unless it is explicitly specified not to do it). This will import the necessary modules and functions to use the simulator.\n",
    "\n",
    "<!-- TODO: load scene !-->"
   ]
  },
  {
   "cell_type": "code",
   "execution_count": 1,
   "metadata": {},
   "outputs": [],
   "source": [
    "from vivarium.controllers.notebook_controller import NotebookController\n",
    "from vivarium.utils.handle_server_interface import start_server_and_interface, stop_server_and_interface"
   ]
  },
  {
   "cell_type": "markdown",
   "metadata": {},
   "source": [
    "Then, launch the simulator for this session as well as the interface : "
   ]
  },
  {
   "cell_type": "code",
   "execution_count": 2,
   "metadata": {},
   "outputs": [
    {
     "name": "stdout",
     "output_type": "stream",
     "text": [
      "/Users/clement/Documents/work_nocloud/dev/vivarium/vivarium/utils\n",
      "\n",
      "STARTING SERVER\n",
      "[2024-12-06 12:55:53,591][__main__][INFO] - Scene running: session_2\n",
      "[2024-12-06 12:55:55,687][vivarium.simulator.simulator][INFO] - Simulator initialized\n",
      "\n",
      "STARTING INTERFACE\n"
     ]
    }
   ],
   "source": [
    "start_server_and_interface(scene_name=\"session_2\")"
   ]
  },
  {
   "cell_type": "markdown",
   "metadata": {},
   "source": [
    "Wait until the interface link shows up (http://localhost:5006/run_interface) and click on it, and make sure the scene is present on your browser. \n",
    "\n",
    "Create a controller that will be used to control the simulation with Python code from this jupyter notebook:"
   ]
  },
  {
   "cell_type": "code",
   "execution_count": 3,
   "metadata": {},
   "outputs": [
    {
     "name": "stderr",
     "output_type": "stream",
     "text": [
      "/Users/clement/Documents/work_nocloud/dev/vivarium/env_vivarium/lib/python3.10/site-packages/jax/_src/ops/scatter.py:96: FutureWarning: scatter inputs have incompatible types: cannot safely cast value from dtype=float32 to dtype=int32 with jax_numpy_dtype_promotion='standard'. In future JAX releases this will result in an error.\n",
      "  warnings.warn(\n"
     ]
    }
   ],
   "source": [
    "controller = NotebookController()"
   ]
  },
  {
   "cell_type": "markdown",
   "metadata": {},
   "source": [
    "Then start the controller:"
   ]
  },
  {
   "cell_type": "code",
   "execution_count": 4,
   "metadata": {},
   "outputs": [
    {
     "name": "stderr",
     "output_type": "stream",
     "text": [
      "2024-12-06 12:55:59,324 Starting Bokeh server version 3.3.4 (running on Tornado 6.4.1)\n",
      "2024-12-06 12:55:59,325 User authentication hooks NOT provided (default user enabled)\n",
      "2024-12-06 12:55:59,326 Bokeh app running at: http://localhost:5006/run_interface\n",
      "2024-12-06 12:55:59,326 Starting Bokeh server with process id: 44911\n"
     ]
    }
   ],
   "source": [
    "controller.run()"
   ]
  },
  {
   "cell_type": "markdown",
   "metadata": {},
   "source": [
    "We will use a single agent in this session, let's create an alias for it as we did in Session 1:"
   ]
  },
  {
   "cell_type": "code",
   "execution_count": 5,
   "metadata": {},
   "outputs": [],
   "source": [
    "agent = controller.agents[0]"
   ]
  },
  {
   "cell_type": "markdown",
   "metadata": {},
   "source": [
    "If at some point things are not going as expected (e.g. the agent doesn't move the way it should in the simulator), follow the steps explaine in Session 1 or in the [troubleshooting tutorial](../tutorials/troubleshooting.ipynb)."
   ]
  },
  {
   "cell_type": "markdown",
   "metadata": {},
   "source": [
    "## Behaviors"
   ]
  },
  {
   "cell_type": "markdown",
   "metadata": {},
   "source": [
    "In the last practical session we saw how to set the agent left and right motor speeds as well as how to read the values returned by the left and right proximeters. We programmed a first simple behavior where the agent slows down when approaching an obstacle. \n",
    "\n",
    "Here is a possible solution for this behavior, if will run for 20 seconds if you execute the next cell:"
   ]
  },
  {
   "cell_type": "code",
   "execution_count": null,
   "metadata": {},
   "outputs": [
    {
     "name": "stdout",
     "output_type": "stream",
     "text": [
      "Iteration 0\n",
      "Iteration 20\n",
      "Iteration 40\n",
      "Iteration 60\n",
      "Iteration 80\n",
      "Iteration 100\n",
      "Iteration 120\n",
      "Iteration 140\n",
      "Iteration 160\n",
      "Iteration 180\n"
     ]
    }
   ],
   "source": [
    "# Repeat 200 times the indented code:\n",
    "for i in range(200):\n",
    "    # print the iteration number every 20 iterations\n",
    "    if i % 20 == 0:\n",
    "        print(f\"Iteration {i}\")\n",
    "        \n",
    "    # Read the proximeter values and store them in the \"left\" and \"right\" variables\n",
    "    left, right = agent.sensors()\n",
    "    \n",
    "    # Compute the maximum of the values returned by the left and right proximeters.\n",
    "    max_prox_value = max(left, right)\n",
    "    \n",
    "    # Compute the activation that will be applied to both motors. \n",
    "    # The closer the obstacle (i.e. the higher the max value of the proximeters), the lower the motor activation should be.\n",
    "    # Note that motor activation is bounded between 0 and 1\n",
    "    motor_activation = 1.0 - max_prox_value\n",
    "    \n",
    "    # Set the activation of both motors to the value we just have computed\n",
    "    agent.left_motor = motor_activation\n",
    "    agent.right_motor = motor_activation\n",
    "    \n",
    "    # Waits for 100 milliseconds before starting the next iteration (to avoid overloading you computer)\n",
    "    controller.wait(0.1)\n",
    "\n",
    "# Stop the robot\n",
    "agent.stop_motors()"
   ]
  },
  {
   "cell_type": "markdown",
   "metadata": {},
   "source": [
    "## Practical definition of a behavior"
   ]
  },
  {
   "cell_type": "markdown",
   "metadata": {},
   "source": [
    "The example behavior defined above illustrates the general structure of a behavior. \n",
    "\n",
    "**Definition:** a behavior consists of a loop repeated at a certain frequency where (1) the values of relevant sensors are read, (2) some computation is performed using these values and (3) commands are sent to the agent motors according to the result of this computation.\n",
    "\n",
    "In the example behavior above, step (1) corresponds to the reading of the left and right proximeters activations. Step (2) corresponds to the computation of `motor_activation` according to the maximum of the proximeter activations. Finally, Step (3) corresponds to setting the speed of both motors to the value of `motor_activation`.\n",
    "\n",
    "Note that the code above will take a while to be executed (approximately `200 * 0.1 = 20` seconds, since the loop is repeated 200 times). During this time, you can't execute anything else in this notebook. To stop the execution before it terminates by itself you have manually stop the cell execution (by pressing the \"stop-like\" button, located either in the top menu bar of this document or next to the executing cell).  \n",
    "\n",
    "This approach has three major drawbacks:\n",
    "- Only one behavior can run at a time.\n",
    "- The behavior has a fixed duration (at one point it will stop)\n",
    "- We can't stop a behavior programmatically (instead we have to press the \"stop-like\" button).\n",
    "\n",
    "To overcome these problems, we provide a more flexible method for defining and executing behaviors. Let's rewrite the behavior above using that method. First make sure the previous code is not still being executed by pressing the \"stop-like\" button. Now, defining a behavior boils down to defining a function which includes the core of the behavioral loop:"
   ]
  },
  {
   "cell_type": "code",
   "execution_count": 6,
   "metadata": {},
   "outputs": [],
   "source": [
    "# The code in this cell defines a function called slow_down (first line),\n",
    "# which takes as argument the agent (first line, in parenthesis),\n",
    "# and returns the left and right wheel activation to be applied to the motors (last line)\n",
    "\n",
    "def slow_down(agent):\n",
    "    # Step (1): read the sensor values\n",
    "    left, right = agent.sensors()\n",
    "    \n",
    "    # Step (2): do some computation\n",
    "    max_prox_value = max(left, right)\n",
    "    motor_activation = 1.0 - max_prox_value\n",
    "    \n",
    "    # Step (3): return the motor activations for left and right motors\n",
    "    return motor_activation, motor_activation"
   ]
  },
  {
   "cell_type": "markdown",
   "metadata": {},
   "source": [
    "The cell above defines a function called `slow_down`. In computer programming, a function is a sequence of instructions that perform a specific task depending on some parameters (called the arguments of the function) and that returns a result. In this sense it is very similar to the mathematical definition of a function, as for example when we write `y = f(x)`, where `f` is the name of the function, `x` is its argument, and `y` is the result. For example, we can define a function `square` that computes the square of its argument as follows:\n"
   ]
  },
  {
   "cell_type": "code",
   "execution_count": 13,
   "metadata": {},
   "outputs": [
    {
     "name": "stdout",
     "output_type": "stream",
     "text": [
      "9\n",
      "25\n"
     ]
    }
   ],
   "source": [
    "def square(x):\n",
    "    return x * x\n",
    "\n",
    "print(square(3))\n",
    "\n",
    "print(square(5))"
   ]
  },
  {
   "cell_type": "markdown",
   "metadata": {},
   "source": [
    "\n",
    "As seen above, the definition of a function in Python starts with the keyword `def`, followed by an arbitrary name we choose for the function (here we called it `slow_down` to reflect the purpose of the behavior defined in it). Then come the arguments of the function in parenthesis (in our case it will be the variable representing the agent, called `agent`) and finally the symbol `:`. Below the first line, you find the instructions that this function will execute when it will be called. Those instructions need to be intended right with respect to the first line. In this example, the instructions are the exact same as in the core of the previous `for` loop, except that:\n",
    "- we omit the last line `controller.wait(0.1)` (the frequency at which the behavior will be executed will be set in more rigorous way below),\n",
    "- we don't directly set the motor activations using `agent.left_motor` and `agent.right_motor`. Instead, we *return* the values of the motor activations in the last line and they will be automatically sent to the agent motors when the behavior will be executed. In the last line, the values after the `return` keyword have to be the left and right wheel activation (in this order). Both activations have to be between 0 and 1. (In the `slow_down` behavior above, both activations are the same since we don't want the agent to turn).\n",
    "\n",
    "Note that a function definition, as the one above, does not execute the instructions contained in it, it only defines them so that they can be executed later when the function will be *called*. In our case, we will not explicitly call the function, instead it will be done behind the scene when we will start the behavior on the agent (see below).\n",
    "\n",
    "Once the behavior is defined as a function, we can attach it to the agent by executing:\n"
   ]
  },
  {
   "cell_type": "code",
   "execution_count": 17,
   "metadata": {},
   "outputs": [],
   "source": [
    "agent.attach_behavior(slow_down)"
   ]
  },
  {
   "cell_type": "markdown",
   "metadata": {},
   "source": [
    "The line above means: attach the behavior defined in the function `slow_down` to the `agent` and execute it. You should now see the agent executing the exact same behavior as before (if the agent is already close to an obstacle, move it to a more open space to observe it slowing down).\n",
    "\n",
    "Executing the above line will basically do the same thing as executing the `for` loop at the start of this document. Here, the function `slow_down` will be executed indefinitely. \n",
    "\n",
    "Using this method has the following advantages over the previous method using the `for` loop:\n",
    "- It is more compact to write and it will allow to better structure your code when you will have to deal with multiple behaviors and multiple agents.\n",
    "- It is not blocking as the previous method was. This means that you can still use this notebook while the behavior is running on the agent. For example, let's read the proximeter activations while the agent is still executing the `slow_down` behavior:"
   ]
  },
  {
   "cell_type": "code",
   "execution_count": 11,
   "metadata": {},
   "outputs": [
    {
     "data": {
      "text/plain": [
       "[0.4055134057998657, 0.0]"
      ]
     },
     "execution_count": 11,
     "metadata": {},
     "output_type": "execute_result"
    }
   ],
   "source": [
    "agent.sensors()"
   ]
  },
  {
   "cell_type": "markdown",
   "metadata": {},
   "source": [
    "Each time you execute the cell above, you should see the proximeter activation changing because the agent is moving. However, you should avoid setting motor values while a behavior is running since this could conflict with the behavior also setting those values. When a behavior is attached, it runs indefinitely until you explicitly detach it. To do so, you have to execute:"
   ]
  },
  {
   "cell_type": "code",
   "execution_count": 18,
   "metadata": {},
   "outputs": [],
   "source": [
    "agent.detach_behavior(\"slow_down\")"
   ]
  },
  {
   "cell_type": "markdown",
   "metadata": {},
   "source": [
    "Note that the agent will continue moving using the last motor speeds that were set by the behavior. You can set both motor speeds to 0 by executing:"
   ]
  },
  {
   "cell_type": "code",
   "execution_count": 19,
   "metadata": {},
   "outputs": [],
   "source": [
    "agent.stop_motors()"
   ]
  },
  {
   "cell_type": "markdown",
   "metadata": {},
   "source": [
    "You can also stop the behavior and stop the motors of the agent in the same line. To demonstrate this, let's first attach the behavior again by executing:"
   ]
  },
  {
   "cell_type": "code",
   "execution_count": 21,
   "metadata": {},
   "outputs": [],
   "source": [
    "agent.attach_behavior(slow_down)"
   ]
  },
  {
   "cell_type": "markdown",
   "metadata": {},
   "source": [
    "Now we detach the behavior, this time setting the `stop_motors` argument to `True` in the `detach_behavior` function:"
   ]
  },
  {
   "cell_type": "code",
   "execution_count": 22,
   "metadata": {},
   "outputs": [],
   "source": [
    "agent.detach_behavior(\"slow_down\", stop_motors=True)"
   ]
  },
  {
   "cell_type": "markdown",
   "metadata": {},
   "source": [
    "The stop_motors argument will automatically execute agent.stop_motors() before detaching the behavior. If you don't want the motors to stop when detaching the behavior, you can set stop_motors to False."
   ]
  },
  {
   "cell_type": "markdown",
   "metadata": {},
   "source": [
    "## More detail on behavior management (optional)\n",
    "<!-- Do we make this optional? -->"
   ]
  },
  {
   "cell_type": "markdown",
   "metadata": {},
   "source": [
    "By default, `attach_behavior` also executes the behavior on the agent it has been attached to. If you don't want to start the behavior when attaching it for some reason, you can set the optional argument `start` to `False` as follows:"
   ]
  },
  {
   "cell_type": "code",
   "execution_count": 23,
   "metadata": {},
   "outputs": [],
   "source": [
    "agent.attach_behavior(slow_down, start=False)"
   ]
  },
  {
   "cell_type": "markdown",
   "metadata": {},
   "source": [
    "Now the agent is \"aware\" of the `slow_down` behavior, but does not execute it. You can check it in the interface: the agent does not move. To execute the behavior you need to explicitely start it:"
   ]
  },
  {
   "cell_type": "code",
   "execution_count": 24,
   "metadata": {},
   "outputs": [],
   "source": [
    "agent.start_behavior(\"slow_down\")"
   ]
  },
  {
   "cell_type": "markdown",
   "metadata": {},
   "source": [
    "This can be useful when you need a better control on when to start or stop behaviors, for example if you want to attach multiple behaviors to the agent and start them all at the same time (will see how to do this in the next session). You can also stop a behavior while keeping it attached with:"
   ]
  },
  {
   "cell_type": "code",
   "execution_count": 25,
   "metadata": {},
   "outputs": [],
   "source": [
    "agent.stop_behavior(\"slow_down\", stop_motors=True)"
   ]
  },
  {
   "cell_type": "markdown",
   "metadata": {},
   "source": [
    "At anytime, you can check what behaviors are attached or started with:"
   ]
  },
  {
   "cell_type": "code",
   "execution_count": 26,
   "metadata": {},
   "outputs": [
    {
     "name": "stdout",
     "output_type": "stream",
     "text": [
      "Attached behaviors: ['slow_down'], Started behaviors: No started behaviors\n"
     ]
    }
   ],
   "source": [
    "agent.print_behaviors()"
   ]
  },
  {
   "cell_type": "markdown",
   "metadata": {},
   "source": [
    "Here it indicated that the `slow_down`is currently attached, but not started."
   ]
  },
  {
   "cell_type": "markdown",
   "metadata": {},
   "source": [
    "**Q1:** To make sure you correctly understand how to attach, start, stop and detach a behavior, complete the following code:"
   ]
  },
  {
   "cell_type": "code",
   "execution_count": 7,
   "metadata": {},
   "outputs": [
    {
     "name": "stdout",
     "output_type": "stream",
     "text": [
      "\n",
      "step 1:\n",
      "No behaviors attached\n",
      "\n",
      "step 2:\n",
      "Attached behaviors: ['slow_down'], Started behaviors: ['slow_down']\n",
      "\n",
      "step 3:\n",
      "No behaviors attached\n",
      "\n",
      "step 4:\n",
      "Attached behaviors: ['slow_down'], No behavior started\n",
      "\n",
      "step 5:\n",
      "Attached behaviors: ['slow_down'], Started behaviors: ['slow_down']\n",
      "\n",
      "step 6:\n",
      "Attached behaviors: ['slow_down'], No behavior started\n",
      "\n",
      "step 7:\n",
      "No behaviors attached\n"
     ]
    }
   ],
   "source": [
    "# First we make sure that no behavior is attach to the agent:\n",
    "agent.detach_all_behaviors()\n",
    "\n",
    "# When checking, it should print \"No behavior attached\":\n",
    "print(\"\\nstep 1:\")\n",
    "agent.print_behaviors() # This will print \"No behavior attached\"\n",
    "\n",
    "# Write just below this line the code that attaches and start the slow_down behavior\n",
    "agent.attach_behavior(slow_down)\n",
    "print(\"\\nstep 2:\")\n",
    "agent.print_behaviors() # This will print \"Attached behaviors: ['slow_down'], Started behaviors: ['slow_down']\"\n",
    "\n",
    "# Write just below this line the code that detaches the slow_down behavior\n",
    "agent.detach_behavior(\"slow_down\")\n",
    "print(\"\\nstep 3:\")\n",
    "agent.print_behaviors() # This will print \"No behavior attached\"\n",
    "\n",
    "# Write just below this line the code that attaches the slow_down behavior but does not start it\n",
    "agent.attach_behavior(slow_down, start=False)\n",
    "print(\"\\nstep 4:\")\n",
    "agent.print_behaviors() # This will print \"Attached behaviors: ['slow_down'], No started behavior\"\n",
    "\n",
    "# Write just below this line the code that starts the slow_down behavior\n",
    "agent.start_behavior(\"slow_down\")\n",
    "print(\"\\nstep 5:\")\n",
    "agent.print_behaviors() # This will print \"Attached behaviors: ['slow_down'], Started behaviors: ['slow_down']\"\n",
    "\n",
    "# Write just below this line the code that stops the slow_down behavior\n",
    "agent.stop_behavior(\"slow_down\")\n",
    "print(\"\\nstep 6:\")\n",
    "agent.print_behaviors() # This will print \"Attached behaviors: ['slow_down'], Started behaviors: No active behaviors\"\n",
    "\n",
    "# Write just below this line the code that detaches the slow_down behavior\n",
    "agent.detach_behavior(\"slow_down\")\n",
    "print(\"\\nstep 7:\")\n",
    "agent.print_behaviors() # This will print \"No behavior attached\"\n"
   ]
  },
  {
   "cell_type": "markdown",
   "metadata": {},
   "source": [
    "By default, the behaviors of the agents will be executed at every time step of the simulation. You can choose a different interval of behavior execution by setting the `interval` argument when attaching the behavior to the agent. For example, to execute the `slow_down` behavior every 10 steps of the simulation, you can execute:"
   ]
  },
  {
   "cell_type": "markdown",
   "metadata": {},
   "source": [
    "We recommend to not change the default interval unless the simulator becomes slow. This should not be the case for now, but it might be when we learn to program more complex simulation. "
   ]
  },
  {
   "cell_type": "markdown",
   "metadata": {},
   "source": [
    "You can check how many step of the simulation is currently executed per second with:"
   ]
  },
  {
   "cell_type": "code",
   "execution_count": 29,
   "metadata": {},
   "outputs": [
    {
     "name": "stdout",
     "output_type": "stream",
     "text": [
      "measuring the FPS (number of steps per second) in the controller during 2 seconds ...\n"
     ]
    },
    {
     "name": "stdout",
     "output_type": "stream",
     "text": [
      "FPS: 69.50\n"
     ]
    }
   ],
   "source": [
    "controller.print_fps()"
   ]
  },
  {
   "cell_type": "markdown",
   "metadata": {},
   "source": [
    "## Summary: managing behaviors the simple way"
   ]
  },
  {
   "cell_type": "markdown",
   "metadata": {},
   "source": [
    "Let's summarize the method we have just describe to define, attach and detach a behavior:"
   ]
  },
  {
   "cell_type": "code",
   "execution_count": null,
   "metadata": {},
   "outputs": [],
   "source": [
    "# First, detach all the behaviors that might still be attached to the agent\n",
    "# (it is a good practice to do it each time you want to define a new behavior, or modify an existing one):\n",
    "agent.detach_all_behaviors(stop_motors=True)"
   ]
  },
  {
   "cell_type": "code",
   "execution_count": 31,
   "metadata": {},
   "outputs": [],
   "source": [
    "# Define a behavior where the agent progressively slows down when it approaches an obstacle:\n",
    "def slow_down(agent):\n",
    "    # Step (1): read the sensor values\n",
    "    left, right = agent.sensors()\n",
    "    \n",
    "    # Step (2): do some computation\n",
    "    sum_of_proxs = left + right\n",
    "    motor_activation = (2 - sum_of_proxs) / 2\n",
    "    \n",
    "    # Step (3): return the motor activations\n",
    "    return motor_activation, motor_activation"
   ]
  },
  {
   "cell_type": "code",
   "execution_count": null,
   "metadata": {},
   "outputs": [],
   "source": [
    "# Attach and start this behavior to the agent, and specify the step interval at which it will be executed\n",
    "agent.attach_behavior(slow_down)"
   ]
  },
  {
   "cell_type": "markdown",
   "metadata": {},
   "source": [
    "When executing the code above, you should see the behavior being executed on the agent in the simulator. Then, to detach the behavior:"
   ]
  },
  {
   "cell_type": "code",
   "execution_count": null,
   "metadata": {},
   "outputs": [],
   "source": [
    "agent.detach_behavior(slow_down, stop_motors=True)"
   ]
  },
  {
   "cell_type": "markdown",
   "metadata": {},
   "source": [
    "An alternative way is to stop and detach all the behaviors running on the agent. This avoids having to specify the name of the behavior (`slown_down` in the cell above) and also stops systematically the behavior before detaching it:\n",
    "\n",
    "+ stop motors (should me make it a default arg with this function ? )"
   ]
  },
  {
   "cell_type": "code",
   "execution_count": 35,
   "metadata": {},
   "outputs": [],
   "source": [
    "agent.detach_all_behaviors(stop_motors=True)"
   ]
  },
  {
   "cell_type": "markdown",
   "metadata": {},
   "source": [
    "## Implementing the Braitenberg vehicles"
   ]
  },
  {
   "cell_type": "markdown",
   "metadata": {},
   "source": [
    "Let's now practice a bit. Remember the Braitenberg Vehicle examples we have seen in [this slide](https://docs.google.com/presentation/d/1s6ibk_ACiJb9CERJ_8L_b4KFu9d04ZG_htUbb_YSYT4/edit#slide=id.g31e1b425a3_0_0). Those vehicles are very similar to the agents in the simulator. \n",
    "- A Braintenber Vehicle is equipped with two sensors that are activated according to the proximity of a source. With the agent, each proximeter sensor returns a value between 0 and 1 that is inversely proportional to the distance from the closest obstacle it perceives (the closer the obstacle, the highest to proximeter activation). Sensor values are accessed with `agent.sensors()`\n",
    "- A Braintenber Vehicle is equipped with two wheels. An agent in the simulator is also equipped with two whells, whose rotating speeds are controlled through the activation of each motor independently with a value between 0 and 1 (where 1 means maximum speed). E.g. setting the left wheel at full speed is achieved with `agent.left_motor = 1`, while stopping the right wheel is achieved with `agent.right_motor = 0`.\n",
    "- A behavior associates sensor activations to motor activations. In the Braitenberg Vehicles, this is achieved through connections that are either excitatory (the activity of the sensor increases the activity of the motor it is connected to) or inhibitory (the activity of the sensor decreases the activity of the motor it is connected to). In the agent, we have seen above that we can define a behavior as a function that (1) read the sensor activities (2) perform some computation and (3) use the result of that computation to set the motor speed. \n",
    "\n",
    "Therefore, we can implement in the agent the various types of vehicle behaviors shown in the slide, where defining excitatory and inhibitory connections will be done through Step (2) above (*perform some computation*). We have actually already done it with the `slow_down` behavior we have defined above.  "
   ]
  },
  {
   "cell_type": "markdown",
   "metadata": {},
   "source": [
    "**Q2:** Define verbally the `slow_down` behavior in term of inhibitory and excitatory connections (do it by double clicking on the next cell). Your answer must look like this (where `TO_FILL` is either the word \"excitatory\" or \"inhibitory\"):\n",
    "- The activity of the left sensor is connected to the left motor through a TO_FILL connection.\n",
    "- The activity of the left sensor is connected to the right motor through a TO_FILL connection.\n",
    "- The activity of the right sensor is connected to the left motor through a TO_FILL connection.\n",
    "- The activity of the right sensor is connected to the right motor through a TO_FILL connection."
   ]
  },
  {
   "cell_type": "markdown",
   "metadata": {},
   "source": [
    "*Double click on this cell and replace this text by your answer*"
   ]
  },
  {
   "cell_type": "markdown",
   "metadata": {},
   "source": [
    "Let's see how to define the `fear` behavior illustrated in [the slide](https://docs.google.com/presentation/d/1s6ibk_ACiJb9CERJ_8L_b4KFu9d04ZG_htUbb_YSYT4/edit#slide=id.g31e1b425a3_0_0) using the method we have seen: "
   ]
  },
  {
   "cell_type": "code",
   "execution_count": 8,
   "metadata": {},
   "outputs": [],
   "source": [
    "def fear(agent):\n",
    "    left, right = agent.sensors()\n",
    "    return left, right"
   ]
  },
  {
   "cell_type": "markdown",
   "metadata": {},
   "source": [
    "That's pretty easy, isn't it? As illustrated in the slide, the `fear` behavior simply consists in the left sensor exciting the left motor, and the right sensor exciting the right motor. Therefore, the simplest way of programming this behavior is to directly map the left and right sensor activations to the left and right motor speed, respectively. This is what is done in the function definition just above. Since both sensor and motor values are bounded between 0 and 1, there is nothing else to take care of.\n",
    "\n",
    "Let's now analyze the properties of this `fear` behavior in more detail. Attach and start the `fear` behavior by executing the cell below, and observe how the agent behaves."
   ]
  },
  {
   "cell_type": "code",
   "execution_count": 9,
   "metadata": {},
   "outputs": [
    {
     "name": "stderr",
     "output_type": "stream",
     "text": [
      "2024-12-06 14:35:20,690 WebSocket connection opened\n",
      "2024-12-06 14:35:20,704 ServerConnection created\n"
     ]
    }
   ],
   "source": [
    "agent.detach_all_behaviors()  # Just in case a behavior is still attached\n",
    "\n",
    "agent.attach_behavior(fear)\n",
    "agent.start_all_behaviors()"
   ]
  },
  {
   "cell_type": "markdown",
   "metadata": {},
   "source": [
    "Note that this behavior will make the robot move only if at least one if its sensor detects an object (ojects are represented as squares in the interface). If no object is with the agent's field of view, try to move either the agent or some objects (see the [web interface tutorial](../tutorials/web_interface_tutorial.md) for how to move entities in the interface)."
   ]
  },
  {
   "cell_type": "markdown",
   "metadata": {},
   "source": [
    "**Q3:** Use the cell below to answer the following questions.\n",
    "<!-- TODO: change that because there is no walls/corners !-->\n",
    "1. What happens when the activity of both sensors is null? (i.e. no object is detected.) Why?\n",
    "2. How does the agent react when it detects an object? Why?\n",
    "3. Imagine a small animal equipped with such a behavior in the wild. What would be its evolutionary advantages and drawbacks? (could it escape from a predator? could it collect food? Could it hide itself?)"
   ]
  },
  {
   "cell_type": "markdown",
   "metadata": {},
   "source": [
    "*Double click on this cell and replace this text by your answer*"
   ]
  },
  {
   "cell_type": "markdown",
   "metadata": {},
   "source": [
    "**Q4:** Program the `aggression` behavior illustrated in [the slide](https://docs.google.com/presentation/d/1s6ibk_ACiJb9CERJ_8L_b4KFu9d04ZG_htUbb_YSYT4/edit#slide=id.g31e1b425a3_0_0), which consists of crossed excitatory connections. "
   ]
  },
  {
   "cell_type": "code",
   "execution_count": 10,
   "metadata": {
    "collapsed": true
   },
   "outputs": [],
   "source": [
    "def aggression(agent):\n",
    "    left, right = agent.sensors()\n",
    "    return right, left"
   ]
  },
  {
   "cell_type": "markdown",
   "metadata": {},
   "source": [
    "Before executing the behavior you have defined in the cell just above, first detach the previous one and immobilize the agent:"
   ]
  },
  {
   "cell_type": "code",
   "execution_count": 11,
   "metadata": {},
   "outputs": [],
   "source": [
    "agent.detach_all_behaviors(stop_motors=True)"
   ]
  },
  {
   "cell_type": "markdown",
   "metadata": {},
   "source": [
    "Then attach the `aggression` behavior:"
   ]
  },
  {
   "cell_type": "code",
   "execution_count": null,
   "metadata": {},
   "outputs": [],
   "source": [
    "agent.attach_behavior(aggression)\n"
   ]
  },
  {
   "cell_type": "markdown",
   "metadata": {},
   "source": [
    "**Q5:** Use the cell below to answer the following questions.\n",
    "\n",
    "3. How does the agent reacts when it approaches an object?  Why?\n",
    "2. How does the agent react when close to a moveable object (the orange squares in the scene) Why?\n",
    "4. Imagine an animal equipped with such a behavior in the wild. What would be its evolutionary advantages and drawbacks? (could it escape from a predator? could it catch preys? Could it hide itself? Could it move things?)"
   ]
  },
  {
   "cell_type": "markdown",
   "metadata": {},
   "source": [
    "*Double click on this cell and replace this text by your answer*"
   ]
  },
  {
   "cell_type": "markdown",
   "metadata": {},
   "source": [
    "That's it for this practical session. You can now close the session:"
   ]
  },
  {
   "cell_type": "code",
   "execution_count": 13,
   "metadata": {},
   "outputs": [
    {
     "name": "stderr",
     "output_type": "stream",
     "text": [
      " Found the process scripts/run_interface.py running with this PID: 44911\n",
      " Found the process scripts/run_server.py running with this PID: 44900\n",
      "Killed process with PID: 44911\n",
      "Killed process with PID: 44900\n",
      "\n",
      "Server and Interface processes have been stopped\n",
      "\n"
     ]
    },
    {
     "name": "stdout",
     "output_type": "stream",
     "text": [
      "Simulator is already stopped\n",
      "\n",
      "Stopping server and interface processes\n",
      "\n",
      "Received signal 15, shutting down\n"
     ]
    },
    {
     "data": {
      "text/plain": [
       "False"
      ]
     },
     "execution_count": 13,
     "metadata": {},
     "output_type": "execute_result"
    }
   ],
   "source": [
    "controller.stop()\n",
    "stop_server_and_interface(safe_mode=False)"
   ]
  },
  {
   "cell_type": "markdown",
   "metadata": {},
   "source": [
    "Now that you finished session 2, you can now jump to the notebook of [session 3](session_3.ipynb)."
   ]
  }
 ],
 "metadata": {
  "kernelspec": {
   "display_name": "env_vivarium",
   "language": "python",
   "name": "python3"
  },
  "language_info": {
   "codemirror_mode": {
    "name": "ipython",
    "version": 3
   },
   "file_extension": ".py",
   "mimetype": "text/x-python",
   "name": "python",
   "nbconvert_exporter": "python",
   "pygments_lexer": "ipython3",
   "version": "3.10.14"
  }
 },
 "nbformat": 4,
 "nbformat_minor": 1
}
