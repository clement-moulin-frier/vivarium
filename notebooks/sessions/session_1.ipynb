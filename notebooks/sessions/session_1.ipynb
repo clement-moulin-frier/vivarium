{
 "cells": [
  {
   "cell_type": "markdown",
   "metadata": {},
   "source": [
    "# Practical session 1: First steps with the simulator"
   ]
  },
  {
   "cell_type": "markdown",
   "metadata": {},
   "source": [
    "Welcome to the first practical session! In the [`quickstart_tutorial`](../tutorials/quickstart_tutorial.ipynb), we saw the basics of how to control the simulator using a Jupyter Notebook. Now, we will start to implement basic behaviors.\n",
    "\n",
    "Each practical session corresponds to a Jupyter Notebook like this one, where you will find text explaining concepts and methods, as well as questions to be answered (indicated as Q1, Q2 etc...). Questions have to be answered directly in the notebook. Once you have completed a session, you can deliver this notebook file. It is located on your computer in the directory `<PATH_TO_VIVARIUM_REPO>/sessions/session_1.ipynb` (where `<PATH_TO_VIVARIUM_REPO>` is the directory where you have installed the Viviarum library).\n",
    "\n",
    "Each time you encounter a cell containing code in this notebook (as in the cell starting with `from vivarium.controllers...` below), you have to execute it by clicking on the cell and pressing `Shift+Enter` (unless it is explicitly specified not to do it). This will import the necessary modules and functions to use the simulator."
   ]
  },
  {
   "cell_type": "markdown",
   "metadata": {},
   "source": [
    "First, we need to import the necessary modules and creating the environment like in the other Notebook :"
   ]
  },
  {
   "cell_type": "code",
   "execution_count": 1,
   "metadata": {},
   "outputs": [],
   "source": [
    "from vivarium.controllers.notebook_controller import NotebookController\n",
    "from vivarium.utils.handle_server_interface import start_server_and_interface, stop_server_and_interface"
   ]
  },
  {
   "cell_type": "markdown",
   "metadata": {},
   "source": [
    "Execute the following cell to start the simulator and the interface. We will use a scene called `session_1`. {TODO} Check we explain somewhere the concept of a scene. Maybe in the quickstart?"
   ]
  },
  {
   "cell_type": "code",
   "execution_count": 2,
   "metadata": {},
   "outputs": [
    {
     "name": "stdout",
     "output_type": "stream",
     "text": [
      "/Users/clement/Documents/work_nocloud/dev/vivarium/vivarium/utils\n",
      "\n",
      "STARTING SERVER\n",
      "[2024-12-05 12:06:29,433][__main__][INFO] - Scene running: session_1\n",
      "[2024-12-05 12:06:31,345][vivarium.simulator.simulator][INFO] - Simulator initialized\n",
      "\n",
      "STARTING INTERFACE\n"
     ]
    },
    {
     "name": "stderr",
     "output_type": "stream",
     "text": [
      "2024-12-05 12:06:35,286 Starting Bokeh server version 3.3.4 (running on Tornado 6.4.1)\n",
      "2024-12-05 12:06:35,288 User authentication hooks NOT provided (default user enabled)\n",
      "2024-12-05 12:06:35,289 Bokeh app running at: http://localhost:5006/run_interface\n",
      "2024-12-05 12:06:35,289 Starting Bokeh server with process id: 38921\n"
     ]
    }
   ],
   "source": [
    "start_server_and_interface(scene_name=\"session_1\")"
   ]
  },
  {
   "cell_type": "markdown",
   "metadata": {},
   "source": [
    "The command above starts both the simulator and the interface. Click on the link displayed in the cell output in order to open the interface in your favorite web browser."
   ]
  },
  {
   "cell_type": "markdown",
   "metadata": {},
   "source": [
    "Now, we can instantiate a `controller` object, which will enable controlling the simulator from this notebook. This whole process will be done at the start of every notebook from now on."
   ]
  },
  {
   "cell_type": "code",
   "execution_count": 4,
   "metadata": {},
   "outputs": [],
   "source": [
    "controller = NotebookController()\n",
    "# {TODO} Can we avoid the warning message? (low priority)"
   ]
  },
  {
   "cell_type": "markdown",
   "metadata": {},
   "source": [
    "This time, only one agent should be present. We can check this with this instruction:"
   ]
  },
  {
   "cell_type": "code",
   "execution_count": 5,
   "metadata": {},
   "outputs": [
    {
     "data": {
      "text/plain": [
       "[<vivarium.controllers.notebook_controller.Agent at 0x365558700>]"
      ]
     },
     "execution_count": 5,
     "metadata": {},
     "output_type": "execute_result"
    }
   ],
   "source": [
    "controller.agents"
   ]
  },
  {
   "cell_type": "markdown",
   "metadata": {},
   "source": [
    "Indeed, the list contains a single `Agent` object."
   ]
  },
  {
   "cell_type": "markdown",
   "metadata": {},
   "source": [
    "Next, we start the simulation:"
   ]
  },
  {
   "cell_type": "code",
   "execution_count": 6,
   "metadata": {},
   "outputs": [
    {
     "name": "stderr",
     "output_type": "stream",
     "text": [
      "2024-12-05 12:11:45,617 WebSocket connection opened\n",
      "2024-12-05 12:11:45,628 ServerConnection created\n"
     ]
    }
   ],
   "source": [
    "controller.run()"
   ]
  },
  {
   "cell_type": "markdown",
   "metadata": {},
   "source": [
    "Nothing should move for now, this is normal as the agents have all their motors stopped.\n",
    "\n",
    "It can be the case that at one point during the session, the connection is lost and consequently you can't control the robot anymore. If you experience this problem, follow the steps below. \n",
    "\n",
    "{TODO} I have changed the steps below, please check\n",
    "\n",
    "1. Stop the simulator, delete the `controller` object and stop the simulator and inferface (you might be asked to confirm it, in that case just enter `y`for yes):"
   ]
  },
  {
   "cell_type": "code",
   "execution_count": 3,
   "metadata": {},
   "outputs": [
    {
     "name": "stderr",
     "output_type": "stream",
     "text": [
      " Found the process scripts/run_interface.py running with this PID: 39036\n",
      " Found the process scripts/run_server.py running with this PID: 39028\n"
     ]
    },
    {
     "name": "stdout",
     "output_type": "stream",
     "text": [
      "Simulator is already stopped\n",
      "\n",
      "Stopping server and interface processes\n",
      "\n"
     ]
    },
    {
     "name": "stderr",
     "output_type": "stream",
     "text": [
      "Killed process with PID: 39036\n",
      "Killed process with PID: 39028\n",
      "\n",
      "Server and Interface processes have been stopped\n",
      "\n"
     ]
    },
    {
     "name": "stdout",
     "output_type": "stream",
     "text": [
      "Received signal 15, shutting down\n"
     ]
    },
    {
     "data": {
      "text/plain": [
       "False"
      ]
     },
     "execution_count": 3,
     "metadata": {},
     "output_type": "execute_result"
    }
   ],
   "source": [
    "controller.stop()\n",
    "del controller\n",
    "stop_server_and_interface()"
   ]
  },
  {
   "cell_type": "markdown",
   "metadata": {},
   "source": [
    "2. Restart this notebook from the menu bar.\n",
    "\n",
    "3. Re-import the necessary modules, re-start the simulator and interface, re-create the `controller` object and run it: "
   ]
  },
  {
   "cell_type": "code",
   "execution_count": 1,
   "metadata": {},
   "outputs": [
    {
     "name": "stdout",
     "output_type": "stream",
     "text": [
      "/Users/clement/Documents/work_nocloud/dev/vivarium/vivarium/utils\n",
      "\n",
      "STARTING SERVER\n",
      "[2024-12-05 12:25:38,808][__main__][INFO] - Scene running: session_1\n",
      "[2024-12-05 12:25:40,791][vivarium.simulator.simulator][INFO] - Simulator initialized\n",
      "\n",
      "STARTING INTERFACE\n"
     ]
    },
    {
     "name": "stderr",
     "output_type": "stream",
     "text": [
      "/Users/clement/Documents/work_nocloud/dev/vivarium/env_vivarium/lib/python3.10/site-packages/jax/_src/ops/scatter.py:96: FutureWarning: scatter inputs have incompatible types: cannot safely cast value from dtype=float32 to dtype=int32 with jax_numpy_dtype_promotion='standard'. In future JAX releases this will result in an error.\n",
      "  warnings.warn(\n"
     ]
    },
    {
     "name": "stderr",
     "output_type": "stream",
     "text": [
      "2024-12-05 12:25:44,539 Starting Bokeh server version 3.3.4 (running on Tornado 6.4.1)\n",
      "2024-12-05 12:25:44,541 User authentication hooks NOT provided (default user enabled)\n",
      "2024-12-05 12:25:44,542 Bokeh app running at: http://localhost:5006/run_interface\n",
      "2024-12-05 12:25:44,542 Starting Bokeh server with process id: 39100\n",
      "2024-12-05 12:25:49,842 WebSocket connection opened\n",
      "2024-12-05 12:25:49,853 ServerConnection created\n",
      "2024-12-05 12:26:32,080 WebSocket connection closed: code=1001, reason=None\n",
      "2024-12-05 12:26:32,080 Failed sending message as connection was closed\n",
      "2024-12-05 12:26:32,080 Failed sending message as connection was closed\n",
      "2024-12-05 12:26:32,152 WebSocket connection opened\n",
      "2024-12-05 12:26:32,164 ServerConnection created\n"
     ]
    }
   ],
   "source": [
    "from vivarium.controllers.notebook_controller import NotebookController\n",
    "from vivarium.utils.handle_server_interface import start_server_and_interface, stop_server_and_interface\n",
    "\n",
    "start_server_and_interface(scene_name=\"session_1\")\n",
    "controller = NotebookController()\n",
    "controller.run()"
   ]
  },
  {
   "cell_type": "markdown",
   "metadata": {},
   "source": [
    "4. Finally, refresh your web browser window with the interface."
   ]
  },
  {
   "cell_type": "markdown",
   "metadata": {},
   "source": [
    "### Making the agents move\n",
    "\n",
    "As there is only one agent, we can create a variable for easily accessing it:"
   ]
  },
  {
   "cell_type": "code",
   "execution_count": 3,
   "metadata": {},
   "outputs": [],
   "source": [
    "agent = controller.agents[0]"
   ]
  },
  {
   "cell_type": "markdown",
   "metadata": {},
   "source": [
    "The variable `agent` now refers to the first (and only) agent of the simulation. You can simply write `agent` instead of `controller.agents[0]` for the next instructions.\n",
    "\n",
    "We have seen in the [quickstart tutorial](https://github.com/clement-moulin-frier/vivarium/blob/main/notebooks/quickstart_tutorial.ipynb) how to set an agent's attributes. Let's modify the agent diameter and color:"
   ]
  },
  {
   "cell_type": "code",
   "execution_count": 16,
   "metadata": {},
   "outputs": [],
   "source": [
    "agent.diameter = 10."
   ]
  },
  {
   "cell_type": "code",
   "execution_count": 18,
   "metadata": {},
   "outputs": [],
   "source": [
    "agent.color = 'orange'"
   ]
  },
  {
   "cell_type": "markdown",
   "metadata": {},
   "source": [
    "In the web interface that the agent has indeed changed diameter and color. \n",
    "\n",
    "We can print relevant information about the agent using:"
   ]
  },
  {
   "cell_type": "code",
   "execution_count": 5,
   "metadata": {},
   "outputs": [
    {
     "name": "stdout",
     "output_type": "stream",
     "text": [
      "Entity Overview:\n",
      "--------------------\n",
      "Type: AGENT\n",
      "Subtype: agents\n",
      "Idx: 0\n",
      "Exists: True\n",
      "Position: x=11.15, y=34.80\n",
      "Diameter: 5.00\n",
      "Color: #0000ff\n",
      "\n",
      "Sensors: Left=0.00, Right=-0.00\n",
      "Motors: Left=0.00, Right=0.00\n",
      "\n"
     ]
    }
   ],
   "source": [
    "agent.print_infos()"
   ]
  },
  {
   "cell_type": "markdown",
   "metadata": {},
   "source": [
    "Practical sessions usually contain questions (Q1, Q2 ... below) that you can answer directly in the notebook. Some questions require an answer in text form (e.g. Q1 below), while others require to write code (e.g. Q2 below). In the first case we will use Markdown cells and in the second case we will use Python cells.\n",
    "\n",
    "\n",
    "**Q1:** What is the condition for the agent to turn left? to turn right? to move straight forward? to stop?\n",
    "{TODO} Where do we explain that agent has wheels, sensors etc ? We should refer to it here"
   ]
  },
  {
   "cell_type": "markdown",
   "metadata": {},
   "source": [
    "*This is a cell where you can write text instead of code.* Double click on this text and enter your answer here. Once it is done, press `Shift-Enter`."
   ]
  },
  {
   "cell_type": "markdown",
   "metadata": {},
   "source": [
    "**Q2:** How can you make the agent move forward without any rotation? Write the corresponding code in the cell below. "
   ]
  },
  {
   "cell_type": "code",
   "execution_count": 6,
   "metadata": {},
   "outputs": [],
   "source": [
    "agent.left_motor = agent.right_motor = 0.5"
   ]
  },
  {
   "cell_type": "markdown",
   "metadata": {},
   "source": [
    "**Q3:** Now write the code making the agent stop:"
   ]
  },
  {
   "cell_type": "code",
   "execution_count": 11,
   "metadata": {},
   "outputs": [],
   "source": [
    "agent.left_motor = agent.right_motor = 0.0"
   ]
  },
  {
   "cell_type": "markdown",
   "metadata": {},
   "source": [
    "**Q4:** And the code to make it move in a large circle:"
   ]
  },
  {
   "cell_type": "code",
   "execution_count": 12,
   "metadata": {},
   "outputs": [],
   "source": [
    "agent.left_motor = 0.95\n",
    "agent.right_motor = 1."
   ]
  },
  {
   "cell_type": "markdown",
   "metadata": {},
   "source": [
    "Let's now stop the agent. This can be done either by setting the motor values (as asked above), or using this shortcut command:"
   ]
  },
  {
   "cell_type": "code",
   "execution_count": 13,
   "metadata": {},
   "outputs": [],
   "source": [
    "agent.stop_motors()"
   ]
  },
  {
   "cell_type": "markdown",
   "metadata": {},
   "source": [
    "Let's try more complex choregraphies. A useful function for this is the ability to wait for a given time by using `controller.wait(x)`, where `x` has to be replaced by the time to wait for, in seconds. Here is an example, where the agent goes forward during 3 seconds, then turns right during 0.5 second, then goes forward again during 2 seconds, and finally stops."
   ]
  },
  {
   "cell_type": "code",
   "execution_count": 14,
   "metadata": {},
   "outputs": [],
   "source": [
    "# Move forward, by setting each wheel speed at the same positive value\n",
    "agent.left_motor = 1.\n",
    "agent.right_motor = 1.\n",
    "\n",
    "# Wait for 3 seconds, keeping moving forward at the same speed\n",
    "controller.wait(3)\n",
    "\n",
    "# Turn right by setting a positive speed to the left wheel and stoping the right one (null speed)\n",
    "agent.left_motor = 0.5\n",
    "agent.right_motor = 0.\n",
    "\n",
    "# Keep turning for 0.5 second\n",
    "controller.wait(0.5)\n",
    "\n",
    "# Move forward again for 3 seconds\n",
    "agent.left_motor = 1.\n",
    "agent.right_motor = 1.\n",
    "controller.wait(3)\n",
    "\n",
    "# Stop the agent\n",
    "agent.left_motor = 0.\n",
    "agent.right_motor = 0."
   ]
  },
  {
   "cell_type": "markdown",
   "metadata": {},
   "source": [
    "A few important remarks regarding the code above:\n",
    "- each line beginning with a `#` symbol corresponds to a comment and will therefore not be executed (it is just to explain verbally what the code does),\n",
    "- when calling `controller.wait(.)`, the cell that is currently running will simply wait for the given time in seconds before executing the next line of code. This also means that you cannot execute anything else before the wait time is over.\n",
    "\n",
    "Now, let's repeat the previous choreography 4 times. In the code below, the first line, `for i in range(4):`, means *repeat 4 times the indented code below* (actually it is slightly more complicated than this, but this out of the scope of the current session).  The indented code is the exact same as just before (only the comments have been removed). You can change the number `4` in the first line by any number `x`, to repeat it `x` times instead of 4."
   ]
  },
  {
   "cell_type": "code",
   "execution_count": 15,
   "metadata": {},
   "outputs": [],
   "source": [
    "for i in range(4):\n",
    "    agent.left_motor = 1.\n",
    "    agent.right_motor = 1.\n",
    "    controller.wait(3)\n",
    "    agent.left_motor = 1.\n",
    "    agent.right_motor = 0.\n",
    "    controller.wait(0.5)\n",
    "    agent.left_motor = 1.\n",
    "    agent.right_motor = 1.\n",
    "    controller.wait(2)\n",
    "    agent.left_motor = 0.\n",
    "    agent.right_motor = 0."
   ]
  },
  {
   "cell_type": "markdown",
   "metadata": {},
   "source": [
    "**Q5:** By executing the code just above, you will observe that the agent actually only stops at the very end of the choreography, but not between each run of the loop. Copy-paste the code of the last cell above in the cell below and add one line of code so that the agent will stop for 1 second at each run of the loop."
   ]
  },
  {
   "cell_type": "code",
   "execution_count": null,
   "metadata": {},
   "outputs": [],
   "source": []
  },
  {
   "cell_type": "markdown",
   "metadata": {},
   "source": [
    "**Q6:** Write the code allowing the agent to move roughly in a \"8\" shape. To do so you'll have to fine tune the waiting times by trial on error. Then make the agent repeat it 6 times."
   ]
  },
  {
   "cell_type": "code",
   "execution_count": null,
   "metadata": {},
   "outputs": [],
   "source": []
  },
  {
   "cell_type": "markdown",
   "metadata": {},
   "source": [
    "### Sensors"
   ]
  },
  {
   "cell_type": "markdown",
   "metadata": {},
   "source": [
    "As shown in [the quickstart tutorial](https://github.com/clement-moulin-frier/vivarium/blob/main/notebooks/quickstart_tutorial.ipynb) the agents are equipped with proximity sensors, called proximeters, that indicate the presence of an entity (e.g. an agent or an object), if any, in a particular direction. There are two proximeters, one on each side of the agent, that detects entities in a hemi-field show in red in the interface. They are visible in the interface two disk quarters in red, on on the left side of the agent and one on the right side, indicating the agent field of view. "
   ]
  },
  {
   "cell_type": "markdown",
   "metadata": {},
   "source": [
    "Using the commands learned before, move the front of the robot close to an object in the scene and stop it. Alternatively, you can simply move the agent using drag&drop (see the [`web_interface_tutorial.md`](https://github.com/clement-moulin-frier/vivarium/blob/main/notebooks/web_interface_tutorial.md))."
   ]
  },
  {
   "cell_type": "markdown",
   "metadata": {},
   "source": [
    "Whenever a proximeter detects an obstacle, a red point is shown on the agent (if the `visible proximeters` checkbox is enabled, see [`web_interface_tutorial.md`](https://github.com/clement-moulin-frier/vivarium/blob/main/notebooks/web_interface_tutorial.md)). The opacity of the point depends on the activation of the sensor, so it can be hard to see if the entity is far away. Note that each proximeter detects only the closest object within its own field of view (indicated by the red lines). The current activation of the two front proximeters can be accessed with:"
   ]
  },
  {
   "cell_type": "code",
   "execution_count": 17,
   "metadata": {},
   "outputs": [
    {
     "data": {
      "text/plain": [
       "[0.0, 0.4973754286766052]"
      ]
     },
     "execution_count": 17,
     "metadata": {},
     "output_type": "execute_result"
    }
   ],
   "source": [
    "agent.sensors()"
   ]
  },
  {
   "cell_type": "markdown",
   "metadata": {},
   "source": [
    "This command returns an `array`, i.e. a vector of numerical values. Here we see two values: the first one corresponds to the activity of the left proximeter, the second to the activity of the right one. Those values do NOT correspond to distances, but are instead activation values bounded between 0 and 1, where 0 indicates that no obstacle is perceived (i.e. the proximeter doesn't detect any object withing its field of view), and 1 indicates that an object is in contact with the proximeter. In other word, the higher the activation, the closer the object (inversely proportional to the object distance). \n",
    "\n",
    "Make sure that you are able to identify which sensor corresponds to which value. "
   ]
  },
  {
   "cell_type": "markdown",
   "metadata": {},
   "source": [
    "You can store the values returned by `agent.sensors()` in two distinct variables, which will facilitate using them for further computation. If you execute the following command:"
   ]
  },
  {
   "cell_type": "code",
   "execution_count": 18,
   "metadata": {
    "collapsed": true
   },
   "outputs": [],
   "source": [
    "left, right = agent.sensors()"
   ]
  },
  {
   "cell_type": "markdown",
   "metadata": {},
   "source": [
    "Then the variables `left` and `right` will contain the activations of the left and right proximeters, respectively. You can check their values using the `print` instruction:"
   ]
  },
  {
   "cell_type": "code",
   "execution_count": 19,
   "metadata": {},
   "outputs": [
    {
     "name": "stdout",
     "output_type": "stream",
     "text": [
      "0.0\n"
     ]
    }
   ],
   "source": [
    "print(left)"
   ]
  },
  {
   "cell_type": "code",
   "execution_count": 20,
   "metadata": {
    "collapsed": true
   },
   "outputs": [
    {
     "name": "stdout",
     "output_type": "stream",
     "text": [
      "0.4973754286766052\n"
     ]
    }
   ],
   "source": [
    "print(right)"
   ]
  },
  {
   "cell_type": "markdown",
   "metadata": {},
   "source": [
    "**However**, the values in `left` and `right` will not be updated if the proximeter activations change over time. To experience it, move the agent in a different location in the scene where the proximeter activations should be different, and re-execute the `print` commands above. You will observe that the returned values are the same as before, whereas the proximeter activities should be different. In order to refresh the values in the `left` and `right` variables, you need to re-execute the command `left, right = agent.sensors()`:"
   ]
  },
  {
   "cell_type": "code",
   "execution_count": 21,
   "metadata": {},
   "outputs": [
    {
     "name": "stdout",
     "output_type": "stream",
     "text": [
      "0.0 0.4973754286766052\n"
     ]
    }
   ],
   "source": [
    "left, right = agent.sensors()\n",
    "print(left, right)"
   ]
  },
  {
   "cell_type": "markdown",
   "metadata": {},
   "source": [
    "Now you see that the values have been updated correctly."
   ]
  },
  {
   "cell_type": "markdown",
   "metadata": {},
   "source": [
    "**Q7:** To complete this session, write a behavior that connects sensors to motors, so that the robot goes forward at a speed that depends on the maximum activity of both proximity sensors. The closer the robot is from an obstacle, the slower it should go (but always going forward, without rotation). Remember that proximeter values have to be refreshed explicitly each time we need to observe them by calling `left, right = agent.sensors()` To do so, use the `for` loop construction we have seen, this time with a large number of iterations. Therefore, the code structure of this behavior will look like:"
   ]
  },
  {
   "cell_type": "code",
   "execution_count": 23,
   "metadata": {},
   "outputs": [
    {
     "name": "stdout",
     "output_type": "stream",
     "text": [
      "Iteration 0\n",
      "Iteration 30\n",
      "Iteration 60\n",
      "Iteration 90\n",
      "Iteration 120\n",
      "Iteration 150\n",
      "Iteration 180\n",
      "Iteration 210\n",
      "Iteration 240\n",
      "Iteration 270\n"
     ]
    }
   ],
   "source": [
    "# we add a minimal motor value to avoid the robot stopping when the proximeter values are zero\n",
    "min_motor_val = 0.2\n",
    "\n",
    "# Repeat 300 times:\n",
    "for i in range(300):\n",
    "    # Print the iteration number every 30 iterations\n",
    "    if i % 30 == 0:\n",
    "        print(f\"Iteration {i}\")\n",
    "\n",
    "    # Read the proximeter values and store them in the left and right variables\n",
    "    left, right = agent.sensors()\n",
    "    max_val = max(left, right)\n",
    "\n",
    "    # Write your code below, which has to set the wheel speeds according to the max of left and right\n",
    "    # Remember to keep your code indented, otherwise it will not be considered as part of the for loop\n",
    "    # Also remember that the motor values should be between 0 and 1\n",
    "    \n",
    "    #### Line added\n",
    "    motor_val = 1. - max(min_motor_val, max_val)\n",
    "    \n",
    "    agent.left_motor = agent.right_motor = motor_val\n",
    "    \n",
    "    # Keep the line below at the end of the loop. It waits for 100 milliseconds before starting the next iteration (to avoid overloading you computer)\n",
    "    controller.wait(0.1)"
   ]
  },
  {
   "cell_type": "markdown",
   "metadata": {},
   "source": [
    "The code above will take a while to be executed (approximately `300 * 0.1 = 30` seconds). During this time, you can't execute anything else in this notebook (we'll see how to solve this in the next session). If you want to stop the execution before it terminates by itself, press the \"stop-like\" button which is located either in the top menu bar of this notebook, or next to the executed code cell. \n",
    "\n",
    "In the next practical session, we will see more fancy ways of defining reactive behaviours for the robot. And in the next ones, still more and more fancy stuffs.\n",
    "You can now close the simulator session by executing (you might be asked to confirm it, in that case just enter `y`for yes):"
   ]
  },
  {
   "cell_type": "code",
   "execution_count": 24,
   "metadata": {},
   "outputs": [
    {
     "name": "stderr",
     "output_type": "stream",
     "text": [
      " Found the process scripts/run_interface.py running with this PID: 39100\n",
      " Found the process scripts/run_server.py running with this PID: 39091\n"
     ]
    },
    {
     "name": "stdout",
     "output_type": "stream",
     "text": [
      "Simulator is already stopped\n",
      "\n",
      "Stopping server and interface processes\n",
      "\n"
     ]
    },
    {
     "name": "stderr",
     "output_type": "stream",
     "text": [
      "Killed process with PID: 39100\n",
      "Killed process with PID: 39091\n",
      "\n",
      "Server and Interface processes have been stopped\n",
      "\n"
     ]
    },
    {
     "name": "stdout",
     "output_type": "stream",
     "text": [
      "Received signal 15, shutting down\n"
     ]
    },
    {
     "data": {
      "text/plain": [
       "False"
      ]
     },
     "execution_count": 24,
     "metadata": {},
     "output_type": "execute_result"
    }
   ],
   "source": [
    "controller.stop()\n",
    "stop_server_and_interface()"
   ]
  },
  {
   "cell_type": "markdown",
   "metadata": {},
   "source": [
    "Now that you finished session 1, you can now jump to the notebook of [session 2](session_2.ipynb)."
   ]
  }
 ],
 "metadata": {
  "kernelspec": {
   "display_name": "env_vivarium",
   "language": "python",
   "name": "python3"
  },
  "language_info": {
   "codemirror_mode": {
    "name": "ipython",
    "version": 3
   },
   "file_extension": ".py",
   "mimetype": "text/x-python",
   "name": "python",
   "nbconvert_exporter": "python",
   "pygments_lexer": "ipython3",
   "version": "3.10.14"
  }
 },
 "nbformat": 4,
 "nbformat_minor": 1
}
