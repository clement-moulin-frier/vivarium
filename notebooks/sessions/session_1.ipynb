{
   "cells": [
      {
         "cell_type": "markdown",
         "metadata": {},
         "source": [
            "# Practical session 1: First steps with the simulator"
         ]
      },
      {
         "cell_type": "markdown",
         "metadata": {},
         "source": [
            "In the [`quickstart_tutorial`](../tutorials/quickstart_tutorial.ipynb), we saw how to control the simulator using a Jupyter Notebook. Now, we will see how to make the agents move and implement basic behaviors."
         ]
      },
      {
         "cell_type": "markdown",
         "metadata": {},
         "source": [
            "First of all, we start the simulator and the interface, and instantiate a `controller` (this will be done at the start of every notebook from now on)"
         ]
      },
      {
         "cell_type": "code",
         "execution_count": 1,
         "metadata": {},
         "outputs": [
            {
               "name": "stderr",
               "output_type": "stream",
               "text": [
                  "An NVIDIA GPU may be present on this machine, but a CUDA-enabled jaxlib is not installed. Falling back to cpu.\n"
               ]
            }
         ],
         "source": [
            "from vivarium.controllers.notebook_controller import NotebookController\n",
            "from vivarium.utils.handle_server_interface import start_server_and_interface, stop_server_and_interface"
         ]
      },
      {
         "cell_type": "code",
         "execution_count": 2,
         "metadata": {},
         "outputs": [
            {
               "name": "stdout",
               "output_type": "stream",
               "text": [
                  "STARTING SERVER\n"
               ]
            },
            {
               "name": "stderr",
               "output_type": "stream",
               "text": [
                  "An NVIDIA GPU may be present on this machine, but a CUDA-enabled jaxlib is not installed. Falling back to cpu.\n"
               ]
            },
            {
               "name": "stdout",
               "output_type": "stream",
               "text": [
                  "[2024-10-08 16:28:20,118][__main__][INFO] - Scene running: session_1\n",
                  "\n",
                  "STARTING INTERFACE\n"
               ]
            },
            {
               "name": "stderr",
               "output_type": "stream",
               "text": [
                  "2024-10-08 16:28:22,932 Starting Bokeh server version 3.3.4 (running on Tornado 6.4.1)\n",
                  "2024-10-08 16:28:22,933 User authentication hooks NOT provided (default user enabled)\n",
                  "2024-10-08 16:28:22,934 Bokeh app running at: http://localhost:5006/run_interface\n",
                  "2024-10-08 16:28:22,934 Starting Bokeh server with process id: 34405\n"
               ]
            },
            {
               "name": "stdout",
               "output_type": "stream",
               "text": [
                  "[2024-10-08 16:28:22,962][vivarium.simulator.simulator][INFO] - Simulator initialized\n",
                  "[2024-10-08 16:28:22,963][__main__][INFO] - Simulator server started\n"
               ]
            },
            {
               "name": "stderr",
               "output_type": "stream",
               "text": [
                  "2024-10-08 16:28:25,634 An NVIDIA GPU may be present on this machine, but a CUDA-enabled jaxlib is not installed. Falling back to cpu.\n"
               ]
            }
         ],
         "source": [
            "start_server_and_interface(scene_name=\"session_1\")"
         ]
      },
      {
         "cell_type": "code",
         "execution_count": 3,
         "metadata": {},
         "outputs": [
            {
               "name": "stderr",
               "output_type": "stream",
               "text": [
                  "/home/cleger/Desktop/vivarium/venv/lib/python3.10/site-packages/jax/_src/ops/scatter.py:96: FutureWarning: scatter inputs have incompatible types: cannot safely cast value from dtype=float32 to dtype=int32 with jax_numpy_dtype_promotion='standard'. In future JAX releases this will result in an error.\n",
                  "  warnings.warn(\n"
               ]
            }
         ],
         "source": [
            "controller = NotebookController()"
         ]
      },
      {
         "cell_type": "markdown",
         "metadata": {},
         "source": [
            "This time, only one agent should be present. We can check this with this instruction:"
         ]
      },
      {
         "cell_type": "code",
         "execution_count": 4,
         "metadata": {},
         "outputs": [
            {
               "data": {
                  "text/plain": [
                     "[<vivarium.controllers.notebook_controller.Agent at 0x7834049c4040>]"
                  ]
               },
               "execution_count": 4,
               "metadata": {},
               "output_type": "execute_result"
            },
            {
               "name": "stderr",
               "output_type": "stream",
               "text": [
                  "2024-10-08 16:28:27,694 WebSocket connection opened\n",
                  "2024-10-08 16:28:27,716 ServerConnection created\n"
               ]
            }
         ],
         "source": [
            "controller.agents"
         ]
      },
      {
         "cell_type": "markdown",
         "metadata": {},
         "source": [
            "Next, we start the simulation:"
         ]
      },
      {
         "cell_type": "code",
         "execution_count": 5,
         "metadata": {},
         "outputs": [],
         "source": [
            "controller.run()"
         ]
      },
      {
         "cell_type": "markdown",
         "metadata": {},
         "source": [
            "Nothing should move for now, this is normal as the agents have all their motors stopped."
         ]
      },
      {
         "cell_type": "markdown",
         "metadata": {},
         "source": [
            "It can be the case that at one point during the session, the connection is lost and consequently you can't control the robot anymore. If you experience this problem, follow the steps below.\n",
            "\n",
            "First, stop the simulator:"
         ]
      },
      {
         "cell_type": "code",
         "execution_count": 6,
         "metadata": {},
         "outputs": [],
         "source": [
            "controller.stop()"
         ]
      },
      {
         "cell_type": "markdown",
         "metadata": {},
         "source": [
            "Then restart this notebook by selecting Kernel -> Restart in the menu bar, and re-open the session by executing:"
         ]
      },
      {
         "cell_type": "code",
         "execution_count": 7,
         "metadata": {},
         "outputs": [],
         "source": [
            "from vivarium.controllers.notebook_controller import NotebookController\n",
            "controller = NotebookController()"
         ]
      },
      {
         "cell_type": "markdown",
         "metadata": {},
         "source": [
            "Then restart the simulation"
         ]
      },
      {
         "cell_type": "code",
         "execution_count": 8,
         "metadata": {},
         "outputs": [],
         "source": [
            "controller.run()"
         ]
      },
      {
         "cell_type": "markdown",
         "metadata": {},
         "source": [
            "### Making the agents move\n",
            "\n",
            "You should now know how to set the attributes of agents (see [the quickstart tutorial](https://github.com/clement-moulin-frier/vivarium/blob/main/notebooks/quickstart_tutorial.ipynb)). For this time, as there is only one agent, we can create a shortcut for the next cells of code:"
         ]
      },
      {
         "cell_type": "code",
         "execution_count": 9,
         "metadata": {},
         "outputs": [],
         "source": [
            "agent = controller.agents[0]"
         ]
      },
      {
         "cell_type": "code",
         "execution_count": 10,
         "metadata": {},
         "outputs": [],
         "source": [
            "agent.diameter = 10."
         ]
      },
      {
         "cell_type": "code",
         "execution_count": 11,
         "metadata": {},
         "outputs": [],
         "source": [
            "agent.color = 'green'"
         ]
      },
      {
         "cell_type": "code",
         "execution_count": 12,
         "metadata": {},
         "outputs": [
            {
               "name": "stdout",
               "output_type": "stream",
               "text": [
                  "Entity Overview:\n",
                  "--------------------\n",
                  "Entity Type: AGENT\n",
                  "Entity Idx: 0\n",
                  "Position: x=11.15, y=34.80\n",
                  "\n",
                  "Sensors: Left=0.00, Right=-0.00\n",
                  "Motors: Left=0.00, Right=0.00\n",
                  "Behaviors: None\n",
                  "\n",
                  "Can eat: False\n",
                  "Diet: []\n",
                  "Eating range: 10\n",
                  "\n"
               ]
            }
         ],
         "source": [
            "agent.infos()"
         ]
      },
      {
         "cell_type": "markdown",
         "metadata": {},
         "source": [
            "Now, the variable `agent` refers to the first (and only) agent of the simulation. You can simply write `agent` instead of `controller.agents[0]` for the next instructions."
         ]
      },
      {
         "cell_type": "markdown",
         "metadata": {},
         "source": [
            "**Q1:** What is the condition for the agent to turn left? to turn right? to move straight forward? to stop?"
         ]
      },
      {
         "cell_type": "markdown",
         "metadata": {},
         "source": [
            "*This is a cell where you can write text instead of code.* Double click on this text and enter your answer here. Once it is done, press `Shift-Enter`."
         ]
      },
      {
         "cell_type": "markdown",
         "metadata": {},
         "source": [
            "**Q2:** How can you make the agent move forward without any rotation? Write the corresponding code in the cell below. "
         ]
      },
      {
         "cell_type": "code",
         "execution_count": 13,
         "metadata": {},
         "outputs": [],
         "source": [
            "agent.left_motor = agent.right_motor = 0.5"
         ]
      },
      {
         "cell_type": "markdown",
         "metadata": {},
         "source": [
            "**Q3:** Now write the code making the agent stop:"
         ]
      },
      {
         "cell_type": "code",
         "execution_count": 14,
         "metadata": {},
         "outputs": [],
         "source": [
            "agent.left_motor = agent.right_motor = 0.0"
         ]
      },
      {
         "cell_type": "markdown",
         "metadata": {},
         "source": [
            "**Q4:** And the code to make it move in a large circle:"
         ]
      },
      {
         "cell_type": "code",
         "execution_count": 15,
         "metadata": {},
         "outputs": [],
         "source": [
            "agent.left_motor = 0.95\n",
            "agent.right_motor = 1."
         ]
      },
      {
         "cell_type": "markdown",
         "metadata": {},
         "source": [
            "Let's try more complex choregraphies. A useful function for this is the ability to wait for a given time by using `controller.wait(x)`, where `x` has to be replaced by the time to wait for, in seconds. Here is an example, where the agent goes forward during 3 seconds, then turns right during 0.5 second, then goes forward again during 2 seconds, and finally stops."
         ]
      },
      {
         "cell_type": "code",
         "execution_count": 16,
         "metadata": {},
         "outputs": [],
         "source": [
            "# Move forward, by setting each wheel speed at the same positive value\n",
            "agent.left_motor = 1.\n",
            "agent.right_motor = 1.\n",
            "\n",
            "# Wait for 3 seconds, keeping moving forward at the same speed\n",
            "controller.wait(3)\n",
            "\n",
            "# Turn right by setting a positive speed to the left wheel and stoping the right one (null speed)\n",
            "agent.left_motor = 0.5\n",
            "agent.right_motor = 0.\n",
            "\n",
            "# Keep turning for 0.5 second\n",
            "controller.wait(0.5)\n",
            "\n",
            "# Move forward again for 3 seconds\n",
            "agent.left_motor = 1.\n",
            "agent.right_motor = 1.\n",
            "controller.wait(3)\n",
            "\n",
            "# Stop the agent\n",
            "agent.left_motor = 0.\n",
            "agent.right_motor = 0."
         ]
      },
      {
         "cell_type": "markdown",
         "metadata": {},
         "source": [
            "A few important remarks regarding the code above:\n",
            "- each line beginning with a `#` symbol corresponds to a comment and will therefore not be executed (it is just to explain verbally what the code does),\n",
            "- when calling `controller.wait(.)`, the cell that is currently running will simply wait for the given time in seconds before executing the next line of code. this also means that you cannot execute anything else before the wait time is over.\n",
            "\n",
            "Now, let's repeat the previous choreography 4 times. In the code below, the first line, `for i in range(4):`, means *repeat 4 times the indented code below* (actually it is a bit more complicated than this, but this out of the scope of the current session).  The indented code is the exact same as just before (only the comments have been removed). You can change the number `4` in the first line by any number `x`, to repeat it `x` times instead of 4."
         ]
      },
      {
         "cell_type": "code",
         "execution_count": 17,
         "metadata": {},
         "outputs": [],
         "source": [
            "for i in range(4):\n",
            "    agent.left_motor = 1.\n",
            "    agent.right_motor = 1.\n",
            "    controller.wait(3)\n",
            "    agent.left_motor = 1.\n",
            "    agent.right_motor = 0.\n",
            "    controller.wait(0.5)\n",
            "    agent.left_motor = 1.\n",
            "    agent.right_motor = 1.\n",
            "    controller.wait(2)\n",
            "    agent.left_motor = 0.\n",
            "    agent.right_motor = 0."
         ]
      },
      {
         "cell_type": "markdown",
         "metadata": {},
         "source": [
            "**Q5:** By executing the code just above, you will observe that the agent actually only stops at the very end of the choreography, but not between each run of the loop. Copy-paste the code of the last cell above in the cell below and add one line of code so that the agent will stop for 1 second at each run of the loop."
         ]
      },
      {
         "cell_type": "code",
         "execution_count": null,
         "metadata": {},
         "outputs": [],
         "source": []
      },
      {
         "cell_type": "markdown",
         "metadata": {},
         "source": [
            "**Q6:** Write the code allowing the agent to move roughly in a \"8\" shape. To do so you'll have to fine tune the waiting times by trial on error. Then make the agent repeat it 6 times."
         ]
      },
      {
         "cell_type": "code",
         "execution_count": null,
         "metadata": {},
         "outputs": [],
         "source": []
      },
      {
         "cell_type": "markdown",
         "metadata": {},
         "source": [
            "### Sensors"
         ]
      },
      {
         "cell_type": "markdown",
         "metadata": {},
         "source": [
            "As shown in [the quickstart tutorial](https://github.com/clement-moulin-frier/vivarium/blob/main/notebooks/quickstart_tutorial.ipynb), the agents are equipped with proximity sensors, called proximeters that indicate the presence of an entity, if any, in a particular direction. There are two sensor, one on each side of the agent, that detects entities in a hemi-field show in red in the interface."
         ]
      },
      {
         "cell_type": "markdown",
         "metadata": {},
         "source": [
            "Using the commands learned before, move the front of the robot close to an object in the scene and stop it. Alternatively, you can simply move the agent using drag&drop (see the [`web_interface_tutorial.md`](https://github.com/clement-moulin-frier/vivarium/blob/main/notebooks/web_interface_tutorial.md))."
         ]
      },
      {
         "cell_type": "code",
         "execution_count": null,
         "metadata": {},
         "outputs": [],
         "source": []
      },
      {
         "cell_type": "markdown",
         "metadata": {},
         "source": [
            "Whenever a proximeter detects an obstacle, a red point is shown on the agent (if the `visible proximeters` checkbox is enabled). The opacity of the point depends on the activation of the sensor, so it can be hard to see if the entity is far away. Note that each proximeter detects only the closest object within its own field of view (indicate by the red lines). The current activation of the two front proximeters can be accessed with:"
         ]
      },
      {
         "cell_type": "code",
         "execution_count": 18,
         "metadata": {},
         "outputs": [
            {
               "data": {
                  "text/plain": [
                     "[0.013435125350952148, -0.0]"
                  ]
               },
               "execution_count": 18,
               "metadata": {},
               "output_type": "execute_result"
            }
         ],
         "source": [
            "agent.sensors()"
         ]
      },
      {
         "cell_type": "markdown",
         "metadata": {},
         "source": [
            "This command returns an `array`, i.e. a list of values. Here we see two values: the first one corresponds to the activity of the left proximeter, the second to the activity of the right one. Those values do NOT correspond to distances, but are instead activation values bounded between 0 and 1, where 0 indicates that no obstacle is perceived (i.e. the proximeter doesn't detect any object withing its field of view), and 1 indicates that an object is in contact with the proximeter. In other word, the higher the activation, the closer the object (inversely proportional to the object distance). \n",
            "\n",
            "Make sure that you are able to identify which sensor corresponds to which value. "
         ]
      },
      {
         "cell_type": "markdown",
         "metadata": {},
         "source": [
            "You can store the values returned by `agent.sensors()` in two distinct variables, which will facilitate using them for further computation. If you execute the following command:"
         ]
      },
      {
         "cell_type": "code",
         "execution_count": 19,
         "metadata": {
            "collapsed": true
         },
         "outputs": [],
         "source": [
            "left, right = agent.sensors()"
         ]
      },
      {
         "cell_type": "markdown",
         "metadata": {},
         "source": [
            "Then the variables `left` and `right` will contain the activations of the left and right proximeters, respectively. You can check their values using the `print` instruction:"
         ]
      },
      {
         "cell_type": "code",
         "execution_count": 20,
         "metadata": {},
         "outputs": [
            {
               "name": "stdout",
               "output_type": "stream",
               "text": [
                  "0.013672590255737305\n"
               ]
            }
         ],
         "source": [
            "print(left)"
         ]
      },
      {
         "cell_type": "code",
         "execution_count": 21,
         "metadata": {
            "collapsed": true
         },
         "outputs": [
            {
               "name": "stdout",
               "output_type": "stream",
               "text": [
                  "-0.0\n"
               ]
            }
         ],
         "source": [
            "print(right)"
         ]
      },
      {
         "cell_type": "markdown",
         "metadata": {},
         "source": [
            "**However**, the values in `left` and `right` will not be updated if the proximeter activations change over time. To experience it, move the robot in a different location in the scene where the proximeter activations should be different, and re-execute the `print` commands above. You will observe that the returned values are the same as before, whereas the proximeter activities should be different. In order to refresh the values in the `left` and `right` variables, you need to re-execute the command `left, right = agent.sensors()`:"
         ]
      },
      {
         "cell_type": "code",
         "execution_count": 22,
         "metadata": {},
         "outputs": [
            {
               "name": "stdout",
               "output_type": "stream",
               "text": [
                  "0.013737320899963379 -0.0\n"
               ]
            }
         ],
         "source": [
            "left, right = agent.sensors()\n",
            "print(left, right)"
         ]
      },
      {
         "cell_type": "code",
         "execution_count": 23,
         "metadata": {},
         "outputs": [
            {
               "data": {
                  "text/plain": [
                     "[0.013737320899963379, -0.0]"
                  ]
               },
               "execution_count": 23,
               "metadata": {},
               "output_type": "execute_result"
            }
         ],
         "source": [
            "agent.sensors()"
         ]
      },
      {
         "cell_type": "markdown",
         "metadata": {},
         "source": [
            "Now you see that the values have been updated correctly."
         ]
      },
      {
         "cell_type": "markdown",
         "metadata": {},
         "source": [
            "**Q7:** To complete this session, write a behavior that connects sensors to motors, so that the robot goes forward at a speed that depends on the maximum activity of both proximity sensors. The closer the robot is from an obstacle, the slower it should go (but always going forward, without rotation). Remember that proximeter values have to be refreshed explicitly each time we need to observe them by calling `left, right = agent.sensors()` To do so, use the `for` loop construction we have seen, this time with a large number of iterations. Therefore, the code structure of this behavior will look like:"
         ]
      },
      {
         "cell_type": "markdown",
         "metadata": {},
         "source": [
            "## Comment : add a little constant so the agent never stops --> it is what happens with this range of proximeters"
         ]
      },
      {
         "cell_type": "code",
         "execution_count": 27,
         "metadata": {},
         "outputs": [],
         "source": [
            "### Line added : \n",
            "min_motor_val = 0.2\n",
            "\n",
            "# Repeat 500 times:\n",
            "for i in range(500):\n",
            "    # Read the proximeter values and store them in the left and right variables\n",
            "    left, right = agent.sensors()\n",
            "    max_val = max(left, right)\n",
            "\n",
            "    # Write your code below, which has to set the wheel speeds according to the max of left and right\n",
            "    # Remember to keep your code indented, otherwise it will not be considered as part of the for loop\n",
            "    # Also remember that the motor values should be between 0 and 1\n",
            "    \n",
            "    #### Line added\n",
            "    motor_val = max(min_motor_val, max_val)\n",
            "    \n",
            "    agent.left_motor = agent.right_motor = motor_val\n",
            "    \n",
            "    # Keep the line below at the end of the loop. It waits for 100 milliseconds before starting the next iteration (to avoid overloading you computer)\n",
            "    controller.wait(0.1)"
         ]
      },
      {
         "cell_type": "markdown",
         "metadata": {},
         "source": [
            "The code above will take a while to be executed (approximately `500 * 0.1 = 50` seconds). During this time, you can't execute anything else in this notebook. To stop the execution before it terminates by itself, press the \"stop-like\" button in the top menu bar of this document. \n",
            "\n",
            "In the next practical session, we will see more fancy ways of defining reactive behaviours for the robot. And in the next ones, still more and more fancy stuffs.\n",
            "You can now close the simulator session by executing:"
         ]
      },
      {
         "cell_type": "code",
         "execution_count": 28,
         "metadata": {},
         "outputs": [
            {
               "name": "stdout",
               "output_type": "stream",
               "text": [
                  "Received signal 15, shutting down\n",
                  "Server and Interface Stopped\n"
               ]
            }
         ],
         "source": [
            "controller.stop()\n",
            "stop_server_and_interface()"
         ]
      },
      {
         "cell_type": "markdown",
         "metadata": {},
         "source": [
            "Now that you finished session 1, you can now jump to the notebook of [session 2](session_2.ipynb)."
         ]
      }
   ],
   "metadata": {
      "kernelspec": {
         "display_name": "Python 3",
         "language": "python",
         "name": "python3"
      },
      "language_info": {
         "codemirror_mode": {
            "name": "ipython",
            "version": 3
         },
         "file_extension": ".py",
         "mimetype": "text/x-python",
         "name": "python",
         "nbconvert_exporter": "python",
         "pygments_lexer": "ipython3",
         "version": "3.10.12"
      }
   },
   "nbformat": 4,
   "nbformat_minor": 1
}
