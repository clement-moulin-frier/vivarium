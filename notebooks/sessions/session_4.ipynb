{
 "cells": [
  {
   "cell_type": "markdown",
   "metadata": {},
   "source": [
    "# Practical session 4: Modulating internal states and Sensing other agent's attributes"
   ]
  },
  {
   "cell_type": "markdown",
   "metadata": {},
   "source": [
    "### COMMENT: Is the link still up to date?"
   ]
  },
  {
   "cell_type": "markdown",
   "metadata": {},
   "source": [
    "In the last practical session, we saw how to run multiple behaviors in parallel on multiple agents. In this section we will see more advanced methods for combining behaviors by modulating their activations according to internal states of the agent and by allowing them to sense the attributes of others. In order to start with a clean basis, let's first provide the definition of several behaviors. These four behaviors are simply implementations of the [Braitenberg vehicles](https://docs.google.com/presentation/d/1s6ibk_ACiJb9CERJ_8L_b4KFu9d04ZG_htUbb_YSYT4/edit#slide=id.g31e1b425a3_0_0) we have seen in class, where the `sensed_entities` (i.e. what is sensed by the proximeters) are other `agents`:"
   ]
  },
  {
   "cell_type": "code",
   "execution_count": 1,
   "metadata": {
    "collapsed": true
   },
   "outputs": [],
   "source": [
    "def fear(agent):\n",
    "    left, right = agent.sensors(sensed_entities=[\"agents\"])\n",
    "    left_wheel = left\n",
    "    right_wheel = right\n",
    "    return left_wheel, right_wheel\n",
    "\n",
    "def aggression(agent):\n",
    "    left, right = agent.sensors(sensed_entities=[\"agents\"])\n",
    "    left_wheel = right\n",
    "    right_wheel = left\n",
    "    return left_wheel, right_wheel\n",
    "\n",
    "def love_cuddly(agent):\n",
    "    left, right = agent.sensors(sensed_entities=[\"agents\"])\n",
    "    left_wheel = 1 - left\n",
    "    right_wheel = 1 - right   \n",
    "    return left_wheel, right_wheel\n",
    "\n",
    "def love_shy(agent):\n",
    "    left, right = agent.sensors(sensed_entities=[\"agents\"])\n",
    "    left_wheel = 1 - right\n",
    "    right_wheel = 1 - left   \n",
    "    return left_wheel, right_wheel"
   ]
  },
  {
   "cell_type": "markdown",
   "metadata": {},
   "source": [
    "Note that the arguments of the behavior functions above, `agent` is arbitrary name. We choose here to call it `agent` in order to avoid a confusion when dealing with multiple agents. The only important thing is that you use the same name in the argument and in the function body."
   ]
  },
  {
   "cell_type": "markdown",
   "metadata": {},
   "source": [
    "We define a fifth behavior for obstacle avoidance, where obstacles are objects little and big squares, named `s_obstacles` and `b_obstacles`."
   ]
  },
  {
   "cell_type": "code",
   "execution_count": 2,
   "metadata": {
    "collapsed": true
   },
   "outputs": [],
   "source": [
    "def obstacle_avoidance(agent):\n",
    "    left, right = agent.sensors(sensed_entities=[\"s_obstacles\", \"b_obstacles\"])\n",
    "    left_wheel = 1 - right\n",
    "    right_wheel = 1 - left   \n",
    "    return left_wheel, right_wheel"
   ]
  },
  {
   "cell_type": "markdown",
   "metadata": {},
   "source": [
    "**Reminder:** First import the functions `start_server_and_interface` and `stop_server_and_interface`, and the `NotebookController` class. Start the server and interface for this session, and create a controller object to interact with the simulation."
   ]
  },
  {
   "cell_type": "code",
   "execution_count": 3,
   "metadata": {},
   "outputs": [
    {
     "name": "stderr",
     "output_type": "stream",
     "text": [
      "An NVIDIA GPU may be present on this machine, but a CUDA-enabled jaxlib is not installed. Falling back to cpu.\n"
     ]
    }
   ],
   "source": [
    "from vivarium.controllers.notebook_controller import NotebookController\n",
    "from vivarium.utils.handle_server_interface import start_server_and_interface, stop_server_and_interface"
   ]
  },
  {
   "cell_type": "code",
   "execution_count": 4,
   "metadata": {},
   "outputs": [
    {
     "name": "stdout",
     "output_type": "stream",
     "text": [
      "/home/corentinlger/code/vivarium/vivarium/utils\n",
      "\n",
      "STARTING SERVER\n"
     ]
    },
    {
     "name": "stderr",
     "output_type": "stream",
     "text": [
      "your 131072x1 screen size is bogus. expect trouble\n",
      "your 131072x1 screen size is bogus. expect trouble\n"
     ]
    },
    {
     "name": "stderr",
     "output_type": "stream",
     "text": [
      "An NVIDIA GPU may be present on this machine, but a CUDA-enabled jaxlib is not installed. Falling back to cpu.\n"
     ]
    },
    {
     "name": "stdout",
     "output_type": "stream",
     "text": [
      "[2024-12-11 10:39:55,487][__main__][INFO] - Scene running: session_4\n",
      "\n",
      "STARTING INTERFACE\n"
     ]
    },
    {
     "name": "stdout",
     "output_type": "stream",
     "text": [
      "[2024-12-11 10:39:59,716][vivarium.simulator.simulator][INFO] - Simulator initialized\n"
     ]
    },
    {
     "name": "stderr",
     "output_type": "stream",
     "text": [
      "2024-12-11 10:39:59,861 Starting Bokeh server version 3.3.4 (running on Tornado 6.4.2)\n",
      "2024-12-11 10:39:59,862 User authentication hooks NOT provided (default user enabled)\n",
      "2024-12-11 10:39:59,865 Bokeh app running at: http://localhost:5006/run_interface\n",
      "2024-12-11 10:39:59,865 Starting Bokeh server with process id: 5833\n",
      "2024-12-11 10:40:02,591 An NVIDIA GPU may be present on this machine, but a CUDA-enabled jaxlib is not installed. Falling back to cpu.\n",
      "2024-12-11 10:40:05,337 WebSocket connection opened\n",
      "2024-12-11 10:40:05,392 ServerConnection created\n"
     ]
    }
   ],
   "source": [
    "start_server_and_interface(scene_name=\"session_4\")"
   ]
  },
  {
   "cell_type": "code",
   "execution_count": null,
   "metadata": {},
   "outputs": [
    {
     "name": "stdout",
     "output_type": "stream",
     "text": [
      "Simulator is already stopped\n"
     ]
    }
   ],
   "source": [
    "controller = NotebookController()\n",
    "controller.run()"
   ]
  },
  {
   "cell_type": "markdown",
   "metadata": {},
   "source": [
    "## Emergent behaviors"
   ]
  },
  {
   "cell_type": "markdown",
   "metadata": {},
   "source": [
    "When running one or several behaviors on a agent, you might observe behavioral responses that are not present in any of the behavior definitions. This usually doesn't mean that there is a bug, it could just be the result of an emergent behavioral property. Let's analyze this on a quick example you may have already seen in session 3, by running the `obstacle_avoidance` behavior on each agent:"
   ]
  },
  {
   "cell_type": "code",
   "execution_count": 8,
   "metadata": {},
   "outputs": [
    {
     "name": "stdout",
     "output_type": "stream",
     "text": [
      "Attached behaviors: ['obstacle_avoidance'], Started behaviors: ['obstacle_avoidance']\n",
      "Attached behaviors: ['obstacle_avoidance'], Started behaviors: ['obstacle_avoidance']\n",
      "Attached behaviors: ['obstacle_avoidance'], Started behaviors: ['obstacle_avoidance']\n"
     ]
    }
   ],
   "source": [
    "# attach the behavior avoidance to all agents and check the behaviors\n",
    "for agent in controller.agents:\n",
    "    agent.attach_behavior(obstacle_avoidance)\n",
    "    agent.print_behaviors()"
   ]
  },
  {
   "cell_type": "markdown",
   "metadata": {},
   "source": [
    "This session's environment contains more entities than previous ones, which might slow down the simulation. To speed it up, you can increase the number of steps the simulation performs on the server for each step done by the controller. To do this, open the `SIMULATOR` panel in the web interface and find the `num_steps_lax` parameter. It is set to 6 by default; you can increase it to 20 to see if the simulation runs faster. Make sure to use this mechanism wisely, as increasing this number too much might lead to a simulation that is less reactive to your commands."
   ]
  },
  {
   "cell_type": "markdown",
   "metadata": {},
   "source": [
    "**Q1:** You will observe that the 3 agents of the scene seem to be attracted to objects that are not handled by the behavior (e.g. other agents or resources). Analyse this phenomena and explain below why it is occuring in a few lines:"
   ]
  },
  {
   "cell_type": "markdown",
   "metadata": {},
   "source": [
    "*Double click on this cell to enter your answer*"
   ]
  },
  {
   "cell_type": "markdown",
   "metadata": {},
   "source": [
    "## Analyzing agents interactions\n",
    "\n",
    "First, let's detach all the agent's behaviors and stop their motors."
   ]
  },
  {
   "cell_type": "code",
   "execution_count": 12,
   "metadata": {},
   "outputs": [],
   "source": [
    "for agent in controller.agents:\n",
    "    agent.detach_all_behaviors(stop_motors=True)"
   ]
  },
  {
   "cell_type": "markdown",
   "metadata": {},
   "source": [
    "Let's now analyze the interaction between two agents that are equipped with different behaviors. First assign a variable to all agents of the simulation so we can easily access them indivually in the next steps. As we saw in previous sessions, the `controller.agents` is a list, and we can access its elements with Python indexing system (0 corresponding to the first element, 1 to the second etc). We will only consider the first the agents (index 0 and 1) for this analysis. "
   ]
  },
  {
   "cell_type": "code",
   "execution_count": 10,
   "metadata": {},
   "outputs": [],
   "source": [
    "agent_0 = controller.agents[0]\n",
    "agent_1 = controller.agents[1]\n",
    "agent_2 = controller.agents[2]"
   ]
  },
  {
   "cell_type": "markdown",
   "metadata": {},
   "source": [
    "To differentiate the agents, we will also assign them different colors:"
   ]
  },
  {
   "cell_type": "code",
   "execution_count": 11,
   "metadata": {},
   "outputs": [],
   "source": [
    "agent_0.color = \"blue\"\n",
    "agent_1.color = \"cyan\"\n",
    "agent_2.color = \"black\""
   ]
  },
  {
   "cell_type": "markdown",
   "metadata": {},
   "source": [
    "**Q2:** In addition to the `obstacle_avoidance` behavior, run several combinations of the four other behaviors defined above. For example, run `obstacle_avoidance` and `fear` on `agent_0` ; and `obstacle_avoidance` and `aggression` on `agent_1`. Keep the `agent_2` still for the moment. Find two of these combinations that you consider as interesting (e.g. because they result in a relatively complex interaction pattern, or because they can be linked to animal behavior) and describe them in a few lines:"
   ]
  },
  {
   "cell_type": "code",
   "execution_count": 13,
   "metadata": {},
   "outputs": [],
   "source": [
    "# enter your code here\n",
    "agent_0.attach_behavior(obstacle_avoidance)\n",
    "agent_0.attach_behavior(fear)\n",
    "\n",
    "agent_1.attach_behavior(obstacle_avoidance)\n",
    "agent_1.attach_behavior(aggression)"
   ]
  },
  {
   "cell_type": "markdown",
   "metadata": {},
   "source": [
    "*Your answer here*"
   ]
  },
  {
   "cell_type": "markdown",
   "metadata": {},
   "source": [
    "## Weighting behaviors"
   ]
  },
  {
   "cell_type": "markdown",
   "metadata": {},
   "source": [
    "As we have seen in the previous sesssion and the last exercice, it is possible to run several behaviors in parallel on the same agent. When doing it, the motor activation sent to each wheel corresponds to the average of the motor activation returned by each behavior (this averaging is implemented internally, you don't need to worry about it). \n",
    "\n",
    "It is also possible to specify the weight of each running behavior, i.e. how much it will count in the averaging. This is done by returning three values in the function defining a behavior (instead of two as we were doing until now: one for the left wheel activation and one for the right one). For example, if we want to run the `obstacle_avoidance` behavior with a weight of 1 and the `fear` behavior with a weight of 0.5 on `agent_2`, we write:"
   ]
  },
  {
   "cell_type": "code",
   "execution_count": null,
   "metadata": {},
   "outputs": [],
   "source": [
    "agent_2.attach_behavior(obstacle_avoidance, weight=1)\n",
    "agent_2.attach_behavior(fear, weight=0.5)"
   ]
  },
  {
   "cell_type": "markdown",
   "metadata": {},
   "source": [
    "It might be hard to effectively see the weights in action for these two behaviors as they both lead the agent to avoid other entities. In order to better visualize the effect of the weights, we will define two new behaviors with opposite effects: `aggress_all` and `avoid_all`. The `aggress_all` behavior will make the agent move towards the sensed entities, while the `avoid_all` behavior will make it move away from them. We will add a bigger weight to the `aggress_all` behavior than to the `avoid_all` behavior, and observe the agent's behavior."
   ]
  },
  {
   "cell_type": "code",
   "execution_count": null,
   "metadata": {},
   "outputs": [],
   "source": [
    "def aggress_all(agent):\n",
    "    left, right = agent.sensors()\n",
    "    left_wheel = right\n",
    "    right_wheel = left  \n",
    "    return left_wheel, right_wheel\n",
    "\n",
    "def avoid_all(agent):\n",
    "    left, right = agent.sensors()\n",
    "    left_wheel = 1 - right\n",
    "    right_wheel = 1 - left   \n",
    "    return left_wheel, right_wheel"
   ]
  },
  {
   "cell_type": "code",
   "execution_count": null,
   "metadata": {},
   "outputs": [],
   "source": [
    "agent_2.detach_all_behaviors()\n",
    "agent_2.attach_behavior(aggress_all, weight=1)\n",
    "agent_2.attach_behavior(avoid_all, weight=0.2)"
   ]
  },
  {
   "cell_type": "markdown",
   "metadata": {},
   "source": [
    "### COMMENT: see if we ask this question (the idea would be for the student to see that agents still move when senses nothing because of avoid_all, but still rushes on entities when he senses them because the weight of aggress all is stronger)"
   ]
  },
  {
   "cell_type": "markdown",
   "metadata": {},
   "source": [
    "**Q3:** What are the effects of the weights on the agent's behavior? Why does it keep moving even when it doesn't sense anything ? Describe the observed behavior in a few lines:"
   ]
  },
  {
   "cell_type": "markdown",
   "metadata": {},
   "source": [
    "*Your answer here*"
   ]
  },
  {
   "cell_type": "markdown",
   "metadata": {},
   "source": [
    "By doing this, the wheel activations returned by the `obstacle_avoidance` behavior will have twice more weight than those returned by the `fear` behavior. For example, if `obstacle_avoidance` returns 0.6 for the left wheel, and `fear` returns 0.9, then the total activation of that wheel will be $(0.6 * 1 + 0.9 * 0.5) / (1 + 0.5) = 0.7$ (i.e. the average of both values weighted by their respective activation). Note that when no weight is provided in a behavior definition (i.e. when the behavior function returns only two values as usual), the corresponding behavior is set with a default weight of one."
   ]
  },
  {
   "cell_type": "markdown",
   "metadata": {},
   "source": [
    "## Weighting behaviors according to internal states"
   ]
  },
  {
   "cell_type": "markdown",
   "metadata": {},
   "source": [
    "This weighting is particularly useful to activate a behavior according to some internal states of the agent. Let's consider a agent that eats resourcess (as in the previous session) and that eating those resourcess allows to raise a simulated energy level of the agent. We want to continuously compute the energy level of the agent according to how much resourcess it has recently eaten. To do so, we first need a way to know when a agent has eaten for the last time. There are several ways of doing this that can serve in different use cases:\n",
    "\n",
    "- agent.has_eaten(): function that tells if the agent has eaten since the last call to this function, defaults to False\n",
    "- agent.time_since_feeding: attribute that tells the time since the last meal, defaults to infinity when the agent has never eaten\n",
    "- agent.has_eaten_since(t): function that tells if the agent has eaten since time t"
   ]
  },
  {
   "cell_type": "markdown",
   "metadata": {},
   "source": [
    "### TODO : We might want to simplify the API here, for example removing either has_eaten_since"
   ]
  },
  {
   "cell_type": "code",
   "execution_count": 20,
   "metadata": {},
   "outputs": [
    {
     "name": "stdout",
     "output_type": "stream",
     "text": [
      "agent 0: -ate: False -time since feeding: inf\n"
     ]
    }
   ],
   "source": [
    "print(f\"agent 0: -ate: {agent_0.has_eaten()} -time since feeding: {agent_0.time_since_feeding}\")"
   ]
  },
  {
   "cell_type": "markdown",
   "metadata": {},
   "source": [
    "We can see than when agents haven't started eating, the time since feeding is infinite (`inf`), and the `has_eaten` function returns False. When they start eating, the time since feeding is reset to 0, and the `has_eaten` function returns True."
   ]
  },
  {
   "cell_type": "markdown",
   "metadata": {},
   "source": [
    "We can also check this for all agents of the scene at once:"
   ]
  },
  {
   "cell_type": "code",
   "execution_count": 19,
   "metadata": {},
   "outputs": [
    {
     "name": "stdout",
     "output_type": "stream",
     "text": [
      "agent 0: -ate: False -time since feeding: inf\n",
      "agent 1: -ate: False -time since feeding: inf\n",
      "agent 2: -ate: False -time since feeding: inf\n"
     ]
    }
   ],
   "source": [
    "for agent in controller.agents:\n",
    "    print(f\"agent {agent.idx}: -ate: {agent.has_eaten()} -time since feeding: {agent.time_since_feeding}\")"
   ]
  },
  {
   "cell_type": "markdown",
   "metadata": {},
   "source": [
    "To make this more interesting, let's start the eating mechanism and the spawning of resources as in session 3. Then we will use the same cell as before to check how `time_since_feeding` and `has_eaten` evolve for all agents. Additionally, attach both the `obstacle avoidance` and the `foraging` behavior on the agents, and execute the cell above at different times to understand correctly how the `has_eaten`function and `time_since_deefing` attribute work. Remember we have already defined a `foraging_behavior` in the last session, which can be implemented like this:"
   ]
  },
  {
   "cell_type": "code",
   "execution_count": 21,
   "metadata": {
    "collapsed": true
   },
   "outputs": [],
   "source": [
    "def foraging(agent):\n",
    "    left, right = agent.sensors(sensed_entities=[\"resources\"])\n",
    "    left_activation = right\n",
    "    right_activation = left\n",
    "    return left_activation, right_activation"
   ]
  },
  {
   "cell_type": "code",
   "execution_count": 23,
   "metadata": {},
   "outputs": [
    {
     "name": "stdout",
     "output_type": "stream",
     "text": [
      "Attached behaviors: ['obstacle_avoidance', 'foraging'], Started behaviors: ['obstacle_avoidance', 'foraging']\n",
      "Attached behaviors: ['obstacle_avoidance', 'foraging'], Started behaviors: ['obstacle_avoidance', 'foraging']\n",
      "Attached behaviors: ['obstacle_avoidance', 'foraging'], Started behaviors: ['obstacle_avoidance', 'foraging']\n"
     ]
    }
   ],
   "source": [
    "# your code here to attach the foraging behavior to the agents\n",
    "for agent in controller.agents:\n",
    "    agent.detach_all_behaviors()\n",
    "    agent.attach_behavior(obstacle_avoidance)\n",
    "    agent.attach_behavior(foraging)\n",
    "    agent.print_behaviors()"
   ]
  },
  {
   "cell_type": "markdown",
   "metadata": {},
   "source": [
    "Now, let's verify the subtypes list of the controller and the FPS of the simulation loop, in order to choose our parameters for the `start_resources_apparition` function of the controller and the `diet` of the agents."
   ]
  },
  {
   "cell_type": "code",
   "execution_count": null,
   "metadata": {},
   "outputs": [
    {
     "name": "stdout",
     "output_type": "stream",
     "text": [
      "Subtypes in the environment:\n",
      "['s_obstacles', 'b_obstacles', 'resources', 'agents']\n",
      "\n",
      "FPS of the controller:\n",
      "measuring the FPS (number of steps per second) in the controller during 2 seconds ...\n"
     ]
    },
    {
     "name": "stdout",
     "output_type": "stream",
     "text": [
      "FPS: 6.50\n"
     ]
    }
   ],
   "source": [
    "print(\"Subtypes in the environment:\")\n",
    "controller.print_subtypes_list()\n",
    "\n",
    "print(\"\\nFPS of the controller:\")\n",
    "controller.print_fps()"
   ]
  },
  {
   "cell_type": "markdown",
   "metadata": {},
   "source": [
    "Choose your resources interval apparition according to the FPS of the simulation loop. For example, if the FPS is 20, you can set the interval to 100 to spawn resources every 5 seconds. "
   ]
  },
  {
   "cell_type": "code",
   "execution_count": 25,
   "metadata": {},
   "outputs": [],
   "source": [
    "# Add resources to the agents diet\n",
    "for agent in controller.agents:\n",
    "    agent.diet = [\"resources\"]\n",
    "\n",
    "# Start resources apparition and eating mechanism\n",
    "controller.start_resources_apparition(interval=50)\n",
    "controller.start_eating_mechanism(interval=10)"
   ]
  },
  {
   "cell_type": "markdown",
   "metadata": {},
   "source": [
    "Now observe the evolution of the `time_since_feeding` and `has_eaten` attributes of all agents. You can execute the cell below several times to see how the attributes evolve over time. Try to understand how they both work. "
   ]
  },
  {
   "cell_type": "code",
   "execution_count": 26,
   "metadata": {},
   "outputs": [
    {
     "name": "stdout",
     "output_type": "stream",
     "text": [
      "agent 0: -ate: False -time since feeding: inf\n",
      "agent 1: -ate: True -time since feeding: 48\n",
      "agent 2: -ate: False -time since feeding: inf\n"
     ]
    }
   ],
   "source": [
    "for agent in controller.agents:\n",
    "    print(f\"agent {agent.idx}: -ate: {agent.has_eaten()} -time since feeding: {agent.time_since_feeding}\")"
   ]
  },
  {
   "cell_type": "markdown",
   "metadata": {},
   "source": [
    "Now we want to continuously compute the energy level of a agent, so that the level decreases slowly when nothing is eaten and increases whenever food is consumed. This can be done by attaching and starting a *routine* to a agent. The definition of a routine is very similar to the definition of a behavior, except that it doesn't return any value (whereas a behavior always returns the left and right wheel activations, and optionally a weight). Thus, a routine corresponds to a set of instructions that are executed at a particular interval (as in a behavior), e.g. to compute some agent's internal states according to its interaction with the environment.\n",
    "\n",
    "Let's define a routine called `foraging_drive` that computes the energy level as specified above. In order to do so, we will first define a few parameters, such as the initial and the maximum level of energy of agents. Then, we will attach an `energy_level` attribute to each agent\n",
    " "
   ]
  },
  {
   "cell_type": "markdown",
   "metadata": {},
   "source": [
    "### Comment : Values can surely be improved. "
   ]
  },
  {
   "cell_type": "code",
   "execution_count": 27,
   "metadata": {},
   "outputs": [],
   "source": [
    "max_energy_level = 100.\n",
    "init_energy_level = 50.\n",
    "\n",
    "for agent in controller.agents:\n",
    "    agent.energy_level = init_energy_level"
   ]
  },
  {
   "cell_type": "markdown",
   "metadata": {},
   "source": [
    "Let's check we can access this attribute for all agents in the next cell."
   ]
  },
  {
   "cell_type": "code",
   "execution_count": 21,
   "metadata": {},
   "outputs": [
    {
     "name": "stdout",
     "output_type": "stream",
     "text": [
      "Agent 0 energy level is: 50.0\n",
      "Agent 1 energy level is: 50.0\n",
      "Agent 2 energy level is: 50.0\n"
     ]
    }
   ],
   "source": [
    "for agent in controller.agents:\n",
    "    print(f\"Agent {agent.idx} energy level is: {agent.energy_level}\")"
   ]
  },
  {
   "cell_type": "markdown",
   "metadata": {},
   "source": [
    "Now, if you execute the cell above several times, note that the `energy_level` attribute of the agents is static because we didn't do anything to update it yet ! Let's change this by defining the `foraging_drive` routine as follows. "
   ]
  },
  {
   "cell_type": "code",
   "execution_count": 28,
   "metadata": {
    "collapsed": true
   },
   "outputs": [],
   "source": [
    "def foraging_drive(agent): \n",
    "    if agent.has_eaten():\n",
    "        # if the agent has eaten a resources, increase its energy level\n",
    "        agent.energy_level += 10  \n",
    "        # also increase the agent's diameter, and its eating range proportionally (otherwise agent cannot eat when ti is too big)\n",
    "        agent.diameter += 0.4\n",
    "        agent.eating_range += 0.2\n",
    "    else:\n",
    "        # decrease energy level\n",
    "        agent.energy_level -= 0.01  # otherwise (nothing eaten), decrease the energy level by 0.01\n",
    "    # The line below bounds the value of the energy level between 0 and max_energy_level\n",
    "    agent.energy_level = min(max_energy_level, max(agent.energy_level, 0.))"
   ]
  },
  {
   "cell_type": "markdown",
   "metadata": {},
   "source": [
    "\n",
    "As for a behavior, the function defining a routine takes a `agent` as an argument representing the agent on which the routine is attached. Attaching a routine is done with: "
   ]
  },
  {
   "cell_type": "code",
   "execution_count": 29,
   "metadata": {
    "collapsed": true
   },
   "outputs": [],
   "source": [
    "# assign foraging_drive to agent_0 and increase its size to recognize it more easily\n",
    "agent_0.attach_routine(foraging_drive, interval=10)\n",
    "agent_0.diameter = 15"
   ]
  },
  {
   "cell_type": "markdown",
   "metadata": {},
   "source": [
    "Note that before starting a routine where we update the attribute of an agent, we need to make sure this attribute exists. This is why we defined the `energy_level` attribute before defining the routine.\n",
    "\n",
    "As for a behavior, a routine is attached to an agent at a given interval. The code of the `foraging_drive` function above will be executed every `interval` steps, consequently modulating the agent energy level stored in `agent.energy_level` according to how good the agent is at catching resources."
   ]
  },
  {
   "cell_type": "markdown",
   "metadata": {},
   "source": [
    "And check the evolution of the energy level in `agent_0` by executing the cell below several times. What happens when he eats a resource ? What happens when he doesn't eat for a while ?"
   ]
  },
  {
   "cell_type": "code",
   "execution_count": 30,
   "metadata": {},
   "outputs": [
    {
     "name": "stdout",
     "output_type": "stream",
     "text": [
      "99.71999999999986\n"
     ]
    }
   ],
   "source": [
    "print(agent_0.energy_level)"
   ]
  },
  {
   "cell_type": "markdown",
   "metadata": {},
   "source": [
    "*Your answer here*"
   ]
  },
  {
   "cell_type": "markdown",
   "metadata": {},
   "source": [
    "You can also remove the routine from an agent similarly to a behavior with the `detach_routine` and `detach_all_routines` functions, and check them with the `print_routines` function."
   ]
  },
  {
   "cell_type": "code",
   "execution_count": 31,
   "metadata": {},
   "outputs": [
    {
     "name": "stdout",
     "output_type": "stream",
     "text": [
      "Available routines: ['foraging_drive'], Active routines: ['foraging_drive']\n",
      "No behaviors attached\n",
      "No behaviors attached\n"
     ]
    }
   ],
   "source": [
    "for agent in controller.agents:\n",
    "    agent.print_routines()"
   ]
  },
  {
   "cell_type": "code",
   "execution_count": 32,
   "metadata": {},
   "outputs": [],
   "source": [
    "agent_0.detach_all_routines()"
   ]
  },
  {
   "cell_type": "markdown",
   "metadata": {},
   "source": [
    "**Q3:** Modify the `foraging` behavior so that it is weighted according to the energy level of the agent: the lower the energy level, the higher `foraging` is weighted. However, as seen in Q1 above, the agent might still be attracted to resources even when the `foraging` weight is null. Solve this issue by adding another behavior that drives the agent away from resources according to the energy level: the higher the energy level, the more the agent is repulsed from resourcess."
   ]
  },
  {
   "cell_type": "code",
   "execution_count": 29,
   "metadata": {
    "collapsed": true
   },
   "outputs": [],
   "source": [
    "# your code here"
   ]
  },
  {
   "cell_type": "markdown",
   "metadata": {},
   "source": [
    "Now detach all the behaviors and the routines before going to the next section."
   ]
  },
  {
   "cell_type": "code",
   "execution_count": 33,
   "metadata": {},
   "outputs": [],
   "source": [
    "for agent in controller.agents:\n",
    "    agent.detach_all_routines()\n",
    "    agent.detach_all_behaviors(stop_motors=True)"
   ]
  },
  {
   "cell_type": "markdown",
   "metadata": {},
   "source": [
    "## Sensing other agent's attributes"
   ]
  },
  {
   "cell_type": "markdown",
   "metadata": {},
   "source": [
    "It can be useful to allow a agent to sense attributes from other agents. For example, one might want to define different species of agent (cats and mouses for example) so that how a agent interact with another depends on their respective species. To achieve this, each agent can be set with a specific attribute, e.g `agent.species = \"cat\"` and that attribute can be sensed by other agents whenever it is detected by a proximeter. Let's try it with three agents. \n",
    "\n",
    "We will define a \"cat\" `species` for `agent_0`, and make him bigger, and a \"mouse\" `species` for agents 1 and 2. We will also make them smaller and give them the same color. "
   ]
  },
  {
   "cell_type": "code",
   "execution_count": 34,
   "metadata": {
    "collapsed": true
   },
   "outputs": [],
   "source": [
    "# set attributes of agent 0\n",
    "agent_0.species = \"cat\"\n",
    "agent_0.diameter = 12.\n",
    "\n",
    "# set the same attributes for agent 1 and agent 2\n",
    "agent_1.species = agent_2.species = \"mouse\"\n",
    "agent_1.diameter = agent_2.diameter = 7.\n",
    "agent_1.color = agent_2.color = \"cyan\""
   ]
  },
  {
   "cell_type": "markdown",
   "metadata": {},
   "source": [
    "So we have one cat and two mouses. Place the agents (either with the interface or with code) so that `agent_2` (mouse) is sensing `agent_0` (cat) on its left proximeter and `agent_1` (mouse) on its right proximeter. You can set the position of an entity by using its `x_position` and `y_position` attributes."
   ]
  },
  {
   "cell_type": "code",
   "execution_count": 35,
   "metadata": {},
   "outputs": [],
   "source": [
    "# First place the agent 2 at a specific location\n",
    "agent_2.x_position = 150\n",
    "agent_2.y_position = 150"
   ]
  },
  {
   "cell_type": "markdown",
   "metadata": {},
   "source": [
    "### COMMENT: see how we can do the next cell because we cannot hard code the position of the agents in the next cell. Even if we fix the orientation of the first agent (e.g facing toward the top), there might be an object between this agent sensing and the other ones that should be sensed. Can ask them to jusy do it manually."
   ]
  },
  {
   "cell_type": "code",
   "execution_count": 37,
   "metadata": {},
   "outputs": [],
   "source": [
    "# depending on its orientation, place the two other agents accordingly so they are sensed on the left and right of agent 2\n",
    "agent_0.x_position = 130\n",
    "agent_0.y_position = 170\n",
    "\n",
    "agent_1.x_position = 170\n",
    "agent_1.y_position = 170"
   ]
  },
  {
   "cell_type": "markdown",
   "metadata": {},
   "source": [
    "Then, to return the sensed entities by left and right proximeters, we can use the `sensed_entities` function of the agents. This returns the left and right entities if they are sensed, and `None` otherwise. "
   ]
  },
  {
   "cell_type": "code",
   "execution_count": 38,
   "metadata": {},
   "outputs": [],
   "source": [
    "ent_left, ent_right = agent_2.sensed_entities()"
   ]
  },
  {
   "cell_type": "markdown",
   "metadata": {},
   "source": [
    "We can check what are the entities detected by a agent by running the following cell:"
   ]
  },
  {
   "cell_type": "markdown",
   "metadata": {},
   "source": [
    "### COMMENT: do we print infos or only the species ? at the moment print infos doesn't display additional elements such as energy level, species ... do we want it to be the case and print any attribute ?"
   ]
  },
  {
   "cell_type": "code",
   "execution_count": 39,
   "metadata": {},
   "outputs": [
    {
     "name": "stdout",
     "output_type": "stream",
     "text": [
      "Left entity:\n",
      "Entity Overview:\n",
      "--------------------\n",
      "Type: AGENT\n",
      "Subtype: agents\n",
      "Idx: 1\n",
      "Exists: True\n",
      "Position: x=170.00, y=170.00\n",
      "Diameter: 7.00\n",
      "Color: #00ffff\n",
      "\n",
      "Sensors: Left=0.34, Right=-0.00\n",
      "Motors: Left=0.00, Right=0.00\n",
      "\n",
      "\n",
      "Right entity:\n",
      "Entity Overview:\n",
      "--------------------\n",
      "Type: OBJECT\n",
      "Subtype: s_obstacles\n",
      "Idx: 20\n",
      "Exists: True\n",
      "Position: x=130.47, y=104.76\n",
      "Diameter: 3.00\n",
      "Color: #ffa500\n",
      "\n"
     ]
    }
   ],
   "source": [
    "# Print the infos of the sensed entities\n",
    "print(\"Left entity:\")\n",
    "if ent_left:\n",
    "    ent_left.print_infos()\n",
    "else:\n",
    "    print(\"No entity sensed\")\n",
    "\n",
    "print(\"\\nRight entity:\")\n",
    "if ent_right:\n",
    "    ent_right.print_infos()\n",
    "\n",
    "else:\n",
    "    print(\"No entity sensed\")"
   ]
  },
  {
   "cell_type": "markdown",
   "metadata": {},
   "source": [
    "You can also directly sense specific attributes of these sensed entities with the `sense_attributes` function. Make sure to specify the `sensed_attribute` you want to sense (e.g 'diameter', 'species', etc.). You can also specify the `default_value` value to return if the attribute is not found (otherwise it is set to None). The function will return the given attribute of the left and right sensed entities if it exists (it can be either if the entity doesn't exist, or because the entity doesn't possess the specific attribute), and the default value otherwise."
   ]
  },
  {
   "cell_type": "markdown",
   "metadata": {},
   "source": [
    "For example, each entity has a diameter, so if you see a `None` value, it means that the entity isn't sensed by the agent."
   ]
  },
  {
   "cell_type": "code",
   "execution_count": 40,
   "metadata": {},
   "outputs": [
    {
     "name": "stdout",
     "output_type": "stream",
     "text": [
      "Left: 7.0 Right: 3.0\n"
     ]
    }
   ],
   "source": [
    "l_attr, r_attr = agent_2.sense_attributes(sensed_attribute=\"diameter\")\n",
    "print(f\"Left: {l_attr} Right: {r_attr}\")"
   ]
  },
  {
   "cell_type": "markdown",
   "metadata": {},
   "source": [
    "For this other case, we only defined species for the agents. We set the default value to 'unknown', so if an entity isn't detected, or doesn't have the attribute, it will return 'unknown'."
   ]
  },
  {
   "cell_type": "code",
   "execution_count": 41,
   "metadata": {},
   "outputs": [
    {
     "name": "stdout",
     "output_type": "stream",
     "text": [
      "Left: mouse Right: unknown\n"
     ]
    }
   ],
   "source": [
    "l_attr, r_attr = agent_2.sense_attributes(sensed_attribute=\"species\", default_value=\"unknown\")\n",
    "print(f\"Left: {l_attr} Right: {r_attr}\")"
   ]
  },
  {
   "cell_type": "markdown",
   "metadata": {},
   "source": [
    "The `sense_attributes` function takes 2 arguments: the name of the attribute we are interested in (here `\"species\"`) and the default value to return if a proximeter is not sensing any entity (here `none`). Note that this function works with any type of sensed entities, that is to say agents and any kind of objects.\n",
    "\n",
    "Move the agent 2 in the scene by activating its behaviors, and check how the attribute sensing is changing accordingly by re-executing the two above cells. Then try with other attributes, for example by setting an `age` attribute to the agents and sensing it from the proximeters."
   ]
  },
  {
   "cell_type": "markdown",
   "metadata": {},
   "source": [
    "Let's now extend the `fear` behavior so that mouses are only afraid by the cat but not by the other mouse:"
   ]
  },
  {
   "cell_type": "code",
   "execution_count": 42,
   "metadata": {
    "collapsed": true
   },
   "outputs": [],
   "source": [
    "def fear_cat(agent):\n",
    "    (left, right) = agent.sensors(sensed_entities=[\"agents\"])\n",
    "    left_species, right_species = agent.sense_attributes(sensed_attribute=\"species\", default_value =\"none\")\n",
    "    left_activation = left if left_species == \"cat\" else 0\n",
    "    right_activation = right if right_species == \"cat\" else 0\n",
    "    return left_activation, right_activation"
   ]
  },
  {
   "cell_type": "markdown",
   "metadata": {},
   "source": [
    "Attach the obstacle avoidance on each agents to make them move."
   ]
  },
  {
   "cell_type": "code",
   "execution_count": 43,
   "metadata": {},
   "outputs": [],
   "source": [
    "for agent in controller.agents:\n",
    "    agent.attach_behavior(obstacle_avoidance)"
   ]
  },
  {
   "cell_type": "markdown",
   "metadata": {},
   "source": [
    "And run this behavior together with the `obstacle_avoidance` one on `agent_2`:"
   ]
  },
  {
   "cell_type": "code",
   "execution_count": 44,
   "metadata": {},
   "outputs": [
    {
     "name": "stdout",
     "output_type": "stream",
     "text": [
      "Attached behaviors: ['obstacle_avoidance', 'fear_cat'], Started behaviors: ['obstacle_avoidance', 'fear_cat']\n"
     ]
    }
   ],
   "source": [
    "agent_2.attach_behavior(fear_cat)\n",
    "agent_2.print_behaviors()"
   ]
  },
  {
   "cell_type": "markdown",
   "metadata": {},
   "source": [
    "Check in the simulator that `agent_2` (mouse) is now avoiding `agent_0` (cat) but not `agent_1` (mouse). We can modify the `species` attribute of agents on the fly. Let's swap the species of `agent_0` and `agent_1`:"
   ]
  },
  {
   "cell_type": "code",
   "execution_count": 45,
   "metadata": {
    "collapsed": true
   },
   "outputs": [],
   "source": [
    "agent_0.species = \"mouse\"\n",
    "agent_0.diameter = 7.\n",
    "agent_0.color = \"cyan\"\n",
    "\n",
    "agent_1.species = \"cat\"\n",
    "agent_1.diameter = 12.\n",
    "agent_1.color = \"blue\""
   ]
  },
  {
   "cell_type": "markdown",
   "metadata": {},
   "source": [
    "Check in the simulator that `agent_2` (mouse) is now avoiding `agent_1` (cat) but not `agent_0` (mouse)."
   ]
  },
  {
   "cell_type": "markdown",
   "metadata": {},
   "source": [
    "**Q4:** Use the new functionalities we have seen in this session to design the following system:\n",
    "Two agents are equipped with behaviors to avoid obstacle and catch resourcess, as well as being attracted or repulsed by the other agent. Attraction and repulsion depend on the energy level of the other agent: the higher this level the more attraction, the lower this level the more repulsion. "
   ]
  },
  {
   "cell_type": "code",
   "execution_count": 46,
   "metadata": {
    "collapsed": true
   },
   "outputs": [],
   "source": [
    "for agent in controller.agents:\n",
    "    agent.detach_all_behaviors(stop_motors=True)"
   ]
  },
  {
   "cell_type": "code",
   "execution_count": 47,
   "metadata": {
    "collapsed": true
   },
   "outputs": [],
   "source": [
    "# Your code here\n"
   ]
  },
  {
   "cell_type": "markdown",
   "metadata": {},
   "source": [
    "**Q5**: Modify the previous simulation such that attraction and repulsion depend on how much a agent has been close to others in the recent past. To do so, define a `social_drive` routine that modulates the value of a `social_need` attribute in each agent. This social need continuously increases when other agents are far and decreases when a agent comes closer to its conspecifics."
   ]
  },
  {
   "cell_type": "code",
   "execution_count": 48,
   "metadata": {},
   "outputs": [
    {
     "name": "stderr",
     "output_type": "stream",
     "text": [
      "your 131072x1 screen size is bogus. expect trouble\n",
      " Found the process scripts/run_interface.py running with this PID: 5833\n",
      "your 131072x1 screen size is bogus. expect trouble\n",
      " Found the process scripts/run_server.py running with this PID: 5662\n"
     ]
    },
    {
     "name": "stderr",
     "output_type": "stream",
     "text": [
      "Killed process with PID: 5833\n",
      "Killed process with PID: 5662\n",
      "\n",
      "Server and Interface processes have been stopped\n",
      "\n"
     ]
    },
    {
     "name": "stdout",
     "output_type": "stream",
     "text": [
      "\n",
      "Stopping server and interface processes\n",
      "\n",
      "Received signal 15, shutting down\n"
     ]
    }
   ],
   "source": [
    "stop_server_and_interface(safe_mode=False)\n",
    "controller.stop()"
   ]
  },
  {
   "cell_type": "markdown",
   "metadata": {},
   "source": [
    "Now that you finished this session, you can either jump to :\n",
    "\n",
    "- [session 5](session_5.ipynb) : Bonus session that explains how to use routines to a simple Eco-Evolutionary simulation\n",
    "- [session 6](session_6_logging.ipynb) : How to log and plot data about the simulation\n"
   ]
  },
  {
   "cell_type": "markdown",
   "metadata": {
    "collapsed": true
   },
   "source": [
    "## About the mini-project\n",
    "\n",
    "The aim of the mini project is to show that you have understood all the concepts we have seen during these three practical sessions and that you can integrate them in a single demo. You can of course modify the V-REP scene at your will, e.g adding cups or trees. Don't forget to save you modified V-REP scene (`File -> Save scene as` in V-REP). You can start your project in a new Jupyter Notebook (`File -> New notebook -> Python3`) in the menu bar at the top of this notebook). Use both text cells (explaining what you are doing) and code cells (with the corresponding code to execute).\n",
    "\n",
    "Therefore, your project will consists of two files: a V-REP scene (extension `.ttt`) a Jupyter Notebook (extension `.ipynb`). Don't forget to save them, e.g. on a USB stick, before logging out from the UPF computers. See [this slide](https://docs.google.com/presentation/d/1FlAUyvNynYU4mDBE2o20pf2Bn5PC_9Id3SK8sCMfr-Q/edit#slide=id.g34900c6ead_0_0) for more information on the mini-project."
   ]
  }
 ],
 "metadata": {
  "kernelspec": {
   "display_name": "venv",
   "language": "python",
   "name": "python3"
  },
  "language_info": {
   "codemirror_mode": {
    "name": "ipython",
    "version": 3
   },
   "file_extension": ".py",
   "mimetype": "text/x-python",
   "name": "python",
   "nbconvert_exporter": "python",
   "pygments_lexer": "ipython3",
   "version": "3.10.12"
  }
 },
 "nbformat": 4,
 "nbformat_minor": 1
}
