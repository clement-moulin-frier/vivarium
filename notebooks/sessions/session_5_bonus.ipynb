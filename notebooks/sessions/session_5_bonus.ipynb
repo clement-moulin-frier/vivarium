{
 "cells": [
  {
   "cell_type": "markdown",
   "metadata": {},
   "source": [
    "# Session 5 (Bonus): Implementing a simple Eco-Evolutionary simulation"
   ]
  },
  {
   "cell_type": "markdown",
   "metadata": {},
   "source": [
    "In all precedent sessions, we saw how to control simulation from notebook by modifying agents behaviors, manipulating their sensors, their diets ... how to make resources spawn, assign species to agents ......, attach routines ...\n",
    "\n",
    "Now we are going to see how we can combine all these features to implement a simple Eco-Evolutionary simulation ! \n",
    "\n",
    "An eco-evolutionary simulation is a virtual environment where small agents (like robots) interact with each other and their surroundings. Over time, these agents adapt and evolve based on environmental challenges and competition for resources. The simulation models both ecological processes (like food gathering or predator-prey relationships) and evolutionary changes (like traits being passed down to future generations)."
   ]
  },
  {
   "cell_type": "code",
   "execution_count": 1,
   "metadata": {},
   "outputs": [
    {
     "name": "stderr",
     "output_type": "stream",
     "text": [
      "An NVIDIA GPU may be present on this machine, but a CUDA-enabled jaxlib is not installed. Falling back to cpu.\n"
     ]
    }
   ],
   "source": [
    "import numpy as np\n",
    "\n",
    "from vivarium.controllers.notebook_controller import NotebookController\n",
    "from vivarium.utils.handle_server_interface import start_server_and_interface, stop_server_and_interface"
   ]
  },
  {
   "cell_type": "code",
   "execution_count": 2,
   "metadata": {},
   "outputs": [
    {
     "name": "stdout",
     "output_type": "stream",
     "text": [
      "/home/cleger/Desktop/code/vivarium/vivarium/utils\n",
      "STARTING SERVER\n"
     ]
    },
    {
     "name": "stderr",
     "output_type": "stream",
     "text": [
      "An NVIDIA GPU may be present on this machine, but a CUDA-enabled jaxlib is not installed. Falling back to cpu.\n"
     ]
    },
    {
     "name": "stdout",
     "output_type": "stream",
     "text": [
      "[2024-11-25 14:48:18,993][__main__][INFO] - Scene running: session_5\n",
      "[2024-11-25 14:48:21,668][vivarium.simulator.simulator][INFO] - Simulator initialized\n",
      "\n",
      "STARTING INTERFACE\n"
     ]
    },
    {
     "name": "stderr",
     "output_type": "stream",
     "text": [
      "2024-11-25 14:48:23,580 Starting Bokeh server version 3.3.4 (running on Tornado 6.4)\n",
      "2024-11-25 14:48:23,580 User authentication hooks NOT provided (default user enabled)\n",
      "2024-11-25 14:48:23,582 Bokeh app running at: http://localhost:5006/run_interface\n",
      "2024-11-25 14:48:23,582 Starting Bokeh server with process id: 33727\n",
      "2024-11-25 14:48:36,107 An NVIDIA GPU may be present on this machine, but a CUDA-enabled jaxlib is not installed. Falling back to cpu.\n",
      "2024-11-25 14:48:38,248 WebSocket connection opened\n",
      "2024-11-25 14:48:38,298 ServerConnection created\n"
     ]
    }
   ],
   "source": [
    "start_server_and_interface(scene_name=\"session_5\")"
   ]
  },
  {
   "cell_type": "markdown",
   "metadata": {},
   "source": [
    "Start running the controller and check the subtypes of this session"
   ]
  },
  {
   "cell_type": "code",
   "execution_count": 3,
   "metadata": {},
   "outputs": [
    {
     "name": "stderr",
     "output_type": "stream",
     "text": [
      "/home/cleger/Desktop/code/vivarium/venv/lib/python3.10/site-packages/jax/_src/ops/scatter.py:96: FutureWarning: scatter inputs have incompatible types: cannot safely cast value from dtype=float32 to dtype=int32 with jax_numpy_dtype_promotion='standard'. In future JAX releases this will result in an error.\n",
      "  warnings.warn(\n"
     ]
    }
   ],
   "source": [
    "controller = NotebookController()"
   ]
  },
  {
   "cell_type": "code",
   "execution_count": 4,
   "metadata": {},
   "outputs": [],
   "source": [
    "controller.run()"
   ]
  },
  {
   "cell_type": "code",
   "execution_count": 5,
   "metadata": {},
   "outputs": [
    {
     "name": "stdout",
     "output_type": "stream",
     "text": [
      "['s_obstacles', 'b_obstacles', 'resources', 'robots']\n"
     ]
    }
   ],
   "source": [
    "controller.agents[0].left_motor = 0.5\n",
    "controller.print_subtypes_list()"
   ]
  },
  {
   "cell_type": "markdown",
   "metadata": {},
   "source": [
    "define behaviors in advance like in the precedent notebook"
   ]
  },
  {
   "cell_type": "code",
   "execution_count": 6,
   "metadata": {
    "collapsed": true
   },
   "outputs": [],
   "source": [
    "def fear(robot):\n",
    "    left, right = robot.sensors(sensed_entities=[\"robots\"])\n",
    "    left_wheel = left\n",
    "    right_wheel = right\n",
    "    return left_wheel, right_wheel\n",
    "\n",
    "def aggression(robot):\n",
    "    left, right = robot.sensors(sensed_entities=[\"robots\"])\n",
    "    left_wheel = right\n",
    "    right_wheel = left\n",
    "    return left_wheel, right_wheel\n",
    "\n",
    "def love_cuddly(robot):\n",
    "    left, right = robot.sensors(sensed_entities=[\"robots\"])\n",
    "    left_wheel = 1 - left\n",
    "    right_wheel = 1 - right   \n",
    "    return left_wheel, right_wheel\n",
    "\n",
    "def love_shy(robot):\n",
    "    left, right = robot.sensors(sensed_entities=[\"robots\"])\n",
    "    left_wheel = 1 - right\n",
    "    right_wheel = 1 - left   \n",
    "    return left_wheel, right_wheel\n",
    "\n",
    "def obstacle_avoidance(robot):\n",
    "    left, right = robot.sensors(sensed_entities=[\"s_obstacles\", \"b_obstacles\"])\n",
    "    left_wheel = 1 - right\n",
    "    right_wheel = 1 - left   \n",
    "    return left_wheel, right_wheel"
   ]
  },
  {
   "cell_type": "markdown",
   "metadata": {},
   "source": [
    "## 1 - Understanding alive and dead agents"
   ]
  },
  {
   "cell_type": "code",
   "execution_count": 7,
   "metadata": {},
   "outputs": [
    {
     "name": "stdout",
     "output_type": "stream",
     "text": [
      "Number of agents: 10\n"
     ]
    }
   ],
   "source": [
    "n_agents = len(controller.agents)\n",
    "print(f\"Number of agents: {n_agents}\")"
   ]
  },
  {
   "cell_type": "markdown",
   "metadata": {},
   "source": [
    "We can see there are only 4 agents in the simulator. 10 is the max number of agents. We can check this with the following command and see which agents are dead or alive :"
   ]
  },
  {
   "cell_type": "code",
   "execution_count": 8,
   "metadata": {},
   "outputs": [
    {
     "name": "stdout",
     "output_type": "stream",
     "text": [
      "agent 0: exists = True\n",
      "agent 1: exists = True\n",
      "agent 2: exists = True\n",
      "agent 3: exists = True\n",
      "agent 4: exists = False\n",
      "agent 5: exists = False\n",
      "agent 6: exists = False\n",
      "agent 7: exists = False\n",
      "agent 8: exists = False\n",
      "agent 9: exists = False\n"
     ]
    }
   ],
   "source": [
    "for agent in controller.agents:\n",
    "    print(f\"agent {agent.idx}: exists = {agent.exists}\")"
   ]
  },
  {
   "cell_type": "markdown",
   "metadata": {},
   "source": [
    "First 4 agents of the simulator are alive ... Now we are going to see how to make an agent spawn and die:"
   ]
  },
  {
   "cell_type": "code",
   "execution_count": 9,
   "metadata": {},
   "outputs": [],
   "source": [
    "agent_idx = 4 # idx of a dead agent\n",
    "agent = controller.agents[agent_idx]\n",
    "agent.exists = True # make the agent spawn"
   ]
  },
  {
   "cell_type": "markdown",
   "metadata": {},
   "source": [
    "we can also do it with the spawn_entity function of the controller :"
   ]
  },
  {
   "cell_type": "code",
   "execution_count": 10,
   "metadata": {},
   "outputs": [
    {
     "data": {
      "text/plain": [
       "<vivarium.controllers.notebook_controller.Agent at 0x7195a8d01990>"
      ]
     },
     "execution_count": 10,
     "metadata": {},
     "output_type": "execute_result"
    }
   ],
   "source": [
    "agent_idx = 5 # idx of a dead agent\n",
    "controller.spawn_entity(agent_idx)"
   ]
  },
  {
   "cell_type": "markdown",
   "metadata": {},
   "source": [
    "Now let's see how to kill an agent :"
   ]
  },
  {
   "cell_type": "code",
   "execution_count": 11,
   "metadata": {},
   "outputs": [],
   "source": [
    "agent_idx = 4 # idx of an alive agent\n",
    "agent = controller.agents[agent_idx]\n",
    "agent.exists = False # kill the agent"
   ]
  },
  {
   "cell_type": "markdown",
   "metadata": {},
   "source": [
    "And again we have a method in the controller to do that : remove_entity"
   ]
  },
  {
   "cell_type": "code",
   "execution_count": 12,
   "metadata": {},
   "outputs": [
    {
     "name": "stderr",
     "output_type": "stream",
     "text": [
      "Entity 5 already removed\n"
     ]
    }
   ],
   "source": [
    "agent_idx = 5 # idx of an alive agent\n",
    "controller.remove_entity(agent_idx)"
   ]
  },
  {
   "cell_type": "markdown",
   "metadata": {},
   "source": [
    "Now you have the basics to make agents spwan and die ! "
   ]
  },
  {
   "cell_type": "markdown",
   "metadata": {},
   "source": [
    "Let's see how to manipulate dead and alive agents lists now, you can either get these lists manually:"
   ]
  },
  {
   "cell_type": "code",
   "execution_count": 15,
   "metadata": {},
   "outputs": [
    {
     "name": "stdout",
     "output_type": "stream",
     "text": [
      "Getting existing agents manually: \n",
      "0\n",
      "1\n",
      "2\n",
      "3\n"
     ]
    }
   ],
   "source": [
    "print(\"Getting existing agents manually: \")\n",
    "for agent in controller.agents:\n",
    "    if agent.exists == True:\n",
    "        print(agent.idx)"
   ]
  },
  {
   "cell_type": "markdown",
   "metadata": {},
   "source": [
    "But you also have helper attributes to do that :"
   ]
  },
  {
   "cell_type": "code",
   "execution_count": 16,
   "metadata": {},
   "outputs": [
    {
     "name": "stdout",
     "output_type": "stream",
     "text": [
      "Getting existing agents with an attribute: \n",
      "0\n",
      "1\n",
      "2\n",
      "3\n",
      "\n",
      "Getting non existing agents with an attribute: \n",
      "4\n",
      "5\n",
      "6\n",
      "7\n",
      "8\n",
      "9\n"
     ]
    }
   ],
   "source": [
    "print(\"Getting existing agents with an attribute: \")\n",
    "for agent in controller.existing_agents:\n",
    "    print(agent.idx)\n",
    "\n",
    "print(\"\\nGetting non existing agents with an attribute: \")\n",
    "for agent in controller.non_existing_agents:\n",
    "    print(agent.idx)"
   ]
  },
  {
   "cell_type": "markdown",
   "metadata": {},
   "source": [
    "Attach behaviors to existing agents (you can technically also attach them to dead agents but it won't have any effect):"
   ]
  },
  {
   "cell_type": "code",
   "execution_count": 12,
   "metadata": {},
   "outputs": [],
   "source": [
    "for agent in controller.agents:\n",
    "    if agent.exists == True:\n",
    "        agent.attach_behavior(obstacle_avoidance)\n",
    "        agent.attach_behavior(love_cuddly)\n",
    "        agent.start_all_behaviors()"
   ]
  },
  {
   "cell_type": "code",
   "execution_count": 13,
   "metadata": {},
   "outputs": [
    {
     "name": "stdout",
     "output_type": "stream",
     "text": [
      "Available behaviors: ['obstacle_avoidance', 'love_cuddly'], Active behaviors: ['obstacle_avoidance', 'love_cuddly']\n",
      "Available behaviors: ['obstacle_avoidance', 'love_cuddly'], Active behaviors: ['obstacle_avoidance', 'love_cuddly']\n",
      "Available behaviors: ['obstacle_avoidance', 'love_cuddly'], Active behaviors: ['obstacle_avoidance', 'love_cuddly']\n",
      "Available behaviors: ['obstacle_avoidance', 'love_cuddly'], Active behaviors: ['obstacle_avoidance', 'love_cuddly']\n",
      "No behaviors attached\n",
      "No behaviors attached\n",
      "No behaviors attached\n",
      "No behaviors attached\n",
      "No behaviors attached\n",
      "No behaviors attached\n"
     ]
    }
   ],
   "source": [
    "for agent in controller.agents:\n",
    "    agent.print_behaviors()"
   ]
  },
  {
   "cell_type": "code",
   "execution_count": 14,
   "metadata": {},
   "outputs": [],
   "source": [
    "for agent in controller.agents:\n",
    "    agent.detach_all_behaviors(stop_motors=True)"
   ]
  },
  {
   "attachments": {
    "image.png": {
     "image/png": "[encoded data removed]"
    }
   },
   "cell_type": "markdown",
   "metadata": {},
   "source": [
    "## Comment : Funny emergent behavior\n",
    "\n",
    "Could add this in a session, agents start behavior like a kind of spine and follow each other while detecting themselves at max range --> very like life phenomenon liek a kind of snake\n",
    "\n",
    "![image.png](attachment:image.png)\n",
    "\n",
    "And actually seems to last forever with the current configutation ! even with obstacles on the side\n"
   ]
  },
  {
   "cell_type": "markdown",
   "metadata": {},
   "source": [
    "Start object apparition and make agents eat them"
   ]
  },
  {
   "cell_type": "markdown",
   "metadata": {},
   "source": [
    "## 2 - Understanding Entities routines\n",
    "\n",
    "We already saw little agents routines ... e.g for eating behaviors, lets see other examples"
   ]
  },
  {
   "cell_type": "markdown",
   "metadata": {},
   "source": [
    "### Making an object move\n",
    "\n",
    "You can easielty make an object move with the following routine (e.g move to the left by 2. units every step):"
   ]
  },
  {
   "cell_type": "code",
   "execution_count": 15,
   "metadata": {},
   "outputs": [],
   "source": [
    "position_shift = 2.\n",
    "\n",
    "def move_entity_left_routine(entity):\n",
    "    entity.x_position += position_shift\n",
    "\n",
    "def move_entity_top_routine(entity):\n",
    "    entity.y_position += position_shift"
   ]
  },
  {
   "cell_type": "code",
   "execution_count": 16,
   "metadata": {},
   "outputs": [],
   "source": [
    "obj = controller.objects[0]\n",
    "obj.diameter = 10.\n",
    "obj.color = \"black\""
   ]
  },
  {
   "cell_type": "markdown",
   "metadata": {},
   "source": [
    "you can set the interval how you want"
   ]
  },
  {
   "cell_type": "code",
   "execution_count": 17,
   "metadata": {},
   "outputs": [],
   "source": [
    "obj.attach_routine(move_entity_left_routine, interval=1)"
   ]
  },
  {
   "cell_type": "markdown",
   "metadata": {},
   "source": [
    "You can combine this with a routine to go top, which will make object move diagonally"
   ]
  },
  {
   "cell_type": "code",
   "execution_count": 18,
   "metadata": {},
   "outputs": [],
   "source": [
    "obj.attach_routine(move_entity_top_routine, interval=1)"
   ]
  },
  {
   "cell_type": "markdown",
   "metadata": {},
   "source": [
    "detach the routines for the object : "
   ]
  },
  {
   "cell_type": "code",
   "execution_count": 19,
   "metadata": {},
   "outputs": [],
   "source": [
    "obj.detach_routine(\"move_entity_left_routine\")\n",
    "obj.detach_routine(\"move_entity_top_routine\")"
   ]
  },
  {
   "cell_type": "markdown",
   "metadata": {},
   "source": [
    "Actually, this would work on any kind of entity like agents, so can do it like that :"
   ]
  },
  {
   "cell_type": "code",
   "execution_count": null,
   "metadata": {},
   "outputs": [],
   "source": [
    "ag = controller.agents[0]\n",
    "\n",
    "ag.attach_routine(move_entity_left_routine, interval=1)\n",
    "ag.attach_routine(move_entity_top_routine, interval=1)"
   ]
  },
  {
   "cell_type": "code",
   "execution_count": 24,
   "metadata": {},
   "outputs": [],
   "source": [
    "ag.detach_routine(\"move_entity_left_routine\")\n",
    "ag.detach_routine(\"move_entity_top_routine\")"
   ]
  },
  {
   "cell_type": "markdown",
   "metadata": {},
   "source": [
    "### Making an entity change color periodically :\n",
    "\n",
    "First, better understand how colors work in the controller. Actually you can pass them as strings but they are represented in hex format :"
   ]
  },
  {
   "cell_type": "code",
   "execution_count": 25,
   "metadata": {},
   "outputs": [
    {
     "name": "stdout",
     "output_type": "stream",
     "text": [
      "Agent color is: #0000ff\n"
     ]
    }
   ],
   "source": [
    "agent_color = ag.color\n",
    "print(f\"Agent color is: {agent_color}\")"
   ]
  },
  {
   "cell_type": "markdown",
   "metadata": {},
   "source": [
    "Example of how this works :"
   ]
  },
  {
   "cell_type": "code",
   "execution_count": 26,
   "metadata": {},
   "outputs": [
    {
     "name": "stdout",
     "output_type": "stream",
     "text": [
      "Blue color\n",
      "Transforming blue text color to hex: #0000ff\n",
      "Transforming blue rgb color to hex: #0000ff\n",
      "\n",
      "Red color\n",
      "Transforming red text color to RGB: (1.0, 0.0, 0.0)\n",
      "Transforming red rgb color to RGB: (1.0, 0.0, 0.0)\n"
     ]
    }
   ],
   "source": [
    "import matplotlib.colors as colors\n",
    "\n",
    "# blue color\n",
    "print(\"Blue color\")\n",
    "print(f\"Transforming blue text color to hex: {colors.to_hex('blue')}\")\n",
    "print(f\"Transforming blue rgb color to hex: {colors.to_hex((0.0, 0.0, 1.0))}\")\n",
    "\n",
    "# red color\n",
    "print(\"\\nRed color\")\n",
    "print(f\"Transforming red text color to RGB: {colors.to_rgb('red')}\")\n",
    "print(f\"Transforming red rgb color to RGB: {colors.to_rgb('#ff0000')}\")"
   ]
  },
  {
   "cell_type": "markdown",
   "metadata": {},
   "source": [
    "Now that you know how to get the hex code of a color, you can also make an entity change color periodically with the following routine :"
   ]
  },
  {
   "cell_type": "code",
   "execution_count": 27,
   "metadata": {},
   "outputs": [],
   "source": [
    "def change_color(entity):\n",
    "    if entity.color == colors.to_hex(\"blue\"):\n",
    "        entity.color = \"cyan\"\n",
    "    else:\n",
    "        entity.color = \"blue\""
   ]
  },
  {
   "cell_type": "code",
   "execution_count": 28,
   "metadata": {},
   "outputs": [],
   "source": [
    "ag.attach_routine(change_color, interval=5)"
   ]
  },
  {
   "cell_type": "markdown",
   "metadata": {},
   "source": [
    "You can run the following cell several times to see the color change"
   ]
  },
  {
   "cell_type": "code",
   "execution_count": 29,
   "metadata": {},
   "outputs": [
    {
     "data": {
      "text/plain": [
       "'#00ffff'"
      ]
     },
     "execution_count": 29,
     "metadata": {},
     "output_type": "execute_result"
    }
   ],
   "source": [
    "ag.color"
   ]
  },
  {
   "cell_type": "code",
   "execution_count": 30,
   "metadata": {},
   "outputs": [],
   "source": [
    "ag.detach_routine(\"change_color\")"
   ]
  },
  {
   "cell_type": "markdown",
   "metadata": {},
   "source": [
    "This isn't particularly useful but it's a good example of how you can manipulate entities in the simulation. You can also combine this with other routines to create more complex behaviors. For example, we could have this kind of routines attached to agents to indicate their health status (blinking when they have low energy ...)."
   ]
  },
  {
   "cell_type": "markdown",
   "metadata": {},
   "source": [
    "## 2 - Understanding Controller routines\n",
    "\n",
    "We already saw little agents routines ... e.g for eating behaviors, lets see other examples"
   ]
  },
  {
   "cell_type": "markdown",
   "metadata": {},
   "source": [
    "As for entities, the notebook controller can also have routines. An example of this is the spawn ressources function you already saw ! Under the hood, it is implemented as a routine : \n",
    "\n",
    "# TODO : can see how we handle that and maybe remove doc, asserts ... "
   ]
  },
  {
   "cell_type": "code",
   "execution_count": null,
   "metadata": {},
   "outputs": [],
   "source": [
    "# TODO : just do this for the resources and remove position range, entity type ... --> will make the code way simpler\n",
    "def spawn_entity_routine_fn(controller, entity_type=None, position_range=None):\n",
    "    \"\"\"Spawn entities of type entity_type every period seconds within a given position range\n",
    "\n",
    "    :param period: period\n",
    "    :param entity_type: entity_type, defaults to None\n",
    "    :param position_range: position_range, defaults to None\n",
    "    \"\"\"\n",
    "    assert entity_type is not None, \"Please specify the entity type\"\n",
    "    assert isinstance(entity_type, int), \"Entity type must be an integer index\"\n",
    "\n",
    "    # transform the position range if not specified\n",
    "    if position_range is None:\n",
    "        position_range = ((0, controller.box_size), (0, controller.box_size)) \n",
    "\n",
    "    non_existing_ent_list = [ent.idx for ent in controller.all_entities if not ent.exists and ent.subtype == entity_type]\n",
    "    if non_existing_ent_list:\n",
    "        ent_idx = np.random.choice(non_existing_ent_list)\n",
    "        x = np.random.uniform(position_range[0][0], position_range[0][1], 1)\n",
    "        y = np.random.uniform(position_range[1][0], position_range[1][1], 1)\n",
    "        controller.spawn_entity(ent_idx, position=(x, y))\n",
    "    else:\n",
    "        print(f'All entities of type {entity_type} are spawned')\n",
    "\n",
    "\n",
    "# TODO : might kind of complex to show them how the thing works under the hood here (functions in the NotebookController class):\n",
    "# TODO : Can recreate a simplified version of the mechanism with 1 single function --> easier to present etc.\n",
    "#   def start_entity_apparition(self, interval=50, entity_type: str = None, position_range=None):\n",
    "#         \"\"\"Start the apparition process for entities of type entity_type every period seconds\n",
    "\n",
    "#         :param period: period, defaults to 5\n",
    "#         :param entity_type: entity_type, defaults to None\n",
    "#         :param position_range: position range where entities can spawn, defaults to None\n",
    "#         \"\"\"\n",
    "#         entity_type_idx = self.get_idx_from_label_subtype(entity_type)\n",
    "\n",
    "#         routine_fn = functools.partial(spawn_entity_routine_fn, entity_type=entity_type_idx, position_range=position_range)\n",
    "#         # add the name of the spawning routine function otherwise error in the routine handler\n",
    "#         self.attach_routine(routine_fn, name=spawn_entity_routine_fn.__name__, interval=interval)\n",
    "\n",
    "#     def start_resources_apparition(self, interval=50, position_range=None):\n",
    "#         \"\"\"Start the resources apparition process\n",
    "\n",
    "#         :param period: period, defaults to 5\n",
    "#         :param position_range: position_range, defaults to None\n",
    "#         \"\"\"\n",
    "#         resources_type = \"resources\"\n",
    "#         self.start_entity_apparition(interval, entity_type=resources_type, position_range=position_range)\n",
    "#         # start the eating routine for agents\n",
    "#         self.attach_routine(eating_routine_fn)"
   ]
  },
  {
   "cell_type": "markdown",
   "metadata": {},
   "source": [
    "This is really useful to make the simulation evolve over time. For example, ...\n",
    "\n",
    "Let's see how we can implement a reproduction routine for agents thanks to this ! First, do something to give them energy levels, make them eat ... Then based on these previous conditions we can make them reproduce :"
   ]
  },
  {
   "cell_type": "markdown",
   "metadata": {},
   "source": [
    "Because we have a max number of agents, to make new ones spawn, we have to get the idx of the dead agents."
   ]
  },
  {
   "cell_type": "code",
   "execution_count": 32,
   "metadata": {},
   "outputs": [
    {
     "name": "stdout",
     "output_type": "stream",
     "text": [
      "[4, 5, 6, 7, 8, 9]\n"
     ]
    }
   ],
   "source": [
    "dead_agents_idx = [agent.idx for agent in controller.agents if agent.exists == False]\n",
    "print(dead_agents_idx)"
   ]
  },
  {
   "cell_type": "markdown",
   "metadata": {},
   "source": [
    "then, to pick a random idx inside the list of dead agents, use the numpy random choice function : (note that if you execute the function several times, you will see that the idx is different each time)"
   ]
  },
  {
   "cell_type": "code",
   "execution_count": 33,
   "metadata": {},
   "outputs": [
    {
     "name": "stdout",
     "output_type": "stream",
     "text": [
      "9\n"
     ]
    }
   ],
   "source": [
    "agent_idx = np.random.choice(dead_agents_idx)\n",
    "print(agent_idx)"
   ]
  },
  {
   "cell_type": "markdown",
   "metadata": {},
   "source": [
    "To make agents spawn at the same position as their parents, we have to implement little tricks. Let's say the agent 0 will reproduce, we can get its position with the following command :"
   ]
  },
  {
   "cell_type": "code",
   "execution_count": 34,
   "metadata": {},
   "outputs": [
    {
     "name": "stdout",
     "output_type": "stream",
     "text": [
      "position = [17.2849063873291, 6.892883777618408]\n"
     ]
    }
   ],
   "source": [
    "agent_idx = 0\n",
    "# get agent position\n",
    "position = [agent.x_position, agent.y_position]\n",
    "print(f\"position = {position}\")"
   ]
  },
  {
   "cell_type": "markdown",
   "metadata": {},
   "source": [
    "If we want to prevent collision errors, we need to spawn the new agent with a position that is slightly different from parent pos. To do so, we can add a little random epsilon to the modify the position of the offspring with numpy:"
   ]
  },
  {
   "cell_type": "code",
   "execution_count": 38,
   "metadata": {},
   "outputs": [
    {
     "name": "stdout",
     "output_type": "stream",
     "text": [
      "epsilon = [2.05817292 0.17115042]\n",
      "new_position = [19.34307931  7.06403419]\n"
     ]
    }
   ],
   "source": [
    "# epsilon between -max_distance and +max_distance, of shape (2)\n",
    "max_distance = 5\n",
    "epsilon = np.random.uniform(-max_distance, max_distance, 2)\n",
    "print(f\"epsilon = {epsilon}\")\n",
    "\n",
    "# create new position by adding epsilon to the current position\n",
    "new_position = position + epsilon\n",
    "print(f\"new_position = {new_position}\")"
   ]
  },
  {
   "cell_type": "markdown",
   "metadata": {},
   "source": [
    "## 2.1 - Implementing an asexual reproduction routine\n",
    "\n",
    "We also previously saw how to spawn entities with the controller. Now with all this information we can implement a simple reproduction routine for agents ! "
   ]
  },
  {
   "cell_type": "code",
   "execution_count": 39,
   "metadata": {},
   "outputs": [],
   "source": [
    "def foraging(robot):\n",
    "    left, right = robot.sensors(sensed_entities=[\"resources\"])\n",
    "    left_activation = right\n",
    "    right_activation = left\n",
    "    return left_activation, right_activation"
   ]
  },
  {
   "cell_type": "code",
   "execution_count": 80,
   "metadata": {},
   "outputs": [],
   "source": [
    "# spawn the a new agent every time an agent has eaten !\n",
    "offspring_diameter = 7.\n",
    "\n",
    "def asexual_reproduction(controller):\n",
    "    # iterate over all agents in the controller\n",
    "    for robot in controller.agents: \n",
    "        # check if the robot has eaten and if it is alive\n",
    "        if robot.exists and robot.has_eaten():\n",
    "            # get the index of the dead agents to select one and make it spawn\n",
    "            dead_agents_idx = [agent.idx for agent in controller.agents if agent.exists == False]\n",
    "            # check if there are dead agents (if dead_agents_idx an empty list, do nothing)\n",
    "            if dead_agents_idx:\n",
    "                # if there are dead agents, select one randomly\n",
    "                agent_idx = np.random.choice(dead_agents_idx)\n",
    "                # add some noise to the position of the parent\n",
    "                epsilon = np.random.uniform(-max_distance, max_distance, 2)\n",
    "                position = [robot.x_position, robot.y_position]\n",
    "                new_position = position + epsilon\n",
    "                # give the new position to the spawn entity\n",
    "                offspring = controller.spawn_entity(agent_idx, position=new_position) \n",
    "                offspring.diameter = offspring_diameter\n",
    "                offspring.attach_behavior(obstacle_avoidance)\n",
    "                offspring.attach_behavior(foraging)\n",
    "                offspring.start_all_behaviors()\n",
    "            else:\n",
    "                pass"
   ]
  },
  {
   "cell_type": "markdown",
   "metadata": {},
   "source": [
    "Indeed problem if do a typo on en entity subtype, so enum could indeed be a good choice here idk."
   ]
  },
  {
   "cell_type": "code",
   "execution_count": 41,
   "metadata": {},
   "outputs": [],
   "source": [
    "for agent in controller.agents:\n",
    "    agent.diet = [\"resources\"]\n",
    "    agent.detach_behavior(\"love_cuddly\")\n",
    "    agent.attach_behavior(obstacle_avoidance)\n",
    "    agent.attach_behavior(foraging)\n",
    "    agent.start_all_behaviors()"
   ]
  },
  {
   "cell_type": "code",
   "execution_count": 52,
   "metadata": {},
   "outputs": [
    {
     "name": "stdout",
     "output_type": "stream",
     "text": [
      "measuring the FPS (number of steps per second) in the controller during 2 seconds\n"
     ]
    },
    {
     "name": "stdout",
     "output_type": "stream",
     "text": [
      "FPS: 5.50\n"
     ]
    }
   ],
   "source": [
    "controller.print_fps()"
   ]
  },
  {
   "cell_type": "markdown",
   "metadata": {},
   "source": [
    "extremely slow on my Windows Machine and a lot of entities / routines."
   ]
  },
  {
   "cell_type": "markdown",
   "metadata": {},
   "source": [
    "Choose a spwaning interval according to fps of the simulator."
   ]
  },
  {
   "cell_type": "code",
   "execution_count": 51,
   "metadata": {},
   "outputs": [],
   "source": [
    "for agent in controller.agents:\n",
    "    agent.ate = False\n",
    "\n",
    "controller.start_resources_apparition(interval=30)"
   ]
  },
  {
   "cell_type": "code",
   "execution_count": 53,
   "metadata": {},
   "outputs": [],
   "source": [
    "# have to put interval = 1 otherwise the has eaten function won't work\n",
    "controller.attach_routine(asexual_reproduction, interval=1)"
   ]
  },
  {
   "cell_type": "code",
   "execution_count": 61,
   "metadata": {},
   "outputs": [],
   "source": [
    "controller.detach_all_routines()\n",
    "\n",
    "for entity in controller.all_entities:\n",
    "    entity.detach_all_routines()\n",
    "    if entity.subtype_label == \"robots\":\n",
    "        entity.detach_all_behaviors(stop_motors=True)"
   ]
  },
  {
   "cell_type": "markdown",
   "metadata": {},
   "source": [
    "## 2.1 - Add sexual reproduction with a controller routine\n",
    "\n",
    "Nice, now we have agents that can spawn offsprings next to them when they eat ! We could also think of other types of reproduction, for example if two agents are close to each other, they can reproduce. We can implement this with a simple controller routine.\n",
    "\n",
    "First, stop all the agents and remove their current behaviors and routines."
   ]
  },
  {
   "cell_type": "code",
   "execution_count": 70,
   "metadata": {},
   "outputs": [
    {
     "name": "stderr",
     "output_type": "stream",
     "text": [
      "Entity 5 already removed\n",
      "Entity 6 already removed\n",
      "Entity 8 already removed\n",
      "Entity 9 already removed\n"
     ]
    }
   ],
   "source": [
    "for idx in range(5, n_agents):\n",
    "    controller.remove_entity(idx)"
   ]
  },
  {
   "cell_type": "code",
   "execution_count": 71,
   "metadata": {},
   "outputs": [],
   "source": [
    "for agent in controller.agents:\n",
    "    agent.can_reproduce = True"
   ]
  },
  {
   "cell_type": "code",
   "execution_count": 81,
   "metadata": {},
   "outputs": [],
   "source": [
    "reproduction_range = 30.\n",
    "\n",
    "def sexual_reproduction(controller):\n",
    "    for agent in controller.agents:\n",
    "        # skip to next agent if the agent does not exist\n",
    "        if not agent.exists:\n",
    "            continue\n",
    "\n",
    "        # get the index of the other existing agents\n",
    "        other_existing_agents_idx = [ent.idx for ent in controller.agents if ent.exists == True and ent.idx != agent.idx]\n",
    "        distances = agent.config.proximity_map_dist[other_existing_agents_idx]\n",
    "        in_range = distances < reproduction_range\n",
    "        found_mate = np.any(in_range)\n",
    "        \n",
    "        # need to eat a ressource and find a mate to reproduce\n",
    "        if found_mate and agent.can_reproduce:\n",
    "            # copy the code of the spawn_offspring_v1 routine\n",
    "            # TODO : see if we copy all this or if we can encapsulate it in a function (but idk if students will be comfortable with functions)\n",
    "            dead_agents_idx = [agent.idx for agent in controller.agents if agent.exists == False]\n",
    "            if dead_agents_idx:\n",
    "                agent_idx = np.random.choice(dead_agents_idx)\n",
    "                # add some noise to the position\n",
    "                epsilon = np.random.uniform(-max_distance, max_distance, 2)\n",
    "                position = [agent.x_position, agent.y_position]\n",
    "                new_position = position + epsilon\n",
    "                # give the new position to the spawn entity\n",
    "                offspring = controller.spawn_entity(agent_idx, position=new_position) \n",
    "                offspring.diameter = offspring_diameter\n",
    "                offspring.attach_behavior(obstacle_avoidance)\n",
    "                offspring.attach_behavior(foraging)\n",
    "                offspring.start_all_behaviors()\n",
    "                # pretty funny to remove this line, does a kind of explosion of spawning agents\n",
    "                offspring.can_reproduce = False\n",
    "                agent.can_reproduce = False\n",
    "            else:\n",
    "                pass"
   ]
  },
  {
   "cell_type": "markdown",
   "metadata": {},
   "source": [
    "Then could do a system where agents can reproduce again if they have eaten again ... Or something else and add this to agents as routines. Could also imagine something where offsprings grow when they eat and become bigger / can also reproduce ... --> To implement for students"
   ]
  },
  {
   "cell_type": "code",
   "execution_count": 72,
   "metadata": {},
   "outputs": [
    {
     "name": "stdout",
     "output_type": "stream",
     "text": [
      "measuring the FPS (number of steps per second) in the controller during 2 seconds\n"
     ]
    },
    {
     "name": "stdout",
     "output_type": "stream",
     "text": [
      "FPS: 6.00\n"
     ]
    }
   ],
   "source": [
    "controller.print_fps()"
   ]
  },
  {
   "cell_type": "code",
   "execution_count": 84,
   "metadata": {},
   "outputs": [],
   "source": [
    "controller.attach_routine(sexual_reproduction)\n",
    "controller.start_resources_apparition(interval=30)"
   ]
  },
  {
   "cell_type": "code",
   "execution_count": 69,
   "metadata": {},
   "outputs": [],
   "source": [
    "for agent in controller.agents:\n",
    "    agent.ate = False\n",
    "    agent.detach_all_behaviors(stop_motors=True)\n",
    "    agent.attach_behavior(obstacle_avoidance)\n",
    "    # add aggression behavior so agents go towards each other\n",
    "    agent.attach_behavior(aggression)\n",
    "    agent.attach_behavior(foraging)\n",
    "    agent.start_all_behaviors()"
   ]
  },
  {
   "cell_type": "markdown",
   "metadata": {},
   "source": [
    "## Make agents eat each other\n",
    "\n",
    "### TODO --> Problem with the diet attribute of the agents (preds also eat preds)\n",
    "### TODO --> Introducing different subtypes of agents would be the easiest solution, else implement custom routines\n",
    "\n",
    "We would like to put predator agents that can eat prey agents. We can't currently do this by using the diet attribute of the agent. Because it would mean that prey will eat other preys also. At the moment just replace the classic eating mechanism with a new function that also takes into account the species of the agent (e.g put 5 agents preds and 5 preys). Cannot manipulate the subtype or otherwise it will break things on the server side. Juste rewrite the function.\n",
    "\n",
    "Or we can predefine the classes preys and predators ! See what seems to be the best / cleanest solution. \n",
    "\n",
    "\n",
    "We can make agents eat each other by simply using the diet attribute of the agent ! Let's create prey and predator agents and add preys in the diet of predators."
   ]
  },
  {
   "cell_type": "code",
   "execution_count": 39,
   "metadata": {},
   "outputs": [],
   "source": [
    "for agent in controller.agents:\n",
    "    agent.exists = True\n",
    "    agent.detach_all_behaviors(stop_motors=True)\n",
    "    agent.detach_all_routines()\n",
    "    agent.attach_behavior(obstacle_avoidance)"
   ]
  },
  {
   "cell_type": "code",
   "execution_count": 40,
   "metadata": {},
   "outputs": [],
   "source": [
    "controller.detach_routine(\"agents_reproduction\")"
   ]
  },
  {
   "cell_type": "code",
   "execution_count": 85,
   "metadata": {},
   "outputs": [],
   "source": [
    "def fear_pred(robot):\n",
    "    (left, right) = robot.sensors(sensed_entities=[\"robots\"])\n",
    "    left_species, right_species = robot.sense_attributes(sensed_attribute=\"species\", default_value =\"none\")\n",
    "    left_activation = left if left_species == \"pred\" else 0\n",
    "    right_activation = right if right_species == \"pred\" else 0\n",
    "    return left_activation, right_activation\n",
    "\n",
    "def aggr_preys(robot):\n",
    "    (left, right) = robot.sensors(sensed_entities=[\"robots\"])\n",
    "    left_species, right_species = robot.sense_attributes(sensed_attribute=\"species\", default_value =\"none\")\n",
    "    # left_activation = left if left_species == \"pred\" else 0\n",
    "    # right_activation = right if right_species == \"pred\" else 0\n",
    "    right_activation = left if left_species == \"prey\" else 0\n",
    "    left_activation = right if right_species == \"prey\" else 0\n",
    "    return left_activation, right_activation"
   ]
  },
  {
   "cell_type": "code",
   "execution_count": 86,
   "metadata": {},
   "outputs": [],
   "source": [
    "half_agents = n_agents // 2\n",
    "\n",
    "for agent in controller.agents[:half_agents]:\n",
    "    agent.species = \"pred\"\n",
    "    agent.color = \"red\"\n",
    "    agent.diameter = 12.\n",
    "    agent.wheel_diameter = 4.\n",
    "    agent.diet = [\"robots\"]\n",
    "    agent.eating_range = 20.\n",
    "    agent.attach_behavior(fear_pred)\n",
    "    agent.attach_behavior(aggr_preys)\n",
    "\n",
    "for agent in controller.agents[half_agents:]:\n",
    "    agent.species = \"prey\"\n",
    "    agent.color = \"cyan\"\n",
    "    agent.diameter = 10.\n",
    "    agent.wheel_diameter = 4.\n",
    "    agent.diet = [\"robots\"]\n",
    "    agent.attach_behavior(fear_pred)\n",
    "    agent.attach_behavior(foraging)"
   ]
  },
  {
   "cell_type": "code",
   "execution_count": 88,
   "metadata": {},
   "outputs": [
    {
     "name": "stdout",
     "output_type": "stream",
     "text": [
      "Available behaviors: ['obstacle_avoidance', 'aggression', 'foraging', 'fear_pred', 'aggr_preys'], Active behaviors: ['obstacle_avoidance', 'aggression', 'foraging', 'fear_pred', 'aggr_preys']\n",
      "Available behaviors: ['obstacle_avoidance', 'aggression', 'foraging', 'fear_pred', 'aggr_preys'], Active behaviors: ['obstacle_avoidance', 'aggression', 'foraging', 'fear_pred', 'aggr_preys']\n",
      "Available behaviors: ['obstacle_avoidance', 'aggression', 'foraging', 'fear_pred', 'aggr_preys'], Active behaviors: ['obstacle_avoidance', 'aggression', 'foraging', 'fear_pred', 'aggr_preys']\n",
      "Available behaviors: ['obstacle_avoidance', 'aggression', 'foraging', 'fear_pred', 'aggr_preys'], Active behaviors: ['obstacle_avoidance', 'aggression', 'foraging', 'fear_pred', 'aggr_preys']\n",
      "Available behaviors: ['obstacle_avoidance', 'aggression', 'foraging', 'fear_pred', 'aggr_preys'], Active behaviors: ['obstacle_avoidance', 'aggression', 'foraging', 'fear_pred', 'aggr_preys']\n",
      "Available behaviors: ['obstacle_avoidance', 'aggression', 'foraging', 'fear_pred'], Active behaviors: ['obstacle_avoidance', 'aggression', 'foraging', 'fear_pred']\n",
      "Available behaviors: ['obstacle_avoidance', 'aggression', 'foraging', 'fear_pred'], Active behaviors: ['obstacle_avoidance', 'aggression', 'foraging', 'fear_pred']\n",
      "Available behaviors: ['obstacle_avoidance', 'aggression', 'foraging', 'fear_pred'], Active behaviors: ['obstacle_avoidance', 'aggression', 'foraging', 'fear_pred']\n",
      "Available behaviors: ['obstacle_avoidance', 'aggression', 'foraging', 'fear_pred'], Active behaviors: ['obstacle_avoidance', 'aggression', 'foraging', 'fear_pred']\n",
      "Available behaviors: ['obstacle_avoidance', 'aggression', 'foraging', 'fear_pred'], Active behaviors: ['obstacle_avoidance', 'aggression', 'foraging', 'fear_pred']\n"
     ]
    }
   ],
   "source": [
    "for agent in controller.agents:\n",
    "    agent.start_all_behaviors()\n",
    "    agent.print_behaviors()"
   ]
  },
  {
   "attachments": {
    "image.png": {
     "image/png": "[encoded data removed]"
    }
   },
   "cell_type": "markdown",
   "metadata": {},
   "source": [
    "Can be improved but first step, to see if prevent predators from eating each other because results in a scene with only 1 predator : \n",
    "\n",
    "![image.png](attachment:image.png)"
   ]
  },
  {
   "cell_type": "code",
   "execution_count": 45,
   "metadata": {},
   "outputs": [
    {
     "name": "stdout",
     "output_type": "stream",
     "text": [
      "Received signal 15, shutting down\n",
      "Server and Interface Stopped\n"
     ]
    }
   ],
   "source": [
    "stop_server_and_interface()\n",
    "controller.stop()"
   ]
  }
 ],
 "metadata": {
  "kernelspec": {
   "display_name": "venv",
   "language": "python",
   "name": "python3"
  },
  "language_info": {
   "codemirror_mode": {
    "name": "ipython",
    "version": 3
   },
   "file_extension": ".py",
   "mimetype": "text/x-python",
   "name": "python",
   "nbconvert_exporter": "python",
   "pygments_lexer": "ipython3",
   "version": "3.10.12"
  }
 },
 "nbformat": 4,
 "nbformat_minor": 1
}
