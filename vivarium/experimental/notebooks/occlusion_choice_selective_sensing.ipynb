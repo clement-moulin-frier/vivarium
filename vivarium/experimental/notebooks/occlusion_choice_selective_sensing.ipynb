{
 "cells": [
  {
   "cell_type": "markdown",
   "metadata": {},
   "source": [
    "Quick tutorial to explain how to create a environment with braitenberg vehicles equiped with selective sensors (still a draft so comments of the notebook won't be complete yet)"
   ]
  },
  {
   "cell_type": "code",
   "execution_count": 1,
   "metadata": {},
   "outputs": [
    {
     "name": "stderr",
     "output_type": "stream",
     "text": [
      "2024-08-05 17:50:03.671308: W external/xla/xla/service/gpu/nvptx_compiler.cc:760] The NVIDIA driver's CUDA version is 12.2 which is older than the ptxas CUDA version (12.5.40). Because the driver is older than the ptxas version, XLA is disabling parallel compilation, which may slow down compilation. You should update your NVIDIA driver or use the NVIDIA-provided CUDA forward compatibility packages.\n"
     ]
    }
   ],
   "source": [
    "import logging as lg\n",
    "\n",
    "from enum import Enum\n",
    "from functools import partial\n",
    "from typing import Tuple\n",
    "\n",
    "import jax\n",
    "import numpy as np\n",
    "import jax.numpy as jnp\n",
    "\n",
    "from jax import vmap, jit\n",
    "from jax import random, ops, lax\n",
    "\n",
    "from flax import struct\n",
    "from jax_md.rigid_body import RigidBody\n",
    "from jax_md import simulate \n",
    "from jax_md import space, rigid_body, partition, quantity\n",
    "\n",
    "from vivarium.experimental.environments.utils import normal, distance \n",
    "from vivarium.experimental.environments.base_env import BaseState, BaseEnv\n",
    "from vivarium.experimental.environments.physics_engine import total_collision_energy, friction_force, dynamics_fn\n",
    "from vivarium.experimental.environments.braitenberg.simple import relative_position, proximity_map, sensor_fn, sensor\n",
    "from vivarium.experimental.environments.braitenberg.simple import Behaviors, behavior_to_params, linear_behavior\n",
    "from vivarium.experimental.environments.braitenberg.simple import lr_2_fwd_rot, fwd_rot_2_lr, motor_command\n",
    "from vivarium.experimental.environments.braitenberg.simple import braintenberg_force_fn"
   ]
  },
  {
   "cell_type": "markdown",
   "metadata": {},
   "source": [
    "### TODO : \n",
    "\n",
    "#### Neighbors in the step fn : \n",
    "\n",
    "- Use a flax dataclass that stores all the neighbors representations (neighbors; agent_neighs_idx, dense_neighbors ...) and update all its values it when overflow\n",
    "\n",
    "#### Init functions for selective sensors : \n",
    "\n",
    "- Use a flax dataclass that stores all the neighbors representations (neighbors; agent_neighs_idx, dense_neighbors ...) and update all its values it when overflow"
   ]
  },
  {
   "cell_type": "code",
   "execution_count": 2,
   "metadata": {},
   "outputs": [],
   "source": [
    "# Used for jax.debug.breakpoint in a jupyter notebook\n",
    "class FakeStdin:\n",
    "  def readline(self):\n",
    "    return input()\n",
    "  \n",
    "# Usage : \n",
    "# jax.debug.breakpoint(backend=\"cli\", stdin=FakeStdin())\n",
    "\n",
    "# See this issue : https://github.com/google/jax/issues/11880"
   ]
  },
  {
   "cell_type": "markdown",
   "metadata": {},
   "source": [
    "## Create the classes and helper functions"
   ]
  },
  {
   "cell_type": "markdown",
   "metadata": {},
   "source": [
    "Add entity sensed type as a field in entities + sensed in agents. The agents sense the \"sensed type\" of the entities. In our case, there will be preys, predators, ressources and poison."
   ]
  },
  {
   "cell_type": "code",
   "execution_count": 3,
   "metadata": {},
   "outputs": [],
   "source": [
    "\n",
    "### Define the constants and the classes of the environment to store its state ###\n",
    "SPACE_NDIMS = 2\n",
    "\n",
    "class EntityType(Enum):\n",
    "    AGENT = 0\n",
    "    OBJECT = 1\n",
    "\n",
    "# Already incorporates position, momentum, force, mass and velocity\n",
    "@struct.dataclass\n",
    "class EntityState(simulate.NVEState):\n",
    "    entity_type: jnp.array\n",
    "    ent_subtype: jnp.array\n",
    "    entity_idx: jnp.array\n",
    "    diameter: jnp.array\n",
    "    friction: jnp.array\n",
    "    exists: jnp.array\n",
    "    \n",
    "@struct.dataclass\n",
    "class ParticleState:\n",
    "    ent_idx: jnp.array\n",
    "    color: jnp.array\n",
    "\n",
    "@struct.dataclass\n",
    "class AgentState(ParticleState):\n",
    "    prox: jnp.array\n",
    "    motor: jnp.array\n",
    "    proximity_map_dist: jnp.array\n",
    "    proximity_map_theta: jnp.array\n",
    "    behavior: jnp.array\n",
    "    params: jnp.array\n",
    "    sensed: jnp.array\n",
    "    wheel_diameter: jnp.array\n",
    "    speed_mul: jnp.array\n",
    "    max_speed: jnp.array\n",
    "    theta_mul: jnp.array    \n",
    "    proxs_dist_max: jnp.array\n",
    "    proxs_cos_min: jnp.array\n",
    "\n",
    "@struct.dataclass\n",
    "class ObjectState(ParticleState):\n",
    "    pass\n",
    "\n",
    "@struct.dataclass\n",
    "class State(BaseState):\n",
    "    max_agents: jnp.int32\n",
    "    max_objects: jnp.int32\n",
    "    neighbor_radius: jnp.float32\n",
    "    dt: jnp.float32  # Give a more explicit name\n",
    "    collision_alpha: jnp.float32\n",
    "    collision_eps: jnp.float32\n",
    "    ent_sub_types: dict\n",
    "    entities: EntityState\n",
    "    agents: AgentState\n",
    "    objects: ObjectState    "
   ]
  },
  {
   "cell_type": "markdown",
   "metadata": {},
   "source": [
    "Define get_relative_displacement"
   ]
  },
  {
   "cell_type": "code",
   "execution_count": 4,
   "metadata": {},
   "outputs": [],
   "source": [
    "# TODO : Add doc\n",
    "def get_relative_displacement(state, agents_neighs_idx, displacement_fn):\n",
    "    body = state.entities.position\n",
    "    senders, receivers = agents_neighs_idx\n",
    "    Ra = body.center[senders]\n",
    "    Rb = body.center[receivers]\n",
    "    dR = - space.map_bond(displacement_fn)(Ra, Rb)  # Looks like it should be opposite, but don't understand why\n",
    "\n",
    "    dist, theta = proximity_map(dR, body.orientation[senders])\n",
    "    proximity_map_dist = jnp.zeros((state.agents.ent_idx.shape[0], state.entities.entity_idx.shape[0]))\n",
    "    proximity_map_dist = proximity_map_dist.at[senders, receivers].set(dist)\n",
    "    proximity_map_theta = jnp.zeros((state.agents.ent_idx.shape[0], state.entities.entity_idx.shape[0]))\n",
    "    proximity_map_theta = proximity_map_theta.at[senders, receivers].set(theta)\n",
    "    return dist, theta, proximity_map_dist, proximity_map_theta\n"
   ]
  },
  {
   "cell_type": "markdown",
   "metadata": {},
   "source": [
    "to compute motors, only use linear behaviors (don't vmap it) because we vmap the functions to compute agents proxiemters and motors at a higher level \n"
   ]
  },
  {
   "cell_type": "code",
   "execution_count": 5,
   "metadata": {},
   "outputs": [],
   "source": [
    "def linear_behavior(proxs, params):\n",
    "    \"\"\"Compute the activation of motors with a linear combination of proximeters and parameters\n",
    "\n",
    "    :param proxs: proximeter values of an agent\n",
    "    :param params: parameters of an agent (mapping proxs to motor values)\n",
    "    :return: motor values\n",
    "    \"\"\"\n",
    "    return params.dot(jnp.hstack((proxs, 1.)))\n",
    "\n",
    "def compute_motor(proxs, params, behaviors, motors):\n",
    "    \"\"\"Compute new motor values. If behavior is manual, keep same motor values. Else, compute new values with proximeters and params.\n",
    "\n",
    "    :param proxs: proximeters of all agents\n",
    "    :param params: parameters mapping proximeters to new motor values\n",
    "    :param behaviors: array of behaviors\n",
    "    :param motors: current motor values\n",
    "    :return: new motor values\n",
    "    \"\"\"\n",
    "    manual = jnp.where(behaviors == Behaviors.MANUAL.value, 1, 0)\n",
    "    manual_mask = manual\n",
    "    linear_motor_values = linear_behavior(proxs, params)\n",
    "    motor_values = linear_motor_values * (1 - manual_mask) + motors * manual_mask\n",
    "    return motor_values"
   ]
  },
  {
   "cell_type": "markdown",
   "metadata": {},
   "source": [
    "## 1 : Add functions to compute the proximeters and motors of agents with occlusion\n",
    "\n",
    "Logic for computing sensors and motors: \n",
    "\n",
    "- We get the raw proxs\n",
    "- We get the ent types of the two detected entities (left and right)\n",
    "- For each behavior, we updated the proxs according to the detected and the sensed entities (e.g sensed entities = [0, 1, 0 , 0] : only sense ent of type 1)\n",
    "- We then compute the motor values for each behavior and do a mean of them "
   ]
  },
  {
   "cell_type": "markdown",
   "metadata": {},
   "source": [
    "Create functions to update the two proximeter of an agent for a specific behavior \n",
    "\n",
    "- We already have the two closest proximeters in this case\n",
    "- We want to compute the value of motors associated to a behavior for these proxs\n",
    "- We can sense different type of entities \n",
    "- The two proximeters are each associated to a specific entity type\n",
    "- So if the specific entity type is detected, the proximeter value is kept \n",
    "- Else it is set to 0 so it won't have effect on the motor values \n",
    "- To do so we use a mask (mask of 1's, if an entity is detected we set it to 0 with a multiplication)\n",
    "- So if the mask is already set to 0 (i.e the ent is detected), the masked value will still be 0 even if you multiply it by 1\n",
    "- Then we update the proximeter values with a jnp.where"
   ]
  },
  {
   "cell_type": "code",
   "execution_count": 6,
   "metadata": {},
   "outputs": [],
   "source": [
    "def update_mask(mask, left_n_right_types, ent_type):\n",
    "    \"\"\"Update a mask of \n",
    "\n",
    "    :param mask: mask that will be applied on sensors of agents\n",
    "    :param left_n_right_types: types of left adn right sensed entities\n",
    "    :param ent_type: entity subtype (e.g 1 for predators)\n",
    "    :return: mask\n",
    "    \"\"\"\n",
    "    cur = jnp.where(left_n_right_types == ent_type, 0, 1)\n",
    "    mask *= cur\n",
    "    return mask\n",
    "\n",
    "def keep_mask(mask, left_n_right_types, ent_type):\n",
    "    \"\"\"Return the mask unchanged\n",
    "\n",
    "    :param mask: mask\n",
    "    :param left_n_right_types: left_n_right_types\n",
    "    :param ent_type: ent_type\n",
    "    :return: mask\n",
    "    \"\"\"\n",
    "    return mask\n",
    "\n",
    "def mask_proxs_occlusion(proxs, left_n_right_types, ent_sensed_arr):\n",
    "    \"\"\"Mask the proximeters of agents with occlusion\n",
    "\n",
    "    :param proxs: proxiemters of agents without occlusion (shape = (2,))\n",
    "    :param e_sensed_types: types of both entities sensed at left and right (shape=(2,))\n",
    "    :param ent_sensed_arr: mask of sensed subtypes by the agent (e.g jnp.array([0, 1, 0, 1]) if sense only entities of subtype 1 and 4)\n",
    "    :return: updated proximeters according to sensed_subtypes\n",
    "    \"\"\"\n",
    "    mask = jnp.array([1, 1])\n",
    "    # Iterate on the array of sensed entities mask\n",
    "    for ent_type, sensed in enumerate(ent_sensed_arr):\n",
    "        # If an entity is sensed, update the mask, else keep it as it is\n",
    "        mask = jax.lax.cond(sensed, update_mask, keep_mask, mask, left_n_right_types, ent_type)\n",
    "    # Update the mask with 0s where the mask is, else keep the prox value\n",
    "    proxs = jnp.where(mask, 0, proxs)\n",
    "    return proxs\n",
    "\n",
    "# Example :\n",
    "# ent_sensed_arr = jnp.array([0, 1, 0, 0, 1])\n",
    "# proxs = jnp.array([0.8, 0.2])\n",
    "# e_sensed_types = jnp.array([4, 4]) # Modify these values to check it works\n",
    "# print(mask_proxs_occlusion(proxs, e_sensed_types, ent_sensed_arr))"
   ]
  },
  {
   "cell_type": "markdown",
   "metadata": {},
   "source": [
    "Create a function to compute the motor values for a specific behavior \n",
    "\n",
    "- Convert the idx of the detected entitites (associated to the values of the two proximeters) into their types\n",
    "- Mask their sensors with the function presented above \n",
    "- Compute the motors with the updated sensors"
   ]
  },
  {
   "cell_type": "code",
   "execution_count": 7,
   "metadata": {},
   "outputs": [],
   "source": [
    "def compute_behavior_motors(state, params, sensed_mask, behavior, motor, agent_proxs, sensed_ent_idx):\n",
    "    \"\"\"_summary_\n",
    "\n",
    "    :param state: state\n",
    "    :param params: behavior params params\n",
    "    :param sensed_mask: sensed_mask for this behavior\n",
    "    :param behavior: behavior\n",
    "    :param motor: motor values\n",
    "    :param agent_proxs: agent proximeters (unmasked)\n",
    "    :param sensed_ent_idx: idx of left and right entities sensed \n",
    "    :return: right motor values for this behavior \n",
    "    \"\"\"\n",
    "    left_n_right_types = state.entities.ent_subtype[sensed_ent_idx]\n",
    "    behavior_proxs = mask_proxs_occlusion(agent_proxs, left_n_right_types, sensed_mask)\n",
    "    motors = compute_motor(behavior_proxs, params, behaviors=behavior, motors=motor)\n",
    "    return motors\n",
    "\n",
    "# See for the vectorizing idx because already in a vmaped function here\n",
    "compute_all_behavior_motors = vmap(compute_behavior_motors, in_axes=(None, 0, 0, 0, None, None, None))"
   ]
  },
  {
   "cell_type": "code",
   "execution_count": 8,
   "metadata": {},
   "outputs": [],
   "source": [
    "def linear_behavior(proxs, params):\n",
    "    \"\"\"Compute the activation of motors with a linear combination of proximeters and parameters\n",
    "\n",
    "    :param proxs: proximeter values of an agent\n",
    "    :param params: parameters of an agent (mapping proxs to motor values)\n",
    "    :return: motor values\n",
    "    \"\"\"\n",
    "    return params.dot(jnp.hstack((proxs, 1.)))\n",
    "\n",
    "def compute_motor(proxs, params, behaviors, motors):\n",
    "    \"\"\"Compute new motor values. If behavior is manual, keep same motor values. Else, compute new values with proximeters and params.\n",
    "\n",
    "    :param proxs: proximeters of all agents\n",
    "    :param params: parameters mapping proximeters to new motor values\n",
    "    :param behaviors: array of behaviors\n",
    "    :param motors: current motor values\n",
    "    :return: new motor values\n",
    "    \"\"\"\n",
    "    manual = jnp.where(behaviors == Behaviors.MANUAL.value, 1, 0)\n",
    "    manual_mask = manual\n",
    "    linear_motor_values = linear_behavior(proxs, params)\n",
    "    motor_values = linear_motor_values * (1 - manual_mask) + motors * manual_mask\n",
    "    return motor_values"
   ]
  },
  {
   "cell_type": "markdown",
   "metadata": {},
   "source": [
    "Create a function to compute the motor values each agent"
   ]
  },
  {
   "cell_type": "code",
   "execution_count": 9,
   "metadata": {},
   "outputs": [],
   "source": [
    "def compute_occlusion_proxs_motors(state, agent_idx, params, sensed, behaviors, motor, raw_proxs, ag_idx_dense_senders, ag_idx_dense_receivers):\n",
    "    \"\"\"_summary_\n",
    "\n",
    "    :param state: state\n",
    "    :param agent_idx: agent idx in entities\n",
    "    :param params: params arrays for all agent's behaviors\n",
    "    :param sensed: sensed mask arrays for all agent's behaviors\n",
    "    :param behaviors: agent behaviors array\n",
    "    :param motor: agent motors\n",
    "    :param raw_proxs: raw_proximeters for all agents (shape=(n_agents * (n_entities - 1), 2))\n",
    "    :param ag_idx_dense_senders: ag_idx_dense_senders to get the idx of raw proxs (shape=(2, n_agents * (n_entities - 1))\n",
    "    :param ag_idx_dense_receivers: ag_idx_dense_receivers (shape=(n_agents, n_entities - 1))\n",
    "    :return: _description_\n",
    "    \"\"\"\n",
    "    behavior = jnp.expand_dims(behaviors, axis=1) \n",
    "    # Compute the neighbors idx of the agent and get its raw proximeters (of shape (n_entities -1 , 2))\n",
    "    ent_ag_neighs_idx = ag_idx_dense_senders[agent_idx]\n",
    "    agent_raw_proxs = raw_proxs[ent_ag_neighs_idx]\n",
    "\n",
    "    # Get the max and arg max of these proximeters on axis 0, gives results of shape (2,)\n",
    "    agent_proxs = jnp.max(agent_raw_proxs, axis=0)\n",
    "    argmax = jnp.argmax(agent_raw_proxs, axis=0)\n",
    "    # Get the real entity idx of the left and right sensed entities from dense neighborhoods\n",
    "    sensed_ent_idx = ag_idx_dense_receivers[agent_idx][argmax]\n",
    "    \n",
    "    # Compute the motor values for all behaviors and do a mean on it\n",
    "    motor_values = compute_all_behavior_motors(state, params, sensed, behavior, motor, agent_proxs, sensed_ent_idx)\n",
    "    motors = jnp.mean(motor_values, axis=0)\n",
    "\n",
    "    return agent_proxs, motors\n",
    "\n",
    "compute_all_agents_proxs_motors_occl = vmap(compute_occlusion_proxs_motors, in_axes=(None, 0, 0, 0, 0, 0, None, None, None))"
   ]
  },
  {
   "cell_type": "markdown",
   "metadata": {},
   "source": [
    "## 2 : Add functions to compute the proximeters and motors of agents without occlusion"
   ]
  },
  {
   "cell_type": "markdown",
   "metadata": {},
   "source": [
    "Add Mask sensors and don't change functions\n",
    "\n",
    "- mask_sensors: mask sensors according to sensed entity type for an agent\n",
    "- don't change: return agent raw_proxs (surely return either the masked or the same prox array according to a sensed e type)\n",
    "\n",
    "Then for each agent, we iterate on all of his behaviors. For each behavior, we iterate on each possible sensed entity type. If the entity is sensed, we keep the raw proximeters of the agent as they are currently. If it is not, we mask the proximeters of the specific (non sensed) entity type."
   ]
  },
  {
   "cell_type": "code",
   "execution_count": 10,
   "metadata": {},
   "outputs": [],
   "source": [
    "def mask_sensors(state, agent_raw_proxs, ent_type_id, ent_neighbors_idx):\n",
    "    \"\"\"Mask the raw proximeters of agents for a specific entity type \n",
    "\n",
    "    :param state: state\n",
    "    :param agent_raw_proxs: raw_proximeters of agent (shape=(n_entities - 1), 2)\n",
    "    :param ent_type_id: entity subtype id (e.g 0 for PREYS)\n",
    "    :param ent_neighbors_idx: idx of agent neighbors in entities arrays\n",
    "    :return: updated agent raw proximeters\n",
    "    \"\"\"\n",
    "    mask = jnp.where(state.entities.ent_subtype[ent_neighbors_idx] == ent_type_id, 0, 1)\n",
    "    mask = jnp.expand_dims(mask, 1)\n",
    "    mask = jnp.broadcast_to(mask, agent_raw_proxs.shape)\n",
    "    return agent_raw_proxs * mask\n",
    "\n",
    "def dont_change(state, agent_raw_proxs, ent_type_id, ent_neighbors_idx):\n",
    "    \"\"\"Leave the agent raw_proximeters unchanged\n",
    "\n",
    "    :param state: state\n",
    "    :param agent_raw_proxs: agent_raw_proxs\n",
    "    :param ent_type_id: ent_type_id\n",
    "    :param ent_neighbors_idx: ent_neighbors_idx\n",
    "    :return: agent_raw_proxs\n",
    "    \"\"\"\n",
    "    return agent_raw_proxs"
   ]
  },
  {
   "cell_type": "markdown",
   "metadata": {},
   "source": [
    "Add compute_behavior_prox, compute_behavior_proxs_motors, compute_agent_proxs_motors\n",
    "\n",
    "- compute_behavior_prox: compute the proxs for one behavior (enumerate through all the sensed entities on this particular behavior)\n",
    "- compute_behavior_proxs_motors: use fn above to compute the proxs and compute the motor values according to the behavior\n",
    "- -vmap compute_all_behavior_proxs_motors:  computes this for all the behaviors of an agent\n",
    "- compute_agent_proxs_motors: compute the proximeters and motor values of an agent for all its behaviors. Just return mean motor value\n",
    "- -vmap compute_all_agents_proxs_motors: computes this for all agents (vmap over params, sensed and agent_raw_proxs) "
   ]
  },
  {
   "cell_type": "code",
   "execution_count": 11,
   "metadata": {},
   "outputs": [],
   "source": [
    "def compute_behavior_prox(state, agent_raw_proxs, ent_neighbors_idx, sensed_entities):\n",
    "    \"\"\"Compute the proximeters for a specific behavior\n",
    "\n",
    "    :param state: state\n",
    "    :param agent_raw_proxs: agent raw proximeters\n",
    "    :param ent_neighbors_idx: idx of agent neighbors\n",
    "    :param sensed_entities: array of sensed entities\n",
    "    :return: updated proximeters\n",
    "    \"\"\"\n",
    "    # iterate over all the types in sensed_entities and return if they are sensed or not\n",
    "    for ent_type_id, sensed in enumerate(sensed_entities):\n",
    "        # change the proxs if you don't perceive the entity, else leave them unchanged\n",
    "        agent_raw_proxs = lax.cond(sensed, dont_change, mask_sensors, state, agent_raw_proxs, ent_type_id, ent_neighbors_idx)\n",
    "    # Compute the final proxs with a max on the updated raw_proxs\n",
    "    proxs = jnp.max(agent_raw_proxs, axis=0)\n",
    "    return proxs\n",
    "\n",
    "def compute_behavior_proxs_motors(state, params, sensed, behavior, motor, agent_raw_proxs, ent_neighbors_idx):\n",
    "    \"\"\"Return the proximeters and the motors for a specific behavior\n",
    "\n",
    "    :param state: state\n",
    "    :param params: params of the behavior\n",
    "    :param sensed: sensed mask of the behavior\n",
    "    :param behavior: behavior\n",
    "    :param motor: motor values\n",
    "    :param agent_raw_proxs: agent_raw_proxs\n",
    "    :param ent_neighbors_idx: ent_neighbors_idx\n",
    "    :return: behavior proximeters, behavior motors\n",
    "    \"\"\"\n",
    "    behavior_prox = compute_behavior_prox(state, agent_raw_proxs, ent_neighbors_idx, sensed)\n",
    "    behavior_motors = compute_motor(behavior_prox, params, behavior, motor)\n",
    "    return behavior_prox, behavior_motors\n",
    "\n",
    "# vmap on params, sensed and behavior (parallelize on all agents behaviors at once, but not motorrs because are the same)\n",
    "compute_all_behavior_proxs_motors = vmap(compute_behavior_proxs_motors, in_axes=(None, 0, 0, 0, None, None, None))\n",
    "\n",
    "def compute_agent_proxs_motors(state, agent_idx, params, sensed, behavior, motor, raw_proxs, ag_idx_dense_senders, ag_idx_dense_receivers):\n",
    "    \"\"\"Compute the agent proximeters and motors for all behaviors\n",
    "\n",
    "    :param state: state\n",
    "    :param agent_idx: idx of the agent in entities\n",
    "    :param params: array of params for all behaviors\n",
    "    :param sensed: array of sensed mask for all behaviors\n",
    "    :param behavior: array of behaviors\n",
    "    :param motor: motor values\n",
    "    :param raw_proxs: raw_proximeters of all agents\n",
    "    :param ag_idx_dense_senders: ag_idx_dense_senders to get the idx of raw proxs (shape=(2, n_agents * (n_entities - 1))\n",
    "    :param ag_idx_dense_receivers: ag_idx_dense_receivers (shape=(n_agents, n_entities - 1))\n",
    "    :return: array of agent_proximeters, mean of behavior motors\n",
    "    \"\"\"\n",
    "    behavior = jnp.expand_dims(behavior, axis=1)\n",
    "    ent_ag_idx = ag_idx_dense_senders[agent_idx]\n",
    "    ent_neighbors_idx = ag_idx_dense_receivers[agent_idx]\n",
    "    agent_raw_proxs = raw_proxs[ent_ag_idx]\n",
    "\n",
    "    # vmap on params, sensed, behaviors and motorss (vmap on all agents)\n",
    "    agent_proxs, agent_motors = compute_all_behavior_proxs_motors(state, params, sensed, behavior, motor, agent_raw_proxs, ent_neighbors_idx)\n",
    "    mean_agent_motors = jnp.mean(agent_motors, axis=0)\n",
    "\n",
    "    return agent_proxs, mean_agent_motors\n",
    "\n",
    "compute_all_agents_proxs_motors = vmap(compute_agent_proxs_motors, in_axes=(None, 0, 0, 0, 0, 0, None, None, None))"
   ]
  },
  {
   "cell_type": "markdown",
   "metadata": {},
   "source": [
    "Add classical braitenberg force fn"
   ]
  },
  {
   "cell_type": "markdown",
   "metadata": {},
   "source": [
    "## Create the main environment class"
   ]
  },
  {
   "cell_type": "code",
   "execution_count": 39,
   "metadata": {},
   "outputs": [
    {
     "name": "stdout",
     "output_type": "stream",
     "text": [
      "Neighbors(neighbors=NeighborList(idx=Array([[ 1,  2,  3,  4,  5,  6,  7,  8,  9, 10, 11, 12, 13, 14, 15, 16,\n",
      "        17, 18, 19,  0,  2,  3,  4,  5,  6,  7,  8,  9, 10, 11, 12, 13,\n",
      "        14, 15, 16, 17, 18, 19,  0,  1,  3,  4,  5,  6,  7,  8,  9, 10,\n",
      "        11, 12, 13, 14, 15, 16, 17, 18, 19,  0,  1,  2,  4,  5,  6,  7,\n",
      "         8,  9, 10, 11, 12, 13, 14, 15, 16, 17, 18, 19,  0,  1,  2,  3,\n",
      "         5,  6,  7,  8,  9, 10, 11, 12, 13, 14, 15, 16, 17, 18, 19,  0,\n",
      "         1,  2,  3,  4,  6,  7,  8,  9, 10, 11, 12, 13, 14, 15, 16, 17,\n",
      "        18, 19,  0,  1,  2,  3,  4,  5,  7,  8,  9, 10, 11, 12, 13, 14,\n",
      "        15, 16, 17, 18, 19,  0,  1,  2,  3,  4,  5,  6,  8,  9, 10, 11,\n",
      "        12, 13, 14, 15, 16, 17, 18, 19,  0,  1,  2,  3,  4,  5,  6,  7,\n",
      "         9, 10, 11, 12, 13, 14, 15, 16, 17, 18, 19,  0,  1,  2,  3,  4,\n",
      "         5,  6,  7,  8, 10, 11, 12, 13, 14, 15, 16, 17, 18, 19,  0,  1,\n",
      "         2,  3,  4,  5,  6,  7,  8,  9, 11, 12, 13, 14, 15, 16, 17, 18,\n",
      "        19,  0,  1,  2,  3,  4,  5,  6,  7,  8,  9, 10, 12, 13, 14, 15,\n",
      "        16, 17, 18, 19,  0,  1,  2,  3,  4,  5,  6,  7,  8,  9, 10, 11,\n",
      "        13, 14, 15, 16, 17, 18, 19,  0,  1,  2,  3,  4,  5,  6,  7,  8,\n",
      "         9, 10, 11, 12, 14, 15, 16, 17, 18, 19,  0,  1,  2,  3,  4,  5,\n",
      "         6,  7,  8,  9, 10, 11, 12, 13, 15, 16, 17, 18, 19,  0,  1,  2,\n",
      "         3,  4,  5,  6,  7,  8,  9, 10, 11, 12, 13, 14, 16, 17, 18, 19,\n",
      "         0,  1,  2,  3,  4,  5,  6,  7,  8,  9, 10, 11, 12, 13, 14, 15,\n",
      "        17, 18, 19,  0,  1,  2,  3,  4,  5,  6,  7,  8,  9, 10, 11, 12,\n",
      "        13, 14, 15, 16, 18, 19,  0,  1,  2,  3,  4,  5,  6,  7,  8,  9,\n",
      "        10, 11, 12, 13, 14, 15, 16, 17, 19,  0,  1,  2,  3,  4,  5,  6,\n",
      "         7,  8,  9, 10, 11, 12, 13, 14, 15, 16, 17, 18],\n",
      "       [ 0,  0,  0,  0,  0,  0,  0,  0,  0,  0,  0,  0,  0,  0,  0,  0,\n",
      "         0,  0,  0,  1,  1,  1,  1,  1,  1,  1,  1,  1,  1,  1,  1,  1,\n",
      "         1,  1,  1,  1,  1,  1,  2,  2,  2,  2,  2,  2,  2,  2,  2,  2,\n",
      "         2,  2,  2,  2,  2,  2,  2,  2,  2,  3,  3,  3,  3,  3,  3,  3,\n",
      "         3,  3,  3,  3,  3,  3,  3,  3,  3,  3,  3,  3,  4,  4,  4,  4,\n",
      "         4,  4,  4,  4,  4,  4,  4,  4,  4,  4,  4,  4,  4,  4,  4,  5,\n",
      "         5,  5,  5,  5,  5,  5,  5,  5,  5,  5,  5,  5,  5,  5,  5,  5,\n",
      "         5,  5,  6,  6,  6,  6,  6,  6,  6,  6,  6,  6,  6,  6,  6,  6,\n",
      "         6,  6,  6,  6,  6,  7,  7,  7,  7,  7,  7,  7,  7,  7,  7,  7,\n",
      "         7,  7,  7,  7,  7,  7,  7,  7,  8,  8,  8,  8,  8,  8,  8,  8,\n",
      "         8,  8,  8,  8,  8,  8,  8,  8,  8,  8,  8,  9,  9,  9,  9,  9,\n",
      "         9,  9,  9,  9,  9,  9,  9,  9,  9,  9,  9,  9,  9,  9, 10, 10,\n",
      "        10, 10, 10, 10, 10, 10, 10, 10, 10, 10, 10, 10, 10, 10, 10, 10,\n",
      "        10, 11, 11, 11, 11, 11, 11, 11, 11, 11, 11, 11, 11, 11, 11, 11,\n",
      "        11, 11, 11, 11, 12, 12, 12, 12, 12, 12, 12, 12, 12, 12, 12, 12,\n",
      "        12, 12, 12, 12, 12, 12, 12, 13, 13, 13, 13, 13, 13, 13, 13, 13,\n",
      "        13, 13, 13, 13, 13, 13, 13, 13, 13, 13, 14, 14, 14, 14, 14, 14,\n",
      "        14, 14, 14, 14, 14, 14, 14, 14, 14, 14, 14, 14, 14, 15, 15, 15,\n",
      "        15, 15, 15, 15, 15, 15, 15, 15, 15, 15, 15, 15, 15, 15, 15, 15,\n",
      "        16, 16, 16, 16, 16, 16, 16, 16, 16, 16, 16, 16, 16, 16, 16, 16,\n",
      "        16, 16, 16, 17, 17, 17, 17, 17, 17, 17, 17, 17, 17, 17, 17, 17,\n",
      "        17, 17, 17, 17, 17, 17, 18, 18, 18, 18, 18, 18, 18, 18, 18, 18,\n",
      "        18, 18, 18, 18, 18, 18, 18, 18, 18, 19, 19, 19, 19, 19, 19, 19,\n",
      "        19, 19, 19, 19, 19, 19, 19, 19, 19, 19, 19, 19]], dtype=int32), reference_position=Array([[85.41766  , 16.620052 ],\n",
      "       [27.605474 , 48.728157 ],\n",
      "       [99.20441  ,  3.015983 ],\n",
      "       [21.629429 , 37.687122 ],\n",
      "       [63.070034 , 96.14447  ],\n",
      "       [15.203023 , 92.090294 ],\n",
      "       [30.555237 , 29.931295 ],\n",
      "       [69.257065 , 85.42826  ],\n",
      "       [46.517384 , 78.69307  ],\n",
      "       [99.605286 , 28.018547 ],\n",
      "       [16.208672 , 15.704894 ],\n",
      "       [41.24018  ,  8.9273815],\n",
      "       [77.11851  ,  1.6152143],\n",
      "       [25.476706 , 47.36558  ],\n",
      "       [41.649853 , 36.186386 ],\n",
      "       [ 7.8873277,  2.5985122],\n",
      "       [94.84279  , 59.51961  ],\n",
      "       [ 3.906536 , 23.785378 ],\n",
      "       [80.519714 , 42.387974 ],\n",
      "       [70.40344  , 30.17869  ]], dtype=float32), error=, cell_list_capacity=None, max_occupancy=380, format=<NeighborListFormat.Sparse: 1>, cell_size=110.0, cell_list_fn=None, update_fn=<function neighbor_list.<locals>.neighbor_list_fn at 0x71019425bac0>), agents_neighs_idx=Array([[ 1,  2,  3,  4,  5,  6,  7,  8,  9,  0,  2,  3,  4,  5,  6,  7,\n",
      "         8,  9,  0,  1,  3,  4,  5,  6,  7,  8,  9,  0,  1,  2,  4,  5,\n",
      "         6,  7,  8,  9,  0,  1,  2,  3,  5,  6,  7,  8,  9,  0,  1,  2,\n",
      "         3,  4,  6,  7,  8,  9,  0,  1,  2,  3,  4,  5,  7,  8,  9,  0,\n",
      "         1,  2,  3,  4,  5,  6,  8,  9,  0,  1,  2,  3,  4,  5,  6,  7,\n",
      "         9,  0,  1,  2,  3,  4,  5,  6,  7,  8,  0,  1,  2,  3,  4,  5,\n",
      "         6,  7,  8,  9,  0,  1,  2,  3,  4,  5,  6,  7,  8,  9,  0,  1,\n",
      "         2,  3,  4,  5,  6,  7,  8,  9,  0,  1,  2,  3,  4,  5,  6,  7,\n",
      "         8,  9,  0,  1,  2,  3,  4,  5,  6,  7,  8,  9,  0,  1,  2,  3,\n",
      "         4,  5,  6,  7,  8,  9,  0,  1,  2,  3,  4,  5,  6,  7,  8,  9,\n",
      "         0,  1,  2,  3,  4,  5,  6,  7,  8,  9,  0,  1,  2,  3,  4,  5,\n",
      "         6,  7,  8,  9,  0,  1,  2,  3,  4,  5,  6,  7,  8,  9],\n",
      "       [ 0,  0,  0,  0,  0,  0,  0,  0,  0,  1,  1,  1,  1,  1,  1,  1,\n",
      "         1,  1,  2,  2,  2,  2,  2,  2,  2,  2,  2,  3,  3,  3,  3,  3,\n",
      "         3,  3,  3,  3,  4,  4,  4,  4,  4,  4,  4,  4,  4,  5,  5,  5,\n",
      "         5,  5,  5,  5,  5,  5,  6,  6,  6,  6,  6,  6,  6,  6,  6,  7,\n",
      "         7,  7,  7,  7,  7,  7,  7,  7,  8,  8,  8,  8,  8,  8,  8,  8,\n",
      "         8,  9,  9,  9,  9,  9,  9,  9,  9,  9, 10, 10, 10, 10, 10, 10,\n",
      "        10, 10, 10, 10, 11, 11, 11, 11, 11, 11, 11, 11, 11, 11, 12, 12,\n",
      "        12, 12, 12, 12, 12, 12, 12, 12, 13, 13, 13, 13, 13, 13, 13, 13,\n",
      "        13, 13, 14, 14, 14, 14, 14, 14, 14, 14, 14, 14, 15, 15, 15, 15,\n",
      "        15, 15, 15, 15, 15, 15, 16, 16, 16, 16, 16, 16, 16, 16, 16, 16,\n",
      "        17, 17, 17, 17, 17, 17, 17, 17, 17, 17, 18, 18, 18, 18, 18, 18,\n",
      "        18, 18, 18, 18, 19, 19, 19, 19, 19, 19, 19, 19, 19, 19]],      dtype=int32), agents_idx_dense=(Array([[  9,  18,  27,  36,  45,  54,  63,  72,  81,  90, 100, 110, 120,\n",
      "        130, 140, 150, 160, 170, 180],\n",
      "       [  0,  19,  28,  37,  46,  55,  64,  73,  82,  91, 101, 111, 121,\n",
      "        131, 141, 151, 161, 171, 181],\n",
      "       [  1,  10,  29,  38,  47,  56,  65,  74,  83,  92, 102, 112, 122,\n",
      "        132, 142, 152, 162, 172, 182],\n",
      "       [  2,  11,  20,  39,  48,  57,  66,  75,  84,  93, 103, 113, 123,\n",
      "        133, 143, 153, 163, 173, 183],\n",
      "       [  3,  12,  21,  30,  49,  58,  67,  76,  85,  94, 104, 114, 124,\n",
      "        134, 144, 154, 164, 174, 184],\n",
      "       [  4,  13,  22,  31,  40,  59,  68,  77,  86,  95, 105, 115, 125,\n",
      "        135, 145, 155, 165, 175, 185],\n",
      "       [  5,  14,  23,  32,  41,  50,  69,  78,  87,  96, 106, 116, 126,\n",
      "        136, 146, 156, 166, 176, 186],\n",
      "       [  6,  15,  24,  33,  42,  51,  60,  79,  88,  97, 107, 117, 127,\n",
      "        137, 147, 157, 167, 177, 187],\n",
      "       [  7,  16,  25,  34,  43,  52,  61,  70,  89,  98, 108, 118, 128,\n",
      "        138, 148, 158, 168, 178, 188],\n",
      "       [  8,  17,  26,  35,  44,  53,  62,  71,  80,  99, 109, 119, 129,\n",
      "        139, 149, 159, 169, 179, 189]], dtype=int32), Array([[ 1,  2,  3,  4,  5,  6,  7,  8,  9, 10, 11, 12, 13, 14, 15, 16,\n",
      "        17, 18, 19],\n",
      "       [ 0,  2,  3,  4,  5,  6,  7,  8,  9, 10, 11, 12, 13, 14, 15, 16,\n",
      "        17, 18, 19],\n",
      "       [ 0,  1,  3,  4,  5,  6,  7,  8,  9, 10, 11, 12, 13, 14, 15, 16,\n",
      "        17, 18, 19],\n",
      "       [ 0,  1,  2,  4,  5,  6,  7,  8,  9, 10, 11, 12, 13, 14, 15, 16,\n",
      "        17, 18, 19],\n",
      "       [ 0,  1,  2,  3,  5,  6,  7,  8,  9, 10, 11, 12, 13, 14, 15, 16,\n",
      "        17, 18, 19],\n",
      "       [ 0,  1,  2,  3,  4,  6,  7,  8,  9, 10, 11, 12, 13, 14, 15, 16,\n",
      "        17, 18, 19],\n",
      "       [ 0,  1,  2,  3,  4,  5,  7,  8,  9, 10, 11, 12, 13, 14, 15, 16,\n",
      "        17, 18, 19],\n",
      "       [ 0,  1,  2,  3,  4,  5,  6,  8,  9, 10, 11, 12, 13, 14, 15, 16,\n",
      "        17, 18, 19],\n",
      "       [ 0,  1,  2,  3,  4,  5,  6,  7,  9, 10, 11, 12, 13, 14, 15, 16,\n",
      "        17, 18, 19],\n",
      "       [ 0,  1,  2,  3,  4,  5,  6,  7,  8, 10, 11, 12, 13, 14, 15, 16,\n",
      "        17, 18, 19]], dtype=int32)))\n"
     ]
    }
   ],
   "source": [
    "\n",
    "#--- 4 Define the environment class with its different functions (step ...) ---#\n",
    "class SelectiveSensorsEnv(BaseEnv):\n",
    "    def __init__(self, state, occlusion=True, seed=42):\n",
    "        self.seed = seed\n",
    "        # TODO CLean that\n",
    "        self.occlusion = occlusion\n",
    "        self.update_agent_prox_motor_function()\n",
    "        self.init_key = random.PRNGKey(seed)\n",
    "        self.displacement, self.shift = space.periodic(state.box_size)\n",
    "        self.init_fn, self.apply_physics = dynamics_fn(self.displacement, self.shift, braintenberg_force_fn)\n",
    "        self.neighbor_fn = partition.neighbor_list(\n",
    "            self.displacement, \n",
    "            state.box_size,\n",
    "            r_cutoff=state.neighbor_radius,\n",
    "            dr_threshold=10.,\n",
    "            capacity_multiplier=1.5,\n",
    "            format=partition.Sparse\n",
    "        )\n",
    "        self.neighbors_storage = self.allocate_neighbors(state)\n",
    "\n",
    "    def distance(self, point1, point2):\n",
    "            return distance(self.displacement, point1, point2)\n",
    "    \n",
    "    # At the moment doesn't work because the _step function isn't recompiled \n",
    "    def update_agent_prox_motor_function(self):\n",
    "         if self.occlusion:\n",
    "            self.compute_all_agents_proxs_motors = compute_all_agents_proxs_motors_occl\n",
    "         else:\n",
    "            self.compute_all_agents_proxs_motors = compute_all_agents_proxs_motors\n",
    "    \n",
    "    @partial(jit, static_argnums=(0,))\n",
    "    def _step(self, state: State, neighbors_storage: Neighbors) -> Tuple[State, jnp.array]:\n",
    "        # Retrieve different neighbors format\n",
    "        print(neighbors_storage)\n",
    "        neighbors = neighbors_storage.neighbors\n",
    "        agents_neighs_idx = neighbors_storage.agents_neighs_idx\n",
    "        ag_idx_dense = neighbors_storage.agents_idx_dense\n",
    "        # Differences : compute raw proxs for all agents first \n",
    "        dist, relative_theta, proximity_dist_map, proximity_dist_theta = get_relative_displacement(state, agents_neighs_idx, displacement_fn=self.displacement)\n",
    "        senders, receivers = agents_neighs_idx\n",
    "\n",
    "        dist_max = state.agents.proxs_dist_max[senders]\n",
    "        cos_min = state.agents.proxs_cos_min[senders]\n",
    "        targer_exist_mask = state.entities.exists[agents_neighs_idx[1, :]]\n",
    "        raw_proxs = sensor_fn(dist, relative_theta, dist_max, cos_min, targer_exist_mask)\n",
    "\n",
    "        # 2: Use dense idx for neighborhoods to vmap all of this\n",
    "        # TODO : Could even just pass ag_idx_dense in the fn and do this inside\n",
    "        ag_idx_dense_senders, ag_idx_dense_receivers = ag_idx_dense\n",
    "\n",
    "        agent_proxs, mean_agent_motors = self.compute_all_agents_proxs_motors(\n",
    "            state,\n",
    "            state.agents.ent_idx,\n",
    "            state.agents.params,\n",
    "            state.agents.sensed,\n",
    "            state.agents.behavior,\n",
    "            state.agents.motor,\n",
    "            raw_proxs,\n",
    "            ag_idx_dense_senders,\n",
    "            ag_idx_dense_receivers,\n",
    "        )\n",
    "\n",
    "        agents = state.agents.replace(\n",
    "            prox=agent_proxs, \n",
    "            proximity_map_dist=proximity_dist_map, \n",
    "            proximity_map_theta=proximity_dist_theta,\n",
    "            motor=mean_agent_motors\n",
    "        )\n",
    "\n",
    "        # Last block unchanged\n",
    "        state = state.replace(agents=agents)\n",
    "        entities = self.apply_physics(state, neighbors)\n",
    "        state = state.replace(time=state.time+1, entities=entities)\n",
    "        neighbors = neighbors.update(state.entities.position.center)\n",
    "\n",
    "        return state, neighbors\n",
    "    \n",
    "    def step(self, state: State) -> State:\n",
    "        if state.entities.momentum is None:\n",
    "             state = self.init_fn(state, self.init_key)\n",
    "             \n",
    "        current_state = state\n",
    "        state, neighbors = self._step(current_state, self.neighbors_storage)\n",
    "\n",
    "        if neighbors.did_buffer_overflow:\n",
    "            # reallocate neighbors and run the simulation from current_state\n",
    "            lg.warning(f'NEIGHBORS BUFFER OVERFLOW at step {state.time}: rebuilding neighbors')\n",
    "            self.neighbors_storage = self.allocate_neighbors(state)\n",
    "            assert not neighbors.did_buffer_overflow\n",
    "\n",
    "        return state\n",
    "\n",
    "\n",
    "    def allocate_neighbors(self, state, position=None):\n",
    "        position = state.entities.position.center if position is None else position\n",
    "        neighbors = self.neighbor_fn.allocate(position)\n",
    "\n",
    "        # Also update the neighbor idx of agents (not the cleanest to attribute it to with self here)\n",
    "        ag_idx = state.entities.entity_type[neighbors.idx[0]] == EntityType.AGENT.value\n",
    "        agents_neighs_idx = neighbors.idx[:, ag_idx]\n",
    "        # Give the idx of the agents in sparse representation, under a dense representation (used to get the raw proxs in compute motors function)\n",
    "        agents_idx_dense_senders = jnp.array([jnp.argwhere(jnp.equal(agents_neighs_idx[0, :], idx)).flatten() for idx in jnp.arange(state.max_agents)]) \n",
    "        # Note: jnp.argwhere(jnp.equal(self.agents_neighs_idx[0, :], idx)).flatten() ~ jnp.where(agents_idx[0, :] == idx)\n",
    "        # Give the idx of the agent neighbors in dense representation\n",
    "        agents_idx_dense_receivers = agents_neighs_idx[1, :][agents_idx_dense_senders]\n",
    "        agents_idx_dense = agents_idx_dense_senders, agents_idx_dense_receivers\n",
    "\n",
    "        neighbor_storage = Neighbors(neighbors=neighbors, agents_neighs_idx=agents_neighs_idx, agents_idx_dense=agents_idx_dense)\n",
    "        return neighbor_storage\n",
    "    \n",
    "@struct.dataclass\n",
    "class Neighbors:\n",
    "    neighbors: jnp.array\n",
    "    agents_neighs_idx: jnp.array\n",
    "    agents_idx_dense: jnp.array\n",
    "\n",
    "env = SelectiveSensorsEnv(state, occlusion=True)\n",
    "state = env.step(state)"
   ]
  },
  {
   "cell_type": "markdown",
   "metadata": {},
   "source": [
    "## Create the state"
   ]
  },
  {
   "cell_type": "code",
   "execution_count": 15,
   "metadata": {},
   "outputs": [
    {
     "name": "stdout",
     "output_type": "stream",
     "text": [
      "{'PREY': [0, 5], 'PRED': [1, 5], 'RESSOURCE': [2, 5], 'POISON': [3, 5]}\n"
     ]
    }
   ],
   "source": [
    "seed = 0\n",
    "n_dims = 2\n",
    "box_size = 100\n",
    "diameter = 5.0\n",
    "friction = 0.1\n",
    "mass_center = 1.0\n",
    "mass_orientation = 0.125\n",
    "neighbor_radius = 100.0\n",
    "collision_alpha = 0.5\n",
    "collision_eps = 0.1\n",
    "dt = 0.1\n",
    "wheel_diameter = 2.0\n",
    "speed_mul = 1.0\n",
    "max_speed = 10.0\n",
    "theta_mul = 1.0\n",
    "prox_dist_max = 40.0\n",
    "prox_cos_min = 0.0\n",
    "existing_agents = None\n",
    "existing_objects = None\n",
    "\n",
    "# Define number of agents and objects\n",
    "n_preys = 5\n",
    "n_preds = 5\n",
    "n_ress = 5\n",
    "n_pois = 5\n",
    "max_agents = n_preys + n_preds\n",
    "max_objects = n_ress + n_pois\n",
    "\n",
    "\n",
    "ent_sub_types_list = [['PREY', 5], ['PRED', 5], ['RESSOURCE', 5], ['POISON', 5]]\n",
    "# Not the cleanest but associates a sub type to an idx and to a number of elements of this subtype\n",
    "# Could use nested dicts here but not rly rly important\n",
    "# ex: Prey idx = 0, n_preys = 5\n",
    "ent_sub_types = {t[0]: [i, t[1]] for i, t in enumerate(ent_sub_types_list)}\n",
    "print(ent_sub_types)\n",
    "\n",
    "key = random.PRNGKey(seed)\n",
    "key, key_agents_pos, key_objects_pos, key_orientations = random.split(key, 4)"
   ]
  },
  {
   "cell_type": "code",
   "execution_count": 16,
   "metadata": {},
   "outputs": [
    {
     "name": "stdout",
     "output_type": "stream",
     "text": [
      "PREY [0, 5]\n",
      "PRED [1, 5]\n",
      "RESSOURCE [2, 5]\n",
      "POISON [3, 5]\n"
     ]
    }
   ],
   "source": [
    "for k, v in ent_sub_types.items():\n",
    "    print(k, v)"
   ]
  },
  {
   "cell_type": "markdown",
   "metadata": {},
   "source": [
    "### Entities\n",
    "\n",
    "Compared to simple Braitenberg env, just need to add a field ent_subtypes. So just need to add 1 more field in the init fn that either takes a list or ints as arguments (in case of ints care because we need to differentiate objects and agents ... --> But in classical case all the agents sense any entity the same, so lets not care abt it) "
   ]
  },
  {
   "cell_type": "code",
   "execution_count": 17,
   "metadata": {},
   "outputs": [
    {
     "name": "stdout",
     "output_type": "stream",
     "text": [
      "[0 0 0 0 0 1 1 1 1 1 2 2 2 2 2 3 3 3 3 3]\n"
     ]
    }
   ],
   "source": [
    "def init_entities(\n",
    "    max_agents=max_agents,\n",
    "    max_objects=max_objects,\n",
    "    n_dims=n_dims,\n",
    "    box_size=box_size,\n",
    "    existing_agents=None,\n",
    "    existing_objects=None,\n",
    "    mass_center=mass_center,\n",
    "    mass_orientation=mass_orientation,\n",
    "    diameter=diameter,\n",
    "    friction=friction,\n",
    "    # TODO\n",
    "    ent_sub_types=ent_sub_types,\n",
    "    key_agents_pos=random.PRNGKey(seed),\n",
    "    key_objects_pos=random.PRNGKey(seed+1),\n",
    "    key_orientations=random.PRNGKey(seed+2)\n",
    "):\n",
    "\n",
    "    existing_agents = max_agents if not existing_agents else existing_agents\n",
    "    existing_objects = max_objects if not existing_objects else existing_objects\n",
    "\n",
    "    n_entities = max_agents + max_objects # we store the entities data in jax arrays of length max_agents + max_objects \n",
    "    # Assign random positions to each entity in the environment\n",
    "    agents_positions = random.uniform(key_agents_pos, (max_agents, n_dims)) * box_size\n",
    "    objects_positions = random.uniform(key_objects_pos, (max_objects, n_dims)) * box_size\n",
    "    positions = jnp.concatenate((agents_positions, objects_positions))\n",
    "    # Assign random orientations between 0 and 2*pi to each entity\n",
    "    orientations = random.uniform(key_orientations, (n_entities,)) * 2 * jnp.pi\n",
    "    # Assign types to the entities\n",
    "    agents_entities = jnp.full(max_agents, EntityType.AGENT.value)\n",
    "    object_entities = jnp.full(max_objects, EntityType.OBJECT.value)\n",
    "    entity_types = jnp.concatenate((agents_entities, object_entities), dtype=int)\n",
    "    # Define arrays with existing entities\n",
    "    exists_agents = jnp.concatenate((jnp.ones((existing_agents)), jnp.zeros((max_agents - existing_agents))))\n",
    "    exists_objects = jnp.concatenate((jnp.ones((existing_objects)), jnp.zeros((max_objects - existing_objects))))\n",
    "    exists = jnp.concatenate((exists_agents, exists_objects), dtype=int)\n",
    "\n",
    "    # Works because dictionaries are ordered in Python\n",
    "    ent_subtypes = np.zeros(n_entities)\n",
    "    cur_idx = 0\n",
    "    for subtype_id, n_subtype in ent_sub_types.values():\n",
    "        ent_subtypes[cur_idx:cur_idx+n_subtype] = subtype_id\n",
    "        cur_idx += n_subtype\n",
    "    ent_subtypes = jnp.array(ent_subtypes, dtype=int) \n",
    "    print(ent_subtypes)\n",
    "\n",
    "    return EntityState(\n",
    "        position=RigidBody(center=positions, orientation=orientations),\n",
    "        momentum=None,\n",
    "        force=RigidBody(center=jnp.zeros((n_entities, 2)), orientation=jnp.zeros(n_entities)),\n",
    "        mass=RigidBody(center=jnp.full((n_entities, 1), mass_center), orientation=jnp.full((n_entities), mass_orientation)),\n",
    "        entity_type=entity_types,\n",
    "        ent_subtype=ent_subtypes,\n",
    "        entity_idx = jnp.array(list(range(max_agents)) + list(range(max_objects))),\n",
    "        diameter=jnp.full((n_entities), diameter),\n",
    "        friction=jnp.full((n_entities), friction),\n",
    "        exists=exists\n",
    "    )\n",
    "\n",
    "entities = init_entities(ent_sub_types=ent_sub_types)"
   ]
  },
  {
   "cell_type": "markdown",
   "metadata": {},
   "source": [
    "### Agents\n",
    "\n",
    "Now this section becomes rly different. Need to have several behaviors for each agent (or an array of 1 behavior at minimum). Is the better choice to create a different w different functions in the step according to if you are in selective sensing / classic braitenberg mode ? Idk, would argue the second one is cleaner and also enables to simplify init functions. \n",
    "\n",
    "Preys:\n",
    "\n",
    "- Love: other preys and ressources\n",
    "- Fear: predators and poison\n",
    "- Color: Blue\n",
    "\n",
    "Predators:\n",
    "\n",
    "- Aggression: preys\n",
    "- Fear: Poison\n",
    "- Color: Red"
   ]
  },
  {
   "cell_type": "code",
   "execution_count": 18,
   "metadata": {},
   "outputs": [],
   "source": [
    "def define_behavior_map(behavior, sensed_mask):\n",
    "    params = behavior_to_params(behavior)\n",
    "    sensed_mask = jnp.array([sensed_mask])\n",
    "\n",
    "    behavior_map = {\n",
    "        'behavior': behavior,\n",
    "        'params': params,\n",
    "        'sensed_mask': sensed_mask\n",
    "    }\n",
    "    return behavior_map"
   ]
  },
  {
   "cell_type": "code",
   "execution_count": 19,
   "metadata": {},
   "outputs": [],
   "source": [
    "def stack_behaviors(behaviors_dict_list):\n",
    "    # init variables\n",
    "    n_behaviors = len(behaviors_dict_list)\n",
    "    sensed_length = behaviors_dict_list[0]['sensed_mask'].shape[1]\n",
    "\n",
    "    params = np.zeros((n_behaviors, 2, 3)) # (2, 3) = params.shape\n",
    "    sensed_mask = np.zeros((n_behaviors, sensed_length))\n",
    "    behaviors = np.zeros((n_behaviors,))\n",
    "\n",
    "    # iterate in the list of behaviors and update params and mask\n",
    "    for i in range(n_behaviors):\n",
    "        assert behaviors_dict_list[i]['sensed_mask'].shape[1] == sensed_length\n",
    "        params[i] = behaviors_dict_list[i]['params']\n",
    "        sensed_mask[i] = behaviors_dict_list[i]['sensed_mask']\n",
    "        behaviors[i] = behaviors_dict_list[i]['behavior']\n",
    "\n",
    "    stacked_behavior_map = {\n",
    "        'behaviors': behaviors,\n",
    "        'params': params,\n",
    "        'sensed_mask': sensed_mask\n",
    "    }\n",
    "\n",
    "    return stacked_behavior_map"
   ]
  },
  {
   "cell_type": "code",
   "execution_count": 20,
   "metadata": {},
   "outputs": [],
   "source": [
    "def get_agents_params_and_sensed_arr(agents_stacked_behaviors_list):\n",
    "    n_agents = len(agents_stacked_behaviors_list)\n",
    "    params_shape = agents_stacked_behaviors_list[0]['params'].shape\n",
    "    sensed_shape = agents_stacked_behaviors_list[0]['sensed_mask'].shape\n",
    "    behaviors_shape = agents_stacked_behaviors_list[0]['behaviors'].shape\n",
    "    # Init arrays w right shapes\n",
    "    params = np.zeros((n_agents, *params_shape))\n",
    "    sensed = np.zeros((n_agents, *sensed_shape))\n",
    "    behaviors = np.zeros((n_agents, *behaviors_shape))\n",
    "\n",
    "    for i in range(n_agents):\n",
    "        assert agents_stacked_behaviors_list[i]['params'].shape == params_shape\n",
    "        assert agents_stacked_behaviors_list[i]['sensed_mask'].shape == sensed_shape\n",
    "        assert agents_stacked_behaviors_list[i]['behaviors'].shape == behaviors_shape\n",
    "        params[i] = agents_stacked_behaviors_list[i]['params']\n",
    "        sensed[i] = agents_stacked_behaviors_list[i]['sensed_mask']\n",
    "        behaviors[i] = agents_stacked_behaviors_list[i]['behaviors']\n",
    "\n",
    "    params = jnp.array(params)\n",
    "    sensed = jnp.array(sensed)\n",
    "    behaviors = jnp.array(behaviors)\n",
    "\n",
    "    return params, sensed, behaviors"
   ]
  },
  {
   "cell_type": "code",
   "execution_count": 21,
   "metadata": {},
   "outputs": [],
   "source": [
    "# Prey behavior maps\n",
    "prey_love = define_behavior_map(Behaviors.LOVE.value, [1, 0, 1, 0])\n",
    "prey_fear = define_behavior_map(Behaviors.FEAR.value, [0, 1, 0, 1])\n",
    "\n",
    "# Pred behavior maps\n",
    "pred_aggr = define_behavior_map(Behaviors.AGGRESSION.value, [1, 0, 0, 0])\n",
    "pred_fear = define_behavior_map(Behaviors.FEAR.value, [0, 0, 0, 1])\n",
    "\n",
    "# Stack the behaviors for pred and preys\n",
    "prey_behaviors_list = [prey_love, prey_fear]\n",
    "prey_behaviors = stack_behaviors(prey_behaviors_list)\n",
    "\n",
    "pred_behaviors_list = [pred_aggr, pred_fear]\n",
    "pred_behaviors = stack_behaviors(pred_behaviors_list)\n",
    "\n",
    "# Build a list with the stacked behaviors of all agents\n",
    "agents_stacked_behaviors_list = [prey_behaviors] * n_preys + [pred_behaviors] * n_preds\n",
    "params, sensed, behaviors = get_agents_params_and_sensed_arr(agents_stacked_behaviors_list)\n",
    "\n",
    "prey_color = jnp.array([0., 0., 1.])\n",
    "pred_color = jnp.array([1., 0., 0.])\n",
    "\n",
    "prey_color=jnp.tile(prey_color, (n_preys, 1))\n",
    "pred_color=jnp.tile(pred_color, (n_preds, 1))\n",
    "\n",
    "agent_colors = jnp.concatenate([\n",
    "    prey_color,\n",
    "    pred_color\n",
    "])\n",
    "\n",
    "\n",
    "agents =  AgentState(\n",
    "    # idx in the entities (ent_idx) state to map agents information in the different data structures\n",
    "    ent_idx=jnp.arange(max_agents, dtype=int), \n",
    "    prox=jnp.zeros((max_agents, 2)),\n",
    "    motor=jnp.zeros((max_agents, 2)),\n",
    "    behavior=behaviors,\n",
    "    params=params,\n",
    "    sensed=sensed,\n",
    "    wheel_diameter=jnp.full((max_agents), wheel_diameter),\n",
    "    speed_mul=jnp.full((max_agents), speed_mul),\n",
    "    max_speed=jnp.full((max_agents), max_speed),\n",
    "    theta_mul=jnp.full((max_agents), theta_mul),\n",
    "    proxs_dist_max=jnp.full((max_agents), prox_dist_max),\n",
    "    proxs_cos_min=jnp.full((max_agents), prox_cos_min),\n",
    "    proximity_map_dist=jnp.zeros((max_agents, 1)),\n",
    "    proximity_map_theta=jnp.zeros((max_agents, 1)),\n",
    "    color=agent_colors\n",
    ")"
   ]
  },
  {
   "cell_type": "markdown",
   "metadata": {},
   "source": [
    "### Objects\n",
    "\n",
    "Nothing to add to init functions.\n",
    "\n",
    "Ressources\n",
    "\n",
    "- Color: green\n",
    "\n",
    "Poison\n",
    "\n",
    "- Color: purple"
   ]
  },
  {
   "cell_type": "code",
   "execution_count": 22,
   "metadata": {},
   "outputs": [],
   "source": [
    "# Entities idx of objects\n",
    "start_idx, stop_idx = max_agents, max_agents + max_objects \n",
    "objects_ent_idx = jnp.arange(start_idx, stop_idx, dtype=int)\n",
    "\n",
    "res_color = jnp.array([0., 1., 0.])\n",
    "pois_color = jnp.array([1., 0., 1.])\n",
    "\n",
    "res_color=jnp.tile(res_color, (n_preys, 1))\n",
    "pois_color=jnp.tile(pois_color, (n_preds, 1))\n",
    "\n",
    "objects_colors = jnp.concatenate([\n",
    "    res_color,\n",
    "    pois_color\n",
    "])\n",
    "\n",
    "objects =  ObjectState(\n",
    "    ent_idx=objects_ent_idx,\n",
    "    color=objects_colors\n",
    ")"
   ]
  },
  {
   "cell_type": "markdown",
   "metadata": {},
   "source": [
    "### State"
   ]
  },
  {
   "cell_type": "code",
   "execution_count": 23,
   "metadata": {},
   "outputs": [],
   "source": [
    "state =  State(\n",
    "    time=0,\n",
    "    box_size=box_size,\n",
    "    max_agents=max_agents,\n",
    "    max_objects=max_objects,\n",
    "    neighbor_radius=neighbor_radius,\n",
    "    collision_alpha=collision_alpha,\n",
    "    collision_eps=collision_eps,\n",
    "    dt=dt,\n",
    "    entities=entities,\n",
    "    agents=agents,\n",
    "    objects=objects,\n",
    "    ent_sub_types=ent_sub_types\n",
    ")   "
   ]
  },
  {
   "cell_type": "markdown",
   "metadata": {},
   "source": [
    "## Test the simulation"
   ]
  },
  {
   "cell_type": "code",
   "execution_count": 24,
   "metadata": {},
   "outputs": [],
   "source": [
    "from vivarium.experimental.environments.braitenberg.render import render, render_history"
   ]
  },
  {
   "cell_type": "code",
   "execution_count": 25,
   "metadata": {},
   "outputs": [
    {
     "data": {
      "image/png": "[encoded data removed]",
      "text/plain": [
       "<Figure size 600x600 with 1 Axes>"
      ]
     },
     "metadata": {},
     "output_type": "display_data"
    }
   ],
   "source": [
    "render(state)"
   ]
  },
  {
   "cell_type": "code",
   "execution_count": 26,
   "metadata": {},
   "outputs": [
    {
     "ename": "NameError",
     "evalue": "name 'agents_idx_dense' is not defined",
     "output_type": "error",
     "traceback": [
      "\u001b[0;31m---------------------------------------------------------------------------\u001b[0m",
      "\u001b[0;31mNameError\u001b[0m                                 Traceback (most recent call last)",
      "Cell \u001b[0;32mIn[26], line 1\u001b[0m\n\u001b[0;32m----> 1\u001b[0m env \u001b[38;5;241m=\u001b[39m \u001b[43mSelectiveSensorsEnv\u001b[49m\u001b[43m(\u001b[49m\u001b[43mstate\u001b[49m\u001b[43m,\u001b[49m\u001b[43m \u001b[49m\u001b[43mocclusion\u001b[49m\u001b[38;5;241;43m=\u001b[39;49m\u001b[38;5;28;43;01mTrue\u001b[39;49;00m\u001b[43m)\u001b[49m\n",
      "Cell \u001b[0;32mIn[14], line 20\u001b[0m, in \u001b[0;36mSelectiveSensorsEnv.__init__\u001b[0;34m(self, state, occlusion, seed)\u001b[0m\n\u001b[1;32m     10\u001b[0m \u001b[38;5;28mself\u001b[39m\u001b[38;5;241m.\u001b[39minit_fn, \u001b[38;5;28mself\u001b[39m\u001b[38;5;241m.\u001b[39mapply_physics \u001b[38;5;241m=\u001b[39m dynamics_fn(\u001b[38;5;28mself\u001b[39m\u001b[38;5;241m.\u001b[39mdisplacement, \u001b[38;5;28mself\u001b[39m\u001b[38;5;241m.\u001b[39mshift, braintenberg_force_fn)\n\u001b[1;32m     11\u001b[0m \u001b[38;5;28mself\u001b[39m\u001b[38;5;241m.\u001b[39mneighbor_fn \u001b[38;5;241m=\u001b[39m partition\u001b[38;5;241m.\u001b[39mneighbor_list(\n\u001b[1;32m     12\u001b[0m     \u001b[38;5;28mself\u001b[39m\u001b[38;5;241m.\u001b[39mdisplacement, \n\u001b[1;32m     13\u001b[0m     state\u001b[38;5;241m.\u001b[39mbox_size,\n\u001b[0;32m   (...)\u001b[0m\n\u001b[1;32m     17\u001b[0m     \u001b[38;5;28mformat\u001b[39m\u001b[38;5;241m=\u001b[39mpartition\u001b[38;5;241m.\u001b[39mSparse\n\u001b[1;32m     18\u001b[0m )\n\u001b[0;32m---> 20\u001b[0m \u001b[38;5;28mself\u001b[39m\u001b[38;5;241m.\u001b[39mneighbors \u001b[38;5;241m=\u001b[39m \u001b[38;5;28;43mself\u001b[39;49m\u001b[38;5;241;43m.\u001b[39;49m\u001b[43mallocate_neighbors\u001b[49m\u001b[43m(\u001b[49m\u001b[43mstate\u001b[49m\u001b[43m)\u001b[49m\n",
      "Cell \u001b[0;32mIn[14], line 107\u001b[0m, in \u001b[0;36mSelectiveSensorsEnv.allocate_neighbors\u001b[0;34m(self, state, position)\u001b[0m\n\u001b[1;32m    104\u001b[0m agents_idx_dense_receivers \u001b[38;5;241m=\u001b[39m \u001b[38;5;28mself\u001b[39m\u001b[38;5;241m.\u001b[39magents_neighs_idx[\u001b[38;5;241m1\u001b[39m, :][agents_idx_dense_senders]\n\u001b[1;32m    105\u001b[0m \u001b[38;5;28mself\u001b[39m\u001b[38;5;241m.\u001b[39magents_idx_dense \u001b[38;5;241m=\u001b[39m agents_idx_dense_senders, agents_idx_dense_receivers\n\u001b[0;32m--> 107\u001b[0m neighs \u001b[38;5;241m=\u001b[39m Neighbors(neighbors\u001b[38;5;241m=\u001b[39mneighbors, agent_neighs_idx\u001b[38;5;241m=\u001b[39m\u001b[43magents_idx_dense\u001b[49m, agents_idx_dense\u001b[38;5;241m=\u001b[39m\u001b[38;5;28mself\u001b[39m\u001b[38;5;241m.\u001b[39magents_idx_dense)\n\u001b[1;32m    108\u001b[0m \u001b[38;5;28;01mreturn\u001b[39;00m neighbors\n",
      "\u001b[0;31mNameError\u001b[0m: name 'agents_idx_dense' is not defined"
     ]
    }
   ],
   "source": [
    "env = SelectiveSensorsEnv(state, occlusion=True)"
   ]
  },
  {
   "cell_type": "markdown",
   "metadata": {},
   "source": [
    "### Autonomous behaviors"
   ]
  },
  {
   "cell_type": "code",
   "execution_count": 36,
   "metadata": {},
   "outputs": [],
   "source": [
    "n_steps = 5_000\n",
    "hist = []\n",
    "\n",
    "for i in range(n_steps):\n",
    "    state = env.step(state)\n",
    "    hist.append(state)"
   ]
  },
  {
   "cell_type": "code",
   "execution_count": 37,
   "metadata": {},
   "outputs": [
    {
     "data": {
      "image/png": "[encoded data removed]",
      "text/plain": [
       "<Figure size 600x600 with 1 Axes>"
      ]
     },
     "metadata": {},
     "output_type": "display_data"
    }
   ],
   "source": [
    "render_history(hist, skip_frames=50)"
   ]
  },
  {
   "cell_type": "markdown",
   "metadata": {},
   "source": [
    "### Test manual behavior for an agent\n",
    "\n",
    "Need to set all of its behaviors to manual."
   ]
  },
  {
   "cell_type": "code",
   "execution_count": 27,
   "metadata": {},
   "outputs": [],
   "source": [
    "ag_idx = 9\n",
    "manual_behaviors = jnp.array([Behaviors.MANUAL.value, Behaviors.MANUAL.value,])\n",
    "manual_color = jnp.array([0., 0., 0.])\n",
    "manual_motors = jnp.array([1., 1.])\n",
    "\n",
    "behaviors = state.agents.behavior.at[ag_idx].set(manual_behaviors)\n",
    "colors = state.agents.color.at[ag_idx].set(manual_color)\n",
    "motors = state.agents.motor.at[ag_idx].set(manual_motors)\n",
    "\n",
    "agents = state.agents.replace(behavior=behaviors, color=colors, motor=motors)\n",
    "state = state.replace(agents=agents)"
   ]
  },
  {
   "cell_type": "code",
   "execution_count": 28,
   "metadata": {},
   "outputs": [],
   "source": [
    "hist = []\n",
    "\n",
    "for i in range(n_steps):\n",
    "    state = env.step(state)\n",
    "    hist.append(state)"
   ]
  },
  {
   "cell_type": "code",
   "execution_count": 29,
   "metadata": {},
   "outputs": [
    {
     "data": {
      "image/png": "[encoded data removed]",
      "text/plain": [
       "<Figure size 600x600 with 1 Axes>"
      ]
     },
     "metadata": {},
     "output_type": "display_data"
    }
   ],
   "source": [
    "render_history(hist, skip_frames=50)"
   ]
  },
  {
   "cell_type": "markdown",
   "metadata": {},
   "source": [
    "### Remove occlusion for agents\n",
    "\n",
    "Doesn't work yet but maybe not really important. In fact even if the function is changed the compiled _step function in the env stays the same. So I could give the compute_all_agents_proxs_motors function as an argument of the _step but I don't know if it is worth it. (Might be the case if we also accept a function for non selective sensing in this environment)"
   ]
  },
  {
   "cell_type": "code",
   "execution_count": 30,
   "metadata": {},
   "outputs": [
    {
     "name": "stdout",
     "output_type": "stream",
     "text": [
      "Before: occlusion=True, function=<function compute_occlusion_proxs_motors at 0x76f392fb0c10>\n",
      "After: occlusion=False, function=<function compute_agent_proxs_motors at 0x76f392fb1750>\n"
     ]
    }
   ],
   "source": [
    "print(f\"Before: occlusion={env.occlusion}, function={env.compute_all_agents_proxs_motors}\")\n",
    "\n",
    "env.occlusion = False\n",
    "env.update_agent_prox_motor_function()\n",
    "print(f\"After: occlusion={env.occlusion}, function={env.compute_all_agents_proxs_motors}\")"
   ]
  }
 ],
 "metadata": {
  "kernelspec": {
   "display_name": "venv",
   "language": "python",
   "name": "python3"
  },
  "language_info": {
   "codemirror_mode": {
    "name": "ipython",
    "version": 3
   },
   "file_extension": ".py",
   "mimetype": "text/x-python",
   "name": "python",
   "nbconvert_exporter": "python",
   "pygments_lexer": "ipython3",
   "version": "3.10.12"
  }
 },
 "nbformat": 4,
 "nbformat_minor": 2
}
