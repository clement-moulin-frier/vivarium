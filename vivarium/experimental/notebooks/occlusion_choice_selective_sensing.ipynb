{
 "cells": [
  {
   "cell_type": "markdown",
   "metadata": {},
   "source": [
    "Quick tutorial to explain how to create a environment with braitenberg vehicles equiped with selective sensors (still a draft so comments of the notebook won't be complete yet)"
   ]
  },
  {
   "cell_type": "code",
   "execution_count": 1,
   "metadata": {},
   "outputs": [
    {
     "name": "stderr",
     "output_type": "stream",
     "text": [
      "2024-07-30 12:05:27.648063: W external/xla/xla/service/gpu/nvptx_compiler.cc:760] The NVIDIA driver's CUDA version is 12.2 which is older than the ptxas CUDA version (12.5.40). Because the driver is older than the ptxas version, XLA is disabling parallel compilation, which may slow down compilation. You should update your NVIDIA driver or use the NVIDIA-provided CUDA forward compatibility packages.\n"
     ]
    }
   ],
   "source": [
    "import logging as lg\n",
    "\n",
    "from enum import Enum\n",
    "from functools import partial\n",
    "from typing import Tuple\n",
    "\n",
    "import numpy as np\n",
    "import jax.numpy as jnp\n",
    "\n",
    "from jax import vmap, jit\n",
    "from jax import random, ops, lax\n",
    "\n",
    "from flax import struct\n",
    "from jax_md.rigid_body import RigidBody\n",
    "from jax_md import simulate \n",
    "from jax_md import space, rigid_body, partition, quantity\n",
    "\n",
    "from vivarium.experimental.environments.utils import normal, distance \n",
    "from vivarium.experimental.environments.base_env import BaseState, BaseEnv\n",
    "from vivarium.experimental.environments.physics_engine import total_collision_energy, friction_force, dynamics_fn\n",
    "from vivarium.experimental.environments.braitenberg.simple import relative_position, proximity_map, sensor_fn, sensor\n",
    "from vivarium.experimental.environments.braitenberg.simple import Behaviors, behavior_to_params, linear_behavior\n",
    "from vivarium.experimental.environments.braitenberg.simple import lr_2_fwd_rot, fwd_rot_2_lr, motor_command\n",
    "from vivarium.experimental.environments.braitenberg.simple import braintenberg_force_fn"
   ]
  },
  {
   "cell_type": "markdown",
   "metadata": {},
   "source": [
    "## Create the classes and helper functions"
   ]
  },
  {
   "cell_type": "markdown",
   "metadata": {},
   "source": [
    "Add entity sensed type as a field in entities + sensed in agents. The agents sense the \"sensed type\" of the entities. In our case, there will be preys, predators, ressources and poison."
   ]
  },
  {
   "cell_type": "code",
   "execution_count": 2,
   "metadata": {},
   "outputs": [],
   "source": [
    "\n",
    "### Define the constants and the classes of the environment to store its state ###\n",
    "SPACE_NDIMS = 2\n",
    "\n",
    "class EntityType(Enum):\n",
    "    AGENT = 0\n",
    "    OBJECT = 1\n",
    "\n",
    "class EntitySensedType(Enum):\n",
    "    PREY = 0\n",
    "    PRED = 1\n",
    "    RESSOURCE = 2\n",
    "    POISON = 3\n",
    "\n",
    "# Already incorporates position, momentum, force, mass and velocity\n",
    "@struct.dataclass\n",
    "class EntityState(simulate.NVEState):\n",
    "    entity_type: jnp.array\n",
    "    ent_sensed_type: jnp.array\n",
    "    entity_idx: jnp.array\n",
    "    diameter: jnp.array\n",
    "    friction: jnp.array\n",
    "    exists: jnp.array\n",
    "    \n",
    "@struct.dataclass\n",
    "class ParticleState:\n",
    "    ent_idx: jnp.array\n",
    "    color: jnp.array\n",
    "\n",
    "@struct.dataclass\n",
    "class AgentState(ParticleState):\n",
    "    prox: jnp.array\n",
    "    motor: jnp.array\n",
    "    proximity_map_dist: jnp.array\n",
    "    proximity_map_theta: jnp.array\n",
    "    behavior: jnp.array\n",
    "    params: jnp.array\n",
    "    sensed: jnp.array\n",
    "    wheel_diameter: jnp.array\n",
    "    speed_mul: jnp.array\n",
    "    max_speed: jnp.array\n",
    "    theta_mul: jnp.array    \n",
    "    proxs_dist_max: jnp.array\n",
    "    proxs_cos_min: jnp.array\n",
    "\n",
    "@struct.dataclass\n",
    "class ObjectState(ParticleState):\n",
    "    pass\n",
    "\n",
    "@struct.dataclass\n",
    "class State(BaseState):\n",
    "    max_agents: jnp.int32\n",
    "    max_objects: jnp.int32\n",
    "    neighbor_radius: jnp.float32\n",
    "    dt: jnp.float32  # Give a more explicit name\n",
    "    collision_alpha: jnp.float32\n",
    "    collision_eps: jnp.float32\n",
    "    entities: EntityState\n",
    "    agents: AgentState\n",
    "    objects: ObjectState    "
   ]
  },
  {
   "cell_type": "markdown",
   "metadata": {},
   "source": [
    "Define get_relative_displacement"
   ]
  },
  {
   "cell_type": "code",
   "execution_count": 3,
   "metadata": {},
   "outputs": [],
   "source": [
    "# TODO : Refactor the code bc pretty ugly to have 4 arguments returned here\n",
    "def get_relative_displacement(state, agents_neighs_idx, displacement_fn):\n",
    "    body = state.entities.position\n",
    "    senders, receivers = agents_neighs_idx\n",
    "    Ra = body.center[senders]\n",
    "    Rb = body.center[receivers]\n",
    "    dR = - space.map_bond(displacement_fn)(Ra, Rb)  # Looks like it should be opposite, but don't understand why\n",
    "\n",
    "    dist, theta = proximity_map(dR, body.orientation[senders])\n",
    "    proximity_map_dist = jnp.zeros((state.agents.ent_idx.shape[0], state.entities.entity_idx.shape[0]))\n",
    "    proximity_map_dist = proximity_map_dist.at[senders, receivers].set(dist)\n",
    "    proximity_map_theta = jnp.zeros((state.agents.ent_idx.shape[0], state.entities.entity_idx.shape[0]))\n",
    "    proximity_map_theta = proximity_map_theta.at[senders, receivers].set(theta)\n",
    "    return dist, theta, proximity_map_dist, proximity_map_theta\n"
   ]
  },
  {
   "cell_type": "markdown",
   "metadata": {},
   "source": [
    "to compute motors, only use linear behaviors (don't vmap it) because we vmap the functions to compute agents proxiemters and motors at a higher level \n"
   ]
  },
  {
   "cell_type": "code",
   "execution_count": 4,
   "metadata": {},
   "outputs": [],
   "source": [
    "def compute_motor(proxs, params, behaviors, motors):\n",
    "    \"\"\"Compute new motor values. If behavior is manual, keep same motor values. Else, compute new values with proximeters and params.\n",
    "\n",
    "    :param proxs: proximeters of all agents\n",
    "    :param params: parameters mapping proximeters to new motor values\n",
    "    :param behaviors: array of behaviors\n",
    "    :param motors: current motor values\n",
    "    :return: new motor values\n",
    "    \"\"\"\n",
    "    manual = jnp.where(behaviors == Behaviors.MANUAL.value, 1, 0)\n",
    "    manual_mask = manual\n",
    "    linear_motor_values = linear_behavior(proxs, params)\n",
    "    motor_values = linear_motor_values * (1 - manual_mask) + motors * manual_mask\n",
    "    return motor_values"
   ]
  },
  {
   "cell_type": "markdown",
   "metadata": {},
   "source": [
    "Add Mask sensors and don't change functions\n",
    "\n",
    "- mask_sensors: mask sensors according to sensed entity type for an agent\n",
    "- don't change: return agent raw_proxs (surely return either the masked or the same prox array according to a sensed e type)\n",
    "\n",
    "Then for each agent, we iterate on all of his behaviors. For each behavior, we iterate on each possible sensed entity type. If the entity is sensed, we keep the raw proximeters of the agent as they are currently. If it is not, we mask the proximeters of the specific (non sensed) entity type."
   ]
  },
  {
   "cell_type": "code",
   "execution_count": 5,
   "metadata": {},
   "outputs": [],
   "source": [
    "def mask_sensors(state, agent_raw_proxs, ent_type_id, ent_target_idx):\n",
    "    mask = jnp.where(state.entities.ent_sensed_type[ent_target_idx] == ent_type_id, 0, 1)\n",
    "    mask = jnp.expand_dims(mask, 1)\n",
    "    mask = jnp.broadcast_to(mask, agent_raw_proxs.shape)\n",
    "    return agent_raw_proxs * mask\n",
    "\n",
    "def dont_change(state, agent_raw_proxs, ent_type_id, ent_target_idx):\n",
    "    return agent_raw_proxs"
   ]
  },
  {
   "cell_type": "markdown",
   "metadata": {},
   "source": [
    "Add compute_behavior_prox, compute_behavior_proxs_motors, compute_agent_proxs_motors\n",
    "\n",
    "- compute_behavior_prox: compute the proxs for one behavior (enumerate through all the sensed entities on this particular behavior)\n",
    "- compute_behavior_proxs_motors: use fn above to compute the proxs and compute the motor values according to the behavior\n",
    "- #vmap compute_all_behavior_proxs_motors:  computes this for all the behaviors of an agent\n",
    "- compute_agent_proxs_motors: compute the proximeters and motor values of an agent for all its behaviors. Just return mean motor value\n",
    "- #vmap compute_all_agents_proxs_motors: computes this for all agents (vmap over params, sensed and agent_raw_proxs) "
   ]
  },
  {
   "cell_type": "code",
   "execution_count": 6,
   "metadata": {},
   "outputs": [],
   "source": [
    "# TODO : Use a fori_loop on this later\n",
    "def compute_behavior_prox(state, agent_raw_proxs, ent_target_idx, sensed_entities):\n",
    "    for ent_type_id, sensed in enumerate(sensed_entities):\n",
    "        # need the lax.cond because you don't want to change the proxs if you perceive the entity\n",
    "        # but you want to mask the raw proxs if you don't detect it\n",
    "        agent_raw_proxs = lax.cond(sensed, dont_change, mask_sensors, state, agent_raw_proxs, ent_type_id, ent_target_idx)\n",
    "    proxs = jnp.max(agent_raw_proxs, axis=0)\n",
    "    return proxs\n",
    "\n",
    "def compute_behavior_proxs_motors(state, params, sensed, behavior, motor, agent_raw_proxs, ent_target_idx):\n",
    "    behavior_prox = compute_behavior_prox(state, agent_raw_proxs, ent_target_idx, sensed)\n",
    "    behavior_motors = compute_motor(behavior_prox, params, behavior, motor)\n",
    "    return behavior_prox, behavior_motors\n",
    "\n",
    "# vmap on params, sensed and behavior (parallelize on all agents behaviors at once, but not motorrs because are the same)\n",
    "compute_all_behavior_proxs_motors = vmap(compute_behavior_proxs_motors, in_axes=(None, 0, 0, 0, None, None, None))\n",
    "\n",
    "def compute_agent_proxs_motors(state, agent_idx, params, sensed, behavior, motor, raw_proxs, ag_idx_dense_senders, ag_idx_dense_receivers):\n",
    "    behavior = jnp.expand_dims(behavior, axis=1)\n",
    "    ent_ag_idx = ag_idx_dense_senders[agent_idx]\n",
    "    ent_target_idx = ag_idx_dense_receivers[agent_idx]\n",
    "    agent_raw_proxs = raw_proxs[ent_ag_idx]\n",
    "\n",
    "    # vmap on params, sensed, behaviors and motorss (vmap on all agents)\n",
    "    agent_proxs, agent_motors = compute_all_behavior_proxs_motors(state, params, sensed, behavior, motor, agent_raw_proxs, ent_target_idx)\n",
    "    mean_agent_motors = jnp.mean(agent_motors, axis=0)\n",
    "\n",
    "    return agent_proxs, mean_agent_motors\n",
    "\n",
    "compute_all_agents_proxs_motors = vmap(compute_agent_proxs_motors, in_axes=(None, 0, 0, 0, 0, 0, None, None, None))"
   ]
  },
  {
   "cell_type": "markdown",
   "metadata": {},
   "source": [
    "## NEW CODE ---"
   ]
  },
  {
   "cell_type": "code",
   "execution_count": 7,
   "metadata": {},
   "outputs": [],
   "source": [
    "import jax"
   ]
  },
  {
   "cell_type": "code",
   "execution_count": 8,
   "metadata": {},
   "outputs": [],
   "source": [
    "class FakeStdin:\n",
    "  def readline(self):\n",
    "    return input()"
   ]
  },
  {
   "cell_type": "code",
   "execution_count": 9,
   "metadata": {},
   "outputs": [],
   "source": [
    "def compute_occlusion_proxs_motors(state, agent_idx, params, sensed, behaviors, motor, raw_proxs, ag_idx_dense_senders, ag_idx_dense_receivers):\n",
    "    # jax.debug.print(\"agent_idx : {x}\", x=agent_idx)\n",
    "    behavior = jnp.expand_dims(behaviors, axis=1) \n",
    "    ent_ag_idx = ag_idx_dense_senders[agent_idx]\n",
    "    ent_target_idx = ag_idx_dense_receivers[agent_idx]\n",
    "    agent_raw_proxs = raw_proxs[ent_ag_idx]\n",
    "\n",
    "    agent_proxs = jnp.max(agent_raw_proxs, axis=0)\n",
    "    sensed_ent_idx = jnp.argmax(agent_raw_proxs, axis=0)\n",
    "    \n",
    "    # TODO : Compute the motors for all behaviors and do the mean of it \n",
    "    motor_values = compute_all_behavior_motors(state, params, sensed, behavior, motor, agent_proxs, sensed_ent_idx)\n",
    "    motors = jnp.mean(motor_values, axis=0)\n",
    "    # jax.debug.print(\"motor_values : {x}\", x=motor_values)\n",
    "    # jax.debug.print(\"motors : {x}\", x=motors)\n",
    "\n",
    "\n",
    "    return agent_proxs, motors\n",
    "\n",
    "compute_all_agents_proxs_motors_occl = vmap(compute_occlusion_proxs_motors, in_axes=(None, 0, 0, 0, 0, 0, None, None, None))"
   ]
  },
  {
   "cell_type": "code",
   "execution_count": 10,
   "metadata": {},
   "outputs": [
    {
     "data": {
      "text/plain": [
       "Array([0.8, 0.2], dtype=float32)"
      ]
     },
     "execution_count": 10,
     "metadata": {},
     "output_type": "execute_result"
    }
   ],
   "source": [
    "ent_sensed_arr = jnp.array([0, 1, 0, 0, 1])\n",
    "proxs = jnp.array([0.8, 0.2])\n",
    "e_sensed_types = jnp.array([4, 4])\n",
    "\n",
    "def update_mask(mask, e_sensed_types, ent_type):\n",
    "    cur = jnp.where(e_sensed_types == ent_type, 0, 1)\n",
    "    mask *= cur\n",
    "    return mask\n",
    "\n",
    "def keep_mask(mask, e_sensed_types, ent_type):\n",
    "    return mask\n",
    "\n",
    "def mask_proxs_occlusion(proxs, e_sensed_types, ent_sensed_arr):\n",
    "    mask = jnp.array([1, 1])\n",
    "    for ent_type, sensed in enumerate(ent_sensed_arr):\n",
    "        mask = jax.lax.cond(sensed, update_mask, keep_mask, mask, e_sensed_types, ent_type)\n",
    "    proxs = jnp.where(mask, 0, proxs)\n",
    "    return proxs\n",
    "\n",
    "mask_proxs_occlusion(proxs, e_sensed_types, ent_sensed_arr)"
   ]
  },
  {
   "cell_type": "code",
   "execution_count": 11,
   "metadata": {},
   "outputs": [],
   "source": [
    "def compute_behavior_motors(state, params, sensed_mask, behavior, motor, agent_proxs, sensed_ent_idx):\n",
    "    # TODO sensed_ent_idx = just the idx in entities idx \n",
    "    # TODO Now need to convert it into a ent type \n",
    "    sensed_ent_types = state.entities.ent_sensed_type[sensed_ent_idx]\n",
    "    # jax.debug.print(\"sensed_ent_idx : {x}\", x=sensed_ent_idx)\n",
    "    # jax.debug.print(\"sensed_ent_types : {x}\", x=sensed_ent_types)\n",
    "    behavior_proxs = mask_proxs_occlusion(agent_proxs, sensed_ent_types, sensed_mask)\n",
    "    # jax.debug.breakpoint(backend=\"cli\", stdin=FakeStdin())\n",
    "    # jax.debug.print(\"agent_proxs : {x}\", x=agent_proxs)\n",
    "    # jax.debug.print(\"sensed_mask : {x}\", x=sensed_mask)\n",
    "    # jax.debug.print(\"behavior_proxs : {x}\", x=behavior_proxs)\n",
    "    motors = compute_motor(behavior_proxs, params, behaviors=behavior, motors=motor)\n",
    "    return motors\n",
    "\n",
    "# See for the vectorizing idx because already in a vmaped function here\n",
    "compute_all_behavior_motors = vmap(compute_behavior_motors, in_axes=(None, 0, 0, 0, None, None, None))"
   ]
  },
  {
   "cell_type": "code",
   "execution_count": 12,
   "metadata": {},
   "outputs": [
    {
     "ename": "NameError",
     "evalue": "name 'env' is not defined",
     "output_type": "error",
     "traceback": [
      "\u001b[0;31m---------------------------------------------------------------------------\u001b[0m",
      "\u001b[0;31mNameError\u001b[0m                                 Traceback (most recent call last)",
      "Cell \u001b[0;32mIn[12], line 1\u001b[0m\n\u001b[0;32m----> 1\u001b[0m state \u001b[38;5;241m=\u001b[39m \u001b[43menv\u001b[49m\u001b[38;5;241m.\u001b[39mstep(state)\n",
      "\u001b[0;31mNameError\u001b[0m: name 'env' is not defined"
     ]
    }
   ],
   "source": [
    "state = env.step(state)"
   ]
  },
  {
   "cell_type": "markdown",
   "metadata": {},
   "source": [
    "Add classical braitenberg force fn"
   ]
  },
  {
   "cell_type": "markdown",
   "metadata": {},
   "source": [
    "## Create the main environment class"
   ]
  },
  {
   "cell_type": "code",
   "execution_count": 13,
   "metadata": {},
   "outputs": [],
   "source": [
    "\n",
    "#--- 4 Define the environment class with its different functions (step ...) ---#\n",
    "class SelectiveSensorsEnv(BaseEnv):\n",
    "    def __init__(self, state, occlusion=True, seed=42):\n",
    "        self.seed = seed\n",
    "        # TODO CLean that\n",
    "        self.compute_all_agents_proxs_motors = compute_all_agents_proxs_motors_occl if occlusion else compute_all_agents_proxs_motors\n",
    "        self.init_key = random.PRNGKey(seed)\n",
    "        self.displacement, self.shift = space.periodic(state.box_size)\n",
    "        self.init_fn, self.apply_physics = dynamics_fn(self.displacement, self.shift, braintenberg_force_fn)\n",
    "        self.neighbor_fn = partition.neighbor_list(\n",
    "            self.displacement, \n",
    "            state.box_size,\n",
    "            r_cutoff=state.neighbor_radius,\n",
    "            dr_threshold=10.,\n",
    "            capacity_multiplier=1.5,\n",
    "            format=partition.Sparse\n",
    "        )\n",
    "\n",
    "        self.neighbors = self.allocate_neighbors(state)\n",
    "        # self.neighbors, self.agents_neighs_idx = self.allocate_neighbors(state)\n",
    "\n",
    "    def distance(self, point1, point2):\n",
    "            return distance(self.displacement, point1, point2)\n",
    "    \n",
    "    ### Add ag_idx_dense !!! \n",
    "    @partial(jit, static_argnums=(0,))\n",
    "    def _step(self, state: State, neighbors: jnp.array, agents_neighs_idx: jnp.array, ag_idx_dense: jnp.array) -> Tuple[State, jnp.array]:\n",
    "        # Differences : compute raw proxs for all agents first \n",
    "        dist, relative_theta, proximity_dist_map, proximity_dist_theta = get_relative_displacement(state, agents_neighs_idx, displacement_fn=self.displacement)\n",
    "        senders, receivers = agents_neighs_idx\n",
    "\n",
    "        dist_max = state.agents.proxs_dist_max[senders]\n",
    "        cos_min = state.agents.proxs_cos_min[senders]\n",
    "        targer_exist_mask = state.entities.exists[agents_neighs_idx[1, :]]\n",
    "        raw_proxs = sensor_fn(dist, relative_theta, dist_max, cos_min, targer_exist_mask)\n",
    "\n",
    "        # 2: Use dense idx for neighborhoods to vmap all of this\n",
    "        # TODO : Could even just pass ag_idx_dense in the fn and do this inside\n",
    "        ag_idx_dense_senders, ag_idx_dense_receivers = ag_idx_dense\n",
    "\n",
    "        agent_proxs, mean_agent_motors = self.compute_all_agents_proxs_motors(\n",
    "            state,\n",
    "            state.agents.ent_idx,\n",
    "            state.agents.params,\n",
    "            state.agents.sensed,\n",
    "            state.agents.behavior,\n",
    "            state.agents.motor,\n",
    "            raw_proxs,\n",
    "            ag_idx_dense_senders,\n",
    "            ag_idx_dense_receivers,\n",
    "        )\n",
    "\n",
    "        agents = state.agents.replace(\n",
    "            prox=agent_proxs, \n",
    "            proximity_map_dist=proximity_dist_map, \n",
    "            proximity_map_theta=proximity_dist_theta,\n",
    "            motor=mean_agent_motors\n",
    "        )\n",
    "\n",
    "        # Last block unchanged\n",
    "        state = state.replace(agents=agents)\n",
    "        entities = self.apply_physics(state, neighbors)\n",
    "        state = state.replace(time=state.time+1, entities=entities)\n",
    "        neighbors = neighbors.update(state.entities.position.center)\n",
    "\n",
    "        return state, neighbors\n",
    "    \n",
    "    def step(self, state: State) -> State:\n",
    "        if state.entities.momentum is None:\n",
    "             state = self.init_fn(state, self.init_key)\n",
    "             \n",
    "        current_state = state\n",
    "        state, neighbors = self._step(current_state, self.neighbors, self.agents_neighs_idx, self.agents_idx_dense)\n",
    "\n",
    "        if self.neighbors.did_buffer_overflow:\n",
    "            # reallocate neighbors and run the simulation from current_state\n",
    "            lg.warning(f'NEIGHBORS BUFFER OVERFLOW at step {state.time}: rebuilding neighbors')\n",
    "            neighbors = self.allocate_neighbors(state)\n",
    "            assert not neighbors.did_buffer_overflow\n",
    "\n",
    "        self.neighbors = neighbors\n",
    "        return state\n",
    "        \n",
    "    def allocate_neighbors(self, state, position=None):\n",
    "        position = state.entities.position.center if position is None else position\n",
    "        neighbors = self.neighbor_fn.allocate(position)\n",
    "\n",
    "        # Also update the neighbor idx of agents (not the cleanest to attribute it to with self here)\n",
    "        ag_idx = state.entities.entity_type[neighbors.idx[0]] == EntityType.AGENT.value\n",
    "        self.agents_neighs_idx = neighbors.idx[:, ag_idx]\n",
    "        # Give the idx of the agents in sparse representation, under a dense representation (used to get the raw proxs in compute motors function)\n",
    "        agents_idx_dense_senders = jnp.array([jnp.argwhere(jnp.equal(self.agents_neighs_idx[0, :], idx)).flatten() for idx in jnp.arange(state.max_agents)]) \n",
    "        # Note: jnp.argwhere(jnp.equal(self.agents_neighs_idx[0, :], idx)).flatten() ~ jnp.where(agents_idx[0, :] == idx)\n",
    "        # Give the idx of the agent neighbors in dense representation\n",
    "        agents_idx_dense_receivers = self.agents_neighs_idx[1, :][agents_idx_dense_senders]\n",
    "        self.agents_idx_dense = agents_idx_dense_senders, agents_idx_dense_receivers\n",
    "        return neighbors"
   ]
  },
  {
   "cell_type": "markdown",
   "metadata": {},
   "source": [
    "## Create the state"
   ]
  },
  {
   "cell_type": "code",
   "execution_count": 14,
   "metadata": {},
   "outputs": [],
   "source": [
    "seed = 0\n",
    "max_agents = 10\n",
    "max_objects = 10\n",
    "n_dims = 2\n",
    "box_size = 100\n",
    "diameter = 5.0\n",
    "friction = 0.1\n",
    "mass_center = 1.0\n",
    "mass_orientation = 0.125\n",
    "neighbor_radius = 100.0\n",
    "collision_alpha = 0.5\n",
    "collision_eps = 0.1\n",
    "dt = 0.1\n",
    "wheel_diameter = 2.0\n",
    "speed_mul = 1.0\n",
    "max_speed = 10.0\n",
    "theta_mul = 1.0\n",
    "prox_dist_max = 40.0\n",
    "prox_cos_min = 0.0\n",
    "behavior = Behaviors.AGGRESSION.value\n",
    "behaviors=Behaviors.AGGRESSION.value\n",
    "existing_agents = None\n",
    "existing_objects = None\n",
    "\n",
    "n_preys = 5\n",
    "n_preds = 5\n",
    "n_ress = 5\n",
    "n_pois = 5\n",
    "\n",
    "key = random.PRNGKey(seed)\n",
    "key, key_agents_pos, key_objects_pos, key_orientations = random.split(key, 4)"
   ]
  },
  {
   "cell_type": "markdown",
   "metadata": {},
   "source": [
    "### Entities"
   ]
  },
  {
   "cell_type": "code",
   "execution_count": 15,
   "metadata": {},
   "outputs": [],
   "source": [
    "existing_agents = max_agents if not existing_agents else existing_agents\n",
    "existing_objects = max_objects if not existing_objects else existing_objects\n",
    "\n",
    "n_entities = max_agents + max_objects # we store the entities data in jax arrays of length max_agents + max_objects \n",
    "# Assign random positions to each entity in the environment\n",
    "agents_positions = random.uniform(key_agents_pos, (max_agents, n_dims)) * box_size\n",
    "objects_positions = random.uniform(key_objects_pos, (max_objects, n_dims)) * box_size\n",
    "positions = jnp.concatenate((agents_positions, objects_positions))\n",
    "# Assign random orientations between 0 and 2*pi to each entity\n",
    "orientations = random.uniform(key_orientations, (n_entities,)) * 2 * jnp.pi\n",
    "# Assign types to the entities\n",
    "agents_entities = jnp.full(max_agents, EntityType.AGENT.value)\n",
    "object_entities = jnp.full(max_objects, EntityType.OBJECT.value)\n",
    "entity_types = jnp.concatenate((agents_entities, object_entities), dtype=int)\n",
    "# Define arrays with existing entities\n",
    "exists_agents = jnp.concatenate((jnp.ones((existing_agents)), jnp.zeros((max_agents - existing_agents))))\n",
    "exists_objects = jnp.concatenate((jnp.ones((existing_objects)), jnp.zeros((max_objects - existing_objects))))\n",
    "exists = jnp.concatenate((exists_agents, exists_objects), dtype=int)\n",
    "\n",
    "### TODO : Actually find a way to init this later\n",
    "sensed_ent_types = jnp.concatenate([\n",
    "    jnp.full(n_preys, EntitySensedType.PREY.value),\n",
    "    jnp.full(n_preds, EntitySensedType.PRED.value),\n",
    "    jnp.full(n_ress, EntitySensedType.RESSOURCE.value),\n",
    "    jnp.full(n_pois, EntitySensedType.POISON.value),\n",
    "])\n",
    "\n",
    "ent_sensed_types = jnp.zeros(n_entities)\n",
    "\n",
    "entities =  EntityState(\n",
    "    position=RigidBody(center=positions, orientation=orientations),\n",
    "    momentum=None,\n",
    "    force=RigidBody(center=jnp.zeros((n_entities, 2)), orientation=jnp.zeros(n_entities)),\n",
    "    mass=RigidBody(center=jnp.full((n_entities, 1), mass_center), orientation=jnp.full((n_entities), mass_orientation)),\n",
    "    entity_type=entity_types,\n",
    "    ent_sensed_type=sensed_ent_types,\n",
    "    entity_idx = jnp.array(list(range(max_agents)) + list(range(max_objects))),\n",
    "    diameter=jnp.full((n_entities), diameter),\n",
    "    friction=jnp.full((n_entities), friction),\n",
    "    exists=exists\n",
    ")"
   ]
  },
  {
   "cell_type": "markdown",
   "metadata": {},
   "source": [
    "### Agents\n",
    "\n",
    "Preys:\n",
    "\n",
    "- Love: other preys and ressources\n",
    "- Fear: predators and poison\n",
    "- Color: Blue\n",
    "\n",
    "Predators:\n",
    "\n",
    "- Aggression: preys\n",
    "- Fear: Poison\n",
    "- Color: Red"
   ]
  },
  {
   "cell_type": "code",
   "execution_count": 16,
   "metadata": {},
   "outputs": [
    {
     "name": "stdout",
     "output_type": "stream",
     "text": [
      "(5, 2, 2, 3) (5, 2, 4)\n",
      "(5, 2, 2, 3) (5, 2, 4)\n",
      "(10, 2, 2, 3) (10, 2, 4) (10, 2)\n"
     ]
    }
   ],
   "source": [
    "# Prey behaviors\n",
    "love = behavior_to_params(Behaviors.LOVE.value)\n",
    "fear = behavior_to_params(Behaviors.FEAR.value)\n",
    "sensed_love = jnp.array([1, 0, 1, 0])\n",
    "sensed_fear = jnp.array([0, 1, 0, 1])\n",
    "prey_params = jnp.array([love, fear])\n",
    "prey_sensed = jnp.array([sensed_love, sensed_fear])\n",
    "\n",
    "# Do like if we had batches of params and sensed entities for all agents\n",
    "prey_batch_params = jnp.tile(prey_params[None], (n_preys, 1, 1 ,1))\n",
    "prey_batch_sensed = jnp.tile(prey_sensed[None], (n_preys, 1, 1))\n",
    "print(prey_batch_params.shape, prey_batch_sensed.shape)\n",
    "\n",
    "prey_behaviors = jnp.array([Behaviors.LOVE.value, Behaviors.FEAR.value])\n",
    "prey_batch_behaviors = jnp.tile(prey_behaviors[None], (n_preys, 1))\n",
    "\n",
    "# Pred behaviors\n",
    "aggr = behavior_to_params(Behaviors.AGGRESSION.value)\n",
    "fear = behavior_to_params(Behaviors.FEAR.value)\n",
    "sensed_aggr = jnp.array([1, 0, 0, 0])\n",
    "sensed_fear = jnp.array([0, 0, 0, 1])\n",
    "pred_params = jnp.array([aggr, fear])\n",
    "pred_sensed = jnp.array([sensed_aggr, sensed_fear])\n",
    "\n",
    "# Do like if we had batches of params and sensed entities for all agents\n",
    "pred_batch_params = jnp.tile(pred_params[None], (n_preys, 1, 1 ,1))\n",
    "pred_batch_sensed = jnp.tile(pred_sensed[None], (n_preys, 1, 1))\n",
    "print(pred_batch_params.shape, pred_batch_sensed.shape)\n",
    "\n",
    "pred_behaviors = jnp.array([Behaviors.AGGRESSION.value, Behaviors.FEAR.value])\n",
    "pred_batch_behaviors = jnp.tile(pred_behaviors[None], (n_preds, 1))\n",
    "\n",
    "\n",
    "params = jnp.concatenate([prey_batch_params, pred_batch_params], axis=0)\n",
    "sensed = jnp.concatenate([prey_batch_sensed, pred_batch_sensed], axis=0)\n",
    "behaviors  = jnp.concatenate([prey_batch_behaviors, pred_batch_behaviors], axis=0)\n",
    "print(params.shape, sensed.shape, behaviors.shape)\n",
    "\n",
    "\n",
    "prey_color = jnp.array([0., 0., 1.])\n",
    "pred_color = jnp.array([1., 0., 0.])\n",
    "\n",
    "prey_color=jnp.tile(prey_color, (n_preys, 1))\n",
    "pred_color=jnp.tile(pred_color, (n_preds, 1))\n",
    "\n",
    "agent_colors = jnp.concatenate([\n",
    "    prey_color,\n",
    "    pred_color\n",
    "])\n",
    "\n",
    "agents =  AgentState(\n",
    "    # idx in the entities (ent_idx) state to map agents information in the different data structures\n",
    "    ent_idx=jnp.arange(max_agents, dtype=int), \n",
    "    prox=jnp.zeros((max_agents, 2)),\n",
    "    motor=jnp.zeros((max_agents, 2)),\n",
    "    behavior=behaviors,\n",
    "    params=params,\n",
    "    sensed=sensed,\n",
    "    wheel_diameter=jnp.full((max_agents), wheel_diameter),\n",
    "    speed_mul=jnp.full((max_agents), speed_mul),\n",
    "    max_speed=jnp.full((max_agents), max_speed),\n",
    "    theta_mul=jnp.full((max_agents), theta_mul),\n",
    "    proxs_dist_max=jnp.full((max_agents), prox_dist_max),\n",
    "    proxs_cos_min=jnp.full((max_agents), prox_cos_min),\n",
    "    proximity_map_dist=jnp.zeros((max_agents, 1)),\n",
    "    proximity_map_theta=jnp.zeros((max_agents, 1)),\n",
    "    color=jnp.tile(agent_colors, (max_agents, 1))\n",
    ")\n"
   ]
  },
  {
   "cell_type": "markdown",
   "metadata": {},
   "source": [
    "### Objects\n",
    "\n",
    "Ressources\n",
    "\n",
    "- Color: green\n",
    "\n",
    "Poison\n",
    "\n",
    "- Color: purple"
   ]
  },
  {
   "cell_type": "code",
   "execution_count": 17,
   "metadata": {},
   "outputs": [],
   "source": [
    "\n",
    "# Entities idx of objects\n",
    "start_idx, stop_idx = max_agents, max_agents + max_objects \n",
    "objects_ent_idx = jnp.arange(start_idx, stop_idx, dtype=int)\n",
    "\n",
    "res_color = jnp.array([0., 1., 0.])\n",
    "pois_color = jnp.array([1., 0., 1.])\n",
    "\n",
    "res_color=jnp.tile(res_color, (n_preys, 1))\n",
    "pois_color=jnp.tile(pois_color, (n_preds, 1))\n",
    "\n",
    "objects_colors = jnp.concatenate([\n",
    "    res_color,\n",
    "    pois_color\n",
    "])\n",
    "\n",
    "objects =  ObjectState(\n",
    "    ent_idx=objects_ent_idx,\n",
    "    color=jnp.tile(objects_colors, (max_objects, 1))\n",
    ")"
   ]
  },
  {
   "cell_type": "markdown",
   "metadata": {},
   "source": [
    "### State"
   ]
  },
  {
   "cell_type": "code",
   "execution_count": 18,
   "metadata": {},
   "outputs": [],
   "source": [
    "state =  State(\n",
    "    time=0,\n",
    "    box_size=box_size,\n",
    "    max_agents=max_agents,\n",
    "    max_objects=max_objects,\n",
    "    neighbor_radius=neighbor_radius,\n",
    "    collision_alpha=collision_alpha,\n",
    "    collision_eps=collision_eps,\n",
    "    dt=dt,\n",
    "    entities=entities,\n",
    "    agents=agents,\n",
    "    objects=objects\n",
    ")   "
   ]
  },
  {
   "cell_type": "markdown",
   "metadata": {},
   "source": [
    "## Test the simulation"
   ]
  },
  {
   "cell_type": "code",
   "execution_count": 19,
   "metadata": {},
   "outputs": [],
   "source": [
    "from vivarium.experimental.environments.braitenberg.render import render, render_history"
   ]
  },
  {
   "cell_type": "code",
   "execution_count": 20,
   "metadata": {},
   "outputs": [
    {
     "data": {
      "image/png": "[encoded data removed]",
      "text/plain": [
       "<Figure size 600x600 with 1 Axes>"
      ]
     },
     "metadata": {},
     "output_type": "display_data"
    }
   ],
   "source": [
    "render(state)"
   ]
  },
  {
   "cell_type": "code",
   "execution_count": 21,
   "metadata": {},
   "outputs": [],
   "source": [
    "env = SelectiveSensorsEnv(state)"
   ]
  },
  {
   "cell_type": "markdown",
   "metadata": {},
   "source": [
    "### Autonomous behaviors"
   ]
  },
  {
   "cell_type": "code",
   "execution_count": 22,
   "metadata": {},
   "outputs": [
    {
     "data": {
      "text/plain": [
       "<function __main__.compute_occlusion_proxs_motors(state, agent_idx, params, sensed, behaviors, motor, raw_proxs, ag_idx_dense_senders, ag_idx_dense_receivers)>"
      ]
     },
     "execution_count": 22,
     "metadata": {},
     "output_type": "execute_result"
    }
   ],
   "source": [
    "env.compute_all_agents_proxs_motors"
   ]
  },
  {
   "cell_type": "code",
   "execution_count": 23,
   "metadata": {},
   "outputs": [],
   "source": [
    "n_steps = 10_000\n",
    "hist = []\n",
    "\n",
    "for i in range(n_steps):\n",
    "    state = env.step(state)\n",
    "    hist.append(state)"
   ]
  },
  {
   "cell_type": "code",
   "execution_count": 26,
   "metadata": {},
   "outputs": [
    {
     "data": {
      "image/png": "[encoded data removed]",
      "text/plain": [
       "<Figure size 600x600 with 1 Axes>"
      ]
     },
     "metadata": {},
     "output_type": "display_data"
    }
   ],
   "source": [
    "render_history(hist, skip_frames=50)"
   ]
  },
  {
   "cell_type": "markdown",
   "metadata": {},
   "source": [
    "### Test manual behavior for an agent\n",
    "\n",
    "Need to set all of its behaviors to manual."
   ]
  },
  {
   "cell_type": "code",
   "execution_count": 24,
   "metadata": {},
   "outputs": [],
   "source": [
    "ag_idx = 9\n",
    "manual_behaviors = jnp.array([Behaviors.MANUAL.value, Behaviors.MANUAL.value,])\n",
    "manual_color = jnp.array([0., 0., 0.])\n",
    "manual_motors = jnp.array([1., 1.])\n",
    "\n",
    "behaviors = state.agents.behavior.at[ag_idx].set(manual_behaviors)\n",
    "colors = state.agents.color.at[ag_idx].set(manual_color)\n",
    "motors = state.agents.motor.at[ag_idx].set(manual_motors)\n",
    "\n",
    "agents = state.agents.replace(behavior=behaviors, color=colors, motor=motors)\n",
    "state = state.replace(agents=agents)"
   ]
  },
  {
   "cell_type": "code",
   "execution_count": 25,
   "metadata": {},
   "outputs": [],
   "source": [
    "n_steps = 5_000\n",
    "hist = []\n",
    "\n",
    "for i in range(n_steps):\n",
    "    state = env.step(state)\n",
    "    hist.append(state)"
   ]
  },
  {
   "cell_type": "code",
   "execution_count": 26,
   "metadata": {},
   "outputs": [
    {
     "data": {
      "image/png": "[encoded data removed]",
      "text/plain": [
       "<Figure size 600x600 with 1 Axes>"
      ]
     },
     "metadata": {},
     "output_type": "display_data"
    }
   ],
   "source": [
    "render_history(hist, skip_frames=50)"
   ]
  }
 ],
 "metadata": {
  "kernelspec": {
   "display_name": "venv",
   "language": "python",
   "name": "python3"
  },
  "language_info": {
   "codemirror_mode": {
    "name": "ipython",
    "version": 3
   },
   "file_extension": ".py",
   "mimetype": "text/x-python",
   "name": "python",
   "nbconvert_exporter": "python",
   "pygments_lexer": "ipython3",
   "version": "3.10.12"
  }
 },
 "nbformat": 4,
 "nbformat_minor": 2
}
